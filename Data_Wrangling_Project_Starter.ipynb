{
 "cells": [
  {
   "cell_type": "markdown",
   "metadata": {
    "id": "GNIwe5N7s0e_"
   },
   "source": [
    "# Real-world Data Wrangling"
   ]
  },
  {
   "cell_type": "markdown",
   "metadata": {
    "id": "_BG63Tpg8ep_"
   },
   "source": [
    "In this project, you will apply the skills you acquired in the course to gather and wrangle real-world data with two datasets of your choice.\n",
    "\n",
    "You will retrieve and extract the data, assess the data programmatically and visually, accross elements of data quality and structure, and implement a cleaning strategy for the data. You will then store the updated data into your selected database/data store, combine the data, and answer a research question with the datasets.\n",
    "\n",
    "Throughout the process, you are expected to:\n",
    "\n",
    "1. Explain your decisions towards methods used for gathering, assessing, cleaning, storing, and answering the research question\n",
    "2. Write code comments so your code is more readable"
   ]
  },
  {
   "cell_type": "markdown",
   "metadata": {
    "id": "lDYDkH-Zs7Nn"
   },
   "source": [
    "## 1. Gather data\n",
    "\n",
    "In this section, you will extract data using two different data gathering methods and combine the data. Use at least two different types of data-gathering methods."
   ]
  },
  {
   "cell_type": "markdown",
   "metadata": {
    "id": "LbN7z7rcuqpO"
   },
   "source": [
    "### **1.1.** Problem Statement\n",
    "In 2-4 sentences, explain the kind of problem you want to look at and the datasets you will be wrangling for this project."
   ]
  },
  {
   "cell_type": "markdown",
   "metadata": {
    "id": "gi6swhjSYqu2"
   },
   "source": [
    "*FILL IN:*"
   ]
  },
  {
   "cell_type": "markdown",
   "metadata": {
    "id": "8AQfBAdUypMm"
   },
   "source": [
    "### **1.2.** Gather at least two datasets using two different data gathering methods\n",
    "\n",
    "List of data gathering methods:\n",
    "\n",
    "- Download data manually\n",
    "- Programmatically downloading files\n",
    "- Gather data by accessing APIs\n",
    "- Gather and extract data from HTML files using BeautifulSoup\n",
    "- Extract data from a SQL database\n",
    "\n",
    "Each dataset must have at least two variables, and have greater than 500 data samples within each dataset.\n",
    "\n",
    "For each dataset, briefly describe why you picked the dataset and the gathering method (2-3 full sentences), including the names and significance of the variables in the dataset. Show your work (e.g., if using an API to download the data, please include a snippet of your code). \n",
    "\n",
    "Load the dataset programmtically into this notebook."
   ]
  },
  {
   "cell_type": "code",
   "execution_count": 42,
   "metadata": {},
   "outputs": [],
   "source": [
    "import pandas as pd\n",
    "import requests\n",
    "import numpy as np\n",
    "import matplotlib.pyplot as plt\n",
    "import plotly.express as px\n",
    "from fredapi import Fred\n",
    "plt.style.use('fivethirtyeight')\n",
    "pd.set_option('display.max_rows', 500)"
   ]
  },
  {
   "cell_type": "markdown",
   "metadata": {
    "id": "7e6gS0wL1KTu"
   },
   "source": [
    "#### **Dataset 1**\n",
    "\n",
    "Type: accessing APIs \n",
    "\n",
    "Method: Gather data by accessing APIs from source data.lacity.org (e.g., The data was gathered using the \"Downloading files\" method from X source.)\n",
    "\n",
    "Dataset variables:\n",
    "\n",
    "*   *Variable 1 FILL IN* (e.g., H_MEAN: Mean hourly wage)\n",
    "*   *Variable 2 FILL IN*"
   ]
  },
  {
   "cell_type": "code",
   "execution_count": 27,
   "metadata": {
    "id": "Su8E0uLuYkHU"
   },
   "outputs": [],
   "source": [
    "#FILL IN 1st data gathering and loading method\n",
    "#crime data website : https://data.lacity.org/Public-Safety/Crime-Data-from-2020-to-Present/2nrs-mtv8/data_preview\n",
    "\n",
    "data=requests.get('https://data.lacity.org/resource/2nrs-mtv8.json').json()\n",
    "\n",
    "data_crime_2020_2024 = pd.DataFrame.from_dict(data)\n"
   ]
  },
  {
   "cell_type": "markdown",
   "metadata": {
    "id": "hoUjq1tPzz7P"
   },
   "source": [
    "#### Dataset 2\n",
    "\n",
    "Type: *FILL IN* (e.g., CSV File.)\n",
    "\n",
    "Method: *FILL IN* (e.g., The data was gathered using the \"API\" method from Y source.)\n",
    "\n",
    "Dataset variables:\n",
    "\n",
    "*   *Variable 1 FILL IN* (e.g., H_MEAN: Mean hourly wage)\n",
    "*   *Variable 2 FILL IN*"
   ]
  },
  {
   "cell_type": "code",
   "execution_count": 28,
   "metadata": {
    "id": "6zT0QxRyYmm7"
   },
   "outputs": [],
   "source": [
    "#FILL IN 2nd data gathering and loading method\n",
    "data_crime_2019=pd.read_csv('Crime_Data_from_2010_to_2019_20240118.csv')"
   ]
  },
  {
   "cell_type": "markdown",
   "metadata": {},
   "source": [
    "Optional data storing step: You may save your raw dataset files to the local data store before moving to the next step."
   ]
  },
  {
   "cell_type": "code",
   "execution_count": 36,
   "metadata": {},
   "outputs": [],
   "source": [
    "#Optional: store the raw data in your local data store\n",
    "data_crime_2020_2024.to_csv('data_crime_2024',index=False)"
   ]
  },
  {
   "cell_type": "code",
   "execution_count": 50,
   "metadata": {},
   "outputs": [
    {
     "data": {
      "text/html": [
       "<div>\n",
       "<style scoped>\n",
       "    .dataframe tbody tr th:only-of-type {\n",
       "        vertical-align: middle;\n",
       "    }\n",
       "\n",
       "    .dataframe tbody tr th {\n",
       "        vertical-align: top;\n",
       "    }\n",
       "\n",
       "    .dataframe thead th {\n",
       "        text-align: right;\n",
       "    }\n",
       "</style>\n",
       "<table border=\"1\" class=\"dataframe\">\n",
       "  <thead>\n",
       "    <tr style=\"text-align: right;\">\n",
       "      <th></th>\n",
       "      <th>dr_no</th>\n",
       "      <th>date_rptd</th>\n",
       "      <th>date_occ</th>\n",
       "      <th>time_occ</th>\n",
       "      <th>area</th>\n",
       "      <th>area_name</th>\n",
       "      <th>rpt_dist_no</th>\n",
       "      <th>part_1_2</th>\n",
       "      <th>crm_cd</th>\n",
       "      <th>crm_cd_desc</th>\n",
       "      <th>...</th>\n",
       "      <th>weapon_used_cd</th>\n",
       "      <th>weapon_desc</th>\n",
       "      <th>status</th>\n",
       "      <th>status_desc</th>\n",
       "      <th>crm_cd_1</th>\n",
       "      <th>location</th>\n",
       "      <th>lat</th>\n",
       "      <th>lon</th>\n",
       "      <th>crm_cd_2</th>\n",
       "      <th>cross_street</th>\n",
       "    </tr>\n",
       "  </thead>\n",
       "  <tbody>\n",
       "    <tr>\n",
       "      <th>0</th>\n",
       "      <td>10304468</td>\n",
       "      <td>2020-01-08T00:00:00.000</td>\n",
       "      <td>2020-01-08T00:00:00.000</td>\n",
       "      <td>2230</td>\n",
       "      <td>3</td>\n",
       "      <td>Southwest</td>\n",
       "      <td>377</td>\n",
       "      <td>2</td>\n",
       "      <td>624</td>\n",
       "      <td>BATTERY - SIMPLE ASSAULT</td>\n",
       "      <td>...</td>\n",
       "      <td>400.0</td>\n",
       "      <td>STRONG-ARM (HANDS, FIST, FEET OR BODILY FORCE)</td>\n",
       "      <td>AO</td>\n",
       "      <td>Adult Other</td>\n",
       "      <td>624</td>\n",
       "      <td>1100 W  39TH                         PL</td>\n",
       "      <td>34.0141</td>\n",
       "      <td>-118.2978</td>\n",
       "      <td>NaN</td>\n",
       "      <td>NaN</td>\n",
       "    </tr>\n",
       "    <tr>\n",
       "      <th>1</th>\n",
       "      <td>190101086</td>\n",
       "      <td>2020-01-02T00:00:00.000</td>\n",
       "      <td>2020-01-01T00:00:00.000</td>\n",
       "      <td>330</td>\n",
       "      <td>1</td>\n",
       "      <td>Central</td>\n",
       "      <td>163</td>\n",
       "      <td>2</td>\n",
       "      <td>624</td>\n",
       "      <td>BATTERY - SIMPLE ASSAULT</td>\n",
       "      <td>...</td>\n",
       "      <td>500.0</td>\n",
       "      <td>UNKNOWN WEAPON/OTHER WEAPON</td>\n",
       "      <td>IC</td>\n",
       "      <td>Invest Cont</td>\n",
       "      <td>624</td>\n",
       "      <td>700 S  HILL                         ST</td>\n",
       "      <td>34.0459</td>\n",
       "      <td>-118.2545</td>\n",
       "      <td>NaN</td>\n",
       "      <td>NaN</td>\n",
       "    </tr>\n",
       "    <tr>\n",
       "      <th>2</th>\n",
       "      <td>200110444</td>\n",
       "      <td>2020-04-14T00:00:00.000</td>\n",
       "      <td>2020-02-13T00:00:00.000</td>\n",
       "      <td>1200</td>\n",
       "      <td>1</td>\n",
       "      <td>Central</td>\n",
       "      <td>155</td>\n",
       "      <td>2</td>\n",
       "      <td>845</td>\n",
       "      <td>SEX OFFENDER REGISTRANT OUT OF COMPLIANCE</td>\n",
       "      <td>...</td>\n",
       "      <td>NaN</td>\n",
       "      <td>NaN</td>\n",
       "      <td>AA</td>\n",
       "      <td>Adult Arrest</td>\n",
       "      <td>845</td>\n",
       "      <td>200 E  6TH                          ST</td>\n",
       "      <td>34.0448</td>\n",
       "      <td>-118.2474</td>\n",
       "      <td>NaN</td>\n",
       "      <td>NaN</td>\n",
       "    </tr>\n",
       "    <tr>\n",
       "      <th>3</th>\n",
       "      <td>191501505</td>\n",
       "      <td>2020-01-01T00:00:00.000</td>\n",
       "      <td>2020-01-01T00:00:00.000</td>\n",
       "      <td>1730</td>\n",
       "      <td>15</td>\n",
       "      <td>N Hollywood</td>\n",
       "      <td>1543</td>\n",
       "      <td>2</td>\n",
       "      <td>745</td>\n",
       "      <td>VANDALISM - MISDEAMEANOR ($399 OR UNDER)</td>\n",
       "      <td>...</td>\n",
       "      <td>NaN</td>\n",
       "      <td>NaN</td>\n",
       "      <td>IC</td>\n",
       "      <td>Invest Cont</td>\n",
       "      <td>745</td>\n",
       "      <td>5400    CORTEEN                      PL</td>\n",
       "      <td>34.1685</td>\n",
       "      <td>-118.4019</td>\n",
       "      <td>998.0</td>\n",
       "      <td>NaN</td>\n",
       "    </tr>\n",
       "    <tr>\n",
       "      <th>4</th>\n",
       "      <td>191921269</td>\n",
       "      <td>2020-01-01T00:00:00.000</td>\n",
       "      <td>2020-01-01T00:00:00.000</td>\n",
       "      <td>415</td>\n",
       "      <td>19</td>\n",
       "      <td>Mission</td>\n",
       "      <td>1998</td>\n",
       "      <td>2</td>\n",
       "      <td>740</td>\n",
       "      <td>VANDALISM - FELONY ($400 &amp; OVER, ALL CHURCH VA...</td>\n",
       "      <td>...</td>\n",
       "      <td>NaN</td>\n",
       "      <td>NaN</td>\n",
       "      <td>IC</td>\n",
       "      <td>Invest Cont</td>\n",
       "      <td>740</td>\n",
       "      <td>14400    TITUS                        ST</td>\n",
       "      <td>34.2198</td>\n",
       "      <td>-118.4468</td>\n",
       "      <td>NaN</td>\n",
       "      <td>NaN</td>\n",
       "    </tr>\n",
       "    <tr>\n",
       "      <th>5</th>\n",
       "      <td>200100501</td>\n",
       "      <td>2020-01-02T00:00:00.000</td>\n",
       "      <td>2020-01-01T00:00:00.000</td>\n",
       "      <td>30</td>\n",
       "      <td>1</td>\n",
       "      <td>Central</td>\n",
       "      <td>163</td>\n",
       "      <td>1</td>\n",
       "      <td>121</td>\n",
       "      <td>RAPE, FORCIBLE</td>\n",
       "      <td>...</td>\n",
       "      <td>500.0</td>\n",
       "      <td>UNKNOWN WEAPON/OTHER WEAPON</td>\n",
       "      <td>IC</td>\n",
       "      <td>Invest Cont</td>\n",
       "      <td>121</td>\n",
       "      <td>700 S  BROADWAY</td>\n",
       "      <td>34.0452</td>\n",
       "      <td>-118.2534</td>\n",
       "      <td>998.0</td>\n",
       "      <td>NaN</td>\n",
       "    </tr>\n",
       "    <tr>\n",
       "      <th>6</th>\n",
       "      <td>200100502</td>\n",
       "      <td>2020-01-02T00:00:00.000</td>\n",
       "      <td>2020-01-02T00:00:00.000</td>\n",
       "      <td>1315</td>\n",
       "      <td>1</td>\n",
       "      <td>Central</td>\n",
       "      <td>161</td>\n",
       "      <td>1</td>\n",
       "      <td>442</td>\n",
       "      <td>SHOPLIFTING - PETTY THEFT ($950 &amp; UNDER)</td>\n",
       "      <td>...</td>\n",
       "      <td>NaN</td>\n",
       "      <td>NaN</td>\n",
       "      <td>IC</td>\n",
       "      <td>Invest Cont</td>\n",
       "      <td>442</td>\n",
       "      <td>700 S  FIGUEROA                     ST</td>\n",
       "      <td>34.0483</td>\n",
       "      <td>-118.2631</td>\n",
       "      <td>998.0</td>\n",
       "      <td>NaN</td>\n",
       "    </tr>\n",
       "    <tr>\n",
       "      <th>7</th>\n",
       "      <td>200100504</td>\n",
       "      <td>2020-01-04T00:00:00.000</td>\n",
       "      <td>2020-01-04T00:00:00.000</td>\n",
       "      <td>40</td>\n",
       "      <td>1</td>\n",
       "      <td>Central</td>\n",
       "      <td>155</td>\n",
       "      <td>2</td>\n",
       "      <td>946</td>\n",
       "      <td>OTHER MISCELLANEOUS CRIME</td>\n",
       "      <td>...</td>\n",
       "      <td>NaN</td>\n",
       "      <td>NaN</td>\n",
       "      <td>IC</td>\n",
       "      <td>Invest Cont</td>\n",
       "      <td>946</td>\n",
       "      <td>200 E  6TH                          ST</td>\n",
       "      <td>34.0448</td>\n",
       "      <td>-118.2474</td>\n",
       "      <td>998.0</td>\n",
       "      <td>NaN</td>\n",
       "    </tr>\n",
       "    <tr>\n",
       "      <th>8</th>\n",
       "      <td>200100507</td>\n",
       "      <td>2020-01-04T00:00:00.000</td>\n",
       "      <td>2020-01-04T00:00:00.000</td>\n",
       "      <td>200</td>\n",
       "      <td>1</td>\n",
       "      <td>Central</td>\n",
       "      <td>101</td>\n",
       "      <td>1</td>\n",
       "      <td>341</td>\n",
       "      <td>THEFT-GRAND ($950.01 &amp; OVER)EXCPT,GUNS,FOWL,LI...</td>\n",
       "      <td>...</td>\n",
       "      <td>NaN</td>\n",
       "      <td>NaN</td>\n",
       "      <td>IC</td>\n",
       "      <td>Invest Cont</td>\n",
       "      <td>341</td>\n",
       "      <td>700    BERNARD                      ST</td>\n",
       "      <td>34.0677</td>\n",
       "      <td>-118.2398</td>\n",
       "      <td>998.0</td>\n",
       "      <td>NaN</td>\n",
       "    </tr>\n",
       "    <tr>\n",
       "      <th>9</th>\n",
       "      <td>200100509</td>\n",
       "      <td>2020-01-04T00:00:00.000</td>\n",
       "      <td>2020-01-04T00:00:00.000</td>\n",
       "      <td>2200</td>\n",
       "      <td>1</td>\n",
       "      <td>Central</td>\n",
       "      <td>192</td>\n",
       "      <td>1</td>\n",
       "      <td>330</td>\n",
       "      <td>BURGLARY FROM VEHICLE</td>\n",
       "      <td>...</td>\n",
       "      <td>306.0</td>\n",
       "      <td>ROCK/THROWN OBJECT</td>\n",
       "      <td>IC</td>\n",
       "      <td>Invest Cont</td>\n",
       "      <td>330</td>\n",
       "      <td>15TH</td>\n",
       "      <td>34.0359</td>\n",
       "      <td>-118.2648</td>\n",
       "      <td>NaN</td>\n",
       "      <td>OLIVE</td>\n",
       "    </tr>\n",
       "    <tr>\n",
       "      <th>10</th>\n",
       "      <td>200100510</td>\n",
       "      <td>2020-01-05T00:00:00.000</td>\n",
       "      <td>2020-01-05T00:00:00.000</td>\n",
       "      <td>955</td>\n",
       "      <td>1</td>\n",
       "      <td>Central</td>\n",
       "      <td>111</td>\n",
       "      <td>2</td>\n",
       "      <td>930</td>\n",
       "      <td>CRIMINAL THREATS - NO WEAPON DISPLAYED</td>\n",
       "      <td>...</td>\n",
       "      <td>511.0</td>\n",
       "      <td>VERBAL THREAT</td>\n",
       "      <td>IC</td>\n",
       "      <td>Invest Cont</td>\n",
       "      <td>930</td>\n",
       "      <td>800 N  ALAMEDA                      ST</td>\n",
       "      <td>34.0615</td>\n",
       "      <td>-118.2412</td>\n",
       "      <td>NaN</td>\n",
       "      <td>NaN</td>\n",
       "    </tr>\n",
       "    <tr>\n",
       "      <th>11</th>\n",
       "      <td>200100514</td>\n",
       "      <td>2020-01-05T00:00:00.000</td>\n",
       "      <td>2020-01-05T00:00:00.000</td>\n",
       "      <td>1355</td>\n",
       "      <td>1</td>\n",
       "      <td>Central</td>\n",
       "      <td>162</td>\n",
       "      <td>1</td>\n",
       "      <td>341</td>\n",
       "      <td>THEFT-GRAND ($950.01 &amp; OVER)EXCPT,GUNS,FOWL,LI...</td>\n",
       "      <td>...</td>\n",
       "      <td>NaN</td>\n",
       "      <td>NaN</td>\n",
       "      <td>AA</td>\n",
       "      <td>Adult Arrest</td>\n",
       "      <td>341</td>\n",
       "      <td>800 S  OLIVE                        ST</td>\n",
       "      <td>34.0452</td>\n",
       "      <td>-118.2569</td>\n",
       "      <td>NaN</td>\n",
       "      <td>NaN</td>\n",
       "    </tr>\n",
       "    <tr>\n",
       "      <th>12</th>\n",
       "      <td>200100515</td>\n",
       "      <td>2020-01-07T00:00:00.000</td>\n",
       "      <td>2020-01-07T00:00:00.000</td>\n",
       "      <td>1638</td>\n",
       "      <td>1</td>\n",
       "      <td>Central</td>\n",
       "      <td>162</td>\n",
       "      <td>1</td>\n",
       "      <td>648</td>\n",
       "      <td>ARSON</td>\n",
       "      <td>...</td>\n",
       "      <td>500.0</td>\n",
       "      <td>UNKNOWN WEAPON/OTHER WEAPON</td>\n",
       "      <td>IC</td>\n",
       "      <td>Invest Cont</td>\n",
       "      <td>648</td>\n",
       "      <td>700 W  7TH                          ST</td>\n",
       "      <td>34.0480</td>\n",
       "      <td>-118.2577</td>\n",
       "      <td>998.0</td>\n",
       "      <td>NaN</td>\n",
       "    </tr>\n",
       "    <tr>\n",
       "      <th>13</th>\n",
       "      <td>200100520</td>\n",
       "      <td>2020-01-08T00:00:00.000</td>\n",
       "      <td>2020-01-08T00:00:00.000</td>\n",
       "      <td>1805</td>\n",
       "      <td>1</td>\n",
       "      <td>Central</td>\n",
       "      <td>128</td>\n",
       "      <td>1</td>\n",
       "      <td>442</td>\n",
       "      <td>SHOPLIFTING - PETTY THEFT ($950 &amp; UNDER)</td>\n",
       "      <td>...</td>\n",
       "      <td>NaN</td>\n",
       "      <td>NaN</td>\n",
       "      <td>IC</td>\n",
       "      <td>Invest Cont</td>\n",
       "      <td>442</td>\n",
       "      <td>100 S  LOS ANGELES                  ST</td>\n",
       "      <td>34.0515</td>\n",
       "      <td>-118.2424</td>\n",
       "      <td>NaN</td>\n",
       "      <td>NaN</td>\n",
       "    </tr>\n",
       "    <tr>\n",
       "      <th>14</th>\n",
       "      <td>200506268</td>\n",
       "      <td>2020-02-22T00:00:00.000</td>\n",
       "      <td>2020-02-22T00:00:00.000</td>\n",
       "      <td>1900</td>\n",
       "      <td>5</td>\n",
       "      <td>Harbor</td>\n",
       "      <td>511</td>\n",
       "      <td>1</td>\n",
       "      <td>440</td>\n",
       "      <td>THEFT PLAIN - PETTY ($950 &amp; UNDER)</td>\n",
       "      <td>...</td>\n",
       "      <td>400.0</td>\n",
       "      <td>STRONG-ARM (HANDS, FIST, FEET OR BODILY FORCE)</td>\n",
       "      <td>IC</td>\n",
       "      <td>Invest Cont</td>\n",
       "      <td>440</td>\n",
       "      <td>PACIFIC COAST</td>\n",
       "      <td>33.7926</td>\n",
       "      <td>-118.3043</td>\n",
       "      <td>624.0</td>\n",
       "      <td>VERMONT</td>\n",
       "    </tr>\n",
       "    <tr>\n",
       "      <th>15</th>\n",
       "      <td>200100535</td>\n",
       "      <td>2020-01-14T00:00:00.000</td>\n",
       "      <td>2020-01-14T00:00:00.000</td>\n",
       "      <td>1330</td>\n",
       "      <td>1</td>\n",
       "      <td>Central</td>\n",
       "      <td>152</td>\n",
       "      <td>1</td>\n",
       "      <td>210</td>\n",
       "      <td>ROBBERY</td>\n",
       "      <td>...</td>\n",
       "      <td>204.0</td>\n",
       "      <td>FOLDING KNIFE</td>\n",
       "      <td>IC</td>\n",
       "      <td>Invest Cont</td>\n",
       "      <td>210</td>\n",
       "      <td>7TH</td>\n",
       "      <td>34.0463</td>\n",
       "      <td>-118.2550</td>\n",
       "      <td>NaN</td>\n",
       "      <td>HILL</td>\n",
       "    </tr>\n",
       "    <tr>\n",
       "      <th>16</th>\n",
       "      <td>200100538</td>\n",
       "      <td>2020-01-14T00:00:00.000</td>\n",
       "      <td>2020-01-14T00:00:00.000</td>\n",
       "      <td>1730</td>\n",
       "      <td>1</td>\n",
       "      <td>Central</td>\n",
       "      <td>162</td>\n",
       "      <td>1</td>\n",
       "      <td>341</td>\n",
       "      <td>THEFT-GRAND ($950.01 &amp; OVER)EXCPT,GUNS,FOWL,LI...</td>\n",
       "      <td>...</td>\n",
       "      <td>NaN</td>\n",
       "      <td>NaN</td>\n",
       "      <td>IC</td>\n",
       "      <td>Invest Cont</td>\n",
       "      <td>341</td>\n",
       "      <td>700 W  7TH                          ST</td>\n",
       "      <td>34.0480</td>\n",
       "      <td>-118.2577</td>\n",
       "      <td>NaN</td>\n",
       "      <td>NaN</td>\n",
       "    </tr>\n",
       "    <tr>\n",
       "      <th>17</th>\n",
       "      <td>200100543</td>\n",
       "      <td>2020-01-15T00:00:00.000</td>\n",
       "      <td>2020-01-15T00:00:00.000</td>\n",
       "      <td>1445</td>\n",
       "      <td>1</td>\n",
       "      <td>Central</td>\n",
       "      <td>162</td>\n",
       "      <td>1</td>\n",
       "      <td>442</td>\n",
       "      <td>SHOPLIFTING - PETTY THEFT ($950 &amp; UNDER)</td>\n",
       "      <td>...</td>\n",
       "      <td>NaN</td>\n",
       "      <td>NaN</td>\n",
       "      <td>IC</td>\n",
       "      <td>Invest Cont</td>\n",
       "      <td>442</td>\n",
       "      <td>700 W  7TH                          ST</td>\n",
       "      <td>34.0480</td>\n",
       "      <td>-118.2577</td>\n",
       "      <td>998.0</td>\n",
       "      <td>NaN</td>\n",
       "    </tr>\n",
       "    <tr>\n",
       "      <th>18</th>\n",
       "      <td>200100546</td>\n",
       "      <td>2020-01-15T00:00:00.000</td>\n",
       "      <td>2020-01-15T00:00:00.000</td>\n",
       "      <td>700</td>\n",
       "      <td>1</td>\n",
       "      <td>Central</td>\n",
       "      <td>166</td>\n",
       "      <td>1</td>\n",
       "      <td>230</td>\n",
       "      <td>ASSAULT WITH DEADLY WEAPON, AGGRAVATED ASSAULT</td>\n",
       "      <td>...</td>\n",
       "      <td>500.0</td>\n",
       "      <td>UNKNOWN WEAPON/OTHER WEAPON</td>\n",
       "      <td>AO</td>\n",
       "      <td>Adult Other</td>\n",
       "      <td>230</td>\n",
       "      <td>600    SAN JULIAN                   ST</td>\n",
       "      <td>34.0428</td>\n",
       "      <td>-118.2461</td>\n",
       "      <td>NaN</td>\n",
       "      <td>NaN</td>\n",
       "    </tr>\n",
       "    <tr>\n",
       "      <th>19</th>\n",
       "      <td>200100552</td>\n",
       "      <td>2020-01-19T00:00:00.000</td>\n",
       "      <td>2020-01-19T00:00:00.000</td>\n",
       "      <td>2000</td>\n",
       "      <td>1</td>\n",
       "      <td>Central</td>\n",
       "      <td>111</td>\n",
       "      <td>1</td>\n",
       "      <td>230</td>\n",
       "      <td>ASSAULT WITH DEADLY WEAPON, AGGRAVATED ASSAULT</td>\n",
       "      <td>...</td>\n",
       "      <td>500.0</td>\n",
       "      <td>UNKNOWN WEAPON/OTHER WEAPON</td>\n",
       "      <td>AA</td>\n",
       "      <td>Adult Arrest</td>\n",
       "      <td>230</td>\n",
       "      <td>ALAMEDA</td>\n",
       "      <td>34.0578</td>\n",
       "      <td>-118.2371</td>\n",
       "      <td>NaN</td>\n",
       "      <td>LOS ANGELES</td>\n",
       "    </tr>\n",
       "  </tbody>\n",
       "</table>\n",
       "<p>20 rows × 26 columns</p>\n",
       "</div>"
      ],
      "text/plain": [
       "        dr_no                date_rptd                 date_occ  time_occ  \\\n",
       "0    10304468  2020-01-08T00:00:00.000  2020-01-08T00:00:00.000      2230   \n",
       "1   190101086  2020-01-02T00:00:00.000  2020-01-01T00:00:00.000       330   \n",
       "2   200110444  2020-04-14T00:00:00.000  2020-02-13T00:00:00.000      1200   \n",
       "3   191501505  2020-01-01T00:00:00.000  2020-01-01T00:00:00.000      1730   \n",
       "4   191921269  2020-01-01T00:00:00.000  2020-01-01T00:00:00.000       415   \n",
       "5   200100501  2020-01-02T00:00:00.000  2020-01-01T00:00:00.000        30   \n",
       "6   200100502  2020-01-02T00:00:00.000  2020-01-02T00:00:00.000      1315   \n",
       "7   200100504  2020-01-04T00:00:00.000  2020-01-04T00:00:00.000        40   \n",
       "8   200100507  2020-01-04T00:00:00.000  2020-01-04T00:00:00.000       200   \n",
       "9   200100509  2020-01-04T00:00:00.000  2020-01-04T00:00:00.000      2200   \n",
       "10  200100510  2020-01-05T00:00:00.000  2020-01-05T00:00:00.000       955   \n",
       "11  200100514  2020-01-05T00:00:00.000  2020-01-05T00:00:00.000      1355   \n",
       "12  200100515  2020-01-07T00:00:00.000  2020-01-07T00:00:00.000      1638   \n",
       "13  200100520  2020-01-08T00:00:00.000  2020-01-08T00:00:00.000      1805   \n",
       "14  200506268  2020-02-22T00:00:00.000  2020-02-22T00:00:00.000      1900   \n",
       "15  200100535  2020-01-14T00:00:00.000  2020-01-14T00:00:00.000      1330   \n",
       "16  200100538  2020-01-14T00:00:00.000  2020-01-14T00:00:00.000      1730   \n",
       "17  200100543  2020-01-15T00:00:00.000  2020-01-15T00:00:00.000      1445   \n",
       "18  200100546  2020-01-15T00:00:00.000  2020-01-15T00:00:00.000       700   \n",
       "19  200100552  2020-01-19T00:00:00.000  2020-01-19T00:00:00.000      2000   \n",
       "\n",
       "    area    area_name  rpt_dist_no  part_1_2  crm_cd  \\\n",
       "0      3    Southwest          377         2     624   \n",
       "1      1      Central          163         2     624   \n",
       "2      1      Central          155         2     845   \n",
       "3     15  N Hollywood         1543         2     745   \n",
       "4     19      Mission         1998         2     740   \n",
       "5      1      Central          163         1     121   \n",
       "6      1      Central          161         1     442   \n",
       "7      1      Central          155         2     946   \n",
       "8      1      Central          101         1     341   \n",
       "9      1      Central          192         1     330   \n",
       "10     1      Central          111         2     930   \n",
       "11     1      Central          162         1     341   \n",
       "12     1      Central          162         1     648   \n",
       "13     1      Central          128         1     442   \n",
       "14     5       Harbor          511         1     440   \n",
       "15     1      Central          152         1     210   \n",
       "16     1      Central          162         1     341   \n",
       "17     1      Central          162         1     442   \n",
       "18     1      Central          166         1     230   \n",
       "19     1      Central          111         1     230   \n",
       "\n",
       "                                          crm_cd_desc  ... weapon_used_cd  \\\n",
       "0                            BATTERY - SIMPLE ASSAULT  ...          400.0   \n",
       "1                            BATTERY - SIMPLE ASSAULT  ...          500.0   \n",
       "2           SEX OFFENDER REGISTRANT OUT OF COMPLIANCE  ...            NaN   \n",
       "3            VANDALISM - MISDEAMEANOR ($399 OR UNDER)  ...            NaN   \n",
       "4   VANDALISM - FELONY ($400 & OVER, ALL CHURCH VA...  ...            NaN   \n",
       "5                                      RAPE, FORCIBLE  ...          500.0   \n",
       "6            SHOPLIFTING - PETTY THEFT ($950 & UNDER)  ...            NaN   \n",
       "7                           OTHER MISCELLANEOUS CRIME  ...            NaN   \n",
       "8   THEFT-GRAND ($950.01 & OVER)EXCPT,GUNS,FOWL,LI...  ...            NaN   \n",
       "9                               BURGLARY FROM VEHICLE  ...          306.0   \n",
       "10             CRIMINAL THREATS - NO WEAPON DISPLAYED  ...          511.0   \n",
       "11  THEFT-GRAND ($950.01 & OVER)EXCPT,GUNS,FOWL,LI...  ...            NaN   \n",
       "12                                              ARSON  ...          500.0   \n",
       "13           SHOPLIFTING - PETTY THEFT ($950 & UNDER)  ...            NaN   \n",
       "14                 THEFT PLAIN - PETTY ($950 & UNDER)  ...          400.0   \n",
       "15                                            ROBBERY  ...          204.0   \n",
       "16  THEFT-GRAND ($950.01 & OVER)EXCPT,GUNS,FOWL,LI...  ...            NaN   \n",
       "17           SHOPLIFTING - PETTY THEFT ($950 & UNDER)  ...            NaN   \n",
       "18     ASSAULT WITH DEADLY WEAPON, AGGRAVATED ASSAULT  ...          500.0   \n",
       "19     ASSAULT WITH DEADLY WEAPON, AGGRAVATED ASSAULT  ...          500.0   \n",
       "\n",
       "                                       weapon_desc status   status_desc  \\\n",
       "0   STRONG-ARM (HANDS, FIST, FEET OR BODILY FORCE)     AO   Adult Other   \n",
       "1                      UNKNOWN WEAPON/OTHER WEAPON     IC   Invest Cont   \n",
       "2                                              NaN     AA  Adult Arrest   \n",
       "3                                              NaN     IC   Invest Cont   \n",
       "4                                              NaN     IC   Invest Cont   \n",
       "5                      UNKNOWN WEAPON/OTHER WEAPON     IC   Invest Cont   \n",
       "6                                              NaN     IC   Invest Cont   \n",
       "7                                              NaN     IC   Invest Cont   \n",
       "8                                              NaN     IC   Invest Cont   \n",
       "9                               ROCK/THROWN OBJECT     IC   Invest Cont   \n",
       "10                                   VERBAL THREAT     IC   Invest Cont   \n",
       "11                                             NaN     AA  Adult Arrest   \n",
       "12                     UNKNOWN WEAPON/OTHER WEAPON     IC   Invest Cont   \n",
       "13                                             NaN     IC   Invest Cont   \n",
       "14  STRONG-ARM (HANDS, FIST, FEET OR BODILY FORCE)     IC   Invest Cont   \n",
       "15                                   FOLDING KNIFE     IC   Invest Cont   \n",
       "16                                             NaN     IC   Invest Cont   \n",
       "17                                             NaN     IC   Invest Cont   \n",
       "18                     UNKNOWN WEAPON/OTHER WEAPON     AO   Adult Other   \n",
       "19                     UNKNOWN WEAPON/OTHER WEAPON     AA  Adult Arrest   \n",
       "\n",
       "    crm_cd_1                                  location      lat       lon  \\\n",
       "0        624   1100 W  39TH                         PL  34.0141 -118.2978   \n",
       "1        624    700 S  HILL                         ST  34.0459 -118.2545   \n",
       "2        845    200 E  6TH                          ST  34.0448 -118.2474   \n",
       "3        745   5400    CORTEEN                      PL  34.1685 -118.4019   \n",
       "4        740  14400    TITUS                        ST  34.2198 -118.4468   \n",
       "5        121                           700 S  BROADWAY  34.0452 -118.2534   \n",
       "6        442    700 S  FIGUEROA                     ST  34.0483 -118.2631   \n",
       "7        946    200 E  6TH                          ST  34.0448 -118.2474   \n",
       "8        341    700    BERNARD                      ST  34.0677 -118.2398   \n",
       "9        330                                      15TH  34.0359 -118.2648   \n",
       "10       930    800 N  ALAMEDA                      ST  34.0615 -118.2412   \n",
       "11       341    800 S  OLIVE                        ST  34.0452 -118.2569   \n",
       "12       648    700 W  7TH                          ST  34.0480 -118.2577   \n",
       "13       442    100 S  LOS ANGELES                  ST  34.0515 -118.2424   \n",
       "14       440                             PACIFIC COAST  33.7926 -118.3043   \n",
       "15       210                                       7TH  34.0463 -118.2550   \n",
       "16       341    700 W  7TH                          ST  34.0480 -118.2577   \n",
       "17       442    700 W  7TH                          ST  34.0480 -118.2577   \n",
       "18       230    600    SAN JULIAN                   ST  34.0428 -118.2461   \n",
       "19       230                                   ALAMEDA  34.0578 -118.2371   \n",
       "\n",
       "   crm_cd_2 cross_street  \n",
       "0       NaN          NaN  \n",
       "1       NaN          NaN  \n",
       "2       NaN          NaN  \n",
       "3     998.0          NaN  \n",
       "4       NaN          NaN  \n",
       "5     998.0          NaN  \n",
       "6     998.0          NaN  \n",
       "7     998.0          NaN  \n",
       "8     998.0          NaN  \n",
       "9       NaN        OLIVE  \n",
       "10      NaN          NaN  \n",
       "11      NaN          NaN  \n",
       "12    998.0          NaN  \n",
       "13      NaN          NaN  \n",
       "14    624.0      VERMONT  \n",
       "15      NaN         HILL  \n",
       "16      NaN          NaN  \n",
       "17    998.0          NaN  \n",
       "18      NaN          NaN  \n",
       "19      NaN  LOS ANGELES  \n",
       "\n",
       "[20 rows x 26 columns]"
      ]
     },
     "execution_count": 50,
     "metadata": {},
     "output_type": "execute_result"
    }
   ],
   "source": [
    "data_crime_2024=pd.read_csv('data_crime_2024')\n",
    "data_crime_2024.head(20)"
   ]
  },
  {
   "cell_type": "code",
   "execution_count": 63,
   "metadata": {},
   "outputs": [
    {
     "data": {
      "text/plain": [
       "dr_no               0\n",
       "date_rptd           0\n",
       "date_occ            0\n",
       "time_occ            0\n",
       "area                0\n",
       "area_name           0\n",
       "rpt_dist_no         0\n",
       "part_1_2            0\n",
       "crm_cd              0\n",
       "crm_cd_desc         0\n",
       "mocodes            73\n",
       "vict_age            0\n",
       "vict_sex           63\n",
       "vict_descent       63\n",
       "premis_cd           0\n",
       "premis_desc         0\n",
       "weapon_used_cd    615\n",
       "weapon_desc       615\n",
       "status              0\n",
       "status_desc         0\n",
       "crm_cd_1            0\n",
       "location            0\n",
       "lat                 0\n",
       "lon                 0\n",
       "crm_cd_2          934\n",
       "cross_street      709\n",
       "dtype: int64"
      ]
     },
     "execution_count": 63,
     "metadata": {},
     "output_type": "execute_result"
    }
   ],
   "source": [
    "data_crime_2024.isnull().sum()"
   ]
  },
  {
   "cell_type": "code",
   "execution_count": 49,
   "metadata": {},
   "outputs": [
    {
     "data": {
      "text/plain": [
       "171             VANDALISM - MISDEAMEANOR ($399 OR UNDER)\n",
       "335                             BATTERY - SIMPLE ASSAULT\n",
       "511                INTIMATE PARTNER - AGGRAVATED ASSAULT\n",
       "962             SHOPLIFTING - PETTY THEFT ($950 & UNDER)\n",
       "480                           KIDNAPPING - GRAND ATTEMPT\n",
       "114             SHOPLIFTING - PETTY THEFT ($950 & UNDER)\n",
       "412                                      BRANDISH WEAPON\n",
       "727                             BATTERY - SIMPLE ASSAULT\n",
       "515       ASSAULT WITH DEADLY WEAPON, AGGRAVATED ASSAULT\n",
       "611                                BURGLARY FROM VEHICLE\n",
       "340                                          TRESPASSING\n",
       "583                   THEFT PLAIN - PETTY ($950 & UNDER)\n",
       "915              LETTERS, LEWD  -  TELEPHONE CALLS, LEWD\n",
       "206                   THEFT PLAIN - PETTY ($950 & UNDER)\n",
       "478                                     VEHICLE - STOLEN\n",
       "486             VANDALISM - MISDEAMEANOR ($399 OR UNDER)\n",
       "201                INTIMATE PARTNER - AGGRAVATED ASSAULT\n",
       "278    THEFT-GRAND ($950.01 & OVER)EXCPT,GUNS,FOWL,LI...\n",
       "3               VANDALISM - MISDEAMEANOR ($399 OR UNDER)\n",
       "411                                BURGLARY FROM VEHICLE\n",
       "Name: crm_cd_desc, dtype: object"
      ]
     },
     "execution_count": 49,
     "metadata": {},
     "output_type": "execute_result"
    }
   ],
   "source": [
    "data_crime_2024.crm_cd_desc.sample(20)"
   ]
  },
  {
   "cell_type": "markdown",
   "metadata": {
    "id": "QwSWIVmotLgV"
   },
   "source": [
    "## 2. Assess data\n",
    "\n",
    "Assess the data according to data quality and tidiness metrics using the report below.\n",
    "\n",
    "List **two** data quality issues and **two** tidiness issues. Assess each data issue visually **and** programmatically, then briefly describe the issue you find.  **Make sure you include justifications for the methods you use for the assessment.**"
   ]
  },
  {
   "cell_type": "markdown",
   "metadata": {
    "id": "adaK2iPNzVu4"
   },
   "source": [
    "### Quality Issue 1:"
   ]
  },
  {
   "cell_type": "code",
   "execution_count": 58,
   "metadata": {
    "id": "SpW59kh-zl8d"
   },
   "outputs": [
    {
     "data": {
      "text/plain": [
       "Index(['DR_NO', 'Date Rptd', 'DATE OCC', 'TIME OCC', 'AREA ', 'AREA NAME',\n",
       "       'Rpt Dist No', 'Part 1-2', 'Crm Cd', 'Crm Cd Desc', 'Mocodes',\n",
       "       'Vict Age', 'Vict Sex', 'Vict Descent', 'Premis Cd', 'Premis Desc',\n",
       "       'Weapon Used Cd', 'Weapon Desc', 'Status', 'Status Desc', 'Crm Cd 1',\n",
       "       'Crm Cd 2', 'Crm Cd 3', 'Crm Cd 4', 'LOCATION', 'Cross Street', 'LAT',\n",
       "       'LON'],\n",
       "      dtype='object')"
      ]
     },
     "execution_count": 58,
     "metadata": {},
     "output_type": "execute_result"
    }
   ],
   "source": [
    "#FILL IN - Inspecting the dataframe visually\n",
    "data_crime_2019.head(20)\n",
    "data_crime_2019.columns"
   ]
  },
  {
   "cell_type": "code",
   "execution_count": 59,
   "metadata": {},
   "outputs": [
    {
     "data": {
      "text/plain": [
       "Index(['dr_no', 'date_rptd', 'date_occ', 'time_occ', 'area', 'area_name',\n",
       "       'rpt_dist_no', 'part_1_2', 'crm_cd', 'crm_cd_desc', 'mocodes',\n",
       "       'vict_age', 'vict_sex', 'vict_descent', 'premis_cd', 'premis_desc',\n",
       "       'weapon_used_cd', 'weapon_desc', 'status', 'status_desc', 'crm_cd_1',\n",
       "       'location', 'lat', 'lon', 'crm_cd_2', 'cross_street'],\n",
       "      dtype='object')"
      ]
     },
     "execution_count": 59,
     "metadata": {},
     "output_type": "execute_result"
    }
   ],
   "source": [
    "data_crime_2024.columns"
   ]
  },
  {
   "cell_type": "code",
   "execution_count": 64,
   "metadata": {
    "id": "-qfcocStzsKg"
   },
   "outputs": [
    {
     "name": "stdout",
     "output_type": "stream",
     "text": [
      "(2023474, 28)\n"
     ]
    },
    {
     "data": {
      "text/plain": [
       "DR_NO                   0\n",
       "Date Rptd               0\n",
       "DATE OCC                0\n",
       "TIME OCC                0\n",
       "AREA                    0\n",
       "AREA NAME               0\n",
       "Rpt Dist No             0\n",
       "Part 1-2                0\n",
       "Crm Cd                  0\n",
       "Crm Cd Desc             0\n",
       "Mocodes            219375\n",
       "Vict Age                0\n",
       "Vict Sex           191568\n",
       "Vict Descent       191612\n",
       "Premis Cd              44\n",
       "Premis Desc           283\n",
       "Weapon Used Cd    1336951\n",
       "Weapon Desc       1336951\n",
       "Status                  3\n",
       "Status Desc             0\n",
       "Crm Cd 1               13\n",
       "Crm Cd 2          1884591\n",
       "Crm Cd 3          2019703\n",
       "Crm Cd 4          2023376\n",
       "LOCATION                0\n",
       "Cross Street      1682736\n",
       "LAT                     0\n",
       "LON                     0\n",
       "dtype: int64"
      ]
     },
     "execution_count": 64,
     "metadata": {},
     "output_type": "execute_result"
    }
   ],
   "source": [
    "#FILL IN - Inspecting the dataframe programmatically\n",
    "print(data_crime_2019.shape)\n",
    "data_crime_2019.isnull().sum()"
   ]
  },
  {
   "cell_type": "code",
   "execution_count": 65,
   "metadata": {},
   "outputs": [
    {
     "name": "stdout",
     "output_type": "stream",
     "text": [
      "<class 'pandas.core.frame.DataFrame'>\n",
      "RangeIndex: 2023474 entries, 0 to 2023473\n",
      "Data columns (total 28 columns):\n",
      " #   Column          Dtype  \n",
      "---  ------          -----  \n",
      " 0   DR_NO           int64  \n",
      " 1   Date Rptd       object \n",
      " 2   DATE OCC        object \n",
      " 3   TIME OCC        int64  \n",
      " 4   AREA            int64  \n",
      " 5   AREA NAME       object \n",
      " 6   Rpt Dist No     int64  \n",
      " 7   Part 1-2        int64  \n",
      " 8   Crm Cd          int64  \n",
      " 9   Crm Cd Desc     object \n",
      " 10  Mocodes         object \n",
      " 11  Vict Age        int64  \n",
      " 12  Vict Sex        object \n",
      " 13  Vict Descent    object \n",
      " 14  Premis Cd       float64\n",
      " 15  Premis Desc     object \n",
      " 16  Weapon Used Cd  float64\n",
      " 17  Weapon Desc     object \n",
      " 18  Status          object \n",
      " 19  Status Desc     object \n",
      " 20  Crm Cd 1        float64\n",
      " 21  Crm Cd 2        float64\n",
      " 22  Crm Cd 3        float64\n",
      " 23  Crm Cd 4        float64\n",
      " 24  LOCATION        object \n",
      " 25  Cross Street    object \n",
      " 26  LAT             float64\n",
      " 27  LON             float64\n",
      "dtypes: float64(8), int64(7), object(13)\n",
      "memory usage: 432.3+ MB\n"
     ]
    }
   ],
   "source": [
    "data_crime_2019.info()"
   ]
  },
  {
   "cell_type": "code",
   "execution_count": 33,
   "metadata": {},
   "outputs": [
    {
     "data": {
      "text/html": [
       "<div>\n",
       "<style scoped>\n",
       "    .dataframe tbody tr th:only-of-type {\n",
       "        vertical-align: middle;\n",
       "    }\n",
       "\n",
       "    .dataframe tbody tr th {\n",
       "        vertical-align: top;\n",
       "    }\n",
       "\n",
       "    .dataframe thead th {\n",
       "        text-align: right;\n",
       "    }\n",
       "</style>\n",
       "<table border=\"1\" class=\"dataframe\">\n",
       "  <thead>\n",
       "    <tr style=\"text-align: right;\">\n",
       "      <th></th>\n",
       "      <th>DR_NO</th>\n",
       "      <th>TIME OCC</th>\n",
       "      <th>AREA</th>\n",
       "      <th>Rpt Dist No</th>\n",
       "      <th>Part 1-2</th>\n",
       "      <th>Crm Cd</th>\n",
       "      <th>Vict Age</th>\n",
       "      <th>Premis Cd</th>\n",
       "      <th>Weapon Used Cd</th>\n",
       "      <th>Crm Cd 1</th>\n",
       "      <th>Crm Cd 2</th>\n",
       "      <th>Crm Cd 3</th>\n",
       "      <th>Crm Cd 4</th>\n",
       "      <th>LAT</th>\n",
       "      <th>LON</th>\n",
       "    </tr>\n",
       "  </thead>\n",
       "  <tbody>\n",
       "    <tr>\n",
       "      <th>count</th>\n",
       "      <td>2.023474e+06</td>\n",
       "      <td>2.023474e+06</td>\n",
       "      <td>2.023474e+06</td>\n",
       "      <td>2.023474e+06</td>\n",
       "      <td>2.023474e+06</td>\n",
       "      <td>2.023474e+06</td>\n",
       "      <td>2.023474e+06</td>\n",
       "      <td>2.023430e+06</td>\n",
       "      <td>686523.000000</td>\n",
       "      <td>2.023461e+06</td>\n",
       "      <td>138883.000000</td>\n",
       "      <td>3771.000000</td>\n",
       "      <td>98.000000</td>\n",
       "      <td>2.023474e+06</td>\n",
       "      <td>2.023474e+06</td>\n",
       "    </tr>\n",
       "    <tr>\n",
       "      <th>mean</th>\n",
       "      <td>1.544821e+08</td>\n",
       "      <td>1.357942e+03</td>\n",
       "      <td>1.089657e+01</td>\n",
       "      <td>1.136050e+03</td>\n",
       "      <td>1.443072e+00</td>\n",
       "      <td>5.074174e+02</td>\n",
       "      <td>3.170664e+01</td>\n",
       "      <td>3.109370e+02</td>\n",
       "      <td>371.236739</td>\n",
       "      <td>5.072137e+02</td>\n",
       "      <td>949.678794</td>\n",
       "      <td>973.540705</td>\n",
       "      <td>975.612245</td>\n",
       "      <td>3.404628e+01</td>\n",
       "      <td>-1.182492e+02</td>\n",
       "    </tr>\n",
       "    <tr>\n",
       "      <th>std</th>\n",
       "      <td>3.332918e+07</td>\n",
       "      <td>6.479183e+02</td>\n",
       "      <td>6.034337e+00</td>\n",
       "      <td>6.034065e+02</td>\n",
       "      <td>4.967487e-01</td>\n",
       "      <td>2.106999e+02</td>\n",
       "      <td>2.072332e+01</td>\n",
       "      <td>2.121176e+02</td>\n",
       "      <td>113.810512</td>\n",
       "      <td>2.105328e+02</td>\n",
       "      <td>124.072584</td>\n",
       "      <td>84.119005</td>\n",
       "      <td>82.814366</td>\n",
       "      <td>1.041091e+00</td>\n",
       "      <td>3.595082e+00</td>\n",
       "    </tr>\n",
       "    <tr>\n",
       "      <th>min</th>\n",
       "      <td>2.113000e+03</td>\n",
       "      <td>1.000000e+00</td>\n",
       "      <td>1.000000e+00</td>\n",
       "      <td>1.000000e+02</td>\n",
       "      <td>1.000000e+00</td>\n",
       "      <td>1.100000e+02</td>\n",
       "      <td>-1.200000e+01</td>\n",
       "      <td>1.010000e+02</td>\n",
       "      <td>101.000000</td>\n",
       "      <td>1.100000e+02</td>\n",
       "      <td>210.000000</td>\n",
       "      <td>93.000000</td>\n",
       "      <td>421.000000</td>\n",
       "      <td>0.000000e+00</td>\n",
       "      <td>-1.188279e+02</td>\n",
       "    </tr>\n",
       "    <tr>\n",
       "      <th>25%</th>\n",
       "      <td>1.217187e+08</td>\n",
       "      <td>9.300000e+02</td>\n",
       "      <td>6.000000e+00</td>\n",
       "      <td>6.350000e+02</td>\n",
       "      <td>1.000000e+00</td>\n",
       "      <td>3.300000e+02</td>\n",
       "      <td>2.000000e+01</td>\n",
       "      <td>1.020000e+02</td>\n",
       "      <td>400.000000</td>\n",
       "      <td>3.300000e+02</td>\n",
       "      <td>998.000000</td>\n",
       "      <td>998.000000</td>\n",
       "      <td>998.000000</td>\n",
       "      <td>3.401230e+01</td>\n",
       "      <td>-1.184362e+02</td>\n",
       "    </tr>\n",
       "    <tr>\n",
       "      <th>50%</th>\n",
       "      <td>1.521062e+08</td>\n",
       "      <td>1.430000e+03</td>\n",
       "      <td>1.100000e+01</td>\n",
       "      <td>1.144000e+03</td>\n",
       "      <td>1.000000e+00</td>\n",
       "      <td>4.420000e+02</td>\n",
       "      <td>3.200000e+01</td>\n",
       "      <td>2.100000e+02</td>\n",
       "      <td>400.000000</td>\n",
       "      <td>4.420000e+02</td>\n",
       "      <td>998.000000</td>\n",
       "      <td>998.000000</td>\n",
       "      <td>998.000000</td>\n",
       "      <td>3.406200e+01</td>\n",
       "      <td>-1.183295e+02</td>\n",
       "    </tr>\n",
       "    <tr>\n",
       "      <th>75%</th>\n",
       "      <td>1.815166e+08</td>\n",
       "      <td>1.900000e+03</td>\n",
       "      <td>1.600000e+01</td>\n",
       "      <td>1.656000e+03</td>\n",
       "      <td>2.000000e+00</td>\n",
       "      <td>6.260000e+02</td>\n",
       "      <td>4.600000e+01</td>\n",
       "      <td>5.010000e+02</td>\n",
       "      <td>400.000000</td>\n",
       "      <td>6.260000e+02</td>\n",
       "      <td>998.000000</td>\n",
       "      <td>998.000000</td>\n",
       "      <td>998.000000</td>\n",
       "      <td>3.417330e+01</td>\n",
       "      <td>-1.182775e+02</td>\n",
       "    </tr>\n",
       "    <tr>\n",
       "      <th>max</th>\n",
       "      <td>9.102204e+08</td>\n",
       "      <td>2.359000e+03</td>\n",
       "      <td>2.100000e+01</td>\n",
       "      <td>2.199000e+03</td>\n",
       "      <td>2.000000e+00</td>\n",
       "      <td>9.560000e+02</td>\n",
       "      <td>1.180000e+02</td>\n",
       "      <td>9.710000e+02</td>\n",
       "      <td>516.000000</td>\n",
       "      <td>9.990000e+02</td>\n",
       "      <td>999.000000</td>\n",
       "      <td>999.000000</td>\n",
       "      <td>999.000000</td>\n",
       "      <td>3.470600e+01</td>\n",
       "      <td>0.000000e+00</td>\n",
       "    </tr>\n",
       "  </tbody>\n",
       "</table>\n",
       "</div>"
      ],
      "text/plain": [
       "              DR_NO      TIME OCC         AREA    Rpt Dist No      Part 1-2  \\\n",
       "count  2.023474e+06  2.023474e+06  2.023474e+06  2.023474e+06  2.023474e+06   \n",
       "mean   1.544821e+08  1.357942e+03  1.089657e+01  1.136050e+03  1.443072e+00   \n",
       "std    3.332918e+07  6.479183e+02  6.034337e+00  6.034065e+02  4.967487e-01   \n",
       "min    2.113000e+03  1.000000e+00  1.000000e+00  1.000000e+02  1.000000e+00   \n",
       "25%    1.217187e+08  9.300000e+02  6.000000e+00  6.350000e+02  1.000000e+00   \n",
       "50%    1.521062e+08  1.430000e+03  1.100000e+01  1.144000e+03  1.000000e+00   \n",
       "75%    1.815166e+08  1.900000e+03  1.600000e+01  1.656000e+03  2.000000e+00   \n",
       "max    9.102204e+08  2.359000e+03  2.100000e+01  2.199000e+03  2.000000e+00   \n",
       "\n",
       "             Crm Cd      Vict Age     Premis Cd  Weapon Used Cd      Crm Cd 1  \\\n",
       "count  2.023474e+06  2.023474e+06  2.023430e+06   686523.000000  2.023461e+06   \n",
       "mean   5.074174e+02  3.170664e+01  3.109370e+02      371.236739  5.072137e+02   \n",
       "std    2.106999e+02  2.072332e+01  2.121176e+02      113.810512  2.105328e+02   \n",
       "min    1.100000e+02 -1.200000e+01  1.010000e+02      101.000000  1.100000e+02   \n",
       "25%    3.300000e+02  2.000000e+01  1.020000e+02      400.000000  3.300000e+02   \n",
       "50%    4.420000e+02  3.200000e+01  2.100000e+02      400.000000  4.420000e+02   \n",
       "75%    6.260000e+02  4.600000e+01  5.010000e+02      400.000000  6.260000e+02   \n",
       "max    9.560000e+02  1.180000e+02  9.710000e+02      516.000000  9.990000e+02   \n",
       "\n",
       "            Crm Cd 2     Crm Cd 3    Crm Cd 4           LAT           LON  \n",
       "count  138883.000000  3771.000000   98.000000  2.023474e+06  2.023474e+06  \n",
       "mean      949.678794   973.540705  975.612245  3.404628e+01 -1.182492e+02  \n",
       "std       124.072584    84.119005   82.814366  1.041091e+00  3.595082e+00  \n",
       "min       210.000000    93.000000  421.000000  0.000000e+00 -1.188279e+02  \n",
       "25%       998.000000   998.000000  998.000000  3.401230e+01 -1.184362e+02  \n",
       "50%       998.000000   998.000000  998.000000  3.406200e+01 -1.183295e+02  \n",
       "75%       998.000000   998.000000  998.000000  3.417330e+01 -1.182775e+02  \n",
       "max       999.000000   999.000000  999.000000  3.470600e+01  0.000000e+00  "
      ]
     },
     "execution_count": 33,
     "metadata": {},
     "output_type": "execute_result"
    }
   ],
   "source": [
    "data_crime_2019.describe()"
   ]
  },
  {
   "cell_type": "markdown",
   "metadata": {},
   "source": [
    "Issue and justification: *FILL IN*"
   ]
  },
  {
   "cell_type": "markdown",
   "metadata": {
    "id": "8Be77N4I1AmE"
   },
   "source": [
    "### Quality Issue 2:"
   ]
  },
  {
   "cell_type": "code",
   "execution_count": null,
   "metadata": {
    "id": "iMhHyiyLM2I3"
   },
   "outputs": [],
   "source": [
    "#FILL IN - Inspecting the dataframe visually"
   ]
  },
  {
   "cell_type": "code",
   "execution_count": null,
   "metadata": {
    "id": "bnviRCUI-bb7"
   },
   "outputs": [],
   "source": [
    "#FILL IN - Inspecting the dataframe programmatically"
   ]
  },
  {
   "cell_type": "markdown",
   "metadata": {},
   "source": [
    "Issue and justification: *FILL IN*"
   ]
  },
  {
   "cell_type": "markdown",
   "metadata": {
    "id": "lXhGiYyiwwKN"
   },
   "source": [
    "### Tidiness Issue 1:"
   ]
  },
  {
   "cell_type": "code",
   "execution_count": null,
   "metadata": {
    "id": "fleC5rORI0Xl"
   },
   "outputs": [],
   "source": [
    "#FILL IN - Inspecting the dataframe visually"
   ]
  },
  {
   "cell_type": "code",
   "execution_count": null,
   "metadata": {
    "id": "BTuQw7Rbsio4"
   },
   "outputs": [],
   "source": [
    "#FILL IN - Inspecting the dataframe programmatically"
   ]
  },
  {
   "cell_type": "markdown",
   "metadata": {},
   "source": [
    "Issue and justification: *FILL IN*"
   ]
  },
  {
   "cell_type": "markdown",
   "metadata": {
    "id": "4ffMoRGSwzYj"
   },
   "source": [
    "### Tidiness Issue 2: "
   ]
  },
  {
   "cell_type": "code",
   "execution_count": null,
   "metadata": {
    "id": "XUpeoqokw5Qt"
   },
   "outputs": [],
   "source": [
    "#FILL IN - Inspecting the dataframe visually"
   ]
  },
  {
   "cell_type": "code",
   "execution_count": null,
   "metadata": {
    "id": "c8JK4DoXxtFA"
   },
   "outputs": [],
   "source": [
    "#FILL IN - Inspecting the dataframe programmatically"
   ]
  },
  {
   "cell_type": "markdown",
   "metadata": {},
   "source": [
    "Issue and justification: *FILL IN*"
   ]
  },
  {
   "cell_type": "markdown",
   "metadata": {
    "id": "D6gmLnBttpCh"
   },
   "source": [
    "## 3. Clean data\n",
    "Clean the data to solve the 4 issues corresponding to data quality and tidiness found in the assessing step. **Make sure you include justifications for your cleaning decisions.**\n",
    "\n",
    "After the cleaning for each issue, please use **either** the visually or programatical method to validate the cleaning was succesful.\n",
    "\n",
    "At this stage, you are also expected to remove variables that are unnecessary for your analysis and combine your datasets. Depending on your datasets, you may choose to perform variable combination and elimination before or after the cleaning stage. Your dataset must have **at least** 4 variables after combining the data."
   ]
  },
  {
   "cell_type": "code",
   "execution_count": null,
   "metadata": {},
   "outputs": [],
   "source": [
    "# FILL IN - Make copies of the datasets to ensure the raw dataframes \n",
    "# are not impacted"
   ]
  },
  {
   "cell_type": "markdown",
   "metadata": {
    "id": "FmFhN52Yyn3l"
   },
   "source": [
    "### **Quality Issue 1: FILL IN**"
   ]
  },
  {
   "cell_type": "code",
   "execution_count": null,
   "metadata": {
    "id": "9UejDWrNMW4a"
   },
   "outputs": [],
   "source": [
    "# FILL IN - Apply the cleaning strategy"
   ]
  },
  {
   "cell_type": "code",
   "execution_count": null,
   "metadata": {
    "id": "oUBee-LPytkv"
   },
   "outputs": [],
   "source": [
    "# FILL IN - Validate the cleaning was successful"
   ]
  },
  {
   "cell_type": "markdown",
   "metadata": {},
   "source": [
    "Justification: *FILL IN*"
   ]
  },
  {
   "cell_type": "markdown",
   "metadata": {
    "id": "n_DAUbJrymBL"
   },
   "source": [
    "### **Quality Issue 2: FILL IN**"
   ]
  },
  {
   "cell_type": "code",
   "execution_count": null,
   "metadata": {
    "id": "5Yfb-Yu5MTuE"
   },
   "outputs": [],
   "source": [
    "#FILL IN - Apply the cleaning strategy"
   ]
  },
  {
   "cell_type": "code",
   "execution_count": null,
   "metadata": {
    "id": "ionB2sRaMUmY"
   },
   "outputs": [],
   "source": [
    "#FILL IN - Validate the cleaning was successful"
   ]
  },
  {
   "cell_type": "markdown",
   "metadata": {},
   "source": [
    "Justification: *FILL IN*"
   ]
  },
  {
   "cell_type": "markdown",
   "metadata": {
    "id": "bIUrrfSNyOPR"
   },
   "source": [
    "### **Tidiness Issue 1: FILL IN**"
   ]
  },
  {
   "cell_type": "code",
   "execution_count": null,
   "metadata": {
    "id": "fib0zAm333bn"
   },
   "outputs": [],
   "source": [
    "#FILL IN - Apply the cleaning strategy"
   ]
  },
  {
   "cell_type": "code",
   "execution_count": null,
   "metadata": {
    "id": "yhrnUGY_Nk8B"
   },
   "outputs": [],
   "source": [
    "#FILL IN - Validate the cleaning was successful"
   ]
  },
  {
   "cell_type": "markdown",
   "metadata": {},
   "source": [
    "Justification: *FILL IN*"
   ]
  },
  {
   "cell_type": "markdown",
   "metadata": {
    "id": "o51Bt8kwyTzk"
   },
   "source": [
    "### **Tidiness Issue 2: FILL IN**"
   ]
  },
  {
   "cell_type": "code",
   "execution_count": 1,
   "metadata": {
    "id": "7zW8O5yx4Y9O"
   },
   "outputs": [],
   "source": [
    "#FILL IN - Apply the cleaning strategy"
   ]
  },
  {
   "cell_type": "code",
   "execution_count": 2,
   "metadata": {
    "id": "q6I_Sr7lxXi5"
   },
   "outputs": [],
   "source": [
    "#FILL IN - Validate the cleaning was successful"
   ]
  },
  {
   "cell_type": "markdown",
   "metadata": {},
   "source": [
    "Justification: *FILL IN*"
   ]
  },
  {
   "cell_type": "markdown",
   "metadata": {},
   "source": [
    "### **Remove unnecessary variables and combine datasets**\n",
    "\n",
    "Depending on the datasets, you can also peform the combination before the cleaning steps."
   ]
  },
  {
   "cell_type": "code",
   "execution_count": null,
   "metadata": {},
   "outputs": [],
   "source": [
    "#FILL IN - Remove unnecessary variables and combine datasets"
   ]
  },
  {
   "cell_type": "markdown",
   "metadata": {
    "id": "F42urHuzttjF"
   },
   "source": [
    "## 4. Update your data store\n",
    "Update your local database/data store with the cleaned data, following best practices for storing your cleaned data:\n",
    "\n",
    "- Must maintain different instances / versions of data (raw and cleaned data)\n",
    "- Must name the dataset files informatively\n",
    "- Ensure both the raw and cleaned data is saved to your database/data store"
   ]
  },
  {
   "cell_type": "code",
   "execution_count": null,
   "metadata": {
    "id": "V3uay7EJUV_L"
   },
   "outputs": [],
   "source": [
    "#FILL IN - saving data"
   ]
  },
  {
   "cell_type": "markdown",
   "metadata": {
    "id": "cGy_yddGtzhM"
   },
   "source": [
    "## 5. Answer the research question\n",
    "\n",
    "### **5.1:** Define and answer the research question \n",
    "Going back to the problem statement in step 1, use the cleaned data to answer the question you raised. Produce **at least** two visualizations using the cleaned data and explain how they help you answer the question."
   ]
  },
  {
   "cell_type": "markdown",
   "metadata": {
    "id": "gjedE4s4ZkEd"
   },
   "source": [
    "*Research question:* FILL IN from answer to Step 1"
   ]
  },
  {
   "cell_type": "code",
   "execution_count": null,
   "metadata": {
    "id": "Lkw3rW9kZmOm"
   },
   "outputs": [],
   "source": [
    "#Visual 1 - FILL IN"
   ]
  },
  {
   "cell_type": "markdown",
   "metadata": {},
   "source": [
    "*Answer to research question:* FILL IN"
   ]
  },
  {
   "cell_type": "code",
   "execution_count": null,
   "metadata": {
    "id": "6fdK_8ZGZm9R"
   },
   "outputs": [],
   "source": [
    "#Visual 2 - FILL IN"
   ]
  },
  {
   "cell_type": "markdown",
   "metadata": {
    "id": "K5RgvMGUZoHn"
   },
   "source": [
    "*Answer to research question:* FILL IN"
   ]
  },
  {
   "cell_type": "markdown",
   "metadata": {
    "id": "0ezWXXZVj-TP"
   },
   "source": [
    "### **5.2:** Reflection\n",
    "In 2-4 sentences, if you had more time to complete the project, what actions would you take? For example, which data quality and structural issues would you look into further, and what research questions would you further explore?"
   ]
  },
  {
   "cell_type": "markdown",
   "metadata": {
    "id": "XB3RBDG5kFe1"
   },
   "source": [
    "*Answer:* FILL IN"
   ]
  }
 ],
 "metadata": {
  "colab": {
   "provenance": []
  },
  "kernelspec": {
   "display_name": "Python 3 (ipykernel)",
   "language": "python",
   "name": "python3"
  },
  "language_info": {
   "codemirror_mode": {
    "name": "ipython",
    "version": 3
   },
   "file_extension": ".py",
   "mimetype": "text/x-python",
   "name": "python",
   "nbconvert_exporter": "python",
   "pygments_lexer": "ipython3",
   "version": "3.11.5"
  }
 },
 "nbformat": 4,
 "nbformat_minor": 1
}
