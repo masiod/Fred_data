{
 "cells": [
  {
   "cell_type": "markdown",
   "metadata": {
    "id": "GNIwe5N7s0e_"
   },
   "source": [
    "# Real-world Data Wrangling"
   ]
  },
  {
   "cell_type": "markdown",
   "metadata": {
    "id": "_BG63Tpg8ep_"
   },
   "source": [
    "In this project, you will apply the skills you acquired in the course to gather and wrangle real-world data with two datasets of your choice.\n",
    "\n",
    "You will retrieve and extract the data, assess the data programmatically and visually, accross elements of data quality and structure, and implement a cleaning strategy for the data. You will then store the updated data into your selected database/data store, combine the data, and answer a research question with the datasets.\n",
    "\n",
    "Throughout the process, you are expected to:\n",
    "\n",
    "1. Explain your decisions towards methods used for gathering, assessing, cleaning, storing, and answering the research question\n",
    "2. Write code comments so your code is more readable"
   ]
  },
  {
   "cell_type": "markdown",
   "metadata": {
    "id": "lDYDkH-Zs7Nn"
   },
   "source": [
    "## 1. Gather data\n",
    "\n",
    "In this section, you will extract data using two different data gathering methods and combine the data. Use at least two different types of data-gathering methods."
   ]
  },
  {
   "cell_type": "markdown",
   "metadata": {
    "id": "LbN7z7rcuqpO"
   },
   "source": [
    "### **1.1.** Problem Statement\n",
    "In 2-4 sentences, explain the kind of problem you want to look at and the datasets you will be wrangling for this project."
   ]
  },
  {
   "cell_type": "markdown",
   "metadata": {
    "id": "gi6swhjSYqu2"
   },
   "source": [
    "*FILL IN:*\n",
    "#### What are the top Ten most common types of crimes reported in Los Angeles?\n",
    "#### How does the representation of victims for each gender compare to other reported victims in Los Angeles?"
   ]
  },
  {
   "cell_type": "markdown",
   "metadata": {
    "id": "8AQfBAdUypMm"
   },
   "source": [
    "### **1.2.** Gather at least two datasets using two different data gathering methods\n",
    "\n",
    "List of data gathering methods:\n",
    "\n",
    "- Download data manually\n",
    "- Programmatically downloading files\n",
    "- Gather data by accessing APIs\n",
    "- Gather and extract data from HTML files using BeautifulSoup\n",
    "- Extract data from a SQL database\n",
    "\n",
    "Each dataset must have at least two variables, and have greater than 500 data samples within each dataset.\n",
    "\n",
    "For each dataset, briefly describe why you picked the dataset and the gathering method (2-3 full sentences), including the names and significance of the variables in the dataset. Show your work (e.g., if using an API to download the data, please include a snippet of your code). \n",
    "\n",
    "Load the dataset programmtically into this notebook."
   ]
  },
  {
   "cell_type": "code",
   "execution_count": 71,
   "metadata": {},
   "outputs": [],
   "source": [
    "import pandas as pd\n",
    "import requests\n",
    "import numpy as np\n",
    "import matplotlib.pyplot as plt\n",
    "import plotly.express as px\n",
    "import missingno as msno\n",
    "from folium import plugins\n",
    "from folium.plugins import HeatMap\n",
    "#chose style for the code \n",
    "plt.style.use('fivethirtyeight')\n",
    "#to disply all columns in the table \n",
    "\n",
    "pd.set_option('display.max_columns', 500)"
   ]
  },
  {
   "cell_type": "markdown",
   "metadata": {
    "id": "7e6gS0wL1KTu"
   },
   "source": [
    "#### **Dataset 1**\n",
    "\n",
    "Type: accessing APIs \n",
    "\n",
    "Crime Data from 2020 to Present:\n",
    "\n",
    "This dataset reflects incidents of crime in the City of Los Angeles dating back to 2020. This data is transcribed from original crime reports that are typed on paper and therefore there may be some inaccuracies within the data. Some location fields with missing data are noted as (0°, 0°). Address fields are only provided to the nearest hundred block in order to maintain privacy. This data is as accurate as the data in the database. Please note questions or concerns in the comments. Type: accessing APIs\n",
    "\n",
    "Method: Gather data by accessing APIs from source data.lacity.org (e.g., The data was gathered using the \"API Access\" method from https://data.lacity.org/Public-Safety/Crime-Data-from-2020-to-Present/2nrs-mtv8/data_preview source.)\n",
    "\n"
   ]
  },
  {
   "cell_type": "code",
   "execution_count": 72,
   "metadata": {
    "id": "Su8E0uLuYkHU"
   },
   "outputs": [],
   "source": [
    "#FILL IN 1st data gathering and loading method\n",
    "#crime data website : https://data.lacity.org/Public-Safety/Crime-Data-from-2020-to-Present/2nrs-mtv8/data_preview\n",
    "\n",
    "data=requests.get('https://data.lacity.org/resource/2nrs-mtv8.json').json()\n",
    "\n",
    "data_crime_2020_2024 = pd.DataFrame.from_dict(data)\n"
   ]
  },
  {
   "cell_type": "markdown",
   "metadata": {
    "id": "hoUjq1tPzz7P"
   },
   "source": [
    "#### Dataset 2\n",
    " ***dataset Data Crime from 2010-2019 (data_cirme_2019):***\n",
    " \n",
    "**about:**\n",
    "\n",
    "This dataset reflects incidents of crime in the City of Los Angeles from 2010 - 2019. This data is transcribed from original crime reports that are typed on paper and therefore there may be some inaccuracies within the data. Some location fields with missing data are noted as (0°, 0°). Address fields are only provided to the nearest hundred block in order to maintain privacy. This data is as accurate as the data in the database. Please note questions or concerns in the comments.\n",
    "\n",
    "\n",
    "Type: CSV File\n",
    "\n",
    "Method:  The data was gathered using the Download data manually method from https://data.lacity.org/ source.)\n",
    "\n"
   ]
  },
  {
   "cell_type": "code",
   "execution_count": 73,
   "metadata": {
    "id": "6zT0QxRyYmm7"
   },
   "outputs": [],
   "source": [
    "#FILL IN 2nd data gathering and loading method\n",
    "data_crime_2019=pd.read_csv('Crime_Data_from_2010_to_2019.csv')"
   ]
  },
  {
   "cell_type": "markdown",
   "metadata": {},
   "source": [
    "Optional data storing step: You may save your raw dataset files to the local data store before moving to the next step."
   ]
  },
  {
   "cell_type": "code",
   "execution_count": 74,
   "metadata": {},
   "outputs": [],
   "source": [
    "#Optional: store the raw data in your local data store\n",
    "data_crime_2020_2024.to_csv('data_crime_2024.csv',index=False)"
   ]
  },
  {
   "cell_type": "code",
   "execution_count": 75,
   "metadata": {},
   "outputs": [],
   "source": [
    "data_crime_2024=pd.read_csv('data_crime_2024.csv')"
   ]
  },
  {
   "cell_type": "markdown",
   "metadata": {},
   "source": [
    "### Variables in both datasets:\n",
    "\n",
    "| Variable       | Description                                                                                                                     | Type       |\n",
    "|----------------|---------------------------------------------------------------------------------------------------------------------------------|------------|\n",
    "| DR_NO          | Division of Records Number: Official file number made up of a 2 digit year, area ID, and 5 digits.                              | Plain Text |\n",
    "| Date Rptd      | MM/DD/YYYY                                                                                                                      | Date & Time|\n",
    "| DATE OCC       | MM/DD/YYYY                                                                                                                      | Date & Time|\n",
    "| TIME OCC       | In 24 hour military time.                                                                                                       | Plain Text |\n",
    "| AREA           | The LAPD has 21 Community Police Stations referred to as Geographic Areas within the department. These Geographic Areas are sequentially numbered from 1-21. | Plain Text |\n",
    "| AREA NAME      | The 21 Geographic Areas or Patrol Divisions are also given a name designation that references a landmark or the surrounding community that it is responsible for. For example 77th Street Division is located at the intersection of South Broadway and 77th Street, serving neighborhoods in South Los Angeles. | Plain Text |\n",
    "| Rpt Dist No   | A four-digit code that represents a sub-area within a Geographic Area. All crime records reference the \"RD\" that it occurred in for statistical comparisons. Find LAPD Reporting Districts on the LA City GeoHub at [this link](http://geohub.lacity.org/datasets/c4f83909b81d4786aa8ba8a74a4b4db1_4) | Plain Text |\n",
    "| Part 1-2       | Number                                                                                                                          |            |\n",
    "| Crm Cd         | Indicates the crime committed. (Same as Crime Code 1)                                                                          | Plain Text |\n",
    "| Crm Cd Desc    | Defines the Crime Code provided.                                                                                               | Plain Text |\n",
    "| Mocodes        | Modus Operandi: Activities associated with the suspect in commission of the crime. See attached PDF for list of MO Codes in numerical order. [Download MO Codes PDF](https://data.lacity.org/api/views/y8tr-7khq/files/3a967fbd-f210-4857-bc52-60230efe256c?download=true&filename=MO%20CODES%20(numerical%20order).pdf) | Plain Text |\n",
    "| Vict Age       | Two character numeric                                                                                                           | Plain Text |\n",
    "| Vict Sex       | F - Female M - Male X - Unknown                                                                                                | Plain Text |\n",
    "| Vict Descent   | Descent Code: (A - Other Asian B - Black C - Chinese D - Cambodian F - Filipino G - Guamanian H - Hispanic/Latin/Mexican I - American Indian/Alaskan Native J - Japanese K - Korean L - Laotian O - Other P - Pacific Islander S - Samoan U - Hawaiian V - Vietnamese W - WhiteX - Unknown Z - Asian Indian) | Plain Text |\n",
    "| Premis Cd      | The type of structure, vehicle, or location where the crime took place.                                                        | Number     |\n",
    "| Premis Desc    | Defines the Premise Code provided.                                                                                             | Plain Text |\n",
    "| Weapon Used Cd | The type of weapon used in the crime.                                                                                         | Plain Text |\n",
    "| Weapon Desc    | Defines the Weapon Used Code provided.                                                                                         | Plain Text |\n",
    "| Status         | Status of the case. (IC is the default)                                                                                        | Plain Text |\n",
    "| Status Desc    | Defines the Status Code provided.                                                                                              | Plain Text |\n",
    "| Crm Cd 1       | Indicates the crime committed. Crime Code 1 is the primary and most serious one. Crime Code 2, 3, and 4 are respectively less serious offenses. Lower crime class numbers are more serious. | Plain Text |\n",
    "| Crm Cd 2       | May contain a code for an additional crime, less serious than Crime Code 1.                                                    | Plain Text |\n",
    "| Crm Cd 3       | May contain a code for an additional crime, less serious than Crime Code 1.                                                    | Plain Text |\n",
    "| Crm Cd 4       | May contain a code for an additional crime, less serious than Crime Code 1.                                                    | Plain Text |\n",
    "| LOCATION       | Street address of crime incident rounded to the nearest hundred block to maintain anonymity.                                   | Plain Text |\n",
    "| Cross Street   | Cross Street of rounded Address                                                                                                 | Plain Text |\n",
    "| LAT            | Latitude                                                                                                                        | Number     |\n",
    "| LON            | Longtitude                                                                                                                      | Number     |\n"
   ]
  },
  {
   "cell_type": "markdown",
   "metadata": {
    "id": "QwSWIVmotLgV"
   },
   "source": [
    "## 2. Assess data\n",
    "\n",
    "Assess the data according to data quality and tidiness metrics using the report below.\n",
    "\n",
    "List **two** data quality issues and **two** tidiness issues. Assess each data issue visually **and** programmatically, then briefly describe the issue you find.  **Make sure you include justifications for the methods you use for the assessment.**"
   ]
  },
  {
   "cell_type": "markdown",
   "metadata": {
    "id": "adaK2iPNzVu4"
   },
   "source": [
    "### Quality Issue 1: completeness => Missing data"
   ]
  },
  {
   "cell_type": "markdown",
   "metadata": {},
   "source": [
    "#### Inspecting the dataframe visually"
   ]
  },
  {
   "cell_type": "code",
   "execution_count": 15,
   "metadata": {
    "id": "SpW59kh-zl8d"
   },
   "outputs": [
    {
     "data": {
      "text/html": [
       "<div>\n",
       "<style scoped>\n",
       "    .dataframe tbody tr th:only-of-type {\n",
       "        vertical-align: middle;\n",
       "    }\n",
       "\n",
       "    .dataframe tbody tr th {\n",
       "        vertical-align: top;\n",
       "    }\n",
       "\n",
       "    .dataframe thead th {\n",
       "        text-align: right;\n",
       "    }\n",
       "</style>\n",
       "<table border=\"1\" class=\"dataframe\">\n",
       "  <thead>\n",
       "    <tr style=\"text-align: right;\">\n",
       "      <th></th>\n",
       "      <th>Unnamed: 0</th>\n",
       "      <th>DR_NO</th>\n",
       "      <th>Date Rptd</th>\n",
       "      <th>DATE OCC</th>\n",
       "      <th>TIME OCC</th>\n",
       "      <th>AREA</th>\n",
       "      <th>AREA NAME</th>\n",
       "      <th>Rpt Dist No</th>\n",
       "      <th>Part 1-2</th>\n",
       "      <th>Crm Cd</th>\n",
       "      <th>Crm Cd Desc</th>\n",
       "      <th>Vict Age</th>\n",
       "      <th>Vict Sex</th>\n",
       "      <th>Vict Descent</th>\n",
       "      <th>Premis Cd</th>\n",
       "      <th>Premis Desc</th>\n",
       "      <th>Weapon Used Cd</th>\n",
       "      <th>Weapon Desc</th>\n",
       "      <th>Status</th>\n",
       "      <th>Status Desc</th>\n",
       "      <th>Crm Cd 1</th>\n",
       "      <th>Crm Cd 2</th>\n",
       "      <th>Crm Cd 3</th>\n",
       "      <th>Crm Cd 4</th>\n",
       "      <th>LOCATION</th>\n",
       "    </tr>\n",
       "  </thead>\n",
       "  <tbody>\n",
       "    <tr>\n",
       "      <th>0</th>\n",
       "      <td>0</td>\n",
       "      <td>1307355</td>\n",
       "      <td>02/20/2010 12:00:00 AM</td>\n",
       "      <td>02/20/2010 12:00:00 AM</td>\n",
       "      <td>1350</td>\n",
       "      <td>13</td>\n",
       "      <td>Newton</td>\n",
       "      <td>1385</td>\n",
       "      <td>2</td>\n",
       "      <td>900</td>\n",
       "      <td>VIOLATION OF COURT ORDER</td>\n",
       "      <td>48</td>\n",
       "      <td>M</td>\n",
       "      <td>H</td>\n",
       "      <td>501.0</td>\n",
       "      <td>SINGLE FAMILY DWELLING</td>\n",
       "      <td>NaN</td>\n",
       "      <td>NaN</td>\n",
       "      <td>AA</td>\n",
       "      <td>Adult Arrest</td>\n",
       "      <td>900.0</td>\n",
       "      <td>NaN</td>\n",
       "      <td>NaN</td>\n",
       "      <td>NaN</td>\n",
       "      <td>300 E  GAGE                         AV</td>\n",
       "    </tr>\n",
       "    <tr>\n",
       "      <th>1</th>\n",
       "      <td>1</td>\n",
       "      <td>11401303</td>\n",
       "      <td>09/13/2010 12:00:00 AM</td>\n",
       "      <td>09/12/2010 12:00:00 AM</td>\n",
       "      <td>45</td>\n",
       "      <td>14</td>\n",
       "      <td>Pacific</td>\n",
       "      <td>1485</td>\n",
       "      <td>2</td>\n",
       "      <td>740</td>\n",
       "      <td>VANDALISM - FELONY ($400 &amp; OVER, ALL CHURCH VA...</td>\n",
       "      <td>0</td>\n",
       "      <td>M</td>\n",
       "      <td>W</td>\n",
       "      <td>101.0</td>\n",
       "      <td>STREET</td>\n",
       "      <td>NaN</td>\n",
       "      <td>NaN</td>\n",
       "      <td>IC</td>\n",
       "      <td>Invest Cont</td>\n",
       "      <td>740.0</td>\n",
       "      <td>NaN</td>\n",
       "      <td>NaN</td>\n",
       "      <td>NaN</td>\n",
       "      <td>SEPULVEDA                    BL</td>\n",
       "    </tr>\n",
       "    <tr>\n",
       "      <th>2</th>\n",
       "      <td>2</td>\n",
       "      <td>70309629</td>\n",
       "      <td>08/09/2010 12:00:00 AM</td>\n",
       "      <td>08/09/2010 12:00:00 AM</td>\n",
       "      <td>1515</td>\n",
       "      <td>13</td>\n",
       "      <td>Newton</td>\n",
       "      <td>1324</td>\n",
       "      <td>2</td>\n",
       "      <td>946</td>\n",
       "      <td>OTHER MISCELLANEOUS CRIME</td>\n",
       "      <td>0</td>\n",
       "      <td>M</td>\n",
       "      <td>H</td>\n",
       "      <td>103.0</td>\n",
       "      <td>ALLEY</td>\n",
       "      <td>NaN</td>\n",
       "      <td>NaN</td>\n",
       "      <td>IC</td>\n",
       "      <td>Invest Cont</td>\n",
       "      <td>946.0</td>\n",
       "      <td>NaN</td>\n",
       "      <td>NaN</td>\n",
       "      <td>NaN</td>\n",
       "      <td>1300 E  21ST                         ST</td>\n",
       "    </tr>\n",
       "    <tr>\n",
       "      <th>3</th>\n",
       "      <td>3</td>\n",
       "      <td>90631215</td>\n",
       "      <td>01/05/2010 12:00:00 AM</td>\n",
       "      <td>01/05/2010 12:00:00 AM</td>\n",
       "      <td>150</td>\n",
       "      <td>6</td>\n",
       "      <td>Hollywood</td>\n",
       "      <td>646</td>\n",
       "      <td>2</td>\n",
       "      <td>900</td>\n",
       "      <td>VIOLATION OF COURT ORDER</td>\n",
       "      <td>47</td>\n",
       "      <td>F</td>\n",
       "      <td>W</td>\n",
       "      <td>101.0</td>\n",
       "      <td>STREET</td>\n",
       "      <td>102.0</td>\n",
       "      <td>HAND GUN</td>\n",
       "      <td>IC</td>\n",
       "      <td>Invest Cont</td>\n",
       "      <td>900.0</td>\n",
       "      <td>998.0</td>\n",
       "      <td>NaN</td>\n",
       "      <td>NaN</td>\n",
       "      <td>CAHUENGA                     BL</td>\n",
       "    </tr>\n",
       "    <tr>\n",
       "      <th>4</th>\n",
       "      <td>4</td>\n",
       "      <td>100100501</td>\n",
       "      <td>01/03/2010 12:00:00 AM</td>\n",
       "      <td>01/02/2010 12:00:00 AM</td>\n",
       "      <td>2100</td>\n",
       "      <td>1</td>\n",
       "      <td>Central</td>\n",
       "      <td>176</td>\n",
       "      <td>1</td>\n",
       "      <td>122</td>\n",
       "      <td>RAPE, ATTEMPTED</td>\n",
       "      <td>47</td>\n",
       "      <td>F</td>\n",
       "      <td>H</td>\n",
       "      <td>103.0</td>\n",
       "      <td>ALLEY</td>\n",
       "      <td>400.0</td>\n",
       "      <td>STRONG-ARM (HANDS, FIST, FEET OR BODILY FORCE)</td>\n",
       "      <td>IC</td>\n",
       "      <td>Invest Cont</td>\n",
       "      <td>122.0</td>\n",
       "      <td>NaN</td>\n",
       "      <td>NaN</td>\n",
       "      <td>NaN</td>\n",
       "      <td>8TH                          ST</td>\n",
       "    </tr>\n",
       "  </tbody>\n",
       "</table>\n",
       "</div>"
      ],
      "text/plain": [
       "   Unnamed: 0      DR_NO               Date Rptd                DATE OCC  \\\n",
       "0           0    1307355  02/20/2010 12:00:00 AM  02/20/2010 12:00:00 AM   \n",
       "1           1   11401303  09/13/2010 12:00:00 AM  09/12/2010 12:00:00 AM   \n",
       "2           2   70309629  08/09/2010 12:00:00 AM  08/09/2010 12:00:00 AM   \n",
       "3           3   90631215  01/05/2010 12:00:00 AM  01/05/2010 12:00:00 AM   \n",
       "4           4  100100501  01/03/2010 12:00:00 AM  01/02/2010 12:00:00 AM   \n",
       "\n",
       "   TIME OCC  AREA   AREA NAME  Rpt Dist No  Part 1-2  Crm Cd  \\\n",
       "0      1350     13     Newton         1385         2     900   \n",
       "1        45     14    Pacific         1485         2     740   \n",
       "2      1515     13     Newton         1324         2     946   \n",
       "3       150      6  Hollywood          646         2     900   \n",
       "4      2100      1    Central          176         1     122   \n",
       "\n",
       "                                         Crm Cd Desc  Vict Age Vict Sex  \\\n",
       "0                           VIOLATION OF COURT ORDER        48        M   \n",
       "1  VANDALISM - FELONY ($400 & OVER, ALL CHURCH VA...         0        M   \n",
       "2                          OTHER MISCELLANEOUS CRIME         0        M   \n",
       "3                           VIOLATION OF COURT ORDER        47        F   \n",
       "4                                    RAPE, ATTEMPTED        47        F   \n",
       "\n",
       "  Vict Descent  Premis Cd             Premis Desc  Weapon Used Cd  \\\n",
       "0            H      501.0  SINGLE FAMILY DWELLING             NaN   \n",
       "1            W      101.0                  STREET             NaN   \n",
       "2            H      103.0                   ALLEY             NaN   \n",
       "3            W      101.0                  STREET           102.0   \n",
       "4            H      103.0                   ALLEY           400.0   \n",
       "\n",
       "                                      Weapon Desc Status   Status Desc  \\\n",
       "0                                             NaN     AA  Adult Arrest   \n",
       "1                                             NaN     IC   Invest Cont   \n",
       "2                                             NaN     IC   Invest Cont   \n",
       "3                                        HAND GUN     IC   Invest Cont   \n",
       "4  STRONG-ARM (HANDS, FIST, FEET OR BODILY FORCE)     IC   Invest Cont   \n",
       "\n",
       "   Crm Cd 1  Crm Cd 2  Crm Cd 3  Crm Cd 4  \\\n",
       "0     900.0       NaN       NaN       NaN   \n",
       "1     740.0       NaN       NaN       NaN   \n",
       "2     946.0       NaN       NaN       NaN   \n",
       "3     900.0     998.0       NaN       NaN   \n",
       "4     122.0       NaN       NaN       NaN   \n",
       "\n",
       "                                  LOCATION  \n",
       "0   300 E  GAGE                         AV  \n",
       "1          SEPULVEDA                    BL  \n",
       "2  1300 E  21ST                         ST  \n",
       "3          CAHUENGA                     BL  \n",
       "4          8TH                          ST  "
      ]
     },
     "execution_count": 15,
     "metadata": {},
     "output_type": "execute_result"
    }
   ],
   "source": [
    "# Inspecting the dataframe visually\n",
    "data_crime_2019.head()"
   ]
  },
  {
   "cell_type": "code",
   "execution_count": 16,
   "metadata": {},
   "outputs": [
    {
     "data": {
      "text/plain": [
       "<Axes: >"
      ]
     },
     "execution_count": 16,
     "metadata": {},
     "output_type": "execute_result"
    },
    {
     "data": {
      "image/png": "[encoded data removed]",
      "text/plain": [
       "<Figure size 2500x1000 with 2 Axes>"
      ]
     },
     "metadata": {},
     "output_type": "display_data"
    }
   ],
   "source": [
    "#visualize missing data on the dataframe \n",
    "msno.matrix(data_crime_2019);"
   ]
  },
  {
   "cell_type": "code",
   "execution_count": 17,
   "metadata": {},
   "outputs": [
    {
     "data": {
      "text/html": [
       "<div>\n",
       "<style scoped>\n",
       "    .dataframe tbody tr th:only-of-type {\n",
       "        vertical-align: middle;\n",
       "    }\n",
       "\n",
       "    .dataframe tbody tr th {\n",
       "        vertical-align: top;\n",
       "    }\n",
       "\n",
       "    .dataframe thead th {\n",
       "        text-align: right;\n",
       "    }\n",
       "</style>\n",
       "<table border=\"1\" class=\"dataframe\">\n",
       "  <thead>\n",
       "    <tr style=\"text-align: right;\">\n",
       "      <th></th>\n",
       "      <th>dr_no</th>\n",
       "      <th>date_rptd</th>\n",
       "      <th>date_occ</th>\n",
       "      <th>time_occ</th>\n",
       "      <th>area</th>\n",
       "      <th>area_name</th>\n",
       "      <th>rpt_dist_no</th>\n",
       "      <th>part_1_2</th>\n",
       "      <th>crm_cd</th>\n",
       "      <th>crm_cd_desc</th>\n",
       "      <th>vict_age</th>\n",
       "      <th>vict_sex</th>\n",
       "      <th>vict_descent</th>\n",
       "      <th>premis_cd</th>\n",
       "      <th>premis_desc</th>\n",
       "      <th>status</th>\n",
       "      <th>status_desc</th>\n",
       "      <th>crm_cd_1</th>\n",
       "      <th>crm_cd_2</th>\n",
       "      <th>location</th>\n",
       "      <th>lat</th>\n",
       "      <th>lon</th>\n",
       "      <th>mocodes</th>\n",
       "      <th>weapon_used_cd</th>\n",
       "      <th>weapon_desc</th>\n",
       "      <th>cross_street</th>\n",
       "      <th>crm_cd_3</th>\n",
       "    </tr>\n",
       "  </thead>\n",
       "  <tbody>\n",
       "    <tr>\n",
       "      <th>0</th>\n",
       "      <td>190326475</td>\n",
       "      <td>2020-03-01T00:00:00.000</td>\n",
       "      <td>2020-03-01T00:00:00.000</td>\n",
       "      <td>2130</td>\n",
       "      <td>7</td>\n",
       "      <td>Wilshire</td>\n",
       "      <td>784</td>\n",
       "      <td>1</td>\n",
       "      <td>510</td>\n",
       "      <td>VEHICLE - STOLEN</td>\n",
       "      <td>0</td>\n",
       "      <td>M</td>\n",
       "      <td>O</td>\n",
       "      <td>101</td>\n",
       "      <td>STREET</td>\n",
       "      <td>AA</td>\n",
       "      <td>Adult Arrest</td>\n",
       "      <td>510</td>\n",
       "      <td>998.0</td>\n",
       "      <td>1900 S  LONGWOOD                     AV</td>\n",
       "      <td>34.0375</td>\n",
       "      <td>-118.3506</td>\n",
       "      <td>NaN</td>\n",
       "      <td>NaN</td>\n",
       "      <td>NaN</td>\n",
       "      <td>NaN</td>\n",
       "      <td>NaN</td>\n",
       "    </tr>\n",
       "    <tr>\n",
       "      <th>1</th>\n",
       "      <td>200106753</td>\n",
       "      <td>2020-02-09T00:00:00.000</td>\n",
       "      <td>2020-02-08T00:00:00.000</td>\n",
       "      <td>1800</td>\n",
       "      <td>1</td>\n",
       "      <td>Central</td>\n",
       "      <td>182</td>\n",
       "      <td>1</td>\n",
       "      <td>330</td>\n",
       "      <td>BURGLARY FROM VEHICLE</td>\n",
       "      <td>47</td>\n",
       "      <td>M</td>\n",
       "      <td>O</td>\n",
       "      <td>128</td>\n",
       "      <td>BUS STOP/LAYOVER (ALSO QUERY 124)</td>\n",
       "      <td>IC</td>\n",
       "      <td>Invest Cont</td>\n",
       "      <td>330</td>\n",
       "      <td>998.0</td>\n",
       "      <td>1000 S  FLOWER                       ST</td>\n",
       "      <td>34.0444</td>\n",
       "      <td>-118.2628</td>\n",
       "      <td>1822 1402 0344</td>\n",
       "      <td>NaN</td>\n",
       "      <td>NaN</td>\n",
       "      <td>NaN</td>\n",
       "      <td>NaN</td>\n",
       "    </tr>\n",
       "    <tr>\n",
       "      <th>2</th>\n",
       "      <td>200320258</td>\n",
       "      <td>2020-11-11T00:00:00.000</td>\n",
       "      <td>2020-11-04T00:00:00.000</td>\n",
       "      <td>1700</td>\n",
       "      <td>3</td>\n",
       "      <td>Southwest</td>\n",
       "      <td>356</td>\n",
       "      <td>1</td>\n",
       "      <td>480</td>\n",
       "      <td>BIKE - STOLEN</td>\n",
       "      <td>19</td>\n",
       "      <td>X</td>\n",
       "      <td>X</td>\n",
       "      <td>502</td>\n",
       "      <td>MULTI-UNIT DWELLING (APARTMENT, DUPLEX, ETC)</td>\n",
       "      <td>IC</td>\n",
       "      <td>Invest Cont</td>\n",
       "      <td>480</td>\n",
       "      <td>NaN</td>\n",
       "      <td>1400 W  37TH                         ST</td>\n",
       "      <td>34.0210</td>\n",
       "      <td>-118.3002</td>\n",
       "      <td>0344 1251</td>\n",
       "      <td>NaN</td>\n",
       "      <td>NaN</td>\n",
       "      <td>NaN</td>\n",
       "      <td>NaN</td>\n",
       "    </tr>\n",
       "    <tr>\n",
       "      <th>3</th>\n",
       "      <td>200907217</td>\n",
       "      <td>2023-05-10T00:00:00.000</td>\n",
       "      <td>2020-03-10T00:00:00.000</td>\n",
       "      <td>2037</td>\n",
       "      <td>9</td>\n",
       "      <td>Van Nuys</td>\n",
       "      <td>964</td>\n",
       "      <td>1</td>\n",
       "      <td>343</td>\n",
       "      <td>SHOPLIFTING-GRAND THEFT ($950.01 &amp; OVER)</td>\n",
       "      <td>19</td>\n",
       "      <td>M</td>\n",
       "      <td>O</td>\n",
       "      <td>405</td>\n",
       "      <td>CLOTHING STORE</td>\n",
       "      <td>IC</td>\n",
       "      <td>Invest Cont</td>\n",
       "      <td>343</td>\n",
       "      <td>NaN</td>\n",
       "      <td>14000    RIVERSIDE                    DR</td>\n",
       "      <td>34.1576</td>\n",
       "      <td>-118.4387</td>\n",
       "      <td>0325 1501</td>\n",
       "      <td>NaN</td>\n",
       "      <td>NaN</td>\n",
       "      <td>NaN</td>\n",
       "      <td>NaN</td>\n",
       "    </tr>\n",
       "    <tr>\n",
       "      <th>4</th>\n",
       "      <td>220614831</td>\n",
       "      <td>2022-08-18T00:00:00.000</td>\n",
       "      <td>2020-08-17T00:00:00.000</td>\n",
       "      <td>1200</td>\n",
       "      <td>6</td>\n",
       "      <td>Hollywood</td>\n",
       "      <td>666</td>\n",
       "      <td>2</td>\n",
       "      <td>354</td>\n",
       "      <td>THEFT OF IDENTITY</td>\n",
       "      <td>28</td>\n",
       "      <td>M</td>\n",
       "      <td>H</td>\n",
       "      <td>102</td>\n",
       "      <td>SIDEWALK</td>\n",
       "      <td>IC</td>\n",
       "      <td>Invest Cont</td>\n",
       "      <td>354</td>\n",
       "      <td>NaN</td>\n",
       "      <td>1900    TRANSIENT</td>\n",
       "      <td>34.0944</td>\n",
       "      <td>-118.3277</td>\n",
       "      <td>1822 1501 0930 2004</td>\n",
       "      <td>NaN</td>\n",
       "      <td>NaN</td>\n",
       "      <td>NaN</td>\n",
       "      <td>NaN</td>\n",
       "    </tr>\n",
       "  </tbody>\n",
       "</table>\n",
       "</div>"
      ],
      "text/plain": [
       "       dr_no                date_rptd                 date_occ  time_occ  \\\n",
       "0  190326475  2020-03-01T00:00:00.000  2020-03-01T00:00:00.000      2130   \n",
       "1  200106753  2020-02-09T00:00:00.000  2020-02-08T00:00:00.000      1800   \n",
       "2  200320258  2020-11-11T00:00:00.000  2020-11-04T00:00:00.000      1700   \n",
       "3  200907217  2023-05-10T00:00:00.000  2020-03-10T00:00:00.000      2037   \n",
       "4  220614831  2022-08-18T00:00:00.000  2020-08-17T00:00:00.000      1200   \n",
       "\n",
       "   area  area_name  rpt_dist_no  part_1_2  crm_cd  \\\n",
       "0     7   Wilshire          784         1     510   \n",
       "1     1    Central          182         1     330   \n",
       "2     3  Southwest          356         1     480   \n",
       "3     9   Van Nuys          964         1     343   \n",
       "4     6  Hollywood          666         2     354   \n",
       "\n",
       "                                crm_cd_desc  vict_age vict_sex vict_descent  \\\n",
       "0                          VEHICLE - STOLEN         0        M            O   \n",
       "1                     BURGLARY FROM VEHICLE        47        M            O   \n",
       "2                             BIKE - STOLEN        19        X            X   \n",
       "3  SHOPLIFTING-GRAND THEFT ($950.01 & OVER)        19        M            O   \n",
       "4                         THEFT OF IDENTITY        28        M            H   \n",
       "\n",
       "   premis_cd                                   premis_desc status  \\\n",
       "0        101                                        STREET     AA   \n",
       "1        128             BUS STOP/LAYOVER (ALSO QUERY 124)     IC   \n",
       "2        502  MULTI-UNIT DWELLING (APARTMENT, DUPLEX, ETC)     IC   \n",
       "3        405                                CLOTHING STORE     IC   \n",
       "4        102                                      SIDEWALK     IC   \n",
       "\n",
       "    status_desc  crm_cd_1  crm_cd_2                                  location  \\\n",
       "0  Adult Arrest       510     998.0   1900 S  LONGWOOD                     AV   \n",
       "1   Invest Cont       330     998.0   1000 S  FLOWER                       ST   \n",
       "2   Invest Cont       480       NaN   1400 W  37TH                         ST   \n",
       "3   Invest Cont       343       NaN  14000    RIVERSIDE                    DR   \n",
       "4   Invest Cont       354       NaN                         1900    TRANSIENT   \n",
       "\n",
       "       lat       lon              mocodes  weapon_used_cd weapon_desc  \\\n",
       "0  34.0375 -118.3506                  NaN             NaN         NaN   \n",
       "1  34.0444 -118.2628       1822 1402 0344             NaN         NaN   \n",
       "2  34.0210 -118.3002            0344 1251             NaN         NaN   \n",
       "3  34.1576 -118.4387            0325 1501             NaN         NaN   \n",
       "4  34.0944 -118.3277  1822 1501 0930 2004             NaN         NaN   \n",
       "\n",
       "  cross_street  crm_cd_3  \n",
       "0          NaN       NaN  \n",
       "1          NaN       NaN  \n",
       "2          NaN       NaN  \n",
       "3          NaN       NaN  \n",
       "4          NaN       NaN  "
      ]
     },
     "execution_count": 17,
     "metadata": {},
     "output_type": "execute_result"
    }
   ],
   "source": [
    "#Inspecting the dataframe visually\n",
    "data_crime_2024.head()"
   ]
  },
  {
   "cell_type": "code",
   "execution_count": 19,
   "metadata": {},
   "outputs": [
    {
     "data": {
      "image/png": "[encoded data removed]",
      "text/plain": [
       "<Figure size 2500x1000 with 2 Axes>"
      ]
     },
     "metadata": {},
     "output_type": "display_data"
    }
   ],
   "source": [
    "##visualize missing data on the dataframe\n",
    "msno.matrix(data_crime_2024);"
   ]
  },
  {
   "cell_type": "markdown",
   "metadata": {},
   "source": [
    "#### Inspecting the dataframe programmatically"
   ]
  },
  {
   "cell_type": "code",
   "execution_count": 20,
   "metadata": {
    "id": "-qfcocStzsKg"
   },
   "outputs": [
    {
     "name": "stdout",
     "output_type": "stream",
     "text": [
      "(2122469, 25)\n"
     ]
    },
    {
     "data": {
      "text/plain": [
       "Unnamed: 0              0\n",
       "DR_NO                   0\n",
       "Date Rptd               0\n",
       "DATE OCC                0\n",
       "TIME OCC                0\n",
       "AREA                    0\n",
       "AREA NAME               0\n",
       "Rpt Dist No             0\n",
       "Part 1-2                0\n",
       "Crm Cd                  0\n",
       "Crm Cd Desc             0\n",
       "Vict Age                0\n",
       "Vict Sex           196814\n",
       "Vict Descent       196860\n",
       "Premis Cd              53\n",
       "Premis Desc           187\n",
       "Weapon Used Cd    1408915\n",
       "Weapon Desc       1408916\n",
       "Status                  3\n",
       "Status Desc             0\n",
       "Crm Cd 1               10\n",
       "Crm Cd 2          1981221\n",
       "Crm Cd 3          2118909\n",
       "Crm Cd 4          2122364\n",
       "LOCATION                0\n",
       "dtype: int64"
      ]
     },
     "execution_count": 20,
     "metadata": {},
     "output_type": "execute_result"
    }
   ],
   "source": [
    "#FILL IN - Inspecting the dataframe programmatically\n",
    "print(data_crime_2019.shape)\n",
    "data_crime_2019.isnull().sum()"
   ]
  },
  {
   "cell_type": "code",
   "execution_count": 21,
   "metadata": {},
   "outputs": [
    {
     "name": "stdout",
     "output_type": "stream",
     "text": [
      "(1000, 27)\n"
     ]
    },
    {
     "data": {
      "text/plain": [
       "dr_no               0\n",
       "date_rptd           0\n",
       "date_occ            0\n",
       "time_occ            0\n",
       "area                0\n",
       "area_name           0\n",
       "rpt_dist_no         0\n",
       "part_1_2            0\n",
       "crm_cd              0\n",
       "crm_cd_desc         0\n",
       "vict_age            0\n",
       "vict_sex           58\n",
       "vict_descent       58\n",
       "premis_cd           0\n",
       "premis_desc         0\n",
       "status              0\n",
       "status_desc         0\n",
       "crm_cd_1            0\n",
       "crm_cd_2          939\n",
       "location            0\n",
       "lat                 0\n",
       "lon                 0\n",
       "mocodes            92\n",
       "weapon_used_cd    793\n",
       "weapon_desc       793\n",
       "cross_street      953\n",
       "crm_cd_3          999\n",
       "dtype: int64"
      ]
     },
     "execution_count": 21,
     "metadata": {},
     "output_type": "execute_result"
    }
   ],
   "source": [
    "print(data_crime_2024.shape)\n",
    "data_crime_2024.isnull().sum()"
   ]
  },
  {
   "cell_type": "markdown",
   "metadata": {},
   "source": [
    "\n",
    "\n",
    "\n",
    "### Issue and Justification:\n",
    "> #### Completeness Issue:\n",
    "There are significant completeness issues observed in both datasets.\n",
    "\n",
    "> #### Quality Issue - data_crime_2019 dataset:\n",
    "Several columns, including 'Crm Cd 2', 'Crm Cd 3', and 'Crm Cd 4', have a high proportion of missing values. Additionally, 'vict_sex', 'vict_descent', 'weapon_used_cd', and 'weapon_desc' contain more than 100,000 missing values each.\n",
    "\n",
    "> #### Quality Issue - data_crime_2024 dataset:\n",
    "Similar to the 2019 dataset, 'Crm Cd 2' and 'cross_street' exhibit a substantial number of missing values. Furthermore, 'weapon_used_cd' and 'weapon_desc' have missing values in half of the columns.\n",
    "\n",
    "> #### These missing values may impact the integrity and reliability of the analysis conducted on the datasets."
   ]
  },
  {
   "cell_type": "markdown",
   "metadata": {
    "id": "8Be77N4I1AmE"
   },
   "source": [
    "### Quality Issue 2: "
   ]
  },
  {
   "cell_type": "code",
   "execution_count": 22,
   "metadata": {
    "id": "iMhHyiyLM2I3"
   },
   "outputs": [
    {
     "data": {
      "text/html": [
       "<div>\n",
       "<style scoped>\n",
       "    .dataframe tbody tr th:only-of-type {\n",
       "        vertical-align: middle;\n",
       "    }\n",
       "\n",
       "    .dataframe tbody tr th {\n",
       "        vertical-align: top;\n",
       "    }\n",
       "\n",
       "    .dataframe thead th {\n",
       "        text-align: right;\n",
       "    }\n",
       "</style>\n",
       "<table border=\"1\" class=\"dataframe\">\n",
       "  <thead>\n",
       "    <tr style=\"text-align: right;\">\n",
       "      <th></th>\n",
       "      <th>Unnamed: 0</th>\n",
       "      <th>DR_NO</th>\n",
       "      <th>Date Rptd</th>\n",
       "      <th>DATE OCC</th>\n",
       "      <th>TIME OCC</th>\n",
       "      <th>AREA</th>\n",
       "      <th>AREA NAME</th>\n",
       "      <th>Rpt Dist No</th>\n",
       "      <th>Part 1-2</th>\n",
       "      <th>Crm Cd</th>\n",
       "      <th>Crm Cd Desc</th>\n",
       "      <th>Vict Age</th>\n",
       "      <th>Vict Sex</th>\n",
       "      <th>Vict Descent</th>\n",
       "      <th>Premis Cd</th>\n",
       "      <th>Premis Desc</th>\n",
       "      <th>Weapon Used Cd</th>\n",
       "      <th>Weapon Desc</th>\n",
       "      <th>Status</th>\n",
       "      <th>Status Desc</th>\n",
       "      <th>Crm Cd 1</th>\n",
       "      <th>Crm Cd 2</th>\n",
       "      <th>Crm Cd 3</th>\n",
       "      <th>Crm Cd 4</th>\n",
       "      <th>LOCATION</th>\n",
       "    </tr>\n",
       "  </thead>\n",
       "  <tbody>\n",
       "    <tr>\n",
       "      <th>1</th>\n",
       "      <td>1</td>\n",
       "      <td>11401303</td>\n",
       "      <td>09/13/2010 12:00:00 AM</td>\n",
       "      <td>09/12/2010 12:00:00 AM</td>\n",
       "      <td>45</td>\n",
       "      <td>14</td>\n",
       "      <td>Pacific</td>\n",
       "      <td>1485</td>\n",
       "      <td>2</td>\n",
       "      <td>740</td>\n",
       "      <td>VANDALISM - FELONY ($400 &amp; OVER, ALL CHURCH VA...</td>\n",
       "      <td>0</td>\n",
       "      <td>M</td>\n",
       "      <td>W</td>\n",
       "      <td>101.0</td>\n",
       "      <td>STREET</td>\n",
       "      <td>NaN</td>\n",
       "      <td>NaN</td>\n",
       "      <td>IC</td>\n",
       "      <td>Invest Cont</td>\n",
       "      <td>740.0</td>\n",
       "      <td>NaN</td>\n",
       "      <td>NaN</td>\n",
       "      <td>NaN</td>\n",
       "      <td>SEPULVEDA                    BL</td>\n",
       "    </tr>\n",
       "    <tr>\n",
       "      <th>2</th>\n",
       "      <td>2</td>\n",
       "      <td>70309629</td>\n",
       "      <td>08/09/2010 12:00:00 AM</td>\n",
       "      <td>08/09/2010 12:00:00 AM</td>\n",
       "      <td>1515</td>\n",
       "      <td>13</td>\n",
       "      <td>Newton</td>\n",
       "      <td>1324</td>\n",
       "      <td>2</td>\n",
       "      <td>946</td>\n",
       "      <td>OTHER MISCELLANEOUS CRIME</td>\n",
       "      <td>0</td>\n",
       "      <td>M</td>\n",
       "      <td>H</td>\n",
       "      <td>103.0</td>\n",
       "      <td>ALLEY</td>\n",
       "      <td>NaN</td>\n",
       "      <td>NaN</td>\n",
       "      <td>IC</td>\n",
       "      <td>Invest Cont</td>\n",
       "      <td>946.0</td>\n",
       "      <td>NaN</td>\n",
       "      <td>NaN</td>\n",
       "      <td>NaN</td>\n",
       "      <td>1300 E  21ST                         ST</td>\n",
       "    </tr>\n",
       "    <tr>\n",
       "      <th>37</th>\n",
       "      <td>37</td>\n",
       "      <td>100100616</td>\n",
       "      <td>02/11/2010 12:00:00 AM</td>\n",
       "      <td>02/11/2010 12:00:00 AM</td>\n",
       "      <td>1515</td>\n",
       "      <td>1</td>\n",
       "      <td>Central</td>\n",
       "      <td>192</td>\n",
       "      <td>1</td>\n",
       "      <td>341</td>\n",
       "      <td>THEFT-GRAND ($950.01 &amp; OVER)EXCPT,GUNS,FOWL,LI...</td>\n",
       "      <td>0</td>\n",
       "      <td>M</td>\n",
       "      <td>H</td>\n",
       "      <td>102.0</td>\n",
       "      <td>SIDEWALK</td>\n",
       "      <td>NaN</td>\n",
       "      <td>NaN</td>\n",
       "      <td>AA</td>\n",
       "      <td>Adult Arrest</td>\n",
       "      <td>341.0</td>\n",
       "      <td>NaN</td>\n",
       "      <td>NaN</td>\n",
       "      <td>NaN</td>\n",
       "      <td>PICO</td>\n",
       "    </tr>\n",
       "    <tr>\n",
       "      <th>46</th>\n",
       "      <td>46</td>\n",
       "      <td>100100638</td>\n",
       "      <td>02/20/2010 12:00:00 AM</td>\n",
       "      <td>02/20/2010 12:00:00 AM</td>\n",
       "      <td>100</td>\n",
       "      <td>1</td>\n",
       "      <td>Central</td>\n",
       "      <td>164</td>\n",
       "      <td>2</td>\n",
       "      <td>740</td>\n",
       "      <td>VANDALISM - FELONY ($400 &amp; OVER, ALL CHURCH VA...</td>\n",
       "      <td>0</td>\n",
       "      <td>M</td>\n",
       "      <td>O</td>\n",
       "      <td>101.0</td>\n",
       "      <td>STREET</td>\n",
       "      <td>NaN</td>\n",
       "      <td>NaN</td>\n",
       "      <td>AA</td>\n",
       "      <td>Adult Arrest</td>\n",
       "      <td>740.0</td>\n",
       "      <td>NaN</td>\n",
       "      <td>NaN</td>\n",
       "      <td>NaN</td>\n",
       "      <td>100 W  7TH                          ST</td>\n",
       "    </tr>\n",
       "    <tr>\n",
       "      <th>51</th>\n",
       "      <td>51</td>\n",
       "      <td>100100654</td>\n",
       "      <td>02/27/2010 12:00:00 AM</td>\n",
       "      <td>02/27/2010 12:00:00 AM</td>\n",
       "      <td>1955</td>\n",
       "      <td>1</td>\n",
       "      <td>Central</td>\n",
       "      <td>174</td>\n",
       "      <td>2</td>\n",
       "      <td>946</td>\n",
       "      <td>OTHER MISCELLANEOUS CRIME</td>\n",
       "      <td>0</td>\n",
       "      <td>M</td>\n",
       "      <td>W</td>\n",
       "      <td>101.0</td>\n",
       "      <td>STREET</td>\n",
       "      <td>NaN</td>\n",
       "      <td>NaN</td>\n",
       "      <td>AA</td>\n",
       "      <td>Adult Arrest</td>\n",
       "      <td>946.0</td>\n",
       "      <td>NaN</td>\n",
       "      <td>NaN</td>\n",
       "      <td>NaN</td>\n",
       "      <td>W  7TH                          ST</td>\n",
       "    </tr>\n",
       "  </tbody>\n",
       "</table>\n",
       "</div>"
      ],
      "text/plain": [
       "    Unnamed: 0      DR_NO               Date Rptd                DATE OCC  \\\n",
       "1            1   11401303  09/13/2010 12:00:00 AM  09/12/2010 12:00:00 AM   \n",
       "2            2   70309629  08/09/2010 12:00:00 AM  08/09/2010 12:00:00 AM   \n",
       "37          37  100100616  02/11/2010 12:00:00 AM  02/11/2010 12:00:00 AM   \n",
       "46          46  100100638  02/20/2010 12:00:00 AM  02/20/2010 12:00:00 AM   \n",
       "51          51  100100654  02/27/2010 12:00:00 AM  02/27/2010 12:00:00 AM   \n",
       "\n",
       "    TIME OCC  AREA  AREA NAME  Rpt Dist No  Part 1-2  Crm Cd  \\\n",
       "1         45     14   Pacific         1485         2     740   \n",
       "2       1515     13    Newton         1324         2     946   \n",
       "37      1515      1   Central          192         1     341   \n",
       "46       100      1   Central          164         2     740   \n",
       "51      1955      1   Central          174         2     946   \n",
       "\n",
       "                                          Crm Cd Desc  Vict Age Vict Sex  \\\n",
       "1   VANDALISM - FELONY ($400 & OVER, ALL CHURCH VA...         0        M   \n",
       "2                           OTHER MISCELLANEOUS CRIME         0        M   \n",
       "37  THEFT-GRAND ($950.01 & OVER)EXCPT,GUNS,FOWL,LI...         0        M   \n",
       "46  VANDALISM - FELONY ($400 & OVER, ALL CHURCH VA...         0        M   \n",
       "51                          OTHER MISCELLANEOUS CRIME         0        M   \n",
       "\n",
       "   Vict Descent  Premis Cd Premis Desc  Weapon Used Cd Weapon Desc Status  \\\n",
       "1             W      101.0      STREET             NaN         NaN     IC   \n",
       "2             H      103.0       ALLEY             NaN         NaN     IC   \n",
       "37            H      102.0    SIDEWALK             NaN         NaN     AA   \n",
       "46            O      101.0      STREET             NaN         NaN     AA   \n",
       "51            W      101.0      STREET             NaN         NaN     AA   \n",
       "\n",
       "     Status Desc  Crm Cd 1  Crm Cd 2  Crm Cd 3  Crm Cd 4  \\\n",
       "1    Invest Cont     740.0       NaN       NaN       NaN   \n",
       "2    Invest Cont     946.0       NaN       NaN       NaN   \n",
       "37  Adult Arrest     341.0       NaN       NaN       NaN   \n",
       "46  Adult Arrest     740.0       NaN       NaN       NaN   \n",
       "51  Adult Arrest     946.0       NaN       NaN       NaN   \n",
       "\n",
       "                                   LOCATION  \n",
       "1           SEPULVEDA                    BL  \n",
       "2   1300 E  21ST                         ST  \n",
       "37                                     PICO  \n",
       "46   100 W  7TH                          ST  \n",
       "51       W  7TH                          ST  "
      ]
     },
     "execution_count": 22,
     "metadata": {},
     "output_type": "execute_result"
    }
   ],
   "source": [
    "# Inspecting  Accuracy issues in the dataframe visually for data_crimes_2019\n",
    "#Apply the cleaning strategy\n",
    "data_crime_2019[data_crime_2019['Vict Age'] < 10].head()"
   ]
  },
  {
   "cell_type": "code",
   "execution_count": 23,
   "metadata": {
    "id": "bnviRCUI-bb7"
   },
   "outputs": [
    {
     "data": {
      "text/plain": [
       "373923     -12\n",
       "149348     -12\n",
       "170058     -12\n",
       "174739     -11\n",
       "250512     -11\n",
       "          ... \n",
       "19130       99\n",
       "1990497     99\n",
       "808911      99\n",
       "972066     114\n",
       "1758305    118\n",
       "Name: Vict Age, Length: 2122469, dtype: int64"
      ]
     },
     "execution_count": 23,
     "metadata": {},
     "output_type": "execute_result"
    }
   ],
   "source": [
    "# Inspecting the dataframe programmatically for data_crimes_2019\n",
    "data_crime_2019['Vict Age'].sort_values()"
   ]
  },
  {
   "cell_type": "code",
   "execution_count": 24,
   "metadata": {},
   "outputs": [
    {
     "data": {
      "text/html": [
       "<div>\n",
       "<style scoped>\n",
       "    .dataframe tbody tr th:only-of-type {\n",
       "        vertical-align: middle;\n",
       "    }\n",
       "\n",
       "    .dataframe tbody tr th {\n",
       "        vertical-align: top;\n",
       "    }\n",
       "\n",
       "    .dataframe thead th {\n",
       "        text-align: right;\n",
       "    }\n",
       "</style>\n",
       "<table border=\"1\" class=\"dataframe\">\n",
       "  <thead>\n",
       "    <tr style=\"text-align: right;\">\n",
       "      <th></th>\n",
       "      <th>dr_no</th>\n",
       "      <th>date_rptd</th>\n",
       "      <th>date_occ</th>\n",
       "      <th>time_occ</th>\n",
       "      <th>area</th>\n",
       "      <th>area_name</th>\n",
       "      <th>rpt_dist_no</th>\n",
       "      <th>part_1_2</th>\n",
       "      <th>crm_cd</th>\n",
       "      <th>crm_cd_desc</th>\n",
       "      <th>vict_age</th>\n",
       "      <th>vict_sex</th>\n",
       "      <th>vict_descent</th>\n",
       "      <th>premis_cd</th>\n",
       "      <th>premis_desc</th>\n",
       "      <th>status</th>\n",
       "      <th>status_desc</th>\n",
       "      <th>crm_cd_1</th>\n",
       "      <th>crm_cd_2</th>\n",
       "      <th>location</th>\n",
       "      <th>lat</th>\n",
       "      <th>lon</th>\n",
       "      <th>mocodes</th>\n",
       "      <th>weapon_used_cd</th>\n",
       "      <th>weapon_desc</th>\n",
       "      <th>cross_street</th>\n",
       "      <th>crm_cd_3</th>\n",
       "    </tr>\n",
       "  </thead>\n",
       "  <tbody>\n",
       "    <tr>\n",
       "      <th>0</th>\n",
       "      <td>190326475</td>\n",
       "      <td>2020-03-01T00:00:00.000</td>\n",
       "      <td>2020-03-01T00:00:00.000</td>\n",
       "      <td>2130</td>\n",
       "      <td>7</td>\n",
       "      <td>Wilshire</td>\n",
       "      <td>784</td>\n",
       "      <td>1</td>\n",
       "      <td>510</td>\n",
       "      <td>VEHICLE - STOLEN</td>\n",
       "      <td>0</td>\n",
       "      <td>M</td>\n",
       "      <td>O</td>\n",
       "      <td>101</td>\n",
       "      <td>STREET</td>\n",
       "      <td>AA</td>\n",
       "      <td>Adult Arrest</td>\n",
       "      <td>510</td>\n",
       "      <td>998.0</td>\n",
       "      <td>1900 S  LONGWOOD                     AV</td>\n",
       "      <td>34.0375</td>\n",
       "      <td>-118.3506</td>\n",
       "      <td>NaN</td>\n",
       "      <td>NaN</td>\n",
       "      <td>NaN</td>\n",
       "      <td>NaN</td>\n",
       "      <td>NaN</td>\n",
       "    </tr>\n",
       "    <tr>\n",
       "      <th>11</th>\n",
       "      <td>221908151</td>\n",
       "      <td>2022-04-12T00:00:00.000</td>\n",
       "      <td>2020-10-01T00:00:00.000</td>\n",
       "      <td>1</td>\n",
       "      <td>19</td>\n",
       "      <td>Mission</td>\n",
       "      <td>1988</td>\n",
       "      <td>1</td>\n",
       "      <td>821</td>\n",
       "      <td>SODOMY/SEXUAL CONTACT B/W PENIS OF ONE PERS TO...</td>\n",
       "      <td>8</td>\n",
       "      <td>F</td>\n",
       "      <td>H</td>\n",
       "      <td>501</td>\n",
       "      <td>SINGLE FAMILY DWELLING</td>\n",
       "      <td>IC</td>\n",
       "      <td>Invest Cont</td>\n",
       "      <td>812</td>\n",
       "      <td>821.0</td>\n",
       "      <td>13400    RANGOON                      ST</td>\n",
       "      <td>34.2285</td>\n",
       "      <td>-118.4258</td>\n",
       "      <td>0913 2024 1817 0360 1258 0507</td>\n",
       "      <td>400.0</td>\n",
       "      <td>STRONG-ARM (HANDS, FIST, FEET OR BODILY FORCE)</td>\n",
       "      <td>NaN</td>\n",
       "      <td>NaN</td>\n",
       "    </tr>\n",
       "    <tr>\n",
       "      <th>12</th>\n",
       "      <td>230204214</td>\n",
       "      <td>2023-01-05T00:00:00.000</td>\n",
       "      <td>2020-02-01T00:00:00.000</td>\n",
       "      <td>800</td>\n",
       "      <td>2</td>\n",
       "      <td>Rampart</td>\n",
       "      <td>201</td>\n",
       "      <td>2</td>\n",
       "      <td>812</td>\n",
       "      <td>CRM AGNST CHLD (13 OR UNDER) (14-15 &amp; SUSP 10 ...</td>\n",
       "      <td>7</td>\n",
       "      <td>F</td>\n",
       "      <td>W</td>\n",
       "      <td>502</td>\n",
       "      <td>MULTI-UNIT DWELLING (APARTMENT, DUPLEX, ETC)</td>\n",
       "      <td>IC</td>\n",
       "      <td>Invest Cont</td>\n",
       "      <td>812</td>\n",
       "      <td>860.0</td>\n",
       "      <td>900 N  MARIPOSA                     AV</td>\n",
       "      <td>34.0868</td>\n",
       "      <td>-118.2991</td>\n",
       "      <td>1251 1258 0913 0400 0500 0522 1817</td>\n",
       "      <td>400.0</td>\n",
       "      <td>STRONG-ARM (HANDS, FIST, FEET OR BODILY FORCE)</td>\n",
       "      <td>NaN</td>\n",
       "      <td>NaN</td>\n",
       "    </tr>\n",
       "    <tr>\n",
       "      <th>13</th>\n",
       "      <td>230409878</td>\n",
       "      <td>2023-06-19T00:00:00.000</td>\n",
       "      <td>2020-04-11T00:00:00.000</td>\n",
       "      <td>1200</td>\n",
       "      <td>4</td>\n",
       "      <td>Hollenbeck</td>\n",
       "      <td>417</td>\n",
       "      <td>2</td>\n",
       "      <td>812</td>\n",
       "      <td>CRM AGNST CHLD (13 OR UNDER) (14-15 &amp; SUSP 10 ...</td>\n",
       "      <td>8</td>\n",
       "      <td>F</td>\n",
       "      <td>H</td>\n",
       "      <td>501</td>\n",
       "      <td>SINGLE FAMILY DWELLING</td>\n",
       "      <td>IC</td>\n",
       "      <td>Invest Cont</td>\n",
       "      <td>812</td>\n",
       "      <td>860.0</td>\n",
       "      <td>4400    MOONSTONE                    DR</td>\n",
       "      <td>34.0784</td>\n",
       "      <td>-118.1936</td>\n",
       "      <td>1258 0522 0400 0551 0360 0913</td>\n",
       "      <td>400.0</td>\n",
       "      <td>STRONG-ARM (HANDS, FIST, FEET OR BODILY FORCE)</td>\n",
       "      <td>NaN</td>\n",
       "      <td>NaN</td>\n",
       "    </tr>\n",
       "    <tr>\n",
       "      <th>14</th>\n",
       "      <td>221008844</td>\n",
       "      <td>2022-05-06T00:00:00.000</td>\n",
       "      <td>2020-11-01T00:00:00.000</td>\n",
       "      <td>130</td>\n",
       "      <td>10</td>\n",
       "      <td>West Valley</td>\n",
       "      <td>1029</td>\n",
       "      <td>1</td>\n",
       "      <td>510</td>\n",
       "      <td>VEHICLE - STOLEN</td>\n",
       "      <td>0</td>\n",
       "      <td>NaN</td>\n",
       "      <td>NaN</td>\n",
       "      <td>101</td>\n",
       "      <td>STREET</td>\n",
       "      <td>IC</td>\n",
       "      <td>Invest Cont</td>\n",
       "      <td>510</td>\n",
       "      <td>NaN</td>\n",
       "      <td>VALJEAN                      ST</td>\n",
       "      <td>34.1939</td>\n",
       "      <td>-118.4859</td>\n",
       "      <td>NaN</td>\n",
       "      <td>NaN</td>\n",
       "      <td>NaN</td>\n",
       "      <td>VANOWEN                      AV</td>\n",
       "      <td>NaN</td>\n",
       "    </tr>\n",
       "  </tbody>\n",
       "</table>\n",
       "</div>"
      ],
      "text/plain": [
       "        dr_no                date_rptd                 date_occ  time_occ  \\\n",
       "0   190326475  2020-03-01T00:00:00.000  2020-03-01T00:00:00.000      2130   \n",
       "11  221908151  2022-04-12T00:00:00.000  2020-10-01T00:00:00.000         1   \n",
       "12  230204214  2023-01-05T00:00:00.000  2020-02-01T00:00:00.000       800   \n",
       "13  230409878  2023-06-19T00:00:00.000  2020-04-11T00:00:00.000      1200   \n",
       "14  221008844  2022-05-06T00:00:00.000  2020-11-01T00:00:00.000       130   \n",
       "\n",
       "    area    area_name  rpt_dist_no  part_1_2  crm_cd  \\\n",
       "0      7     Wilshire          784         1     510   \n",
       "11    19      Mission         1988         1     821   \n",
       "12     2      Rampart          201         2     812   \n",
       "13     4   Hollenbeck          417         2     812   \n",
       "14    10  West Valley         1029         1     510   \n",
       "\n",
       "                                          crm_cd_desc  vict_age vict_sex  \\\n",
       "0                                    VEHICLE - STOLEN         0        M   \n",
       "11  SODOMY/SEXUAL CONTACT B/W PENIS OF ONE PERS TO...         8        F   \n",
       "12  CRM AGNST CHLD (13 OR UNDER) (14-15 & SUSP 10 ...         7        F   \n",
       "13  CRM AGNST CHLD (13 OR UNDER) (14-15 & SUSP 10 ...         8        F   \n",
       "14                                   VEHICLE - STOLEN         0      NaN   \n",
       "\n",
       "   vict_descent  premis_cd                                   premis_desc  \\\n",
       "0             O        101                                        STREET   \n",
       "11            H        501                        SINGLE FAMILY DWELLING   \n",
       "12            W        502  MULTI-UNIT DWELLING (APARTMENT, DUPLEX, ETC)   \n",
       "13            H        501                        SINGLE FAMILY DWELLING   \n",
       "14          NaN        101                                        STREET   \n",
       "\n",
       "   status   status_desc  crm_cd_1  crm_cd_2  \\\n",
       "0      AA  Adult Arrest       510     998.0   \n",
       "11     IC   Invest Cont       812     821.0   \n",
       "12     IC   Invest Cont       812     860.0   \n",
       "13     IC   Invest Cont       812     860.0   \n",
       "14     IC   Invest Cont       510       NaN   \n",
       "\n",
       "                                    location      lat       lon  \\\n",
       "0    1900 S  LONGWOOD                     AV  34.0375 -118.3506   \n",
       "11  13400    RANGOON                      ST  34.2285 -118.4258   \n",
       "12    900 N  MARIPOSA                     AV  34.0868 -118.2991   \n",
       "13   4400    MOONSTONE                    DR  34.0784 -118.1936   \n",
       "14           VALJEAN                      ST  34.1939 -118.4859   \n",
       "\n",
       "                               mocodes  weapon_used_cd  \\\n",
       "0                                  NaN             NaN   \n",
       "11       0913 2024 1817 0360 1258 0507           400.0   \n",
       "12  1251 1258 0913 0400 0500 0522 1817           400.0   \n",
       "13       1258 0522 0400 0551 0360 0913           400.0   \n",
       "14                                 NaN             NaN   \n",
       "\n",
       "                                       weapon_desc  \\\n",
       "0                                              NaN   \n",
       "11  STRONG-ARM (HANDS, FIST, FEET OR BODILY FORCE)   \n",
       "12  STRONG-ARM (HANDS, FIST, FEET OR BODILY FORCE)   \n",
       "13  STRONG-ARM (HANDS, FIST, FEET OR BODILY FORCE)   \n",
       "14                                             NaN   \n",
       "\n",
       "                       cross_street  crm_cd_3  \n",
       "0                               NaN       NaN  \n",
       "11                              NaN       NaN  \n",
       "12                              NaN       NaN  \n",
       "13                              NaN       NaN  \n",
       "14  VANOWEN                      AV       NaN  "
      ]
     },
     "execution_count": 24,
     "metadata": {},
     "output_type": "execute_result"
    }
   ],
   "source": [
    "data_crime_2024[data_crime_2024['vict_age'] < 10].head()"
   ]
  },
  {
   "cell_type": "code",
   "execution_count": 25,
   "metadata": {},
   "outputs": [
    {
     "data": {
      "text/plain": [
       "995    -2\n",
       "149    -2\n",
       "686    -2\n",
       "805    -2\n",
       "655    -2\n",
       "       ..\n",
       "454    82\n",
       "446    83\n",
       "954    84\n",
       "360    89\n",
       "449    91\n",
       "Name: vict_age, Length: 1000, dtype: int64"
      ]
     },
     "execution_count": 25,
     "metadata": {},
     "output_type": "execute_result"
    }
   ],
   "source": [
    "data_crime_2024['vict_age'].sort_values()"
   ]
  },
  {
   "cell_type": "code",
   "execution_count": 26,
   "metadata": {},
   "outputs": [
    {
     "data": {
      "image/png": "[encoded data removed]",
      "text/plain": [
       "<Figure size 640x480 with 1 Axes>"
      ]
     },
     "metadata": {},
     "output_type": "display_data"
    }
   ],
   "source": [
    "data_crime_2019['Vict Age'].plot(kind='box')\n",
    "plt.title('range of Victems Age')\n",
    "plt.show()"
   ]
  },
  {
   "cell_type": "code",
   "execution_count": 27,
   "metadata": {},
   "outputs": [
    {
     "data": {
      "image/png": "[encoded data removed]",
      "text/plain": [
       "<Figure size 640x480 with 1 Axes>"
      ]
     },
     "metadata": {},
     "output_type": "display_data"
    }
   ],
   "source": [
    "data_crime_2024['vict_age'].plot(kind='box')\n",
    "plt.title('range of Victems Age')\n",
    "plt.show()"
   ]
  },
  {
   "cell_type": "markdown",
   "metadata": {},
   "source": [
    "### Issue and justification: \n",
    "> #### Accuracy Issue:\n",
    "The data quality issues primarily revolve around accuracy. Some results contain ages less than 1, which lack sufficient information for proper analysis. Therefore, we need to drop these entries. Additionally, there is a validity issue observed in both datasets, where outliers are present in the same column."
   ]
  },
  {
   "cell_type": "markdown",
   "metadata": {
    "id": "lXhGiYyiwwKN"
   },
   "source": [
    "### Tidiness Issue 1:"
   ]
  },
  {
   "cell_type": "code",
   "execution_count": 28,
   "metadata": {
    "id": "fleC5rORI0Xl"
   },
   "outputs": [
    {
     "data": {
      "text/html": [
       "<div>\n",
       "<style scoped>\n",
       "    .dataframe tbody tr th:only-of-type {\n",
       "        vertical-align: middle;\n",
       "    }\n",
       "\n",
       "    .dataframe tbody tr th {\n",
       "        vertical-align: top;\n",
       "    }\n",
       "\n",
       "    .dataframe thead th {\n",
       "        text-align: right;\n",
       "    }\n",
       "</style>\n",
       "<table border=\"1\" class=\"dataframe\">\n",
       "  <thead>\n",
       "    <tr style=\"text-align: right;\">\n",
       "      <th></th>\n",
       "      <th>Unnamed: 0</th>\n",
       "      <th>DR_NO</th>\n",
       "      <th>Date Rptd</th>\n",
       "      <th>DATE OCC</th>\n",
       "      <th>TIME OCC</th>\n",
       "      <th>AREA</th>\n",
       "      <th>AREA NAME</th>\n",
       "      <th>Rpt Dist No</th>\n",
       "      <th>Part 1-2</th>\n",
       "      <th>Crm Cd</th>\n",
       "      <th>Crm Cd Desc</th>\n",
       "      <th>Vict Age</th>\n",
       "      <th>Vict Sex</th>\n",
       "      <th>Vict Descent</th>\n",
       "      <th>Premis Cd</th>\n",
       "      <th>Premis Desc</th>\n",
       "      <th>Weapon Used Cd</th>\n",
       "      <th>Weapon Desc</th>\n",
       "      <th>Status</th>\n",
       "      <th>Status Desc</th>\n",
       "      <th>Crm Cd 1</th>\n",
       "      <th>Crm Cd 2</th>\n",
       "      <th>Crm Cd 3</th>\n",
       "      <th>Crm Cd 4</th>\n",
       "      <th>LOCATION</th>\n",
       "    </tr>\n",
       "  </thead>\n",
       "  <tbody>\n",
       "  </tbody>\n",
       "</table>\n",
       "</div>"
      ],
      "text/plain": [
       "Empty DataFrame\n",
       "Columns: [Unnamed: 0, DR_NO, Date Rptd, DATE OCC, TIME OCC, AREA , AREA NAME, Rpt Dist No, Part 1-2, Crm Cd, Crm Cd Desc, Vict Age, Vict Sex, Vict Descent, Premis Cd, Premis Desc, Weapon Used Cd, Weapon Desc, Status, Status Desc, Crm Cd 1, Crm Cd 2, Crm Cd 3, Crm Cd 4, LOCATION]\n",
       "Index: []"
      ]
     },
     "execution_count": 28,
     "metadata": {},
     "output_type": "execute_result"
    }
   ],
   "source": [
    "# Inspecting the dataframe visually\n",
    "data_crime_2019.head(0)"
   ]
  },
  {
   "cell_type": "code",
   "execution_count": 29,
   "metadata": {},
   "outputs": [
    {
     "data": {
      "text/html": [
       "<div>\n",
       "<style scoped>\n",
       "    .dataframe tbody tr th:only-of-type {\n",
       "        vertical-align: middle;\n",
       "    }\n",
       "\n",
       "    .dataframe tbody tr th {\n",
       "        vertical-align: top;\n",
       "    }\n",
       "\n",
       "    .dataframe thead th {\n",
       "        text-align: right;\n",
       "    }\n",
       "</style>\n",
       "<table border=\"1\" class=\"dataframe\">\n",
       "  <thead>\n",
       "    <tr style=\"text-align: right;\">\n",
       "      <th></th>\n",
       "      <th>dr_no</th>\n",
       "      <th>date_rptd</th>\n",
       "      <th>date_occ</th>\n",
       "      <th>time_occ</th>\n",
       "      <th>area</th>\n",
       "      <th>area_name</th>\n",
       "      <th>rpt_dist_no</th>\n",
       "      <th>part_1_2</th>\n",
       "      <th>crm_cd</th>\n",
       "      <th>crm_cd_desc</th>\n",
       "      <th>vict_age</th>\n",
       "      <th>vict_sex</th>\n",
       "      <th>vict_descent</th>\n",
       "      <th>premis_cd</th>\n",
       "      <th>premis_desc</th>\n",
       "      <th>status</th>\n",
       "      <th>status_desc</th>\n",
       "      <th>crm_cd_1</th>\n",
       "      <th>crm_cd_2</th>\n",
       "      <th>location</th>\n",
       "      <th>lat</th>\n",
       "      <th>lon</th>\n",
       "      <th>mocodes</th>\n",
       "      <th>weapon_used_cd</th>\n",
       "      <th>weapon_desc</th>\n",
       "      <th>cross_street</th>\n",
       "      <th>crm_cd_3</th>\n",
       "    </tr>\n",
       "  </thead>\n",
       "  <tbody>\n",
       "  </tbody>\n",
       "</table>\n",
       "</div>"
      ],
      "text/plain": [
       "Empty DataFrame\n",
       "Columns: [dr_no, date_rptd, date_occ, time_occ, area, area_name, rpt_dist_no, part_1_2, crm_cd, crm_cd_desc, vict_age, vict_sex, vict_descent, premis_cd, premis_desc, status, status_desc, crm_cd_1, crm_cd_2, location, lat, lon, mocodes, weapon_used_cd, weapon_desc, cross_street, crm_cd_3]\n",
       "Index: []"
      ]
     },
     "execution_count": 29,
     "metadata": {},
     "output_type": "execute_result"
    }
   ],
   "source": [
    "#Inspecting the dataframe visually\n",
    "data_crime_2024.head(0)"
   ]
  },
  {
   "cell_type": "code",
   "execution_count": 30,
   "metadata": {
    "id": "BTuQw7Rbsio4"
   },
   "outputs": [
    {
     "data": {
      "text/plain": [
       "Index(['Unnamed: 0', 'DR_NO', 'Date Rptd', 'DATE OCC', 'TIME OCC', 'AREA ',\n",
       "       'AREA NAME', 'Rpt Dist No', 'Part 1-2', 'Crm Cd', 'Crm Cd Desc',\n",
       "       'Vict Age', 'Vict Sex', 'Vict Descent', 'Premis Cd', 'Premis Desc',\n",
       "       'Weapon Used Cd', 'Weapon Desc', 'Status', 'Status Desc', 'Crm Cd 1',\n",
       "       'Crm Cd 2', 'Crm Cd 3', 'Crm Cd 4', 'LOCATION'],\n",
       "      dtype='object')"
      ]
     },
     "execution_count": 30,
     "metadata": {},
     "output_type": "execute_result"
    }
   ],
   "source": [
    "#FILL IN - Inspecting the dataframe programmatically\n",
    "data_crime_2019.columns"
   ]
  },
  {
   "cell_type": "code",
   "execution_count": 31,
   "metadata": {},
   "outputs": [
    {
     "data": {
      "text/plain": [
       "Index(['dr_no', 'date_rptd', 'date_occ', 'time_occ', 'area', 'area_name',\n",
       "       'rpt_dist_no', 'part_1_2', 'crm_cd', 'crm_cd_desc', 'vict_age',\n",
       "       'vict_sex', 'vict_descent', 'premis_cd', 'premis_desc', 'status',\n",
       "       'status_desc', 'crm_cd_1', 'crm_cd_2', 'location', 'lat', 'lon',\n",
       "       'mocodes', 'weapon_used_cd', 'weapon_desc', 'cross_street', 'crm_cd_3'],\n",
       "      dtype='object')"
      ]
     },
     "execution_count": 31,
     "metadata": {},
     "output_type": "execute_result"
    }
   ],
   "source": [
    "data_crime_2024.columns"
   ]
  },
  {
   "cell_type": "markdown",
   "metadata": {},
   "source": [
    "### Issue and justification: \n",
    "> #### Inconsistency in Column Naming Convention:\n",
    "The data_crime_2019 dataset employs uppercase letters for column names, while the data_crime_2024 dataset uses lowercase letters. To ensure consistency and facilitate easier indexing, it is necessary to standardize the column names in the data_crime_2019 dataset to lowercase letters and convert them to snake_case format.\n",
    "\n"
   ]
  },
  {
   "cell_type": "markdown",
   "metadata": {
    "id": "4ffMoRGSwzYj"
   },
   "source": [
    "### Tidiness Issue 2: "
   ]
  },
  {
   "cell_type": "code",
   "execution_count": 32,
   "metadata": {
    "id": "XUpeoqokw5Qt"
   },
   "outputs": [
    {
     "data": {
      "text/plain": [
       "0                                   VIOLATION OF COURT ORDER\n",
       "1          VANDALISM - FELONY ($400 & OVER, ALL CHURCH VA...\n",
       "2                                  OTHER MISCELLANEOUS CRIME\n",
       "3                                   VIOLATION OF COURT ORDER\n",
       "4                                            RAPE, ATTEMPTED\n",
       "                                 ...                        \n",
       "2122464              CHILD ABUSE (PHYSICAL) - SIMPLE ASSAULT\n",
       "2122465                                                ARSON\n",
       "2122466               CRIMINAL THREATS - NO WEAPON DISPLAYED\n",
       "2122467      THEFT FROM MOTOR VEHICLE - PETTY ($950 & UNDER)\n",
       "2122468                                BURGLARY FROM VEHICLE\n",
       "Name: Crm Cd Desc, Length: 2122469, dtype: object"
      ]
     },
     "execution_count": 32,
     "metadata": {},
     "output_type": "execute_result"
    }
   ],
   "source": [
    "#Inspecting the dataframe visually for data_crime_2019\n",
    "data_crime_2019['Crm Cd Desc']"
   ]
  },
  {
   "cell_type": "code",
   "execution_count": 33,
   "metadata": {
    "id": "c8JK4DoXxtFA"
   },
   "outputs": [
    {
     "data": {
      "text/plain": [
       "array(['VIOLATION OF COURT ORDER',\n",
       "       'VANDALISM - FELONY ($400 & OVER, ALL CHURCH VANDALISMS)',\n",
       "       'OTHER MISCELLANEOUS CRIME', 'RAPE, ATTEMPTED',\n",
       "       'SHOPLIFTING - PETTY THEFT ($950 & UNDER)',\n",
       "       'BURGLARY FROM VEHICLE',\n",
       "       'ASSAULT WITH DEADLY WEAPON, AGGRAVATED ASSAULT',\n",
       "       'THEFT-GRAND ($950.01 & OVER)EXCPT,GUNS,FOWL,LIVESTK,PROD',\n",
       "       'BATTERY - SIMPLE ASSAULT', 'ROBBERY', 'BOMB SCARE',\n",
       "       'CHILD NEGLECT (SEE 300 W.I.C.)',\n",
       "       'INTIMATE PARTNER - AGGRAVATED ASSAULT',\n",
       "       'INTIMATE PARTNER - SIMPLE ASSAULT',\n",
       "       'THEFT PLAIN - PETTY ($950 & UNDER)',\n",
       "       'CRIMINAL THREATS - NO WEAPON DISPLAYED', 'ATTEMPTED ROBBERY',\n",
       "       'VANDALISM - MISDEAMEANOR ($399 OR UNDER)', 'BURGLARY', 'ARSON',\n",
       "       'RAPE, FORCIBLE', 'BRANDISH WEAPON',\n",
       "       'THROWING OBJECT AT MOVING VEHICLE',\n",
       "       'SHOPLIFTING-GRAND THEFT ($950.01 & OVER)',\n",
       "       'CHILD ABUSE (PHYSICAL) - SIMPLE ASSAULT',\n",
       "       'SHOTS FIRED AT INHABITED DWELLING', 'VEHICLE - STOLEN',\n",
       "       'KIDNAPPING - GRAND ATTEMPT', 'CRIMINAL HOMICIDE',\n",
       "       'THEFT PLAIN - ATTEMPT', 'THEFT, PERSON', 'TRESPASSING',\n",
       "       'KIDNAPPING', 'VEHICLE - ATTEMPT STOLEN',\n",
       "       'BATTERY WITH SEXUAL CONTACT', 'DOCUMENT FORGERY / STOLEN FELONY',\n",
       "       'BATTERY POLICE (SIMPLE)',\n",
       "       'CHILD ABUSE (PHYSICAL) - AGGRAVATED ASSAULT',\n",
       "       'DISTURBING THE PEACE', 'OTHER ASSAULT',\n",
       "       'VIOLATION OF RESTRAINING ORDER', 'LEWD CONDUCT',\n",
       "       'CRM AGNST CHLD (13 OR UNDER) (14-15 & SUSP 10 YRS OLDER)',\n",
       "       'THEFT OF IDENTITY',\n",
       "       'ASSAULT WITH DEADLY WEAPON ON POLICE OFFICER',\n",
       "       'CHILD ANNOYING (17YRS & UNDER)',\n",
       "       'SODOMY/SEXUAL CONTACT B/W PENIS OF ONE PERS TO ANUS OTH',\n",
       "       'ORAL COPULATION', 'CRUELTY TO ANIMALS',\n",
       "       'THEFT FROM MOTOR VEHICLE - PETTY ($950 & UNDER)',\n",
       "       'LETTERS, LEWD  -  TELEPHONE CALLS, LEWD', 'PEEPING TOM',\n",
       "       'INDECENT EXPOSURE', 'BIKE - STOLEN',\n",
       "       'BURGLARY FROM VEHICLE, ATTEMPTED', 'BURGLARY, ATTEMPTED',\n",
       "       'STALKING', 'THREATENING PHONE CALLS/LETTERS',\n",
       "       'SEX,UNLAWFUL(INC MUTUAL CONSENT, PENETRATION W/ FRGN OBJ',\n",
       "       'BUNCO, PETTY THEFT', 'BUNCO, GRAND THEFT',\n",
       "       'VIOLATION OF TEMPORARY RESTRAINING ORDER',\n",
       "       'EMBEZZLEMENT, GRAND THEFT ($950.01 & OVER)',\n",
       "       'SEXUAL PENETRATION W/FOREIGN OBJECT', 'EXTORTION', 'PICKPOCKET',\n",
       "       'EMBEZZLEMENT, PETTY THEFT ($950 & UNDER)', 'PURSE SNATCHING',\n",
       "       'WEAPONS POSSESSION/BOMBING', 'COUNTERFEIT', 'FALSE IMPRISONMENT',\n",
       "       'CREDIT CARDS, FRAUD USE ($950.01 & OVER)',\n",
       "       'DISCHARGE FIREARMS/SHOTS FIRED', 'THEFT FROM PERSON - ATTEMPT',\n",
       "       'UNAUTHORIZED COMPUTER ACCESS', 'PANDERING', 'PIMPING',\n",
       "       'DRUNK ROLL - ATTEMPT', 'SHOPLIFTING - ATTEMPT',\n",
       "       'RESISTING ARREST', 'DISHONEST EMPLOYEE - GRAND THEFT',\n",
       "       'RECKLESS DRIVING', 'PROWLER',\n",
       "       'CREDIT CARDS, FRAUD USE ($950 & UNDER',\n",
       "       'DOCUMENT WORTHLESS ($200.01 & OVER)', 'CHILD STEALING',\n",
       "       'CONTEMPT OF COURT', 'CONSPIRACY',\n",
       "       'THEFT FROM MOTOR VEHICLE - ATTEMPT', 'DRUNK ROLL',\n",
       "       'BATTERY ON A FIREFIGHTER', 'ILLEGAL DUMPING', 'LYNCHING',\n",
       "       'THEFT, COIN MACHINE - PETTY ($950 & UNDER)',\n",
       "       'GRAND THEFT / INSURANCE FRAUD', 'BUNCO, ATTEMPT',\n",
       "       'DISRUPT SCHOOL', 'THEFT, COIN MACHINE - GRAND ($950.01 & OVER)',\n",
       "       'FALSE POLICE REPORT', 'PURSE SNATCHING - ATTEMPT',\n",
       "       'BOAT - STOLEN',\n",
       "       'SHOTS FIRED AT MOVING VEHICLE, TRAIN OR AIRCRAFT',\n",
       "       'DRIVING WITHOUT OWNER CONSENT (DWOC)', 'CONTRIBUTING',\n",
       "       'FAILURE TO YIELD', 'TILL TAP - ATTEMPT', 'DRUGS, TO A MINOR',\n",
       "       'INCITING A RIOT',\n",
       "       'BEASTIALITY, CRIME AGAINST NATURE SEXUAL ASSLT WITH ANIM',\n",
       "       'BRIBERY', 'THEFT FROM MOTOR VEHICLE - GRAND ($950.01 AND OVER)',\n",
       "       'DEFRAUDING INNKEEPER/THEFT OF SERVICES, $950 & UNDER',\n",
       "       'DEFRAUDING INNKEEPER/THEFT OF SERVICES, OVER $950.01',\n",
       "       'LYNCHING - ATTEMPTED',\n",
       "       'SEX OFFENDER REGISTRANT OUT OF COMPLIANCE',\n",
       "       'DISHONEST EMPLOYEE - PETTY THEFT', 'CHILD ABANDONMENT',\n",
       "       'TELEPHONE PROPERTY - DAMAGE', 'TILL TAP - PETTY ($950 & UNDER)',\n",
       "       'DOCUMENT WORTHLESS ($200 & UNDER)', 'BIGAMY',\n",
       "       'TILL TAP - GRAND THEFT ($950.01 & OVER)',\n",
       "       'THEFT, COIN MACHINE - ATTEMPT', 'PETTY THEFT - AUTO REPAIR',\n",
       "       'LEWD/LASCIVIOUS ACTS WITH CHILD', 'PICKPOCKET, ATTEMPT',\n",
       "       'HUMAN TRAFFICKING - COMMERCIAL SEX ACTS',\n",
       "       'MANSLAUGHTER, NEGLIGENT', 'GRAND THEFT / AUTO REPAIR',\n",
       "       'BIKE - ATTEMPTED STOLEN', 'FAILURE TO DISPERSE',\n",
       "       'REPLICA FIREARMS(SALE,DISPLAY,MANUFACTURE OR DISTRIBUTE)',\n",
       "       'HUMAN TRAFFICKING - INVOLUNTARY SERVITUDE', 'CHILD PORNOGRAPHY',\n",
       "       'ABORTION/ILLEGAL', 'INCEST (SEXUAL ACTS BETWEEN BLOOD RELATIVES)',\n",
       "       'DISHONEST EMPLOYEE ATTEMPTED THEFT', 'TRAIN WRECKING',\n",
       "       'BLOCKING DOOR INDUCTION CENTER',\n",
       "       'FIREARMS RESTRAINING ORDER (FIREARMS RO)',\n",
       "       'FIREARMS TEMPORARY RESTRAINING ORDER (TEMP FIREARMS RO)',\n",
       "       'VEHICLE, STOLEN - OTHER (MOTORIZED SCOOTERS, BIKES, ETC)'],\n",
       "      dtype=object)"
      ]
     },
     "execution_count": 33,
     "metadata": {},
     "output_type": "execute_result"
    }
   ],
   "source": [
    "#Inspecting the dataframe programmatically for data_crime_2019\n",
    "data_crime_2019['Crm Cd Desc'].unique()"
   ]
  },
  {
   "cell_type": "code",
   "execution_count": 34,
   "metadata": {},
   "outputs": [
    {
     "data": {
      "text/plain": [
       "0                            VEHICLE - STOLEN\n",
       "1                       BURGLARY FROM VEHICLE\n",
       "2                               BIKE - STOLEN\n",
       "3    SHOPLIFTING-GRAND THEFT ($950.01 & OVER)\n",
       "4                           THEFT OF IDENTITY\n",
       "Name: crm_cd_desc, dtype: object"
      ]
     },
     "execution_count": 34,
     "metadata": {},
     "output_type": "execute_result"
    }
   ],
   "source": [
    "#Inspecting the dataframe visually for data_crime_2024\n",
    "data_crime_2024.crm_cd_desc.head()"
   ]
  },
  {
   "cell_type": "code",
   "execution_count": 35,
   "metadata": {},
   "outputs": [
    {
     "data": {
      "text/plain": [
       "array(['VEHICLE - STOLEN', 'BURGLARY FROM VEHICLE', 'BIKE - STOLEN',\n",
       "       'SHOPLIFTING-GRAND THEFT ($950.01 & OVER)', 'THEFT OF IDENTITY',\n",
       "       'BATTERY - SIMPLE ASSAULT',\n",
       "       'SODOMY/SEXUAL CONTACT B/W PENIS OF ONE PERS TO ANUS OTH',\n",
       "       'CRM AGNST CHLD (13 OR UNDER) (14-15 & SUSP 10 YRS OLDER)',\n",
       "       'SEX,UNLAWFUL(INC MUTUAL CONSENT, PENETRATION W/ FRGN OBJ',\n",
       "       'ASSAULT WITH DEADLY WEAPON, AGGRAVATED ASSAULT',\n",
       "       'LETTERS, LEWD  -  TELEPHONE CALLS, LEWD',\n",
       "       'THEFT-GRAND ($950.01 & OVER)EXCPT,GUNS,FOWL,LIVESTK,PROD',\n",
       "       'RAPE, FORCIBLE', 'CRIMINAL THREATS - NO WEAPON DISPLAYED',\n",
       "       'EMBEZZLEMENT, GRAND THEFT ($950.01 & OVER)',\n",
       "       'THEFT FROM MOTOR VEHICLE - PETTY ($950 & UNDER)',\n",
       "       'CHILD ANNOYING (17YRS & UNDER)', 'BURGLARY', 'CONTEMPT OF COURT',\n",
       "       'THEFT PLAIN - PETTY ($950 & UNDER)',\n",
       "       'INTIMATE PARTNER - SIMPLE ASSAULT', 'LEWD CONDUCT',\n",
       "       'THEFT PLAIN - ATTEMPT',\n",
       "       'THEFT FROM MOTOR VEHICLE - GRAND ($950.01 AND OVER)',\n",
       "       'OTHER MISCELLANEOUS CRIME', 'ROBBERY', 'BUNCO, GRAND THEFT',\n",
       "       'SEXUAL PENETRATION W/FOREIGN OBJECT',\n",
       "       'BATTERY WITH SEXUAL CONTACT',\n",
       "       'INTIMATE PARTNER - AGGRAVATED ASSAULT', 'ORAL COPULATION',\n",
       "       'UNAUTHORIZED COMPUTER ACCESS', 'VIOLATION OF RESTRAINING ORDER',\n",
       "       'SHOPLIFTING - PETTY THEFT ($950 & UNDER)',\n",
       "       'VANDALISM - FELONY ($400 & OVER, ALL CHURCH VANDALISMS)',\n",
       "       'BRANDISH WEAPON', 'DOCUMENT FORGERY / STOLEN FELONY',\n",
       "       'SEX OFFENDER REGISTRANT OUT OF COMPLIANCE',\n",
       "       'VANDALISM - MISDEAMEANOR ($399 OR UNDER)',\n",
       "       'CHILD ABUSE (PHYSICAL) - SIMPLE ASSAULT',\n",
       "       'CREDIT CARDS, FRAUD USE ($950.01 & OVER)',\n",
       "       'THREATENING PHONE CALLS/LETTERS', 'EXTORTION', 'OTHER ASSAULT',\n",
       "       'PICKPOCKET', 'DISTURBING THE PEACE', 'BUNCO, ATTEMPT',\n",
       "       'HUMAN TRAFFICKING - INVOLUNTARY SERVITUDE', 'PEEPING TOM',\n",
       "       'VIOLATION OF COURT ORDER', 'FALSE POLICE REPORT', 'CONTRIBUTING',\n",
       "       'FALSE IMPRISONMENT',\n",
       "       'CHILD ABUSE (PHYSICAL) - AGGRAVATED ASSAULT', 'ATTEMPTED ROBBERY',\n",
       "       'CREDIT CARDS, FRAUD USE ($950 & UNDER', 'CHILD STEALING'],\n",
       "      dtype=object)"
      ]
     },
     "execution_count": 35,
     "metadata": {},
     "output_type": "execute_result"
    }
   ],
   "source": [
    "#Inspecting the dataframe programmatically for data_crime_2019\n",
    "data_crime_2024.crm_cd_desc.unique()"
   ]
  },
  {
   "cell_type": "markdown",
   "metadata": {},
   "source": [
    "### Issue and Justification:\n",
    "> #### Multiple Variables Stored in One Column:\n",
    "The 'crm cd desc' column contains multiple variables, including crime descriptions and grand, packed into a single cell. To enhance data clarity and analysis capabilities, it is necessary to separate each crime into its own row and create a separate column for grand.\n",
    "\n"
   ]
  },
  {
   "cell_type": "markdown",
   "metadata": {},
   "source": [
    "### Tidiness Issue 3 : "
   ]
  },
  {
   "cell_type": "code",
   "execution_count": 36,
   "metadata": {},
   "outputs": [
    {
     "data": {
      "text/html": [
       "<div>\n",
       "<style scoped>\n",
       "    .dataframe tbody tr th:only-of-type {\n",
       "        vertical-align: middle;\n",
       "    }\n",
       "\n",
       "    .dataframe tbody tr th {\n",
       "        vertical-align: top;\n",
       "    }\n",
       "\n",
       "    .dataframe thead th {\n",
       "        text-align: right;\n",
       "    }\n",
       "</style>\n",
       "<table border=\"1\" class=\"dataframe\">\n",
       "  <thead>\n",
       "    <tr style=\"text-align: right;\">\n",
       "      <th></th>\n",
       "      <th>Crm Cd</th>\n",
       "      <th>Crm Cd Desc</th>\n",
       "      <th>Crm Cd 1</th>\n",
       "      <th>Crm Cd 2</th>\n",
       "      <th>Crm Cd 3</th>\n",
       "      <th>Crm Cd 4</th>\n",
       "    </tr>\n",
       "  </thead>\n",
       "  <tbody>\n",
       "    <tr>\n",
       "      <th>0</th>\n",
       "      <td>900</td>\n",
       "      <td>VIOLATION OF COURT ORDER</td>\n",
       "      <td>900.0</td>\n",
       "      <td>NaN</td>\n",
       "      <td>NaN</td>\n",
       "      <td>NaN</td>\n",
       "    </tr>\n",
       "    <tr>\n",
       "      <th>1</th>\n",
       "      <td>740</td>\n",
       "      <td>VANDALISM - FELONY ($400 &amp; OVER, ALL CHURCH VA...</td>\n",
       "      <td>740.0</td>\n",
       "      <td>NaN</td>\n",
       "      <td>NaN</td>\n",
       "      <td>NaN</td>\n",
       "    </tr>\n",
       "    <tr>\n",
       "      <th>2</th>\n",
       "      <td>946</td>\n",
       "      <td>OTHER MISCELLANEOUS CRIME</td>\n",
       "      <td>946.0</td>\n",
       "      <td>NaN</td>\n",
       "      <td>NaN</td>\n",
       "      <td>NaN</td>\n",
       "    </tr>\n",
       "    <tr>\n",
       "      <th>3</th>\n",
       "      <td>900</td>\n",
       "      <td>VIOLATION OF COURT ORDER</td>\n",
       "      <td>900.0</td>\n",
       "      <td>998.0</td>\n",
       "      <td>NaN</td>\n",
       "      <td>NaN</td>\n",
       "    </tr>\n",
       "    <tr>\n",
       "      <th>4</th>\n",
       "      <td>122</td>\n",
       "      <td>RAPE, ATTEMPTED</td>\n",
       "      <td>122.0</td>\n",
       "      <td>NaN</td>\n",
       "      <td>NaN</td>\n",
       "      <td>NaN</td>\n",
       "    </tr>\n",
       "    <tr>\n",
       "      <th>5</th>\n",
       "      <td>442</td>\n",
       "      <td>SHOPLIFTING - PETTY THEFT ($950 &amp; UNDER)</td>\n",
       "      <td>442.0</td>\n",
       "      <td>NaN</td>\n",
       "      <td>NaN</td>\n",
       "      <td>NaN</td>\n",
       "    </tr>\n",
       "    <tr>\n",
       "      <th>6</th>\n",
       "      <td>330</td>\n",
       "      <td>BURGLARY FROM VEHICLE</td>\n",
       "      <td>330.0</td>\n",
       "      <td>NaN</td>\n",
       "      <td>NaN</td>\n",
       "      <td>NaN</td>\n",
       "    </tr>\n",
       "    <tr>\n",
       "      <th>7</th>\n",
       "      <td>230</td>\n",
       "      <td>ASSAULT WITH DEADLY WEAPON, AGGRAVATED ASSAULT</td>\n",
       "      <td>230.0</td>\n",
       "      <td>NaN</td>\n",
       "      <td>NaN</td>\n",
       "      <td>NaN</td>\n",
       "    </tr>\n",
       "    <tr>\n",
       "      <th>8</th>\n",
       "      <td>230</td>\n",
       "      <td>ASSAULT WITH DEADLY WEAPON, AGGRAVATED ASSAULT</td>\n",
       "      <td>230.0</td>\n",
       "      <td>NaN</td>\n",
       "      <td>NaN</td>\n",
       "      <td>NaN</td>\n",
       "    </tr>\n",
       "    <tr>\n",
       "      <th>9</th>\n",
       "      <td>341</td>\n",
       "      <td>THEFT-GRAND ($950.01 &amp; OVER)EXCPT,GUNS,FOWL,LI...</td>\n",
       "      <td>341.0</td>\n",
       "      <td>998.0</td>\n",
       "      <td>NaN</td>\n",
       "      <td>NaN</td>\n",
       "    </tr>\n",
       "    <tr>\n",
       "      <th>10</th>\n",
       "      <td>624</td>\n",
       "      <td>BATTERY - SIMPLE ASSAULT</td>\n",
       "      <td>624.0</td>\n",
       "      <td>NaN</td>\n",
       "      <td>NaN</td>\n",
       "      <td>NaN</td>\n",
       "    </tr>\n",
       "    <tr>\n",
       "      <th>11</th>\n",
       "      <td>210</td>\n",
       "      <td>ROBBERY</td>\n",
       "      <td>210.0</td>\n",
       "      <td>NaN</td>\n",
       "      <td>NaN</td>\n",
       "      <td>NaN</td>\n",
       "    </tr>\n",
       "    <tr>\n",
       "      <th>12</th>\n",
       "      <td>740</td>\n",
       "      <td>VANDALISM - FELONY ($400 &amp; OVER, ALL CHURCH VA...</td>\n",
       "      <td>740.0</td>\n",
       "      <td>NaN</td>\n",
       "      <td>NaN</td>\n",
       "      <td>NaN</td>\n",
       "    </tr>\n",
       "    <tr>\n",
       "      <th>13</th>\n",
       "      <td>755</td>\n",
       "      <td>BOMB SCARE</td>\n",
       "      <td>755.0</td>\n",
       "      <td>NaN</td>\n",
       "      <td>NaN</td>\n",
       "      <td>NaN</td>\n",
       "    </tr>\n",
       "    <tr>\n",
       "      <th>14</th>\n",
       "      <td>210</td>\n",
       "      <td>ROBBERY</td>\n",
       "      <td>210.0</td>\n",
       "      <td>NaN</td>\n",
       "      <td>NaN</td>\n",
       "      <td>NaN</td>\n",
       "    </tr>\n",
       "    <tr>\n",
       "      <th>15</th>\n",
       "      <td>946</td>\n",
       "      <td>OTHER MISCELLANEOUS CRIME</td>\n",
       "      <td>946.0</td>\n",
       "      <td>999.0</td>\n",
       "      <td>NaN</td>\n",
       "      <td>NaN</td>\n",
       "    </tr>\n",
       "    <tr>\n",
       "      <th>16</th>\n",
       "      <td>237</td>\n",
       "      <td>CHILD NEGLECT (SEE 300 W.I.C.)</td>\n",
       "      <td>237.0</td>\n",
       "      <td>NaN</td>\n",
       "      <td>NaN</td>\n",
       "      <td>NaN</td>\n",
       "    </tr>\n",
       "    <tr>\n",
       "      <th>17</th>\n",
       "      <td>210</td>\n",
       "      <td>ROBBERY</td>\n",
       "      <td>210.0</td>\n",
       "      <td>NaN</td>\n",
       "      <td>NaN</td>\n",
       "      <td>NaN</td>\n",
       "    </tr>\n",
       "    <tr>\n",
       "      <th>18</th>\n",
       "      <td>236</td>\n",
       "      <td>INTIMATE PARTNER - AGGRAVATED ASSAULT</td>\n",
       "      <td>236.0</td>\n",
       "      <td>NaN</td>\n",
       "      <td>NaN</td>\n",
       "      <td>NaN</td>\n",
       "    </tr>\n",
       "    <tr>\n",
       "      <th>19</th>\n",
       "      <td>210</td>\n",
       "      <td>ROBBERY</td>\n",
       "      <td>210.0</td>\n",
       "      <td>NaN</td>\n",
       "      <td>NaN</td>\n",
       "      <td>NaN</td>\n",
       "    </tr>\n",
       "  </tbody>\n",
       "</table>\n",
       "</div>"
      ],
      "text/plain": [
       "    Crm Cd                                        Crm Cd Desc  Crm Cd 1  \\\n",
       "0      900                           VIOLATION OF COURT ORDER     900.0   \n",
       "1      740  VANDALISM - FELONY ($400 & OVER, ALL CHURCH VA...     740.0   \n",
       "2      946                          OTHER MISCELLANEOUS CRIME     946.0   \n",
       "3      900                           VIOLATION OF COURT ORDER     900.0   \n",
       "4      122                                    RAPE, ATTEMPTED     122.0   \n",
       "5      442           SHOPLIFTING - PETTY THEFT ($950 & UNDER)     442.0   \n",
       "6      330                              BURGLARY FROM VEHICLE     330.0   \n",
       "7      230     ASSAULT WITH DEADLY WEAPON, AGGRAVATED ASSAULT     230.0   \n",
       "8      230     ASSAULT WITH DEADLY WEAPON, AGGRAVATED ASSAULT     230.0   \n",
       "9      341  THEFT-GRAND ($950.01 & OVER)EXCPT,GUNS,FOWL,LI...     341.0   \n",
       "10     624                           BATTERY - SIMPLE ASSAULT     624.0   \n",
       "11     210                                            ROBBERY     210.0   \n",
       "12     740  VANDALISM - FELONY ($400 & OVER, ALL CHURCH VA...     740.0   \n",
       "13     755                                         BOMB SCARE     755.0   \n",
       "14     210                                            ROBBERY     210.0   \n",
       "15     946                          OTHER MISCELLANEOUS CRIME     946.0   \n",
       "16     237                     CHILD NEGLECT (SEE 300 W.I.C.)     237.0   \n",
       "17     210                                            ROBBERY     210.0   \n",
       "18     236              INTIMATE PARTNER - AGGRAVATED ASSAULT     236.0   \n",
       "19     210                                            ROBBERY     210.0   \n",
       "\n",
       "    Crm Cd 2  Crm Cd 3  Crm Cd 4  \n",
       "0        NaN       NaN       NaN  \n",
       "1        NaN       NaN       NaN  \n",
       "2        NaN       NaN       NaN  \n",
       "3      998.0       NaN       NaN  \n",
       "4        NaN       NaN       NaN  \n",
       "5        NaN       NaN       NaN  \n",
       "6        NaN       NaN       NaN  \n",
       "7        NaN       NaN       NaN  \n",
       "8        NaN       NaN       NaN  \n",
       "9      998.0       NaN       NaN  \n",
       "10       NaN       NaN       NaN  \n",
       "11       NaN       NaN       NaN  \n",
       "12       NaN       NaN       NaN  \n",
       "13       NaN       NaN       NaN  \n",
       "14       NaN       NaN       NaN  \n",
       "15     999.0       NaN       NaN  \n",
       "16       NaN       NaN       NaN  \n",
       "17       NaN       NaN       NaN  \n",
       "18       NaN       NaN       NaN  \n",
       "19       NaN       NaN       NaN  "
      ]
     },
     "execution_count": 36,
     "metadata": {},
     "output_type": "execute_result"
    }
   ],
   "source": [
    "#Inspecting the dataframe visuallyd\n",
    "data_crime_2019[['Crm Cd','Crm Cd Desc','Crm Cd 1','Crm Cd 2','Crm Cd 3','Crm Cd 4']].head(20)"
   ]
  },
  {
   "cell_type": "code",
   "execution_count": 37,
   "metadata": {},
   "outputs": [
    {
     "data": {
      "text/plain": [
       "Unnamed: 0              0\n",
       "DR_NO                   0\n",
       "Date Rptd               0\n",
       "DATE OCC                0\n",
       "TIME OCC                0\n",
       "AREA                    0\n",
       "AREA NAME               0\n",
       "Rpt Dist No             0\n",
       "Part 1-2                0\n",
       "Crm Cd                  0\n",
       "Crm Cd Desc             0\n",
       "Vict Age                0\n",
       "Vict Sex           196814\n",
       "Vict Descent       196860\n",
       "Premis Cd              53\n",
       "Premis Desc           187\n",
       "Weapon Used Cd    1408915\n",
       "Weapon Desc       1408916\n",
       "Status                  3\n",
       "Status Desc             0\n",
       "Crm Cd 1               10\n",
       "Crm Cd 2          1981221\n",
       "Crm Cd 3          2118909\n",
       "Crm Cd 4          2122364\n",
       "LOCATION                0\n",
       "dtype: int64"
      ]
     },
     "execution_count": 37,
     "metadata": {},
     "output_type": "execute_result"
    }
   ],
   "source": [
    "#Inspecting the dataframe programmatically\n",
    "data_crime_2019.isnull().sum()"
   ]
  },
  {
   "cell_type": "markdown",
   "metadata": {},
   "source": [
    "### Issue and Justification:\n",
    "> #### Multiple Types of Observational Units Stored in the Same Table:\n",
    "The presence of columns such as 'Crm Cd' alongside other unrelated columns results in multiple types of observational units within the same table. Due to a high proportion of missing values in these columns, it is recommended to remove them from the dataset."
   ]
  },
  {
   "cell_type": "markdown",
   "metadata": {
    "id": "D6gmLnBttpCh"
   },
   "source": [
    "## 3. Clean data\n",
    "Clean the data to solve the 4 issues corresponding to data quality and tidiness found in the assessing step. **Make sure you include justifications for your cleaning decisions.**\n",
    "\n",
    "After the cleaning for each issue, please use **either** the visually or programatical method to validate the cleaning was succesful.\n",
    "\n",
    "At this stage, you are also expected to remove variables that are unnecessary for your analysis and combine your datasets. Depending on your datasets, you may choose to perform variable combination and elimination before or after the cleaning stage. Your dataset must have **at least** 4 variables after combining the data."
   ]
  },
  {
   "cell_type": "code",
   "execution_count": 38,
   "metadata": {},
   "outputs": [],
   "source": [
    "# FILL IN - Make copies of the datasets to ensure the raw dataframes \n",
    "# are not impacted\n",
    "data_crime_2019_copy=data_crime_2019.copy()\n",
    "data_crime_2024_copy=data_crime_2024.copy()"
   ]
  },
  {
   "cell_type": "markdown",
   "metadata": {
    "id": "FmFhN52Yyn3l"
   },
   "source": [
    "### **Quality Issue 1: missing values"
   ]
  },
  {
   "cell_type": "code",
   "execution_count": 39,
   "metadata": {
    "id": "9UejDWrNMW4a"
   },
   "outputs": [],
   "source": [
    "#Apply the cleaning strategy\n",
    "#drop columns thats contain 60% or above missing values and Mocodes column bc there is no data source about it \n",
    "data_crime_2019_copy.drop(columns=['Weapon Used Cd','Weapon Desc','Crm Cd 2','Crm Cd 3','Crm Cd 4'],inplace=True)"
   ]
  },
  {
   "cell_type": "code",
   "execution_count": 40,
   "metadata": {},
   "outputs": [],
   "source": [
    "#change the missing values and - to be  X-unknowing \n",
    "data_crime_2019_copy['Vict Sex'] = data_crime_2019_copy['Vict Sex'].replace([np.nan, '-'], 'X')\n",
    "data_crime_2019_copy['Vict Descent'] = data_crime_2019_copy['Vict Descent'].replace([np.nan,'-','unknowing'], 'UN')"
   ]
  },
  {
   "cell_type": "code",
   "execution_count": 41,
   "metadata": {},
   "outputs": [],
   "source": [
    "#replace rows that's contian nan in Status column by CC from Status Desc related to anther rows contain same result\n",
    "data_crime_2019_copy['Status'] = data_crime_2019_copy['Status'].replace(np.nan, 'CC')\n"
   ]
  },
  {
   "cell_type": "code",
   "execution_count": 42,
   "metadata": {},
   "outputs": [],
   "source": [
    "#exlude the result in Premis Desc thats contain missing values \n",
    "data_crime_2019_copy=data_crime_2019_copy[data_crime_2019_copy['Premis Desc'].notnull()]"
   ]
  },
  {
   "cell_type": "code",
   "execution_count": 43,
   "metadata": {},
   "outputs": [],
   "source": [
    "# full fillment all Crm Cd 1 from Crm Cd \n",
    "data_crime_2019_copy['Crm Cd 1'] = data_crime_2019_copy.groupby('Crm Cd')['Crm Cd 1'].ffill()"
   ]
  },
  {
   "cell_type": "code",
   "execution_count": 44,
   "metadata": {
    "id": "oUBee-LPytkv"
   },
   "outputs": [
    {
     "data": {
      "text/plain": [
       "Unnamed: 0      0\n",
       "DR_NO           0\n",
       "Date Rptd       0\n",
       "DATE OCC        0\n",
       "TIME OCC        0\n",
       "AREA            0\n",
       "AREA NAME       0\n",
       "Rpt Dist No     0\n",
       "Part 1-2        0\n",
       "Crm Cd          0\n",
       "Crm Cd Desc     0\n",
       "Vict Age        0\n",
       "Vict Sex        0\n",
       "Vict Descent    0\n",
       "Premis Cd       0\n",
       "Premis Desc     0\n",
       "Status          0\n",
       "Status Desc     0\n",
       "Crm Cd 1        0\n",
       "LOCATION        0\n",
       "dtype: int64"
      ]
     },
     "execution_count": 44,
     "metadata": {},
     "output_type": "execute_result"
    }
   ],
   "source": [
    "#Validate the cleaning was successful\n",
    "data_crime_2019_copy.isna().sum()"
   ]
  },
  {
   "cell_type": "markdown",
   "metadata": {},
   "source": [
    "Justification: \n",
    "#### After dropping certain columns and rows, as well as filling missing values by interpolating from adjacent rows, both datasets no longer contain any missing values."
   ]
  },
  {
   "cell_type": "markdown",
   "metadata": {
    "id": "n_DAUbJrymBL"
   },
   "source": [
    "### Quality Issue 2:  Accuracy  issue"
   ]
  },
  {
   "cell_type": "code",
   "execution_count": 45,
   "metadata": {
    "id": "5Yfb-Yu5MTuE"
   },
   "outputs": [],
   "source": [
    "#Apply the cleaning strategy\n",
    "data_crime_2019_copy=data_crime_2019_copy[data_crime_2019_copy['Vict Age'] >= 1]\n",
    "data_crime_2024_copy=data_crime_2024_copy[data_crime_2024_copy['vict_age'] >= 1]"
   ]
  },
  {
   "cell_type": "code",
   "execution_count": 46,
   "metadata": {
    "id": "ionB2sRaMUmY"
   },
   "outputs": [
    {
     "data": {
      "image/png": "[encoded data removed]",
      "text/plain": [
       "<Figure size 640x480 with 1 Axes>"
      ]
     },
     "metadata": {},
     "output_type": "display_data"
    }
   ],
   "source": [
    "#Validate the cleaning was successful\n",
    "#Apply the cleaning strategy\n",
    "data_crime_2019_copy['Vict Age'].plot(kind='box')\n",
    "plt.title('range of ages 2010 - 2019')\n",
    "plt.show()"
   ]
  },
  {
   "cell_type": "code",
   "execution_count": 47,
   "metadata": {},
   "outputs": [
    {
     "data": {
      "text/plain": [
       "Text(0.5, 1.0, 'range of Ages 2020 - 2024')"
      ]
     },
     "execution_count": 47,
     "metadata": {},
     "output_type": "execute_result"
    },
    {
     "data": {
      "image/png": "[encoded data removed]",
      "text/plain": [
       "<Figure size 640x480 with 1 Axes>"
      ]
     },
     "metadata": {},
     "output_type": "display_data"
    }
   ],
   "source": [
    "data_crime_2019_copy['Vict Age'].plot(kind='box')\n",
    "plt.title('range of Ages 2020 - 2024')"
   ]
  },
  {
   "cell_type": "markdown",
   "metadata": {},
   "source": [
    "Justification:\n",
    "#### Rows containing age values less than 1 year were dropped from the dataset to ensure data integrity and consistency."
   ]
  },
  {
   "cell_type": "markdown",
   "metadata": {
    "id": "bIUrrfSNyOPR"
   },
   "source": [
    "### **Tidiness Issue 1: columns names**"
   ]
  },
  {
   "cell_type": "code",
   "execution_count": 48,
   "metadata": {
    "id": "fib0zAm333bn"
   },
   "outputs": [],
   "source": [
    "#Apply the cleaning strategy\n",
    "#We will change data_crime_2019 columns name from upper case into lower case by lambda func\n",
    "data_crime_2019_copy.rename(columns=lambda x: x.lower(), inplace=True)\n",
    "data_crime_2019_copy.columns = data_crime_2019_copy.columns.str.replace(' ', '_')"
   ]
  },
  {
   "cell_type": "code",
   "execution_count": 49,
   "metadata": {
    "id": "yhrnUGY_Nk8B"
   },
   "outputs": [
    {
     "data": {
      "text/plain": [
       "Index(['unnamed:_0', 'dr_no', 'date_rptd', 'date_occ', 'time_occ', 'area_',\n",
       "       'area_name', 'rpt_dist_no', 'part_1-2', 'crm_cd', 'crm_cd_desc',\n",
       "       'vict_age', 'vict_sex', 'vict_descent', 'premis_cd', 'premis_desc',\n",
       "       'status', 'status_desc', 'crm_cd_1', 'location'],\n",
       "      dtype='object')"
      ]
     },
     "execution_count": 49,
     "metadata": {},
     "output_type": "execute_result"
    }
   ],
   "source": [
    "#Validate the cleaning was successful\n",
    "data_crime_2019_copy.columns"
   ]
  },
  {
   "cell_type": "code",
   "execution_count": 50,
   "metadata": {},
   "outputs": [
    {
     "data": {
      "text/plain": [
       "Index(['dr_no', 'date_rptd', 'date_occ', 'time_occ', 'area', 'area_name',\n",
       "       'rpt_dist_no', 'part_1_2', 'crm_cd', 'crm_cd_desc', 'vict_age',\n",
       "       'vict_sex', 'vict_descent', 'premis_cd', 'premis_desc', 'status',\n",
       "       'status_desc', 'crm_cd_1', 'crm_cd_2', 'location', 'lat', 'lon',\n",
       "       'mocodes', 'weapon_used_cd', 'weapon_desc', 'cross_street', 'crm_cd_3'],\n",
       "      dtype='object')"
      ]
     },
     "execution_count": 50,
     "metadata": {},
     "output_type": "execute_result"
    }
   ],
   "source": [
    "data_crime_2024_copy.columns"
   ]
  },
  {
   "cell_type": "markdown",
   "metadata": {},
   "source": [
    "Justification:\n",
    "> #### The column names in the data_crime_2019 dataset have been converted from uppercase to lowercase using a lambda function. With this modification completed, the datasets for 2019 and 2024 can now be combined seamlessly."
   ]
  },
  {
   "cell_type": "markdown",
   "metadata": {
    "id": "o51Bt8kwyTzk"
   },
   "source": [
    "### **Tidiness Issue 2: FILL IN**"
   ]
  },
  {
   "cell_type": "code",
   "execution_count": 51,
   "metadata": {},
   "outputs": [],
   "source": [
    "def clean_and_transform(dataframe):\n",
    "    # Perform the split and stack operation on 'crm_cd_desc'\n",
    "    crm_cd_desc_split = dataframe['crm_cd_desc'].str.split(',', expand=True).stack().str.strip().reset_index(level=1, drop=True)\n",
    "    crm_cd_desc_split.name = 'crime'  # Renaming the resulting Series for clarity\n",
    "\n",
    "    # Join the expanded 'crm_cd_desc' with the original DataFrame based on the index,\n",
    "    # which contains 'dr_no' and any other additional columns\n",
    "    dataframe = dataframe.drop(columns=['crm_cd_desc']).join(crm_cd_desc_split).reset_index(drop=True)\n",
    "\n",
    "    # Change the new 'crime' column from being the last one to be the tenth column from the left\n",
    "    columns = list(dataframe.columns)\n",
    "    # First, remove the 'crime' column name\n",
    "    columns.remove('crime')\n",
    "    # Then insert 'crime' at the desired position\n",
    "    columns.insert(9, 'crime')\n",
    "    # Now, reindex the DataFrame with the new columns order\n",
    "    dataframe = dataframe.reindex(columns=columns)\n",
    "    return dataframe\n",
    "\n",
    "# Assuming data_crime_2019_copy and data_crime_2024_copy are your DataFrames\n",
    "data_crime_2019_copy = clean_and_transform(data_crime_2019_copy)\n",
    "data_crime_2024_copy = clean_and_transform(data_crime_2024_copy)\n",
    "\n"
   ]
  },
  {
   "cell_type": "code",
   "execution_count": 52,
   "metadata": {},
   "outputs": [
    {
     "data": {
      "text/html": [
       "<div>\n",
       "<style scoped>\n",
       "    .dataframe tbody tr th:only-of-type {\n",
       "        vertical-align: middle;\n",
       "    }\n",
       "\n",
       "    .dataframe tbody tr th {\n",
       "        vertical-align: top;\n",
       "    }\n",
       "\n",
       "    .dataframe thead th {\n",
       "        text-align: right;\n",
       "    }\n",
       "</style>\n",
       "<table border=\"1\" class=\"dataframe\">\n",
       "  <thead>\n",
       "    <tr style=\"text-align: right;\">\n",
       "      <th></th>\n",
       "      <th>unnamed:_0</th>\n",
       "      <th>dr_no</th>\n",
       "      <th>date_rptd</th>\n",
       "      <th>date_occ</th>\n",
       "      <th>time_occ</th>\n",
       "      <th>area_</th>\n",
       "      <th>area_name</th>\n",
       "      <th>rpt_dist_no</th>\n",
       "      <th>part_1-2</th>\n",
       "      <th>crime</th>\n",
       "      <th>crm_cd</th>\n",
       "      <th>vict_age</th>\n",
       "      <th>vict_sex</th>\n",
       "      <th>vict_descent</th>\n",
       "      <th>premis_cd</th>\n",
       "      <th>premis_desc</th>\n",
       "      <th>status</th>\n",
       "      <th>status_desc</th>\n",
       "      <th>crm_cd_1</th>\n",
       "      <th>location</th>\n",
       "    </tr>\n",
       "  </thead>\n",
       "  <tbody>\n",
       "    <tr>\n",
       "      <th>0</th>\n",
       "      <td>0</td>\n",
       "      <td>1307355</td>\n",
       "      <td>02/20/2010 12:00:00 AM</td>\n",
       "      <td>02/20/2010 12:00:00 AM</td>\n",
       "      <td>1350</td>\n",
       "      <td>13</td>\n",
       "      <td>Newton</td>\n",
       "      <td>1385</td>\n",
       "      <td>2</td>\n",
       "      <td>VIOLATION OF COURT ORDER</td>\n",
       "      <td>900</td>\n",
       "      <td>48</td>\n",
       "      <td>M</td>\n",
       "      <td>H</td>\n",
       "      <td>501.0</td>\n",
       "      <td>SINGLE FAMILY DWELLING</td>\n",
       "      <td>AA</td>\n",
       "      <td>Adult Arrest</td>\n",
       "      <td>900.0</td>\n",
       "      <td>300 E  GAGE                         AV</td>\n",
       "    </tr>\n",
       "    <tr>\n",
       "      <th>1</th>\n",
       "      <td>3</td>\n",
       "      <td>90631215</td>\n",
       "      <td>01/05/2010 12:00:00 AM</td>\n",
       "      <td>01/05/2010 12:00:00 AM</td>\n",
       "      <td>150</td>\n",
       "      <td>6</td>\n",
       "      <td>Hollywood</td>\n",
       "      <td>646</td>\n",
       "      <td>2</td>\n",
       "      <td>VIOLATION OF COURT ORDER</td>\n",
       "      <td>900</td>\n",
       "      <td>47</td>\n",
       "      <td>F</td>\n",
       "      <td>W</td>\n",
       "      <td>101.0</td>\n",
       "      <td>STREET</td>\n",
       "      <td>IC</td>\n",
       "      <td>Invest Cont</td>\n",
       "      <td>900.0</td>\n",
       "      <td>CAHUENGA                     BL</td>\n",
       "    </tr>\n",
       "    <tr>\n",
       "      <th>2</th>\n",
       "      <td>4</td>\n",
       "      <td>100100501</td>\n",
       "      <td>01/03/2010 12:00:00 AM</td>\n",
       "      <td>01/02/2010 12:00:00 AM</td>\n",
       "      <td>2100</td>\n",
       "      <td>1</td>\n",
       "      <td>Central</td>\n",
       "      <td>176</td>\n",
       "      <td>1</td>\n",
       "      <td>RAPE</td>\n",
       "      <td>122</td>\n",
       "      <td>47</td>\n",
       "      <td>F</td>\n",
       "      <td>H</td>\n",
       "      <td>103.0</td>\n",
       "      <td>ALLEY</td>\n",
       "      <td>IC</td>\n",
       "      <td>Invest Cont</td>\n",
       "      <td>122.0</td>\n",
       "      <td>8TH                          ST</td>\n",
       "    </tr>\n",
       "    <tr>\n",
       "      <th>3</th>\n",
       "      <td>4</td>\n",
       "      <td>100100501</td>\n",
       "      <td>01/03/2010 12:00:00 AM</td>\n",
       "      <td>01/02/2010 12:00:00 AM</td>\n",
       "      <td>2100</td>\n",
       "      <td>1</td>\n",
       "      <td>Central</td>\n",
       "      <td>176</td>\n",
       "      <td>1</td>\n",
       "      <td>ATTEMPTED</td>\n",
       "      <td>122</td>\n",
       "      <td>47</td>\n",
       "      <td>F</td>\n",
       "      <td>H</td>\n",
       "      <td>103.0</td>\n",
       "      <td>ALLEY</td>\n",
       "      <td>IC</td>\n",
       "      <td>Invest Cont</td>\n",
       "      <td>122.0</td>\n",
       "      <td>8TH                          ST</td>\n",
       "    </tr>\n",
       "    <tr>\n",
       "      <th>4</th>\n",
       "      <td>5</td>\n",
       "      <td>100100506</td>\n",
       "      <td>01/05/2010 12:00:00 AM</td>\n",
       "      <td>01/04/2010 12:00:00 AM</td>\n",
       "      <td>1650</td>\n",
       "      <td>1</td>\n",
       "      <td>Central</td>\n",
       "      <td>162</td>\n",
       "      <td>1</td>\n",
       "      <td>SHOPLIFTING - PETTY THEFT ($950 &amp; UNDER)</td>\n",
       "      <td>442</td>\n",
       "      <td>23</td>\n",
       "      <td>M</td>\n",
       "      <td>B</td>\n",
       "      <td>404.0</td>\n",
       "      <td>DEPARTMENT STORE</td>\n",
       "      <td>AA</td>\n",
       "      <td>Adult Arrest</td>\n",
       "      <td>442.0</td>\n",
       "      <td>700 W  7TH                          ST</td>\n",
       "    </tr>\n",
       "  </tbody>\n",
       "</table>\n",
       "</div>"
      ],
      "text/plain": [
       "   unnamed:_0      dr_no               date_rptd                date_occ  \\\n",
       "0           0    1307355  02/20/2010 12:00:00 AM  02/20/2010 12:00:00 AM   \n",
       "1           3   90631215  01/05/2010 12:00:00 AM  01/05/2010 12:00:00 AM   \n",
       "2           4  100100501  01/03/2010 12:00:00 AM  01/02/2010 12:00:00 AM   \n",
       "3           4  100100501  01/03/2010 12:00:00 AM  01/02/2010 12:00:00 AM   \n",
       "4           5  100100506  01/05/2010 12:00:00 AM  01/04/2010 12:00:00 AM   \n",
       "\n",
       "   time_occ  area_  area_name  rpt_dist_no  part_1-2  \\\n",
       "0      1350     13     Newton         1385         2   \n",
       "1       150      6  Hollywood          646         2   \n",
       "2      2100      1    Central          176         1   \n",
       "3      2100      1    Central          176         1   \n",
       "4      1650      1    Central          162         1   \n",
       "\n",
       "                                      crime  crm_cd  vict_age vict_sex  \\\n",
       "0                  VIOLATION OF COURT ORDER     900        48        M   \n",
       "1                  VIOLATION OF COURT ORDER     900        47        F   \n",
       "2                                      RAPE     122        47        F   \n",
       "3                                 ATTEMPTED     122        47        F   \n",
       "4  SHOPLIFTING - PETTY THEFT ($950 & UNDER)     442        23        M   \n",
       "\n",
       "  vict_descent  premis_cd             premis_desc status   status_desc  \\\n",
       "0            H      501.0  SINGLE FAMILY DWELLING     AA  Adult Arrest   \n",
       "1            W      101.0                  STREET     IC   Invest Cont   \n",
       "2            H      103.0                   ALLEY     IC   Invest Cont   \n",
       "3            H      103.0                   ALLEY     IC   Invest Cont   \n",
       "4            B      404.0        DEPARTMENT STORE     AA  Adult Arrest   \n",
       "\n",
       "   crm_cd_1                                location  \n",
       "0     900.0  300 E  GAGE                         AV  \n",
       "1     900.0         CAHUENGA                     BL  \n",
       "2     122.0         8TH                          ST  \n",
       "3     122.0         8TH                          ST  \n",
       "4     442.0  700 W  7TH                          ST  "
      ]
     },
     "execution_count": 52,
     "metadata": {},
     "output_type": "execute_result"
    }
   ],
   "source": [
    "data_crime_2019_copy.head()"
   ]
  },
  {
   "cell_type": "code",
   "execution_count": 53,
   "metadata": {},
   "outputs": [
    {
     "data": {
      "text/html": [
       "<div>\n",
       "<style scoped>\n",
       "    .dataframe tbody tr th:only-of-type {\n",
       "        vertical-align: middle;\n",
       "    }\n",
       "\n",
       "    .dataframe tbody tr th {\n",
       "        vertical-align: top;\n",
       "    }\n",
       "\n",
       "    .dataframe thead th {\n",
       "        text-align: right;\n",
       "    }\n",
       "</style>\n",
       "<table border=\"1\" class=\"dataframe\">\n",
       "  <thead>\n",
       "    <tr style=\"text-align: right;\">\n",
       "      <th></th>\n",
       "      <th>dr_no</th>\n",
       "      <th>date_rptd</th>\n",
       "      <th>date_occ</th>\n",
       "      <th>time_occ</th>\n",
       "      <th>area</th>\n",
       "      <th>area_name</th>\n",
       "      <th>rpt_dist_no</th>\n",
       "      <th>part_1_2</th>\n",
       "      <th>crm_cd</th>\n",
       "      <th>crime</th>\n",
       "      <th>vict_age</th>\n",
       "      <th>vict_sex</th>\n",
       "      <th>vict_descent</th>\n",
       "      <th>premis_cd</th>\n",
       "      <th>premis_desc</th>\n",
       "      <th>status</th>\n",
       "      <th>status_desc</th>\n",
       "      <th>crm_cd_1</th>\n",
       "      <th>crm_cd_2</th>\n",
       "      <th>location</th>\n",
       "      <th>lat</th>\n",
       "      <th>lon</th>\n",
       "      <th>mocodes</th>\n",
       "      <th>weapon_used_cd</th>\n",
       "      <th>weapon_desc</th>\n",
       "      <th>cross_street</th>\n",
       "      <th>crm_cd_3</th>\n",
       "    </tr>\n",
       "  </thead>\n",
       "  <tbody>\n",
       "    <tr>\n",
       "      <th>0</th>\n",
       "      <td>200106753</td>\n",
       "      <td>2020-02-09T00:00:00.000</td>\n",
       "      <td>2020-02-08T00:00:00.000</td>\n",
       "      <td>1800</td>\n",
       "      <td>1</td>\n",
       "      <td>Central</td>\n",
       "      <td>182</td>\n",
       "      <td>1</td>\n",
       "      <td>330</td>\n",
       "      <td>BURGLARY FROM VEHICLE</td>\n",
       "      <td>47</td>\n",
       "      <td>M</td>\n",
       "      <td>O</td>\n",
       "      <td>128</td>\n",
       "      <td>BUS STOP/LAYOVER (ALSO QUERY 124)</td>\n",
       "      <td>IC</td>\n",
       "      <td>Invest Cont</td>\n",
       "      <td>330</td>\n",
       "      <td>998.0</td>\n",
       "      <td>1000 S  FLOWER                       ST</td>\n",
       "      <td>34.0444</td>\n",
       "      <td>-118.2628</td>\n",
       "      <td>1822 1402 0344</td>\n",
       "      <td>NaN</td>\n",
       "      <td>NaN</td>\n",
       "      <td>NaN</td>\n",
       "      <td>NaN</td>\n",
       "    </tr>\n",
       "    <tr>\n",
       "      <th>1</th>\n",
       "      <td>200320258</td>\n",
       "      <td>2020-11-11T00:00:00.000</td>\n",
       "      <td>2020-11-04T00:00:00.000</td>\n",
       "      <td>1700</td>\n",
       "      <td>3</td>\n",
       "      <td>Southwest</td>\n",
       "      <td>356</td>\n",
       "      <td>1</td>\n",
       "      <td>480</td>\n",
       "      <td>BIKE - STOLEN</td>\n",
       "      <td>19</td>\n",
       "      <td>X</td>\n",
       "      <td>X</td>\n",
       "      <td>502</td>\n",
       "      <td>MULTI-UNIT DWELLING (APARTMENT, DUPLEX, ETC)</td>\n",
       "      <td>IC</td>\n",
       "      <td>Invest Cont</td>\n",
       "      <td>480</td>\n",
       "      <td>NaN</td>\n",
       "      <td>1400 W  37TH                         ST</td>\n",
       "      <td>34.0210</td>\n",
       "      <td>-118.3002</td>\n",
       "      <td>0344 1251</td>\n",
       "      <td>NaN</td>\n",
       "      <td>NaN</td>\n",
       "      <td>NaN</td>\n",
       "      <td>NaN</td>\n",
       "    </tr>\n",
       "    <tr>\n",
       "      <th>2</th>\n",
       "      <td>200907217</td>\n",
       "      <td>2023-05-10T00:00:00.000</td>\n",
       "      <td>2020-03-10T00:00:00.000</td>\n",
       "      <td>2037</td>\n",
       "      <td>9</td>\n",
       "      <td>Van Nuys</td>\n",
       "      <td>964</td>\n",
       "      <td>1</td>\n",
       "      <td>343</td>\n",
       "      <td>SHOPLIFTING-GRAND THEFT ($950.01 &amp; OVER)</td>\n",
       "      <td>19</td>\n",
       "      <td>M</td>\n",
       "      <td>O</td>\n",
       "      <td>405</td>\n",
       "      <td>CLOTHING STORE</td>\n",
       "      <td>IC</td>\n",
       "      <td>Invest Cont</td>\n",
       "      <td>343</td>\n",
       "      <td>NaN</td>\n",
       "      <td>14000    RIVERSIDE                    DR</td>\n",
       "      <td>34.1576</td>\n",
       "      <td>-118.4387</td>\n",
       "      <td>0325 1501</td>\n",
       "      <td>NaN</td>\n",
       "      <td>NaN</td>\n",
       "      <td>NaN</td>\n",
       "      <td>NaN</td>\n",
       "    </tr>\n",
       "    <tr>\n",
       "      <th>3</th>\n",
       "      <td>220614831</td>\n",
       "      <td>2022-08-18T00:00:00.000</td>\n",
       "      <td>2020-08-17T00:00:00.000</td>\n",
       "      <td>1200</td>\n",
       "      <td>6</td>\n",
       "      <td>Hollywood</td>\n",
       "      <td>666</td>\n",
       "      <td>2</td>\n",
       "      <td>354</td>\n",
       "      <td>THEFT OF IDENTITY</td>\n",
       "      <td>28</td>\n",
       "      <td>M</td>\n",
       "      <td>H</td>\n",
       "      <td>102</td>\n",
       "      <td>SIDEWALK</td>\n",
       "      <td>IC</td>\n",
       "      <td>Invest Cont</td>\n",
       "      <td>354</td>\n",
       "      <td>NaN</td>\n",
       "      <td>1900    TRANSIENT</td>\n",
       "      <td>34.0944</td>\n",
       "      <td>-118.3277</td>\n",
       "      <td>1822 1501 0930 2004</td>\n",
       "      <td>NaN</td>\n",
       "      <td>NaN</td>\n",
       "      <td>NaN</td>\n",
       "      <td>NaN</td>\n",
       "    </tr>\n",
       "    <tr>\n",
       "      <th>4</th>\n",
       "      <td>231808869</td>\n",
       "      <td>2023-04-04T00:00:00.000</td>\n",
       "      <td>2020-12-01T00:00:00.000</td>\n",
       "      <td>2300</td>\n",
       "      <td>18</td>\n",
       "      <td>Southeast</td>\n",
       "      <td>1826</td>\n",
       "      <td>2</td>\n",
       "      <td>354</td>\n",
       "      <td>THEFT OF IDENTITY</td>\n",
       "      <td>41</td>\n",
       "      <td>M</td>\n",
       "      <td>H</td>\n",
       "      <td>501</td>\n",
       "      <td>SINGLE FAMILY DWELLING</td>\n",
       "      <td>IC</td>\n",
       "      <td>Invest Cont</td>\n",
       "      <td>354</td>\n",
       "      <td>NaN</td>\n",
       "      <td>9900    COMPTON                      AV</td>\n",
       "      <td>33.9467</td>\n",
       "      <td>-118.2463</td>\n",
       "      <td>1822 0100 0930 0929</td>\n",
       "      <td>NaN</td>\n",
       "      <td>NaN</td>\n",
       "      <td>NaN</td>\n",
       "      <td>NaN</td>\n",
       "    </tr>\n",
       "  </tbody>\n",
       "</table>\n",
       "</div>"
      ],
      "text/plain": [
       "       dr_no                date_rptd                 date_occ  time_occ  \\\n",
       "0  200106753  2020-02-09T00:00:00.000  2020-02-08T00:00:00.000      1800   \n",
       "1  200320258  2020-11-11T00:00:00.000  2020-11-04T00:00:00.000      1700   \n",
       "2  200907217  2023-05-10T00:00:00.000  2020-03-10T00:00:00.000      2037   \n",
       "3  220614831  2022-08-18T00:00:00.000  2020-08-17T00:00:00.000      1200   \n",
       "4  231808869  2023-04-04T00:00:00.000  2020-12-01T00:00:00.000      2300   \n",
       "\n",
       "   area  area_name  rpt_dist_no  part_1_2  crm_cd  \\\n",
       "0     1    Central          182         1     330   \n",
       "1     3  Southwest          356         1     480   \n",
       "2     9   Van Nuys          964         1     343   \n",
       "3     6  Hollywood          666         2     354   \n",
       "4    18  Southeast         1826         2     354   \n",
       "\n",
       "                                      crime  vict_age vict_sex vict_descent  \\\n",
       "0                     BURGLARY FROM VEHICLE        47        M            O   \n",
       "1                             BIKE - STOLEN        19        X            X   \n",
       "2  SHOPLIFTING-GRAND THEFT ($950.01 & OVER)        19        M            O   \n",
       "3                         THEFT OF IDENTITY        28        M            H   \n",
       "4                         THEFT OF IDENTITY        41        M            H   \n",
       "\n",
       "   premis_cd                                   premis_desc status  \\\n",
       "0        128             BUS STOP/LAYOVER (ALSO QUERY 124)     IC   \n",
       "1        502  MULTI-UNIT DWELLING (APARTMENT, DUPLEX, ETC)     IC   \n",
       "2        405                                CLOTHING STORE     IC   \n",
       "3        102                                      SIDEWALK     IC   \n",
       "4        501                        SINGLE FAMILY DWELLING     IC   \n",
       "\n",
       "   status_desc  crm_cd_1  crm_cd_2                                  location  \\\n",
       "0  Invest Cont       330     998.0   1000 S  FLOWER                       ST   \n",
       "1  Invest Cont       480       NaN   1400 W  37TH                         ST   \n",
       "2  Invest Cont       343       NaN  14000    RIVERSIDE                    DR   \n",
       "3  Invest Cont       354       NaN                         1900    TRANSIENT   \n",
       "4  Invest Cont       354       NaN   9900    COMPTON                      AV   \n",
       "\n",
       "       lat       lon              mocodes  weapon_used_cd weapon_desc  \\\n",
       "0  34.0444 -118.2628       1822 1402 0344             NaN         NaN   \n",
       "1  34.0210 -118.3002            0344 1251             NaN         NaN   \n",
       "2  34.1576 -118.4387            0325 1501             NaN         NaN   \n",
       "3  34.0944 -118.3277  1822 1501 0930 2004             NaN         NaN   \n",
       "4  33.9467 -118.2463  1822 0100 0930 0929             NaN         NaN   \n",
       "\n",
       "  cross_street  crm_cd_3  \n",
       "0          NaN       NaN  \n",
       "1          NaN       NaN  \n",
       "2          NaN       NaN  \n",
       "3          NaN       NaN  \n",
       "4          NaN       NaN  "
      ]
     },
     "execution_count": 53,
     "metadata": {},
     "output_type": "execute_result"
    }
   ],
   "source": [
    "data_crime_2024_copy.head()"
   ]
  },
  {
   "cell_type": "code",
   "execution_count": 54,
   "metadata": {
    "id": "q6I_Sr7lxXi5"
   },
   "outputs": [
    {
     "name": "stdout",
     "output_type": "stream",
     "text": [
      "(2304365, 20)\n",
      "(1122, 27)\n"
     ]
    }
   ],
   "source": [
    "#FILL IN - Validate the cleaning was successful\n",
    "print(data_crime_2019_copy.shape)\n",
    "print(data_crime_2024_copy.shape)"
   ]
  },
  {
   "cell_type": "markdown",
   "metadata": {},
   "source": [
    "Justification:\n",
    ">### We encountered multiple variables stored within one column and resolved it as follows:\n",
    "> #### we had a multipul variable inside one column then we solve it as :\n",
    "> #### We split the 'crm cd desc' column based on the comma delimiter to create a list of crimes.\n",
    "> #### We then exploded this list, creating a new row for each crime while retaining the associated 'dr_no' column.\n",
    "> #### With each crime now on its own row, we reorganized the DataFrame to position the new 'crime' column at the desired tenth position"
   ]
  },
  {
   "cell_type": "markdown",
   "metadata": {},
   "source": [
    "### **Remove unnecessary variables and combine datasets**\n",
    "\n",
    "Depending on the datasets, you can also peform the combination before the cleaning steps."
   ]
  },
  {
   "cell_type": "code",
   "execution_count": 55,
   "metadata": {},
   "outputs": [],
   "source": [
    "#Remove unnecessary variables and combine datasets\n",
    "data_crime_2019_copy.drop(columns=[ 'date_rptd', 'date_occ', 'time_occ', 'area_', 'area_name',\n",
    "       'rpt_dist_no', 'part_1-2', 'premis_cd', 'premis_desc', 'status', 'crm_cd_1'],inplace=True)\n",
    "data_crime_2024_copy.drop(columns=['date_rptd', 'date_occ', 'time_occ', 'area', 'area_name',\n",
    "       'rpt_dist_no', 'part_1_2', 'premis_cd', 'premis_desc', 'status','crm_cd_1','crm_cd_2','lat','lon','mocodes','weapon_used_cd','weapon_desc','cross_street','crm_cd_3'],inplace=True)\n",
    "\n"
   ]
  },
  {
   "cell_type": "markdown",
   "metadata": {
    "id": "F42urHuzttjF"
   },
   "source": [
    "## 4. Update your data store\n",
    "Update your local database/data store with the cleaned data, following best practices for storing your cleaned data:\n",
    "\n",
    "- Must maintain different instances / versions of data (raw and cleaned data)\n",
    "- Must name the dataset files informatively\n",
    "- Ensure both the raw and cleaned data is saved to your database/data store"
   ]
  },
  {
   "cell_type": "code",
   "execution_count": 56,
   "metadata": {},
   "outputs": [],
   "source": [
    "from sqlalchemy import create_engine"
   ]
  },
  {
   "cell_type": "code",
   "execution_count": 57,
   "metadata": {
    "id": "V3uay7EJUV_L"
   },
   "outputs": [
    {
     "data": {
      "text/html": [
       "<div>\n",
       "<style scoped>\n",
       "    .dataframe tbody tr th:only-of-type {\n",
       "        vertical-align: middle;\n",
       "    }\n",
       "\n",
       "    .dataframe tbody tr th {\n",
       "        vertical-align: top;\n",
       "    }\n",
       "\n",
       "    .dataframe thead th {\n",
       "        text-align: right;\n",
       "    }\n",
       "</style>\n",
       "<table border=\"1\" class=\"dataframe\">\n",
       "  <thead>\n",
       "    <tr style=\"text-align: right;\">\n",
       "      <th></th>\n",
       "      <th>unnamed:_0</th>\n",
       "      <th>dr_no</th>\n",
       "      <th>crime</th>\n",
       "      <th>crm_cd</th>\n",
       "      <th>vict_age</th>\n",
       "      <th>vict_sex</th>\n",
       "      <th>vict_descent</th>\n",
       "      <th>status_desc</th>\n",
       "      <th>location</th>\n",
       "    </tr>\n",
       "  </thead>\n",
       "  <tbody>\n",
       "    <tr>\n",
       "      <th>0</th>\n",
       "      <td>0.0</td>\n",
       "      <td>1307355</td>\n",
       "      <td>VIOLATION OF COURT ORDER</td>\n",
       "      <td>900</td>\n",
       "      <td>48</td>\n",
       "      <td>M</td>\n",
       "      <td>H</td>\n",
       "      <td>Adult Arrest</td>\n",
       "      <td>300 E  GAGE                         AV</td>\n",
       "    </tr>\n",
       "    <tr>\n",
       "      <th>1</th>\n",
       "      <td>3.0</td>\n",
       "      <td>90631215</td>\n",
       "      <td>VIOLATION OF COURT ORDER</td>\n",
       "      <td>900</td>\n",
       "      <td>47</td>\n",
       "      <td>F</td>\n",
       "      <td>W</td>\n",
       "      <td>Invest Cont</td>\n",
       "      <td>CAHUENGA                     BL</td>\n",
       "    </tr>\n",
       "    <tr>\n",
       "      <th>2</th>\n",
       "      <td>4.0</td>\n",
       "      <td>100100501</td>\n",
       "      <td>RAPE</td>\n",
       "      <td>122</td>\n",
       "      <td>47</td>\n",
       "      <td>F</td>\n",
       "      <td>H</td>\n",
       "      <td>Invest Cont</td>\n",
       "      <td>8TH                          ST</td>\n",
       "    </tr>\n",
       "    <tr>\n",
       "      <th>3</th>\n",
       "      <td>4.0</td>\n",
       "      <td>100100501</td>\n",
       "      <td>ATTEMPTED</td>\n",
       "      <td>122</td>\n",
       "      <td>47</td>\n",
       "      <td>F</td>\n",
       "      <td>H</td>\n",
       "      <td>Invest Cont</td>\n",
       "      <td>8TH                          ST</td>\n",
       "    </tr>\n",
       "    <tr>\n",
       "      <th>4</th>\n",
       "      <td>5.0</td>\n",
       "      <td>100100506</td>\n",
       "      <td>SHOPLIFTING - PETTY THEFT ($950 &amp; UNDER)</td>\n",
       "      <td>442</td>\n",
       "      <td>23</td>\n",
       "      <td>M</td>\n",
       "      <td>B</td>\n",
       "      <td>Adult Arrest</td>\n",
       "      <td>700 W  7TH                          ST</td>\n",
       "    </tr>\n",
       "  </tbody>\n",
       "</table>\n",
       "</div>"
      ],
      "text/plain": [
       "   unnamed:_0      dr_no                                     crime  crm_cd  \\\n",
       "0         0.0    1307355                  VIOLATION OF COURT ORDER     900   \n",
       "1         3.0   90631215                  VIOLATION OF COURT ORDER     900   \n",
       "2         4.0  100100501                                      RAPE     122   \n",
       "3         4.0  100100501                                 ATTEMPTED     122   \n",
       "4         5.0  100100506  SHOPLIFTING - PETTY THEFT ($950 & UNDER)     442   \n",
       "\n",
       "   vict_age vict_sex vict_descent   status_desc  \\\n",
       "0        48        M            H  Adult Arrest   \n",
       "1        47        F            W   Invest Cont   \n",
       "2        47        F            H   Invest Cont   \n",
       "3        47        F            H   Invest Cont   \n",
       "4        23        M            B  Adult Arrest   \n",
       "\n",
       "                                 location  \n",
       "0  300 E  GAGE                         AV  \n",
       "1         CAHUENGA                     BL  \n",
       "2         8TH                          ST  \n",
       "3         8TH                          ST  \n",
       "4  700 W  7TH                          ST  "
      ]
     },
     "execution_count": 57,
     "metadata": {},
     "output_type": "execute_result"
    }
   ],
   "source": [
    "\n",
    "cleaned_data_crime=pd.concat([data_crime_2019_copy,data_crime_2024_copy])\n",
    "cleaned_data_crime.head()"
   ]
  },
  {
   "cell_type": "code",
   "execution_count": 58,
   "metadata": {},
   "outputs": [
    {
     "name": "stdout",
     "output_type": "stream",
     "text": [
      "<class 'pandas.core.frame.DataFrame'>\n",
      "Index: 2305487 entries, 0 to 1121\n",
      "Data columns (total 9 columns):\n",
      " #   Column        Dtype  \n",
      "---  ------        -----  \n",
      " 0   unnamed:_0    float64\n",
      " 1   dr_no         int64  \n",
      " 2   crime         object \n",
      " 3   crm_cd        int8   \n",
      " 4   vict_age      int8   \n",
      " 5   vict_sex      object \n",
      " 6   vict_descent  object \n",
      " 7   status_desc   object \n",
      " 8   location      object \n",
      "dtypes: float64(1), int64(1), int8(2), object(5)\n",
      "memory usage: 145.1+ MB\n"
     ]
    }
   ],
   "source": [
    "#optimize cleaned data\n",
    "\n",
    "cleaned_data_crime=cleaned_data_crime.astype({'crm_cd':'int8','vict_age':'int8'})\n",
    "cleaned_data_crime.info()"
   ]
  },
  {
   "cell_type": "code",
   "execution_count": 115,
   "metadata": {},
   "outputs": [],
   "source": [
    "#row data \n",
    "second_copy_2019=data_crime_2019.copy()\n",
    "second_copy_2024=data_crime_2020_2024.copy()"
   ]
  },
  {
   "cell_type": "markdown",
   "metadata": {},
   "source": [
    "### Saving Row data"
   ]
  },
  {
   "cell_type": "code",
   "execution_count": null,
   "metadata": {},
   "outputs": [],
   "source": [
    "second_copy_2019.rename(columns=lambda x: x.lower(), inplace=True)\n",
    "second_copy_2019.columns = second_copy_2019.columns.str.replace(' ', '_')\n",
    "#row data \n",
    "row_data=pd.concat([second_copy_2019,second_copy_2024])\n",
    "#saving_raw_data\n",
    "row_data.to_csv('row_data.csv',index=False)\n",
    "# Save DataFrame to SQLite database\n",
    "engine = create_engine('sqlite:///datacrime.db')  # Replace 'database.db' with your desired SQLite database file name\n",
    "row_data.to_sql('row_data_2019_2024', engine, index=False, if_exists='replace') "
   ]
  },
  {
   "cell_type": "markdown",
   "metadata": {},
   "source": [
    "### saving Clean Data crime"
   ]
  },
  {
   "cell_type": "code",
   "execution_count": null,
   "metadata": {},
   "outputs": [],
   "source": [
    "#saving cleaned_data_crime to csv file\n",
    "cleaned_data_crime.to_csv('clean_data_crime.csv',index=False)\n",
    "#saving cleaned_data_crime to sqlite table\n",
    "cleaned_data_crime.to_sql('cleaned_data_crime_2019_2024',engine,index=False,if_exists='replace')"
   ]
  },
  {
   "cell_type": "markdown",
   "metadata": {
    "id": "cGy_yddGtzhM"
   },
   "source": [
    "## 5. Answer the research question\n",
    "\n",
    "### **5.1:** Define and answer the research question \n",
    "Going back to the problem statement in step 1, use the cleaned data to answer the question you raised. Produce **at least** two visualizations using the cleaned data and explain how they help you answer the question."
   ]
  },
  {
   "cell_type": "code",
   "execution_count": 59,
   "metadata": {},
   "outputs": [],
   "source": [
    "#we will use copy of cleaned data\n",
    "df=cleaned_data_crime.copy()"
   ]
  },
  {
   "cell_type": "code",
   "execution_count": 60,
   "metadata": {},
   "outputs": [
    {
     "data": {
      "text/html": [
       "<div>\n",
       "<style scoped>\n",
       "    .dataframe tbody tr th:only-of-type {\n",
       "        vertical-align: middle;\n",
       "    }\n",
       "\n",
       "    .dataframe tbody tr th {\n",
       "        vertical-align: top;\n",
       "    }\n",
       "\n",
       "    .dataframe thead th {\n",
       "        text-align: right;\n",
       "    }\n",
       "</style>\n",
       "<table border=\"1\" class=\"dataframe\">\n",
       "  <thead>\n",
       "    <tr style=\"text-align: right;\">\n",
       "      <th></th>\n",
       "      <th>unnamed:_0</th>\n",
       "      <th>dr_no</th>\n",
       "      <th>crime</th>\n",
       "      <th>crm_cd</th>\n",
       "      <th>vict_age</th>\n",
       "      <th>vict_sex</th>\n",
       "      <th>vict_descent</th>\n",
       "      <th>status_desc</th>\n",
       "      <th>location</th>\n",
       "    </tr>\n",
       "  </thead>\n",
       "  <tbody>\n",
       "    <tr>\n",
       "      <th>0</th>\n",
       "      <td>0.0</td>\n",
       "      <td>1307355</td>\n",
       "      <td>VIOLATION OF COURT ORDER</td>\n",
       "      <td>-124</td>\n",
       "      <td>48</td>\n",
       "      <td>M</td>\n",
       "      <td>H</td>\n",
       "      <td>Adult Arrest</td>\n",
       "      <td>300 E  GAGE                         AV</td>\n",
       "    </tr>\n",
       "    <tr>\n",
       "      <th>1</th>\n",
       "      <td>3.0</td>\n",
       "      <td>90631215</td>\n",
       "      <td>VIOLATION OF COURT ORDER</td>\n",
       "      <td>-124</td>\n",
       "      <td>47</td>\n",
       "      <td>F</td>\n",
       "      <td>W</td>\n",
       "      <td>Invest Cont</td>\n",
       "      <td>CAHUENGA                     BL</td>\n",
       "    </tr>\n",
       "    <tr>\n",
       "      <th>2</th>\n",
       "      <td>4.0</td>\n",
       "      <td>100100501</td>\n",
       "      <td>RAPE</td>\n",
       "      <td>122</td>\n",
       "      <td>47</td>\n",
       "      <td>F</td>\n",
       "      <td>H</td>\n",
       "      <td>Invest Cont</td>\n",
       "      <td>8TH                          ST</td>\n",
       "    </tr>\n",
       "    <tr>\n",
       "      <th>3</th>\n",
       "      <td>4.0</td>\n",
       "      <td>100100501</td>\n",
       "      <td>ATTEMPTED</td>\n",
       "      <td>122</td>\n",
       "      <td>47</td>\n",
       "      <td>F</td>\n",
       "      <td>H</td>\n",
       "      <td>Invest Cont</td>\n",
       "      <td>8TH                          ST</td>\n",
       "    </tr>\n",
       "    <tr>\n",
       "      <th>4</th>\n",
       "      <td>5.0</td>\n",
       "      <td>100100506</td>\n",
       "      <td>SHOPLIFTING - PETTY THEFT ($950 &amp; UNDER)</td>\n",
       "      <td>-70</td>\n",
       "      <td>23</td>\n",
       "      <td>M</td>\n",
       "      <td>B</td>\n",
       "      <td>Adult Arrest</td>\n",
       "      <td>700 W  7TH                          ST</td>\n",
       "    </tr>\n",
       "  </tbody>\n",
       "</table>\n",
       "</div>"
      ],
      "text/plain": [
       "   unnamed:_0      dr_no                                     crime  crm_cd  \\\n",
       "0         0.0    1307355                  VIOLATION OF COURT ORDER    -124   \n",
       "1         3.0   90631215                  VIOLATION OF COURT ORDER    -124   \n",
       "2         4.0  100100501                                      RAPE     122   \n",
       "3         4.0  100100501                                 ATTEMPTED     122   \n",
       "4         5.0  100100506  SHOPLIFTING - PETTY THEFT ($950 & UNDER)     -70   \n",
       "\n",
       "   vict_age vict_sex vict_descent   status_desc  \\\n",
       "0        48        M            H  Adult Arrest   \n",
       "1        47        F            W   Invest Cont   \n",
       "2        47        F            H   Invest Cont   \n",
       "3        47        F            H   Invest Cont   \n",
       "4        23        M            B  Adult Arrest   \n",
       "\n",
       "                                 location  \n",
       "0  300 E  GAGE                         AV  \n",
       "1         CAHUENGA                     BL  \n",
       "2         8TH                          ST  \n",
       "3         8TH                          ST  \n",
       "4  700 W  7TH                          ST  "
      ]
     },
     "execution_count": 60,
     "metadata": {},
     "output_type": "execute_result"
    }
   ],
   "source": [
    "df.head(5)"
   ]
  },
  {
   "cell_type": "markdown",
   "metadata": {},
   "source": [
    "### What are the top Ten most common types of crimes reported in Los Angeles?"
   ]
  },
  {
   "cell_type": "code",
   "execution_count": 61,
   "metadata": {},
   "outputs": [],
   "source": [
    "import seaborn as sns\n",
    "Top_crimes=df.crime.value_counts(sort=True).head(10).index\n",
    "df_top_ten=df[df['crime'].isin(Top_crimes)]"
   ]
  },
  {
   "cell_type": "code",
   "execution_count": 62,
   "metadata": {},
   "outputs": [
    {
     "data": {
      "text/plain": [
       "crime\n",
       "BATTERY - SIMPLE ASSAULT              188755\n",
       "BURGLARY FROM VEHICLE                 161904\n",
       "BURGLARY                              138347\n",
       "THEFT PLAIN - PETTY ($950 & UNDER)    130989\n",
       "THEFT OF IDENTITY                     128484\n",
       "INTIMATE PARTNER - SIMPLE ASSAULT     114057\n",
       "VANDALISM - FELONY ($400 & OVER        92039\n",
       "ALL CHURCH VANDALISMS)                 92039\n",
       "ASSAULT WITH DEADLY WEAPON             90256\n",
       "AGGRAVATED ASSAULT                     90256\n",
       "Name: count, dtype: int64"
      ]
     },
     "execution_count": 62,
     "metadata": {},
     "output_type": "execute_result"
    }
   ],
   "source": [
    "df_top_ten.crime.value_counts()"
   ]
  },
  {
   "cell_type": "code",
   "execution_count": 63,
   "metadata": {},
   "outputs": [
    {
     "data": {
      "image/png": "[encoded data removed]",
      "text/plain": [
       "<Figure size 1500x1000 with 1 Axes>"
      ]
     },
     "metadata": {},
     "output_type": "display_data"
    }
   ],
   "source": [
    "#Visual 1 - FILL IN\n",
    "plt.figure(figsize=(15, 10))\n",
    "base_color = sns.color_palette()[0]\n",
    "sns.countplot(data=df_top_ten, y='crime',color=base_color)\n",
    "plt.title('Count of Top Crimes happened in Los Angeles')\n",
    "plt.xlabel('Crime Type')\n",
    "plt.ylabel('Count of Victims')\n",
    "# plt.xticks(rotation=90)  # Rotate x-axis labels for better readability\n",
    "plt.tight_layout()\n",
    "plt.show();"
   ]
  },
  {
   "cell_type": "markdown",
   "metadata": {
    "id": "gjedE4s4ZkEd"
   },
   "source": [
    "*Research question:* \n",
    "> the top ten crimes in Los Angeles are:\n",
    "\n",
    "> 1-BATTERY - SIMPLE ASSAULT\\\n",
    "> 2-BURGLARY FROM VEHICLE\\\n",
    "> 3-BURGLARY \\\n",
    "> 4-THEFT PLAIN - PETTY\\\n",
    "> 5-THEFT OF IDENTITY\\\n",
    "> 6-INTIMATE PARTNER - SIMPLE ASSAULT\\\n",
    "> 7-VANDALISM - FELONY\\\n",
    "> 8-ALL CHURCH VANDALISMS\\\n",
    "> 9-ASSAULT WITH DEADLY WEAPON\\\n",
    "> 10-AGGRAVATED ASSAULT"
   ]
  },
  {
   "cell_type": "markdown",
   "metadata": {
    "id": "Lkw3rW9kZmOm"
   },
   "source": [
    "### How does the representation of victims for each gender compare to other reported victims in Los Angeles?"
   ]
  },
  {
   "cell_type": "markdown",
   "metadata": {},
   "source": [
    "*Answer to research question:* FILL IN"
   ]
  },
  {
   "cell_type": "code",
   "execution_count": 64,
   "metadata": {
    "id": "6fdK_8ZGZm9R"
   },
   "outputs": [
    {
     "data": {
      "text/plain": [
       "vict_sex\n",
       "M    1156145\n",
       "F    1141112\n",
       "X       8123\n",
       "H         90\n",
       "N         17\n",
       "Name: count, dtype: int64"
      ]
     },
     "execution_count": 64,
     "metadata": {},
     "output_type": "execute_result"
    }
   ],
   "source": [
    "\n",
    "# Count the number of victims for each gender\n",
    "df_gender=df.vict_sex.value_counts()\n",
    "df_gender"
   ]
  },
  {
   "cell_type": "code",
   "execution_count": 65,
   "metadata": {},
   "outputs": [
    {
     "data": {
      "image/png": "[encoded data removed]",
      "text/plain": [
       "<Figure size 800x600 with 1 Axes>"
      ]
     },
     "metadata": {},
     "output_type": "display_data"
    }
   ],
   "source": [
    "#Visual 2 - \n",
    "# Visualize the comparison using a bar chart\n",
    "plt.figure(figsize=(8, 6))\n",
    "df_gender.plot(kind='bar', color=['blue', 'pink'])\n",
    "plt.title('Comparison of Victims by Gender')\n",
    "plt.xlabel('Gender')\n",
    "plt.ylabel('Number of Victims')\n",
    "plt.xticks(rotation=0)\n",
    "plt.show()"
   ]
  },
  {
   "cell_type": "markdown",
   "metadata": {
    "id": "K5RgvMGUZoHn"
   },
   "source": [
    "*Answer to research question:\n",
    "> Based on the provided result:\n",
    "\n",
    "> Male victims: 1,156,145\\\n",
    "Female victims: 1,141,112\\\n",
    "Gender X victims: 8,123\\\n",
    "Gender H victims: 90\\\n",
    "Gender N victims: 17\\\n",
    "This indicates that there were more male victims than female victims reported in Los Angeles. However, it's worth noting that there are also victims categorized under other genders (X, H, N)"
   ]
  },
  {
   "cell_type": "markdown",
   "metadata": {
    "id": "0ezWXXZVj-TP"
   },
   "source": [
    "### **5.2:** Reflection\n",
    "In 2-4 sentences, if you had more time to complete the project, what actions would you take? For example, which data quality and structural issues would you look into further, and what research questions would you further explore?"
   ]
  },
  {
   "cell_type": "markdown",
   "metadata": {
    "id": "XB3RBDG5kFe1"
   },
   "source": [
    "*Answer:* \n",
    "> ##### If I had more time to complete the project, I would prioritize several actions. Firstly, I would focus on improving data quality by converting object data types to datetime where appropriate and filling in missing values instead of dropping columns. Additionally, I would seek out more comprehensive data from 2020 to 2024 to ensure a more robust analysis. In terms of research questions, I would explore the temporal trends of various crime types over the specified timeframe, analyze the effectiveness of crime prevention measures implemented during this period, and investigate the impact of external factors such as socio-economic changes or public policies on crime rates."
   ]
  },
  {
   "cell_type": "code",
   "execution_count": null,
   "metadata": {},
   "outputs": [],
   "source": []
  }
 ],
 "metadata": {
  "colab": {
   "provenance": []
  },
  "kernelspec": {
   "display_name": "Python 3 (ipykernel)",
   "language": "python",
   "name": "python3"
  },
  "language_info": {
   "codemirror_mode": {
    "name": "ipython",
    "version": 3
   },
   "file_extension": ".py",
   "mimetype": "text/x-python",
   "name": "python",
   "nbconvert_exporter": "python",
   "pygments_lexer": "ipython3",
   "version": "3.11.5"
  }
 },
 "nbformat": 4,
 "nbformat_minor": 1
}
