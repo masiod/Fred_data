{
 "cells": [
  {
   "cell_type": "markdown",
   "metadata": {
    "id": "GNIwe5N7s0e_"
   },
   "source": [
    "# Real-world Data Wrangling"
   ]
  },
  {
   "cell_type": "markdown",
   "metadata": {
    "id": "_BG63Tpg8ep_"
   },
   "source": [
    "In this project, you will apply the skills you acquired in the course to gather and wrangle real-world data with two datasets of your choice.\n",
    "\n",
    "You will retrieve and extract the data, assess the data programmatically and visually, accross elements of data quality and structure, and implement a cleaning strategy for the data. You will then store the updated data into your selected database/data store, combine the data, and answer a research question with the datasets.\n",
    "\n",
    "Throughout the process, you are expected to:\n",
    "\n",
    "1. Explain your decisions towards methods used for gathering, assessing, cleaning, storing, and answering the research question\n",
    "2. Write code comments so your code is more readable"
   ]
  },
  {
   "cell_type": "markdown",
   "metadata": {
    "id": "lDYDkH-Zs7Nn"
   },
   "source": [
    "## 1. Gather data\n",
    "\n",
    "In this section, you will extract data using two different data gathering methods and combine the data. Use at least two different types of data-gathering methods."
   ]
  },
  {
   "cell_type": "markdown",
   "metadata": {
    "id": "LbN7z7rcuqpO"
   },
   "source": [
    "### **1.1.** Problem Statement\n",
    "In 2-4 sentences, explain the kind of problem you want to look at and the datasets you will be wrangling for this project."
   ]
  },
  {
   "cell_type": "markdown",
   "metadata": {
    "id": "gi6swhjSYqu2"
   },
   "source": [
    "*FILL IN:*\n",
    "#### What are the top Ten most common types of crimes reported in Los Angeles?\n",
    "#### How does the representation of victims for each gender compare to other reported victims in Los Angeles?"
   ]
  },
  {
   "cell_type": "markdown",
   "metadata": {
    "id": "8AQfBAdUypMm"
   },
   "source": [
    "### **1.2.** Gather at least two datasets using two different data gathering methods\n",
    "\n",
    "List of data gathering methods:\n",
    "\n",
    "- Download data manually\n",
    "- Programmatically downloading files\n",
    "- Gather data by accessing APIs\n",
    "- Gather and extract data from HTML files using BeautifulSoup\n",
    "- Extract data from a SQL database\n",
    "\n",
    "Each dataset must have at least two variables, and have greater than 500 data samples within each dataset.\n",
    "\n",
    "For each dataset, briefly describe why you picked the dataset and the gathering method (2-3 full sentences), including the names and significance of the variables in the dataset. Show your work (e.g., if using an API to download the data, please include a snippet of your code). \n",
    "\n",
    "Load the dataset programmtically into this notebook."
   ]
  },
  {
   "cell_type": "code",
<<<<<<< HEAD
   "execution_count": 54,
=======
   "execution_count": 3,
>>>>>>> 1edd5633b473ba3a65ead99f53116cbf14e3347a
   "metadata": {},
   "outputs": [],
   "source": [
    "import pandas as pd\n",
    "import requests\n",
    "import numpy as np\n",
    "import matplotlib.pyplot as plt\n",
    "import plotly.express as px\n",
    "import missingno as msno\n",
    "from folium import plugins\n",
    "from folium.plugins import HeatMap\n",
    "#chose style for the code \n",
    "plt.style.use('fivethirtyeight')\n",
    "#to disply all columns in the table \n",
    "\n",
    "pd.set_option('display.max_columns', 500)"
   ]
  },
  {
   "cell_type": "markdown",
   "metadata": {
    "id": "7e6gS0wL1KTu"
   },
   "source": [
    "#### **Dataset 1**\n",
    "\n",
    "Type: accessing APIs \n",
    "\n",
    "Method: Gather data by accessing APIs from source data.lacity.org (e.g., The data was gathered using the \"API Access\" method from https://data.lacity.org/Public-Safety/Crime-Data-from-2020-to-Present/2nrs-mtv8/data_preview source.)\n",
    "\n",
    "Dataset variables:\n",
    "\n",
    "*   *Variable 1 FILL IN* (e.g., H_MEAN: Mean hourly wage)\n",
    "*   *Variable 2 FILL IN*"
   ]
  },
  {
   "cell_type": "code",
<<<<<<< HEAD
   "execution_count": 55,
=======
   "execution_count": 4,
>>>>>>> 1edd5633b473ba3a65ead99f53116cbf14e3347a
   "metadata": {
    "id": "Su8E0uLuYkHU"
   },
   "outputs": [],
   "source": [
    "#FILL IN 1st data gathering and loading method\n",
    "#crime data website : https://data.lacity.org/Public-Safety/Crime-Data-from-2020-to-Present/2nrs-mtv8/data_preview\n",
    "\n",
    "data=requests.get('https://data.lacity.org/resource/2nrs-mtv8.json').json()\n",
    "\n",
    "data_crime_2020_2024 = pd.DataFrame.from_dict(data)\n"
   ]
  },
  {
   "cell_type": "markdown",
   "metadata": {
    "id": "hoUjq1tPzz7P"
   },
   "source": [
    "#### Dataset 2\n",
    "\n",
    "Type: CSV File\n",
    "\n",
    "Method:  The data was gathered using the Download data manually method from https://data.lacity.org/ source.)\n",
    "\n",
    "Dataset variables:\n",
    "\n",
    "*   *Variable 1 FILL IN* (e.g., H_MEAN: Mean hourly wage)\n",
    "*   *Variable 2 FILL IN*"
   ]
  },
  {
   "cell_type": "code",
<<<<<<< HEAD
   "execution_count": 61,
=======
   "execution_count": 5,
>>>>>>> 1edd5633b473ba3a65ead99f53116cbf14e3347a
   "metadata": {
    "id": "6zT0QxRyYmm7"
   },
   "outputs": [],
   "source": [
    "#FILL IN 2nd data gathering and loading method\n",
    "data_crime_2019=pd.read_csv('Crime_Data_from_2010_to_2019.csv')"
   ]
  },
  {
   "cell_type": "markdown",
   "metadata": {},
   "source": [
    "Optional data storing step: You may save your raw dataset files to the local data store before moving to the next step."
   ]
  },
  {
   "cell_type": "code",
<<<<<<< HEAD
   "execution_count": 62,
=======
   "execution_count": 6,
>>>>>>> 1edd5633b473ba3a65ead99f53116cbf14e3347a
   "metadata": {},
   "outputs": [],
   "source": [
    "#Optional: store the raw data in your local data store\n",
    "data_crime_2020_2024.to_csv('data_crime_2024.csv',index=False)"
   ]
  },
  {
   "cell_type": "code",
<<<<<<< HEAD
   "execution_count": 63,
=======
   "execution_count": 7,
>>>>>>> 1edd5633b473ba3a65ead99f53116cbf14e3347a
   "metadata": {},
   "outputs": [],
   "source": [
    "data_crime_2024=pd.read_csv('data_crime_2024')"
   ]
  },
  {
   "cell_type": "markdown",
   "metadata": {
    "id": "QwSWIVmotLgV"
   },
   "source": [
    "## 2. Assess data\n",
    "\n",
    "Assess the data according to data quality and tidiness metrics using the report below.\n",
    "\n",
    "List **two** data quality issues and **two** tidiness issues. Assess each data issue visually **and** programmatically, then briefly describe the issue you find.  **Make sure you include justifications for the methods you use for the assessment.**"
   ]
  },
  {
   "cell_type": "markdown",
   "metadata": {
    "id": "adaK2iPNzVu4"
   },
   "source": [
    "### Quality Issue 1: completeness => Missing data"
   ]
  },
  {
   "cell_type": "markdown",
   "metadata": {},
   "source": [
    "#### Inspecting the dataframe visually"
   ]
  },
  {
   "cell_type": "code",
<<<<<<< HEAD
   "execution_count": 64,
=======
   "execution_count": 8,
>>>>>>> 1edd5633b473ba3a65ead99f53116cbf14e3347a
   "metadata": {
    "id": "SpW59kh-zl8d"
   },
   "outputs": [
    {
     "data": {
      "text/html": [
       "<div>\n",
       "<style scoped>\n",
       "    .dataframe tbody tr th:only-of-type {\n",
       "        vertical-align: middle;\n",
       "    }\n",
       "\n",
       "    .dataframe tbody tr th {\n",
       "        vertical-align: top;\n",
       "    }\n",
       "\n",
       "    .dataframe thead th {\n",
       "        text-align: right;\n",
       "    }\n",
       "</style>\n",
       "<table border=\"1\" class=\"dataframe\">\n",
       "  <thead>\n",
       "    <tr style=\"text-align: right;\">\n",
       "      <th></th>\n",
       "      <th>Unnamed: 0</th>\n",
       "      <th>DR_NO</th>\n",
       "      <th>Date Rptd</th>\n",
       "      <th>DATE OCC</th>\n",
       "      <th>TIME OCC</th>\n",
       "      <th>AREA</th>\n",
       "      <th>AREA NAME</th>\n",
       "      <th>Rpt Dist No</th>\n",
       "      <th>Part 1-2</th>\n",
       "      <th>Crm Cd</th>\n",
       "      <th>Crm Cd Desc</th>\n",
<<<<<<< HEAD
=======
       "      <th>Mocodes</th>\n",
>>>>>>> 1edd5633b473ba3a65ead99f53116cbf14e3347a
       "      <th>Vict Age</th>\n",
       "      <th>Vict Sex</th>\n",
       "      <th>Vict Descent</th>\n",
       "      <th>Premis Cd</th>\n",
       "      <th>Premis Desc</th>\n",
       "      <th>Weapon Used Cd</th>\n",
       "      <th>Weapon Desc</th>\n",
       "      <th>Status</th>\n",
       "      <th>Status Desc</th>\n",
       "      <th>Crm Cd 1</th>\n",
       "      <th>Crm Cd 2</th>\n",
       "      <th>Crm Cd 3</th>\n",
       "      <th>Crm Cd 4</th>\n",
       "      <th>LOCATION</th>\n",
       "    </tr>\n",
       "  </thead>\n",
       "  <tbody>\n",
       "    <tr>\n",
       "      <th>0</th>\n",
       "      <td>0</td>\n",
       "      <td>1307355</td>\n",
       "      <td>02/20/2010 12:00:00 AM</td>\n",
       "      <td>02/20/2010 12:00:00 AM</td>\n",
       "      <td>1350</td>\n",
       "      <td>13</td>\n",
       "      <td>Newton</td>\n",
       "      <td>1385</td>\n",
       "      <td>2</td>\n",
<<<<<<< HEAD
       "      <td>900</td>\n",
       "      <td>VIOLATION OF COURT ORDER</td>\n",
       "      <td>48</td>\n",
       "      <td>M</td>\n",
       "      <td>H</td>\n",
       "      <td>501.0</td>\n",
       "      <td>SINGLE FAMILY DWELLING</td>\n",
       "      <td>NaN</td>\n",
       "      <td>NaN</td>\n",
       "      <td>AA</td>\n",
       "      <td>Adult Arrest</td>\n",
       "      <td>900.0</td>\n",
=======
       "      <td>627</td>\n",
       "      <td>CHILD ABUSE (PHYSICAL) - SIMPLE ASSAULT</td>\n",
       "      <td>0443 0419 0416 1259</td>\n",
       "      <td>14</td>\n",
       "      <td>F</td>\n",
       "      <td>W</td>\n",
       "      <td>109.0</td>\n",
       "      <td>PARK/PLAYGROUND</td>\n",
       "      <td>400.0</td>\n",
       "      <td>STRONG-ARM (HANDS, FIST, FEET OR BODILY FORCE)</td>\n",
       "      <td>AO</td>\n",
       "      <td>Adult Other</td>\n",
       "      <td>627.0</td>\n",
>>>>>>> 1edd5633b473ba3a65ead99f53116cbf14e3347a
       "      <td>NaN</td>\n",
       "      <td>NaN</td>\n",
       "      <td>NaN</td>\n",
       "      <td>300 E  GAGE                         AV</td>\n",
       "    </tr>\n",
       "    <tr>\n",
       "      <th>1</th>\n",
       "      <td>1</td>\n",
       "      <td>11401303</td>\n",
       "      <td>09/13/2010 12:00:00 AM</td>\n",
       "      <td>09/12/2010 12:00:00 AM</td>\n",
       "      <td>45</td>\n",
       "      <td>14</td>\n",
       "      <td>Pacific</td>\n",
       "      <td>1485</td>\n",
       "      <td>2</td>\n",
       "      <td>740</td>\n",
       "      <td>VANDALISM - FELONY ($400 &amp; OVER, ALL CHURCH VA...</td>\n",
       "      <td>0</td>\n",
       "      <td>M</td>\n",
       "      <td>W</td>\n",
       "      <td>101.0</td>\n",
       "      <td>STREET</td>\n",
       "      <td>NaN</td>\n",
       "      <td>NaN</td>\n",
       "      <td>IC</td>\n",
       "      <td>Invest Cont</td>\n",
       "      <td>740.0</td>\n",
       "      <td>NaN</td>\n",
       "      <td>NaN</td>\n",
       "      <td>NaN</td>\n",
       "      <td>SEPULVEDA                    BL</td>\n",
       "    </tr>\n",
       "    <tr>\n",
       "      <th>2</th>\n",
       "      <td>2</td>\n",
       "      <td>70309629</td>\n",
       "      <td>08/09/2010 12:00:00 AM</td>\n",
       "      <td>08/09/2010 12:00:00 AM</td>\n",
       "      <td>1515</td>\n",
       "      <td>13</td>\n",
       "      <td>Newton</td>\n",
       "      <td>1324</td>\n",
       "      <td>2</td>\n",
       "      <td>946</td>\n",
       "      <td>OTHER MISCELLANEOUS CRIME</td>\n",
       "      <td>0</td>\n",
       "      <td>M</td>\n",
       "      <td>H</td>\n",
       "      <td>103.0</td>\n",
       "      <td>ALLEY</td>\n",
       "      <td>NaN</td>\n",
       "      <td>NaN</td>\n",
       "      <td>IC</td>\n",
       "      <td>Invest Cont</td>\n",
       "      <td>946.0</td>\n",
       "      <td>NaN</td>\n",
       "      <td>NaN</td>\n",
       "      <td>NaN</td>\n",
       "      <td>1300 E  21ST                         ST</td>\n",
       "    </tr>\n",
       "    <tr>\n",
       "      <th>3</th>\n",
       "      <td>3</td>\n",
       "      <td>90631215</td>\n",
       "      <td>01/05/2010 12:00:00 AM</td>\n",
       "      <td>01/05/2010 12:00:00 AM</td>\n",
       "      <td>150</td>\n",
       "      <td>6</td>\n",
       "      <td>Hollywood</td>\n",
<<<<<<< HEAD
       "      <td>646</td>\n",
       "      <td>2</td>\n",
       "      <td>900</td>\n",
       "      <td>VIOLATION OF COURT ORDER</td>\n",
       "      <td>47</td>\n",
       "      <td>F</td>\n",
       "      <td>W</td>\n",
       "      <td>101.0</td>\n",
       "      <td>STREET</td>\n",
       "      <td>102.0</td>\n",
       "      <td>HAND GUN</td>\n",
=======
       "      <td>644</td>\n",
       "      <td>1</td>\n",
       "      <td>648</td>\n",
       "      <td>ARSON</td>\n",
       "      <td>0601 1501</td>\n",
       "      <td>0</td>\n",
       "      <td>X</td>\n",
       "      <td>X</td>\n",
       "      <td>706.0</td>\n",
       "      <td>SEX ORIENTED/BOOK STORE/STRIP CLUB/GENTLEMAN'S...</td>\n",
       "      <td>506.0</td>\n",
       "      <td>FIRE</td>\n",
       "      <td>IC</td>\n",
       "      <td>Invest Cont</td>\n",
       "      <td>648.0</td>\n",
       "      <td>NaN</td>\n",
       "      <td>NaN</td>\n",
       "      <td>NaN</td>\n",
       "      <td>1400 N  LA BREA                      AV</td>\n",
       "      <td>NaN</td>\n",
       "      <td>34.0962</td>\n",
       "      <td>-118.3490</td>\n",
       "    </tr>\n",
       "    <tr>\n",
       "      <th>2122466</th>\n",
       "      <td>192004409</td>\n",
       "      <td>01/06/2019 12:00:00 AM</td>\n",
       "      <td>01/06/2019 12:00:00 AM</td>\n",
       "      <td>2100</td>\n",
       "      <td>20</td>\n",
       "      <td>Olympic</td>\n",
       "      <td>2029</td>\n",
       "      <td>2</td>\n",
       "      <td>930</td>\n",
       "      <td>CRIMINAL THREATS - NO WEAPON DISPLAYED</td>\n",
       "      <td>0432 0421 0340 0305 0444 0429 0537 1218 0216</td>\n",
       "      <td>46</td>\n",
       "      <td>F</td>\n",
       "      <td>B</td>\n",
       "      <td>102.0</td>\n",
       "      <td>SIDEWALK</td>\n",
       "      <td>400.0</td>\n",
       "      <td>STRONG-ARM (HANDS, FIST, FEET OR BODILY FORCE)</td>\n",
>>>>>>> 1edd5633b473ba3a65ead99f53116cbf14e3347a
       "      <td>IC</td>\n",
       "      <td>Invest Cont</td>\n",
       "      <td>900.0</td>\n",
       "      <td>998.0</td>\n",
       "      <td>NaN</td>\n",
       "      <td>NaN</td>\n",
       "      <td>CAHUENGA                     BL</td>\n",
       "    </tr>\n",
       "    <tr>\n",
       "      <th>4</th>\n",
       "      <td>4</td>\n",
       "      <td>100100501</td>\n",
       "      <td>01/03/2010 12:00:00 AM</td>\n",
       "      <td>01/02/2010 12:00:00 AM</td>\n",
       "      <td>2100</td>\n",
       "      <td>1</td>\n",
<<<<<<< HEAD
       "      <td>Central</td>\n",
       "      <td>176</td>\n",
       "      <td>1</td>\n",
       "      <td>122</td>\n",
       "      <td>RAPE, ATTEMPTED</td>\n",
       "      <td>47</td>\n",
       "      <td>F</td>\n",
       "      <td>H</td>\n",
       "      <td>103.0</td>\n",
       "      <td>ALLEY</td>\n",
       "      <td>400.0</td>\n",
       "      <td>STRONG-ARM (HANDS, FIST, FEET OR BODILY FORCE)</td>\n",
=======
       "      <td>420</td>\n",
       "      <td>THEFT FROM MOTOR VEHICLE - PETTY ($950 &amp; UNDER)</td>\n",
       "      <td>NaN</td>\n",
       "      <td>0</td>\n",
       "      <td>NaN</td>\n",
       "      <td>NaN</td>\n",
       "      <td>101.0</td>\n",
       "      <td>STREET</td>\n",
       "      <td>NaN</td>\n",
       "      <td>NaN</td>\n",
>>>>>>> 1edd5633b473ba3a65ead99f53116cbf14e3347a
       "      <td>IC</td>\n",
       "      <td>Invest Cont</td>\n",
       "      <td>122.0</td>\n",
       "      <td>NaN</td>\n",
       "      <td>NaN</td>\n",
       "      <td>NaN</td>\n",
<<<<<<< HEAD
       "      <td>8TH                          ST</td>\n",
=======
       "      <td>17200    NAPA                         ST</td>\n",
       "      <td>NaN</td>\n",
       "      <td>34.2266</td>\n",
       "      <td>-118.5085</td>\n",
       "    </tr>\n",
       "    <tr>\n",
       "      <th>2122468</th>\n",
       "      <td>190805435</td>\n",
       "      <td>02/01/2019 12:00:00 AM</td>\n",
       "      <td>02/01/2019 12:00:00 AM</td>\n",
       "      <td>1615</td>\n",
       "      <td>8</td>\n",
       "      <td>West LA</td>\n",
       "      <td>852</td>\n",
       "      <td>1</td>\n",
       "      <td>330</td>\n",
       "      <td>BURGLARY FROM VEHICLE</td>\n",
       "      <td>1302 1609 0358 1307 0344 0377 0321</td>\n",
       "      <td>33</td>\n",
       "      <td>F</td>\n",
       "      <td>W</td>\n",
       "      <td>707.0</td>\n",
       "      <td>GARAGE/CARPORT</td>\n",
       "      <td>NaN</td>\n",
       "      <td>NaN</td>\n",
       "      <td>IC</td>\n",
       "      <td>Invest Cont</td>\n",
       "      <td>330.0</td>\n",
       "      <td>NaN</td>\n",
       "      <td>NaN</td>\n",
       "      <td>NaN</td>\n",
       "      <td>1700    BARRY                        AV</td>\n",
       "      <td>NaN</td>\n",
       "      <td>34.0420</td>\n",
       "      <td>-118.4531</td>\n",
>>>>>>> 1edd5633b473ba3a65ead99f53116cbf14e3347a
       "    </tr>\n",
       "  </tbody>\n",
       "</table>\n",
       "</div>"
      ],
      "text/plain": [
       "   Unnamed: 0      DR_NO               Date Rptd                DATE OCC  \\\n",
       "0           0    1307355  02/20/2010 12:00:00 AM  02/20/2010 12:00:00 AM   \n",
       "1           1   11401303  09/13/2010 12:00:00 AM  09/12/2010 12:00:00 AM   \n",
       "2           2   70309629  08/09/2010 12:00:00 AM  08/09/2010 12:00:00 AM   \n",
       "3           3   90631215  01/05/2010 12:00:00 AM  01/05/2010 12:00:00 AM   \n",
       "4           4  100100501  01/03/2010 12:00:00 AM  01/02/2010 12:00:00 AM   \n",
       "\n",
       "   TIME OCC  AREA   AREA NAME  Rpt Dist No  Part 1-2  Crm Cd  \\\n",
       "0      1350     13     Newton         1385         2     900   \n",
       "1        45     14    Pacific         1485         2     740   \n",
       "2      1515     13     Newton         1324         2     946   \n",
       "3       150      6  Hollywood          646         2     900   \n",
       "4      2100      1    Central          176         1     122   \n",
       "\n",
<<<<<<< HEAD
       "                                         Crm Cd Desc  Vict Age Vict Sex  \\\n",
       "0                           VIOLATION OF COURT ORDER        48        M   \n",
       "1  VANDALISM - FELONY ($400 & OVER, ALL CHURCH VA...         0        M   \n",
       "2                          OTHER MISCELLANEOUS CRIME         0        M   \n",
       "3                           VIOLATION OF COURT ORDER        47        F   \n",
       "4                                    RAPE, ATTEMPTED        47        F   \n",
       "\n",
       "  Vict Descent  Premis Cd             Premis Desc  Weapon Used Cd  \\\n",
       "0            H      501.0  SINGLE FAMILY DWELLING             NaN   \n",
       "1            W      101.0                  STREET             NaN   \n",
       "2            H      103.0                   ALLEY             NaN   \n",
       "3            W      101.0                  STREET           102.0   \n",
       "4            H      103.0                   ALLEY           400.0   \n",
=======
       "                                             Crm Cd Desc  \\\n",
       "2122464          CHILD ABUSE (PHYSICAL) - SIMPLE ASSAULT   \n",
       "2122465                                            ARSON   \n",
       "2122466           CRIMINAL THREATS - NO WEAPON DISPLAYED   \n",
       "2122467  THEFT FROM MOTOR VEHICLE - PETTY ($950 & UNDER)   \n",
       "2122468                            BURGLARY FROM VEHICLE   \n",
       "\n",
       "                                              Mocodes  Vict Age Vict Sex  \\\n",
       "2122464                           0443 0419 0416 1259        14        F   \n",
       "2122465                                     0601 1501         0        X   \n",
       "2122466  0432 0421 0340 0305 0444 0429 0537 1218 0216        46        F   \n",
       "2122467                                           NaN         0      NaN   \n",
       "2122468            1302 1609 0358 1307 0344 0377 0321        33        F   \n",
       "\n",
       "        Vict Descent  Premis Cd  \\\n",
       "2122464            W      109.0   \n",
       "2122465            X      706.0   \n",
       "2122466            B      102.0   \n",
       "2122467          NaN      101.0   \n",
       "2122468            W      707.0   \n",
       "\n",
       "                                               Premis Desc  Weapon Used Cd  \\\n",
       "2122464                                    PARK/PLAYGROUND           400.0   \n",
       "2122465  SEX ORIENTED/BOOK STORE/STRIP CLUB/GENTLEMAN'S...           506.0   \n",
       "2122466                                           SIDEWALK           400.0   \n",
       "2122467                                             STREET             NaN   \n",
       "2122468                                     GARAGE/CARPORT             NaN   \n",
       "\n",
       "                                            Weapon Desc Status  Status Desc  \\\n",
       "2122464  STRONG-ARM (HANDS, FIST, FEET OR BODILY FORCE)     AO  Adult Other   \n",
       "2122465                                            FIRE     IC  Invest Cont   \n",
       "2122466  STRONG-ARM (HANDS, FIST, FEET OR BODILY FORCE)     IC  Invest Cont   \n",
       "2122467                                             NaN     IC  Invest Cont   \n",
       "2122468                                             NaN     IC  Invest Cont   \n",
       "\n",
       "         Crm Cd 1  Crm Cd 2  Crm Cd 3  Crm Cd 4  \\\n",
       "2122464     627.0       NaN       NaN       NaN   \n",
       "2122465     648.0       NaN       NaN       NaN   \n",
       "2122466     930.0       NaN       NaN       NaN   \n",
       "2122467     420.0       NaN       NaN       NaN   \n",
       "2122468     330.0       NaN       NaN       NaN   \n",
>>>>>>> 1edd5633b473ba3a65ead99f53116cbf14e3347a
       "\n",
       "                                      Weapon Desc Status   Status Desc  \\\n",
       "0                                             NaN     AA  Adult Arrest   \n",
       "1                                             NaN     IC   Invest Cont   \n",
       "2                                             NaN     IC   Invest Cont   \n",
       "3                                        HAND GUN     IC   Invest Cont   \n",
       "4  STRONG-ARM (HANDS, FIST, FEET OR BODILY FORCE)     IC   Invest Cont   \n",
       "\n",
<<<<<<< HEAD
       "   Crm Cd 1  Crm Cd 2  Crm Cd 3  Crm Cd 4  \\\n",
       "0     900.0       NaN       NaN       NaN   \n",
       "1     740.0       NaN       NaN       NaN   \n",
       "2     946.0       NaN       NaN       NaN   \n",
       "3     900.0     998.0       NaN       NaN   \n",
       "4     122.0       NaN       NaN       NaN   \n",
       "\n",
       "                                  LOCATION  \n",
       "0   300 E  GAGE                         AV  \n",
       "1          SEPULVEDA                    BL  \n",
       "2  1300 E  21ST                         ST  \n",
       "3          CAHUENGA                     BL  \n",
       "4          8TH                          ST  "
      ]
     },
     "execution_count": 64,
=======
       "              LON  \n",
       "2122464 -118.2801  \n",
       "2122465 -118.3490  \n",
       "2122466 -118.2870  \n",
       "2122467 -118.5085  \n",
       "2122468 -118.4531  "
      ]
     },
     "execution_count": 8,
>>>>>>> 1edd5633b473ba3a65ead99f53116cbf14e3347a
     "metadata": {},
     "output_type": "execute_result"
    }
   ],
   "source": [
    "# Inspecting the dataframe visually\n",
    "data_crime_2019.head()"
   ]
  },
  {
   "cell_type": "code",
<<<<<<< HEAD
   "execution_count": 65,
=======
   "execution_count": 9,
>>>>>>> 1edd5633b473ba3a65ead99f53116cbf14e3347a
   "metadata": {},
   "outputs": [
    {
     "data": {
      "text/plain": [
       "<Axes: >"
      ]
     },
<<<<<<< HEAD
     "execution_count": 65,
=======
     "execution_count": 9,
>>>>>>> 1edd5633b473ba3a65ead99f53116cbf14e3347a
     "metadata": {},
     "output_type": "execute_result"
    },
    {
     "data": {
      "image/png": "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",
      "text/plain": [
       "<Figure size 2500x1000 with 2 Axes>"
      ]
     },
     "metadata": {},
     "output_type": "display_data"
    }
   ],
   "source": [
    "#visualize missing data on the dataframe \n",
    "msno.matrix(data_crime_2019)"
   ]
  },
  {
   "cell_type": "code",
<<<<<<< HEAD
   "execution_count": 66,
=======
   "execution_count": 10,
>>>>>>> 1edd5633b473ba3a65ead99f53116cbf14e3347a
   "metadata": {},
   "outputs": [
    {
     "data": {
      "text/html": [
       "<div>\n",
       "<style scoped>\n",
       "    .dataframe tbody tr th:only-of-type {\n",
       "        vertical-align: middle;\n",
       "    }\n",
       "\n",
       "    .dataframe tbody tr th {\n",
       "        vertical-align: top;\n",
       "    }\n",
       "\n",
       "    .dataframe thead th {\n",
       "        text-align: right;\n",
       "    }\n",
       "</style>\n",
       "<table border=\"1\" class=\"dataframe\">\n",
       "  <thead>\n",
       "    <tr style=\"text-align: right;\">\n",
       "      <th></th>\n",
       "      <th>dr_no</th>\n",
       "      <th>date_rptd</th>\n",
       "      <th>date_occ</th>\n",
       "      <th>time_occ</th>\n",
       "      <th>area</th>\n",
       "      <th>area_name</th>\n",
       "      <th>rpt_dist_no</th>\n",
       "      <th>part_1_2</th>\n",
       "      <th>crm_cd</th>\n",
       "      <th>crm_cd_desc</th>\n",
       "      <th>vict_age</th>\n",
       "      <th>vict_sex</th>\n",
       "      <th>vict_descent</th>\n",
       "      <th>premis_cd</th>\n",
       "      <th>premis_desc</th>\n",
       "      <th>status</th>\n",
       "      <th>status_desc</th>\n",
       "      <th>crm_cd_1</th>\n",
       "      <th>crm_cd_2</th>\n",
       "      <th>location</th>\n",
       "      <th>lat</th>\n",
       "      <th>lon</th>\n",
       "      <th>mocodes</th>\n",
       "      <th>weapon_used_cd</th>\n",
       "      <th>weapon_desc</th>\n",
       "      <th>cross_street</th>\n",
       "      <th>crm_cd_3</th>\n",
       "    </tr>\n",
       "  </thead>\n",
       "  <tbody>\n",
       "    <tr>\n",
       "      <th>0</th>\n",
       "      <td>190326475</td>\n",
       "      <td>2020-03-01T00:00:00.000</td>\n",
       "      <td>2020-03-01T00:00:00.000</td>\n",
       "      <td>2130</td>\n",
       "      <td>7</td>\n",
       "      <td>Wilshire</td>\n",
       "      <td>784</td>\n",
       "      <td>1</td>\n",
       "      <td>510</td>\n",
       "      <td>VEHICLE - STOLEN</td>\n",
       "      <td>0</td>\n",
       "      <td>M</td>\n",
       "      <td>O</td>\n",
       "      <td>101</td>\n",
       "      <td>STREET</td>\n",
       "      <td>AA</td>\n",
       "      <td>Adult Arrest</td>\n",
       "      <td>510</td>\n",
       "      <td>998.0</td>\n",
       "      <td>1900 S  LONGWOOD                     AV</td>\n",
       "      <td>34.0375</td>\n",
       "      <td>-118.3506</td>\n",
       "      <td>NaN</td>\n",
       "      <td>NaN</td>\n",
       "      <td>NaN</td>\n",
       "      <td>NaN</td>\n",
       "      <td>NaN</td>\n",
       "    </tr>\n",
       "    <tr>\n",
       "      <th>1</th>\n",
       "      <td>200106753</td>\n",
       "      <td>2020-02-09T00:00:00.000</td>\n",
       "      <td>2020-02-08T00:00:00.000</td>\n",
       "      <td>1800</td>\n",
       "      <td>1</td>\n",
       "      <td>Central</td>\n",
       "      <td>182</td>\n",
       "      <td>1</td>\n",
       "      <td>330</td>\n",
       "      <td>BURGLARY FROM VEHICLE</td>\n",
       "      <td>47</td>\n",
       "      <td>M</td>\n",
       "      <td>O</td>\n",
       "      <td>128</td>\n",
       "      <td>BUS STOP/LAYOVER (ALSO QUERY 124)</td>\n",
       "      <td>IC</td>\n",
       "      <td>Invest Cont</td>\n",
       "      <td>330</td>\n",
       "      <td>998.0</td>\n",
       "      <td>1000 S  FLOWER                       ST</td>\n",
       "      <td>34.0444</td>\n",
       "      <td>-118.2628</td>\n",
       "      <td>1822 1402 0344</td>\n",
       "      <td>NaN</td>\n",
       "      <td>NaN</td>\n",
       "      <td>NaN</td>\n",
       "      <td>NaN</td>\n",
       "    </tr>\n",
       "    <tr>\n",
       "      <th>2</th>\n",
       "      <td>200320258</td>\n",
       "      <td>2020-11-11T00:00:00.000</td>\n",
       "      <td>2020-11-04T00:00:00.000</td>\n",
       "      <td>1700</td>\n",
       "      <td>3</td>\n",
       "      <td>Southwest</td>\n",
       "      <td>356</td>\n",
       "      <td>1</td>\n",
       "      <td>480</td>\n",
       "      <td>BIKE - STOLEN</td>\n",
       "      <td>19</td>\n",
       "      <td>X</td>\n",
       "      <td>X</td>\n",
       "      <td>502</td>\n",
       "      <td>MULTI-UNIT DWELLING (APARTMENT, DUPLEX, ETC)</td>\n",
       "      <td>IC</td>\n",
       "      <td>Invest Cont</td>\n",
       "      <td>480</td>\n",
       "      <td>NaN</td>\n",
       "      <td>1400 W  37TH                         ST</td>\n",
       "      <td>34.0210</td>\n",
       "      <td>-118.3002</td>\n",
       "      <td>0344 1251</td>\n",
       "      <td>NaN</td>\n",
       "      <td>NaN</td>\n",
       "      <td>NaN</td>\n",
       "      <td>NaN</td>\n",
       "    </tr>\n",
       "    <tr>\n",
       "      <th>3</th>\n",
       "      <td>200907217</td>\n",
       "      <td>2023-05-10T00:00:00.000</td>\n",
       "      <td>2020-03-10T00:00:00.000</td>\n",
       "      <td>2037</td>\n",
       "      <td>9</td>\n",
       "      <td>Van Nuys</td>\n",
       "      <td>964</td>\n",
       "      <td>1</td>\n",
       "      <td>343</td>\n",
       "      <td>SHOPLIFTING-GRAND THEFT ($950.01 &amp; OVER)</td>\n",
       "      <td>19</td>\n",
       "      <td>M</td>\n",
       "      <td>O</td>\n",
       "      <td>405</td>\n",
       "      <td>CLOTHING STORE</td>\n",
       "      <td>IC</td>\n",
       "      <td>Invest Cont</td>\n",
       "      <td>343</td>\n",
       "      <td>NaN</td>\n",
       "      <td>14000    RIVERSIDE                    DR</td>\n",
       "      <td>34.1576</td>\n",
       "      <td>-118.4387</td>\n",
       "      <td>0325 1501</td>\n",
       "      <td>NaN</td>\n",
       "      <td>NaN</td>\n",
       "      <td>NaN</td>\n",
       "      <td>NaN</td>\n",
       "    </tr>\n",
       "    <tr>\n",
       "      <th>4</th>\n",
       "      <td>220614831</td>\n",
       "      <td>2022-08-18T00:00:00.000</td>\n",
       "      <td>2020-08-17T00:00:00.000</td>\n",
       "      <td>1200</td>\n",
       "      <td>6</td>\n",
       "      <td>Hollywood</td>\n",
       "      <td>666</td>\n",
       "      <td>2</td>\n",
       "      <td>354</td>\n",
       "      <td>THEFT OF IDENTITY</td>\n",
       "      <td>28</td>\n",
       "      <td>M</td>\n",
       "      <td>H</td>\n",
       "      <td>102</td>\n",
       "      <td>SIDEWALK</td>\n",
       "      <td>IC</td>\n",
       "      <td>Invest Cont</td>\n",
       "      <td>354</td>\n",
       "      <td>NaN</td>\n",
       "      <td>1900    TRANSIENT</td>\n",
       "      <td>34.0944</td>\n",
       "      <td>-118.3277</td>\n",
       "      <td>1822 1501 0930 2004</td>\n",
       "      <td>NaN</td>\n",
       "      <td>NaN</td>\n",
       "      <td>NaN</td>\n",
       "      <td>NaN</td>\n",
       "    </tr>\n",
       "  </tbody>\n",
       "</table>\n",
       "</div>"
      ],
      "text/plain": [
       "       dr_no                date_rptd                 date_occ  time_occ  \\\n",
       "0  190326475  2020-03-01T00:00:00.000  2020-03-01T00:00:00.000      2130   \n",
       "1  200106753  2020-02-09T00:00:00.000  2020-02-08T00:00:00.000      1800   \n",
       "2  200320258  2020-11-11T00:00:00.000  2020-11-04T00:00:00.000      1700   \n",
       "3  200907217  2023-05-10T00:00:00.000  2020-03-10T00:00:00.000      2037   \n",
       "4  220614831  2022-08-18T00:00:00.000  2020-08-17T00:00:00.000      1200   \n",
       "\n",
       "   area  area_name  rpt_dist_no  part_1_2  crm_cd  \\\n",
       "0     7   Wilshire          784         1     510   \n",
       "1     1    Central          182         1     330   \n",
       "2     3  Southwest          356         1     480   \n",
       "3     9   Van Nuys          964         1     343   \n",
       "4     6  Hollywood          666         2     354   \n",
       "\n",
       "                                crm_cd_desc  vict_age vict_sex vict_descent  \\\n",
       "0                          VEHICLE - STOLEN         0        M            O   \n",
       "1                     BURGLARY FROM VEHICLE        47        M            O   \n",
       "2                             BIKE - STOLEN        19        X            X   \n",
       "3  SHOPLIFTING-GRAND THEFT ($950.01 & OVER)        19        M            O   \n",
       "4                         THEFT OF IDENTITY        28        M            H   \n",
       "\n",
       "   premis_cd                                   premis_desc status  \\\n",
       "0        101                                        STREET     AA   \n",
       "1        128             BUS STOP/LAYOVER (ALSO QUERY 124)     IC   \n",
       "2        502  MULTI-UNIT DWELLING (APARTMENT, DUPLEX, ETC)     IC   \n",
       "3        405                                CLOTHING STORE     IC   \n",
       "4        102                                      SIDEWALK     IC   \n",
       "\n",
       "    status_desc  crm_cd_1  crm_cd_2                                  location  \\\n",
       "0  Adult Arrest       510     998.0   1900 S  LONGWOOD                     AV   \n",
       "1   Invest Cont       330     998.0   1000 S  FLOWER                       ST   \n",
       "2   Invest Cont       480       NaN   1400 W  37TH                         ST   \n",
       "3   Invest Cont       343       NaN  14000    RIVERSIDE                    DR   \n",
       "4   Invest Cont       354       NaN                         1900    TRANSIENT   \n",
       "\n",
       "       lat       lon              mocodes  weapon_used_cd weapon_desc  \\\n",
       "0  34.0375 -118.3506                  NaN             NaN         NaN   \n",
       "1  34.0444 -118.2628       1822 1402 0344             NaN         NaN   \n",
       "2  34.0210 -118.3002            0344 1251             NaN         NaN   \n",
       "3  34.1576 -118.4387            0325 1501             NaN         NaN   \n",
       "4  34.0944 -118.3277  1822 1501 0930 2004             NaN         NaN   \n",
       "\n",
       "  cross_street  crm_cd_3  \n",
       "0          NaN       NaN  \n",
       "1          NaN       NaN  \n",
       "2          NaN       NaN  \n",
       "3          NaN       NaN  \n",
       "4          NaN       NaN  "
      ]
     },
<<<<<<< HEAD
     "execution_count": 66,
=======
     "execution_count": 10,
>>>>>>> 1edd5633b473ba3a65ead99f53116cbf14e3347a
     "metadata": {},
     "output_type": "execute_result"
    }
   ],
   "source": [
    "#Inspecting the dataframe visually\n",
    "data_crime_2024.head()"
   ]
  },
  {
   "cell_type": "code",
<<<<<<< HEAD
   "execution_count": 67,
=======
   "execution_count": 11,
>>>>>>> 1edd5633b473ba3a65ead99f53116cbf14e3347a
   "metadata": {},
   "outputs": [
    {
     "data": {
      "text/plain": [
       "<Axes: >"
      ]
     },
<<<<<<< HEAD
     "execution_count": 67,
=======
     "execution_count": 11,
>>>>>>> 1edd5633b473ba3a65ead99f53116cbf14e3347a
     "metadata": {},
     "output_type": "execute_result"
    },
    {
     "data": {
      "image/png": "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",
      "text/plain": [
       "<Figure size 2500x1000 with 2 Axes>"
      ]
     },
     "metadata": {},
     "output_type": "display_data"
    }
   ],
   "source": [
    "##visualize missing data on the dataframe\n",
    "msno.matrix(data_crime_2024)"
   ]
  },
  {
   "cell_type": "markdown",
   "metadata": {},
   "source": [
    "#### Inspecting the dataframe programmatically"
   ]
  },
  {
   "cell_type": "code",
<<<<<<< HEAD
   "execution_count": 68,
=======
   "execution_count": 12,
>>>>>>> 1edd5633b473ba3a65ead99f53116cbf14e3347a
   "metadata": {
    "id": "-qfcocStzsKg"
   },
   "outputs": [
    {
     "name": "stdout",
     "output_type": "stream",
     "text": [
      "(2122469, 25)\n"
     ]
    },
    {
     "data": {
      "text/plain": [
       "Unnamed: 0              0\n",
       "DR_NO                   0\n",
       "Date Rptd               0\n",
       "DATE OCC                0\n",
       "TIME OCC                0\n",
       "AREA                    0\n",
       "AREA NAME               0\n",
       "Rpt Dist No             0\n",
       "Part 1-2                0\n",
       "Crm Cd                  0\n",
       "Crm Cd Desc             0\n",
       "Vict Age                0\n",
       "Vict Sex           196814\n",
       "Vict Descent       196860\n",
       "Premis Cd              53\n",
       "Premis Desc           187\n",
       "Weapon Used Cd    1408915\n",
       "Weapon Desc       1408916\n",
       "Status                  3\n",
       "Status Desc             0\n",
       "Crm Cd 1               10\n",
       "Crm Cd 2          1981221\n",
       "Crm Cd 3          2118909\n",
       "Crm Cd 4          2122364\n",
       "LOCATION                0\n",
       "dtype: int64"
      ]
     },
<<<<<<< HEAD
     "execution_count": 68,
=======
     "execution_count": 12,
>>>>>>> 1edd5633b473ba3a65ead99f53116cbf14e3347a
     "metadata": {},
     "output_type": "execute_result"
    }
   ],
   "source": [
    "#FILL IN - Inspecting the dataframe programmatically\n",
    "print(data_crime_2019.shape)\n",
    "data_crime_2019.isnull().sum()"
   ]
  },
  {
   "cell_type": "code",
<<<<<<< HEAD
   "execution_count": 69,
=======
   "execution_count": 13,
>>>>>>> 1edd5633b473ba3a65ead99f53116cbf14e3347a
   "metadata": {},
   "outputs": [
    {
     "name": "stdout",
     "output_type": "stream",
     "text": [
      "(1000, 27)\n"
     ]
    },
    {
     "data": {
      "text/plain": [
       "dr_no               0\n",
       "date_rptd           0\n",
       "date_occ            0\n",
       "time_occ            0\n",
       "area                0\n",
       "area_name           0\n",
       "rpt_dist_no         0\n",
       "part_1_2            0\n",
       "crm_cd              0\n",
       "crm_cd_desc         0\n",
       "vict_age            0\n",
       "vict_sex           58\n",
       "vict_descent       58\n",
       "premis_cd           0\n",
       "premis_desc         0\n",
       "status              0\n",
       "status_desc         0\n",
       "crm_cd_1            0\n",
       "crm_cd_2          939\n",
       "location            0\n",
       "lat                 0\n",
       "lon                 0\n",
       "mocodes            92\n",
       "weapon_used_cd    793\n",
       "weapon_desc       793\n",
       "cross_street      953\n",
       "crm_cd_3          999\n",
       "dtype: int64"
      ]
     },
<<<<<<< HEAD
     "execution_count": 69,
=======
     "execution_count": 13,
>>>>>>> 1edd5633b473ba3a65ead99f53116cbf14e3347a
     "metadata": {},
     "output_type": "execute_result"
    }
   ],
   "source": [
    "print(data_crime_2024.shape)\n",
    "data_crime_2024.isnull().sum()"
   ]
  },
  {
   "cell_type": "markdown",
   "metadata": {},
   "source": [
    "\n",
    "\n",
    "\n",
    "### Issue and Justification:\n",
    "> #### Completeness Issue:\n",
    "There are significant completeness issues observed in both datasets.\n",
    "\n",
    "> #### Quality Issue - data_crime_2019 dataset:\n",
    "Several columns, including 'Crm Cd 2', 'Crm Cd 3', and 'Crm Cd 4', have a high proportion of missing values. Additionally, 'vict_sex', 'vict_descent', 'weapon_used_cd', and 'weapon_desc' contain more than 100,000 missing values each.\n",
    "\n",
    "> #### Quality Issue - data_crime_2024 dataset:\n",
    "Similar to the 2019 dataset, 'Crm Cd 2' and 'cross_street' exhibit a substantial number of missing values. Furthermore, 'weapon_used_cd' and 'weapon_desc' have missing values in half of the columns.\n",
    "\n",
    "> #### These missing values may impact the integrity and reliability of the analysis conducted on the datasets."
   ]
  },
  {
   "cell_type": "markdown",
   "metadata": {
    "id": "8Be77N4I1AmE"
   },
   "source": [
    "### Quality Issue 2: "
   ]
  },
  {
   "cell_type": "code",
<<<<<<< HEAD
   "execution_count": 70,
=======
   "execution_count": 14,
>>>>>>> 1edd5633b473ba3a65ead99f53116cbf14e3347a
   "metadata": {
    "id": "iMhHyiyLM2I3"
   },
   "outputs": [
    {
     "data": {
      "text/html": [
       "<div>\n",
       "<style scoped>\n",
       "    .dataframe tbody tr th:only-of-type {\n",
       "        vertical-align: middle;\n",
       "    }\n",
       "\n",
       "    .dataframe tbody tr th {\n",
       "        vertical-align: top;\n",
       "    }\n",
       "\n",
       "    .dataframe thead th {\n",
       "        text-align: right;\n",
       "    }\n",
       "</style>\n",
       "<table border=\"1\" class=\"dataframe\">\n",
       "  <thead>\n",
       "    <tr style=\"text-align: right;\">\n",
       "      <th></th>\n",
       "      <th>Unnamed: 0</th>\n",
       "      <th>DR_NO</th>\n",
       "      <th>Date Rptd</th>\n",
       "      <th>DATE OCC</th>\n",
       "      <th>TIME OCC</th>\n",
       "      <th>AREA</th>\n",
       "      <th>AREA NAME</th>\n",
       "      <th>Rpt Dist No</th>\n",
       "      <th>Part 1-2</th>\n",
       "      <th>Crm Cd</th>\n",
       "      <th>Crm Cd Desc</th>\n",
       "      <th>Vict Age</th>\n",
       "      <th>Vict Sex</th>\n",
       "      <th>Vict Descent</th>\n",
       "      <th>Premis Cd</th>\n",
       "      <th>Premis Desc</th>\n",
       "      <th>Weapon Used Cd</th>\n",
       "      <th>Weapon Desc</th>\n",
       "      <th>Status</th>\n",
       "      <th>Status Desc</th>\n",
       "      <th>Crm Cd 1</th>\n",
       "      <th>Crm Cd 2</th>\n",
       "      <th>Crm Cd 3</th>\n",
       "      <th>Crm Cd 4</th>\n",
       "      <th>LOCATION</th>\n",
       "    </tr>\n",
       "  </thead>\n",
       "  <tbody>\n",
       "    <tr>\n",
       "      <th>1</th>\n",
       "      <td>1</td>\n",
       "      <td>11401303</td>\n",
       "      <td>09/13/2010 12:00:00 AM</td>\n",
       "      <td>09/12/2010 12:00:00 AM</td>\n",
       "      <td>45</td>\n",
       "      <td>14</td>\n",
       "      <td>Pacific</td>\n",
       "      <td>1485</td>\n",
       "      <td>2</td>\n",
       "      <td>740</td>\n",
       "      <td>VANDALISM - FELONY ($400 &amp; OVER, ALL CHURCH VA...</td>\n",
       "      <td>0</td>\n",
       "      <td>M</td>\n",
       "      <td>W</td>\n",
       "      <td>101.0</td>\n",
       "      <td>STREET</td>\n",
       "      <td>NaN</td>\n",
       "      <td>NaN</td>\n",
       "      <td>IC</td>\n",
       "      <td>Invest Cont</td>\n",
       "      <td>740.0</td>\n",
       "      <td>NaN</td>\n",
       "      <td>NaN</td>\n",
       "      <td>NaN</td>\n",
       "      <td>SEPULVEDA                    BL</td>\n",
       "    </tr>\n",
       "    <tr>\n",
       "      <th>2</th>\n",
       "      <td>2</td>\n",
       "      <td>70309629</td>\n",
       "      <td>08/09/2010 12:00:00 AM</td>\n",
       "      <td>08/09/2010 12:00:00 AM</td>\n",
       "      <td>1515</td>\n",
       "      <td>13</td>\n",
       "      <td>Newton</td>\n",
       "      <td>1324</td>\n",
       "      <td>2</td>\n",
       "      <td>946</td>\n",
       "      <td>OTHER MISCELLANEOUS CRIME</td>\n",
       "      <td>0</td>\n",
       "      <td>M</td>\n",
       "      <td>H</td>\n",
       "      <td>103.0</td>\n",
       "      <td>ALLEY</td>\n",
       "      <td>NaN</td>\n",
       "      <td>NaN</td>\n",
       "      <td>IC</td>\n",
       "      <td>Invest Cont</td>\n",
       "      <td>946.0</td>\n",
       "      <td>NaN</td>\n",
       "      <td>NaN</td>\n",
       "      <td>NaN</td>\n",
       "      <td>1300 E  21ST                         ST</td>\n",
       "    </tr>\n",
       "    <tr>\n",
       "      <th>37</th>\n",
       "      <td>37</td>\n",
       "      <td>100100616</td>\n",
       "      <td>02/11/2010 12:00:00 AM</td>\n",
       "      <td>02/11/2010 12:00:00 AM</td>\n",
       "      <td>1515</td>\n",
       "      <td>1</td>\n",
       "      <td>Central</td>\n",
       "      <td>192</td>\n",
       "      <td>1</td>\n",
       "      <td>341</td>\n",
       "      <td>THEFT-GRAND ($950.01 &amp; OVER)EXCPT,GUNS,FOWL,LI...</td>\n",
       "      <td>0</td>\n",
       "      <td>M</td>\n",
       "      <td>H</td>\n",
       "      <td>102.0</td>\n",
       "      <td>SIDEWALK</td>\n",
       "      <td>NaN</td>\n",
       "      <td>NaN</td>\n",
       "      <td>AA</td>\n",
       "      <td>Adult Arrest</td>\n",
       "      <td>341.0</td>\n",
       "      <td>NaN</td>\n",
       "      <td>NaN</td>\n",
       "      <td>NaN</td>\n",
       "      <td>PICO</td>\n",
       "    </tr>\n",
       "    <tr>\n",
       "      <th>46</th>\n",
       "      <td>46</td>\n",
       "      <td>100100638</td>\n",
       "      <td>02/20/2010 12:00:00 AM</td>\n",
       "      <td>02/20/2010 12:00:00 AM</td>\n",
       "      <td>100</td>\n",
       "      <td>1</td>\n",
       "      <td>Central</td>\n",
       "      <td>164</td>\n",
       "      <td>2</td>\n",
       "      <td>740</td>\n",
       "      <td>VANDALISM - FELONY ($400 &amp; OVER, ALL CHURCH VA...</td>\n",
       "      <td>0</td>\n",
       "      <td>M</td>\n",
       "      <td>O</td>\n",
       "      <td>101.0</td>\n",
       "      <td>STREET</td>\n",
       "      <td>NaN</td>\n",
       "      <td>NaN</td>\n",
       "      <td>AA</td>\n",
       "      <td>Adult Arrest</td>\n",
       "      <td>740.0</td>\n",
       "      <td>NaN</td>\n",
       "      <td>NaN</td>\n",
       "      <td>NaN</td>\n",
       "      <td>100 W  7TH                          ST</td>\n",
       "    </tr>\n",
       "    <tr>\n",
       "      <th>51</th>\n",
       "      <td>51</td>\n",
       "      <td>100100654</td>\n",
       "      <td>02/27/2010 12:00:00 AM</td>\n",
       "      <td>02/27/2010 12:00:00 AM</td>\n",
       "      <td>1955</td>\n",
       "      <td>1</td>\n",
       "      <td>Central</td>\n",
       "      <td>174</td>\n",
       "      <td>2</td>\n",
       "      <td>946</td>\n",
       "      <td>OTHER MISCELLANEOUS CRIME</td>\n",
       "      <td>0</td>\n",
       "      <td>M</td>\n",
       "      <td>W</td>\n",
       "      <td>101.0</td>\n",
       "      <td>STREET</td>\n",
       "      <td>NaN</td>\n",
       "      <td>NaN</td>\n",
       "      <td>AA</td>\n",
       "      <td>Adult Arrest</td>\n",
       "      <td>946.0</td>\n",
       "      <td>NaN</td>\n",
       "      <td>NaN</td>\n",
       "      <td>NaN</td>\n",
       "      <td>W  7TH                          ST</td>\n",
       "    </tr>\n",
       "  </tbody>\n",
       "</table>\n",
       "</div>"
      ],
      "text/plain": [
       "    Unnamed: 0      DR_NO               Date Rptd                DATE OCC  \\\n",
       "1            1   11401303  09/13/2010 12:00:00 AM  09/12/2010 12:00:00 AM   \n",
       "2            2   70309629  08/09/2010 12:00:00 AM  08/09/2010 12:00:00 AM   \n",
       "37          37  100100616  02/11/2010 12:00:00 AM  02/11/2010 12:00:00 AM   \n",
       "46          46  100100638  02/20/2010 12:00:00 AM  02/20/2010 12:00:00 AM   \n",
       "51          51  100100654  02/27/2010 12:00:00 AM  02/27/2010 12:00:00 AM   \n",
       "\n",
       "    TIME OCC  AREA  AREA NAME  Rpt Dist No  Part 1-2  Crm Cd  \\\n",
       "1         45     14   Pacific         1485         2     740   \n",
       "2       1515     13    Newton         1324         2     946   \n",
       "37      1515      1   Central          192         1     341   \n",
       "46       100      1   Central          164         2     740   \n",
       "51      1955      1   Central          174         2     946   \n",
       "\n",
       "                                          Crm Cd Desc  Vict Age Vict Sex  \\\n",
       "1   VANDALISM - FELONY ($400 & OVER, ALL CHURCH VA...         0        M   \n",
       "2                           OTHER MISCELLANEOUS CRIME         0        M   \n",
       "37  THEFT-GRAND ($950.01 & OVER)EXCPT,GUNS,FOWL,LI...         0        M   \n",
       "46  VANDALISM - FELONY ($400 & OVER, ALL CHURCH VA...         0        M   \n",
       "51                          OTHER MISCELLANEOUS CRIME         0        M   \n",
       "\n",
       "   Vict Descent  Premis Cd Premis Desc  Weapon Used Cd Weapon Desc Status  \\\n",
       "1             W      101.0      STREET             NaN         NaN     IC   \n",
       "2             H      103.0       ALLEY             NaN         NaN     IC   \n",
       "37            H      102.0    SIDEWALK             NaN         NaN     AA   \n",
       "46            O      101.0      STREET             NaN         NaN     AA   \n",
       "51            W      101.0      STREET             NaN         NaN     AA   \n",
       "\n",
       "     Status Desc  Crm Cd 1  Crm Cd 2  Crm Cd 3  Crm Cd 4  \\\n",
       "1    Invest Cont     740.0       NaN       NaN       NaN   \n",
       "2    Invest Cont     946.0       NaN       NaN       NaN   \n",
       "37  Adult Arrest     341.0       NaN       NaN       NaN   \n",
       "46  Adult Arrest     740.0       NaN       NaN       NaN   \n",
       "51  Adult Arrest     946.0       NaN       NaN       NaN   \n",
       "\n",
       "                                   LOCATION  \n",
       "1           SEPULVEDA                    BL  \n",
       "2   1300 E  21ST                         ST  \n",
       "37                                     PICO  \n",
       "46   100 W  7TH                          ST  \n",
       "51       W  7TH                          ST  "
      ]
     },
<<<<<<< HEAD
     "execution_count": 70,
=======
     "execution_count": 14,
>>>>>>> 1edd5633b473ba3a65ead99f53116cbf14e3347a
     "metadata": {},
     "output_type": "execute_result"
    }
   ],
   "source": [
    "# Inspecting  Accuracy issues in the dataframe visually for data_crimes_2019\n",
    "#Apply the cleaning strategy\n",
    "data_crime_2019[data_crime_2019['Vict Age'] < 10].head()"
   ]
  },
  {
   "cell_type": "code",
<<<<<<< HEAD
   "execution_count": 71,
=======
   "execution_count": 15,
>>>>>>> 1edd5633b473ba3a65ead99f53116cbf14e3347a
   "metadata": {
    "id": "bnviRCUI-bb7"
   },
   "outputs": [
    {
     "data": {
      "text/plain": [
       "373923     -12\n",
       "149348     -12\n",
       "170058     -12\n",
       "174739     -11\n",
       "250512     -11\n",
       "          ... \n",
       "19130       99\n",
       "1990497     99\n",
       "808911      99\n",
       "972066     114\n",
       "1758305    118\n",
       "Name: Vict Age, Length: 2122469, dtype: int64"
      ]
     },
<<<<<<< HEAD
     "execution_count": 71,
=======
     "execution_count": 15,
>>>>>>> 1edd5633b473ba3a65ead99f53116cbf14e3347a
     "metadata": {},
     "output_type": "execute_result"
    }
   ],
   "source": [
    "# Inspecting the dataframe programmatically for data_crimes_2019\n",
    "data_crime_2019['Vict Age'].sort_values()"
   ]
  },
  {
   "cell_type": "code",
<<<<<<< HEAD
   "execution_count": 72,
=======
   "execution_count": 16,
>>>>>>> 1edd5633b473ba3a65ead99f53116cbf14e3347a
   "metadata": {},
   "outputs": [
    {
     "data": {
      "text/html": [
       "<div>\n",
       "<style scoped>\n",
       "    .dataframe tbody tr th:only-of-type {\n",
       "        vertical-align: middle;\n",
       "    }\n",
       "\n",
       "    .dataframe tbody tr th {\n",
       "        vertical-align: top;\n",
       "    }\n",
       "\n",
       "    .dataframe thead th {\n",
       "        text-align: right;\n",
       "    }\n",
       "</style>\n",
       "<table border=\"1\" class=\"dataframe\">\n",
       "  <thead>\n",
       "    <tr style=\"text-align: right;\">\n",
       "      <th></th>\n",
       "      <th>dr_no</th>\n",
       "      <th>date_rptd</th>\n",
       "      <th>date_occ</th>\n",
       "      <th>time_occ</th>\n",
       "      <th>area</th>\n",
       "      <th>area_name</th>\n",
       "      <th>rpt_dist_no</th>\n",
       "      <th>part_1_2</th>\n",
       "      <th>crm_cd</th>\n",
       "      <th>crm_cd_desc</th>\n",
       "      <th>vict_age</th>\n",
       "      <th>vict_sex</th>\n",
       "      <th>vict_descent</th>\n",
       "      <th>premis_cd</th>\n",
       "      <th>premis_desc</th>\n",
       "      <th>status</th>\n",
       "      <th>status_desc</th>\n",
       "      <th>crm_cd_1</th>\n",
       "      <th>crm_cd_2</th>\n",
       "      <th>location</th>\n",
       "      <th>lat</th>\n",
       "      <th>lon</th>\n",
       "      <th>mocodes</th>\n",
       "      <th>weapon_used_cd</th>\n",
       "      <th>weapon_desc</th>\n",
       "      <th>cross_street</th>\n",
       "      <th>crm_cd_3</th>\n",
       "    </tr>\n",
       "  </thead>\n",
       "  <tbody>\n",
       "    <tr>\n",
       "      <th>0</th>\n",
       "      <td>190326475</td>\n",
       "      <td>2020-03-01T00:00:00.000</td>\n",
       "      <td>2020-03-01T00:00:00.000</td>\n",
       "      <td>2130</td>\n",
       "      <td>7</td>\n",
       "      <td>Wilshire</td>\n",
       "      <td>784</td>\n",
       "      <td>1</td>\n",
       "      <td>510</td>\n",
       "      <td>VEHICLE - STOLEN</td>\n",
       "      <td>0</td>\n",
       "      <td>M</td>\n",
       "      <td>O</td>\n",
       "      <td>101</td>\n",
       "      <td>STREET</td>\n",
       "      <td>AA</td>\n",
       "      <td>Adult Arrest</td>\n",
       "      <td>510</td>\n",
       "      <td>998.0</td>\n",
       "      <td>1900 S  LONGWOOD                     AV</td>\n",
       "      <td>34.0375</td>\n",
       "      <td>-118.3506</td>\n",
       "      <td>NaN</td>\n",
       "      <td>NaN</td>\n",
       "      <td>NaN</td>\n",
       "      <td>NaN</td>\n",
       "      <td>NaN</td>\n",
       "    </tr>\n",
       "    <tr>\n",
       "      <th>11</th>\n",
       "      <td>221908151</td>\n",
       "      <td>2022-04-12T00:00:00.000</td>\n",
       "      <td>2020-10-01T00:00:00.000</td>\n",
       "      <td>1</td>\n",
       "      <td>19</td>\n",
       "      <td>Mission</td>\n",
       "      <td>1988</td>\n",
       "      <td>1</td>\n",
       "      <td>821</td>\n",
       "      <td>SODOMY/SEXUAL CONTACT B/W PENIS OF ONE PERS TO...</td>\n",
       "      <td>8</td>\n",
       "      <td>F</td>\n",
       "      <td>H</td>\n",
       "      <td>501</td>\n",
       "      <td>SINGLE FAMILY DWELLING</td>\n",
       "      <td>IC</td>\n",
       "      <td>Invest Cont</td>\n",
       "      <td>812</td>\n",
       "      <td>821.0</td>\n",
       "      <td>13400    RANGOON                      ST</td>\n",
       "      <td>34.2285</td>\n",
       "      <td>-118.4258</td>\n",
       "      <td>0913 2024 1817 0360 1258 0507</td>\n",
       "      <td>400.0</td>\n",
       "      <td>STRONG-ARM (HANDS, FIST, FEET OR BODILY FORCE)</td>\n",
       "      <td>NaN</td>\n",
       "      <td>NaN</td>\n",
       "    </tr>\n",
       "    <tr>\n",
       "      <th>12</th>\n",
       "      <td>230204214</td>\n",
       "      <td>2023-01-05T00:00:00.000</td>\n",
       "      <td>2020-02-01T00:00:00.000</td>\n",
       "      <td>800</td>\n",
       "      <td>2</td>\n",
       "      <td>Rampart</td>\n",
       "      <td>201</td>\n",
       "      <td>2</td>\n",
       "      <td>812</td>\n",
       "      <td>CRM AGNST CHLD (13 OR UNDER) (14-15 &amp; SUSP 10 ...</td>\n",
       "      <td>7</td>\n",
       "      <td>F</td>\n",
       "      <td>W</td>\n",
       "      <td>502</td>\n",
       "      <td>MULTI-UNIT DWELLING (APARTMENT, DUPLEX, ETC)</td>\n",
       "      <td>IC</td>\n",
       "      <td>Invest Cont</td>\n",
       "      <td>812</td>\n",
       "      <td>860.0</td>\n",
       "      <td>900 N  MARIPOSA                     AV</td>\n",
       "      <td>34.0868</td>\n",
       "      <td>-118.2991</td>\n",
       "      <td>1251 1258 0913 0400 0500 0522 1817</td>\n",
       "      <td>400.0</td>\n",
       "      <td>STRONG-ARM (HANDS, FIST, FEET OR BODILY FORCE)</td>\n",
       "      <td>NaN</td>\n",
       "      <td>NaN</td>\n",
       "    </tr>\n",
       "    <tr>\n",
       "      <th>13</th>\n",
       "      <td>230409878</td>\n",
       "      <td>2023-06-19T00:00:00.000</td>\n",
       "      <td>2020-04-11T00:00:00.000</td>\n",
       "      <td>1200</td>\n",
       "      <td>4</td>\n",
       "      <td>Hollenbeck</td>\n",
       "      <td>417</td>\n",
       "      <td>2</td>\n",
       "      <td>812</td>\n",
       "      <td>CRM AGNST CHLD (13 OR UNDER) (14-15 &amp; SUSP 10 ...</td>\n",
       "      <td>8</td>\n",
       "      <td>F</td>\n",
       "      <td>H</td>\n",
       "      <td>501</td>\n",
       "      <td>SINGLE FAMILY DWELLING</td>\n",
       "      <td>IC</td>\n",
       "      <td>Invest Cont</td>\n",
       "      <td>812</td>\n",
       "      <td>860.0</td>\n",
       "      <td>4400    MOONSTONE                    DR</td>\n",
       "      <td>34.0784</td>\n",
       "      <td>-118.1936</td>\n",
       "      <td>1258 0522 0400 0551 0360 0913</td>\n",
       "      <td>400.0</td>\n",
       "      <td>STRONG-ARM (HANDS, FIST, FEET OR BODILY FORCE)</td>\n",
       "      <td>NaN</td>\n",
       "      <td>NaN</td>\n",
       "    </tr>\n",
       "    <tr>\n",
       "      <th>14</th>\n",
       "      <td>221008844</td>\n",
       "      <td>2022-05-06T00:00:00.000</td>\n",
       "      <td>2020-11-01T00:00:00.000</td>\n",
       "      <td>130</td>\n",
       "      <td>10</td>\n",
       "      <td>West Valley</td>\n",
       "      <td>1029</td>\n",
       "      <td>1</td>\n",
       "      <td>510</td>\n",
       "      <td>VEHICLE - STOLEN</td>\n",
       "      <td>0</td>\n",
       "      <td>NaN</td>\n",
       "      <td>NaN</td>\n",
       "      <td>101</td>\n",
       "      <td>STREET</td>\n",
       "      <td>IC</td>\n",
       "      <td>Invest Cont</td>\n",
       "      <td>510</td>\n",
       "      <td>NaN</td>\n",
       "      <td>VALJEAN                      ST</td>\n",
       "      <td>34.1939</td>\n",
       "      <td>-118.4859</td>\n",
       "      <td>NaN</td>\n",
       "      <td>NaN</td>\n",
       "      <td>NaN</td>\n",
       "      <td>VANOWEN                      AV</td>\n",
       "      <td>NaN</td>\n",
       "    </tr>\n",
       "  </tbody>\n",
       "</table>\n",
       "</div>"
      ],
      "text/plain": [
       "        dr_no                date_rptd                 date_occ  time_occ  \\\n",
       "0   190326475  2020-03-01T00:00:00.000  2020-03-01T00:00:00.000      2130   \n",
       "11  221908151  2022-04-12T00:00:00.000  2020-10-01T00:00:00.000         1   \n",
       "12  230204214  2023-01-05T00:00:00.000  2020-02-01T00:00:00.000       800   \n",
       "13  230409878  2023-06-19T00:00:00.000  2020-04-11T00:00:00.000      1200   \n",
       "14  221008844  2022-05-06T00:00:00.000  2020-11-01T00:00:00.000       130   \n",
       "\n",
       "    area    area_name  rpt_dist_no  part_1_2  crm_cd  \\\n",
       "0      7     Wilshire          784         1     510   \n",
       "11    19      Mission         1988         1     821   \n",
       "12     2      Rampart          201         2     812   \n",
       "13     4   Hollenbeck          417         2     812   \n",
       "14    10  West Valley         1029         1     510   \n",
       "\n",
       "                                          crm_cd_desc  vict_age vict_sex  \\\n",
       "0                                    VEHICLE - STOLEN         0        M   \n",
       "11  SODOMY/SEXUAL CONTACT B/W PENIS OF ONE PERS TO...         8        F   \n",
       "12  CRM AGNST CHLD (13 OR UNDER) (14-15 & SUSP 10 ...         7        F   \n",
       "13  CRM AGNST CHLD (13 OR UNDER) (14-15 & SUSP 10 ...         8        F   \n",
       "14                                   VEHICLE - STOLEN         0      NaN   \n",
       "\n",
       "   vict_descent  premis_cd                                   premis_desc  \\\n",
       "0             O        101                                        STREET   \n",
       "11            H        501                        SINGLE FAMILY DWELLING   \n",
       "12            W        502  MULTI-UNIT DWELLING (APARTMENT, DUPLEX, ETC)   \n",
       "13            H        501                        SINGLE FAMILY DWELLING   \n",
       "14          NaN        101                                        STREET   \n",
       "\n",
       "   status   status_desc  crm_cd_1  crm_cd_2  \\\n",
       "0      AA  Adult Arrest       510     998.0   \n",
       "11     IC   Invest Cont       812     821.0   \n",
       "12     IC   Invest Cont       812     860.0   \n",
       "13     IC   Invest Cont       812     860.0   \n",
       "14     IC   Invest Cont       510       NaN   \n",
       "\n",
       "                                    location      lat       lon  \\\n",
       "0    1900 S  LONGWOOD                     AV  34.0375 -118.3506   \n",
       "11  13400    RANGOON                      ST  34.2285 -118.4258   \n",
       "12    900 N  MARIPOSA                     AV  34.0868 -118.2991   \n",
       "13   4400    MOONSTONE                    DR  34.0784 -118.1936   \n",
       "14           VALJEAN                      ST  34.1939 -118.4859   \n",
       "\n",
       "                               mocodes  weapon_used_cd  \\\n",
       "0                                  NaN             NaN   \n",
       "11       0913 2024 1817 0360 1258 0507           400.0   \n",
       "12  1251 1258 0913 0400 0500 0522 1817           400.0   \n",
       "13       1258 0522 0400 0551 0360 0913           400.0   \n",
       "14                                 NaN             NaN   \n",
       "\n",
       "                                       weapon_desc  \\\n",
       "0                                              NaN   \n",
       "11  STRONG-ARM (HANDS, FIST, FEET OR BODILY FORCE)   \n",
       "12  STRONG-ARM (HANDS, FIST, FEET OR BODILY FORCE)   \n",
       "13  STRONG-ARM (HANDS, FIST, FEET OR BODILY FORCE)   \n",
       "14                                             NaN   \n",
       "\n",
       "                       cross_street  crm_cd_3  \n",
       "0                               NaN       NaN  \n",
       "11                              NaN       NaN  \n",
       "12                              NaN       NaN  \n",
       "13                              NaN       NaN  \n",
       "14  VANOWEN                      AV       NaN  "
      ]
     },
<<<<<<< HEAD
     "execution_count": 72,
=======
     "execution_count": 16,
>>>>>>> 1edd5633b473ba3a65ead99f53116cbf14e3347a
     "metadata": {},
     "output_type": "execute_result"
    }
   ],
   "source": [
    "data_crime_2024[data_crime_2024['vict_age'] < 10].head()"
   ]
  },
  {
   "cell_type": "code",
<<<<<<< HEAD
   "execution_count": 73,
=======
   "execution_count": 17,
>>>>>>> 1edd5633b473ba3a65ead99f53116cbf14e3347a
   "metadata": {},
   "outputs": [
    {
     "data": {
      "text/plain": [
       "995    -2\n",
       "149    -2\n",
       "686    -2\n",
       "805    -2\n",
       "655    -2\n",
       "       ..\n",
       "454    82\n",
       "446    83\n",
       "954    84\n",
       "360    89\n",
       "449    91\n",
       "Name: vict_age, Length: 1000, dtype: int64"
      ]
     },
<<<<<<< HEAD
     "execution_count": 73,
=======
     "execution_count": 17,
>>>>>>> 1edd5633b473ba3a65ead99f53116cbf14e3347a
     "metadata": {},
     "output_type": "execute_result"
    }
   ],
   "source": [
    "data_crime_2024['vict_age'].sort_values()"
   ]
  },
  {
   "cell_type": "code",
<<<<<<< HEAD
   "execution_count": 74,
=======
   "execution_count": 18,
>>>>>>> 1edd5633b473ba3a65ead99f53116cbf14e3347a
   "metadata": {},
   "outputs": [
    {
     "data": {
      "image/png": "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",
      "text/plain": [
       "<Figure size 640x480 with 1 Axes>"
      ]
     },
     "metadata": {},
     "output_type": "display_data"
    }
   ],
   "source": [
    "data_crime_2019['Vict Age'].plot(kind='box')\n",
    "plt.title('range of Victems Age')\n",
    "plt.show()"
   ]
  },
  {
   "cell_type": "code",
<<<<<<< HEAD
   "execution_count": 75,
=======
   "execution_count": 19,
>>>>>>> 1edd5633b473ba3a65ead99f53116cbf14e3347a
   "metadata": {},
   "outputs": [
    {
     "data": {
      "image/png": "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",
      "text/plain": [
       "<Figure size 640x480 with 1 Axes>"
      ]
     },
     "metadata": {},
     "output_type": "display_data"
    }
   ],
   "source": [
    "data_crime_2024['vict_age'].plot(kind='box')\n",
    "plt.title('range of Victems Age')\n",
    "plt.show()"
   ]
  },
  {
   "cell_type": "markdown",
   "metadata": {},
   "source": [
    "### Issue and justification: \n",
    "> #### Accuracy Issue:\n",
    "The data quality issues primarily revolve around accuracy. Some results contain ages less than 1, which lack sufficient information for proper analysis. Therefore, we need to drop these entries. Additionally, there is a validity issue observed in both datasets, where outliers are present in the same column."
   ]
  },
  {
   "cell_type": "markdown",
   "metadata": {
    "id": "lXhGiYyiwwKN"
   },
   "source": [
    "### Tidiness Issue 1:"
   ]
  },
  {
   "cell_type": "code",
<<<<<<< HEAD
   "execution_count": 76,
=======
   "execution_count": 20,
>>>>>>> 1edd5633b473ba3a65ead99f53116cbf14e3347a
   "metadata": {
    "id": "fleC5rORI0Xl"
   },
   "outputs": [
    {
     "data": {
      "text/html": [
       "<div>\n",
       "<style scoped>\n",
       "    .dataframe tbody tr th:only-of-type {\n",
       "        vertical-align: middle;\n",
       "    }\n",
       "\n",
       "    .dataframe tbody tr th {\n",
       "        vertical-align: top;\n",
       "    }\n",
       "\n",
       "    .dataframe thead th {\n",
       "        text-align: right;\n",
       "    }\n",
       "</style>\n",
       "<table border=\"1\" class=\"dataframe\">\n",
       "  <thead>\n",
       "    <tr style=\"text-align: right;\">\n",
       "      <th></th>\n",
       "      <th>Unnamed: 0</th>\n",
       "      <th>DR_NO</th>\n",
       "      <th>Date Rptd</th>\n",
       "      <th>DATE OCC</th>\n",
       "      <th>TIME OCC</th>\n",
       "      <th>AREA</th>\n",
       "      <th>AREA NAME</th>\n",
       "      <th>Rpt Dist No</th>\n",
       "      <th>Part 1-2</th>\n",
       "      <th>Crm Cd</th>\n",
       "      <th>Crm Cd Desc</th>\n",
<<<<<<< HEAD
=======
       "      <th>Mocodes</th>\n",
>>>>>>> 1edd5633b473ba3a65ead99f53116cbf14e3347a
       "      <th>Vict Age</th>\n",
       "      <th>Vict Sex</th>\n",
       "      <th>Vict Descent</th>\n",
       "      <th>Premis Cd</th>\n",
       "      <th>Premis Desc</th>\n",
       "      <th>Weapon Used Cd</th>\n",
       "      <th>Weapon Desc</th>\n",
       "      <th>Status</th>\n",
       "      <th>Status Desc</th>\n",
       "      <th>Crm Cd 1</th>\n",
       "      <th>Crm Cd 2</th>\n",
       "      <th>Crm Cd 3</th>\n",
       "      <th>Crm Cd 4</th>\n",
       "      <th>LOCATION</th>\n",
       "    </tr>\n",
       "  </thead>\n",
       "  <tbody>\n",
       "  </tbody>\n",
       "</table>\n",
       "</div>"
      ],
      "text/plain": [
       "Empty DataFrame\n",
<<<<<<< HEAD
       "Columns: [Unnamed: 0, DR_NO, Date Rptd, DATE OCC, TIME OCC, AREA , AREA NAME, Rpt Dist No, Part 1-2, Crm Cd, Crm Cd Desc, Vict Age, Vict Sex, Vict Descent, Premis Cd, Premis Desc, Weapon Used Cd, Weapon Desc, Status, Status Desc, Crm Cd 1, Crm Cd 2, Crm Cd 3, Crm Cd 4, LOCATION]\n",
       "Index: []"
      ]
     },
     "execution_count": 76,
=======
       "Columns: [DR_NO, Date Rptd, DATE OCC, TIME OCC, AREA , AREA NAME, Rpt Dist No, Part 1-2, Crm Cd, Crm Cd Desc, Mocodes, Vict Age, Vict Sex, Vict Descent, Premis Cd, Premis Desc, Weapon Used Cd, Weapon Desc, Status, Status Desc, Crm Cd 1, Crm Cd 2, Crm Cd 3, Crm Cd 4, LOCATION, Cross Street, LAT, LON]\n",
       "Index: []"
      ]
     },
     "execution_count": 20,
>>>>>>> 1edd5633b473ba3a65ead99f53116cbf14e3347a
     "metadata": {},
     "output_type": "execute_result"
    }
   ],
   "source": [
    "# Inspecting the dataframe visually\n",
    "data_crime_2019.head(0)"
   ]
  },
  {
   "cell_type": "code",
<<<<<<< HEAD
   "execution_count": 77,
=======
   "execution_count": 21,
>>>>>>> 1edd5633b473ba3a65ead99f53116cbf14e3347a
   "metadata": {},
   "outputs": [
    {
     "data": {
      "text/html": [
       "<div>\n",
       "<style scoped>\n",
       "    .dataframe tbody tr th:only-of-type {\n",
       "        vertical-align: middle;\n",
       "    }\n",
       "\n",
       "    .dataframe tbody tr th {\n",
       "        vertical-align: top;\n",
       "    }\n",
       "\n",
       "    .dataframe thead th {\n",
       "        text-align: right;\n",
       "    }\n",
       "</style>\n",
       "<table border=\"1\" class=\"dataframe\">\n",
       "  <thead>\n",
       "    <tr style=\"text-align: right;\">\n",
       "      <th></th>\n",
       "      <th>dr_no</th>\n",
       "      <th>date_rptd</th>\n",
       "      <th>date_occ</th>\n",
       "      <th>time_occ</th>\n",
       "      <th>area</th>\n",
       "      <th>area_name</th>\n",
       "      <th>rpt_dist_no</th>\n",
       "      <th>part_1_2</th>\n",
       "      <th>crm_cd</th>\n",
       "      <th>crm_cd_desc</th>\n",
       "      <th>vict_age</th>\n",
       "      <th>vict_sex</th>\n",
       "      <th>vict_descent</th>\n",
       "      <th>premis_cd</th>\n",
       "      <th>premis_desc</th>\n",
       "      <th>status</th>\n",
       "      <th>status_desc</th>\n",
       "      <th>crm_cd_1</th>\n",
       "      <th>crm_cd_2</th>\n",
       "      <th>location</th>\n",
       "      <th>lat</th>\n",
       "      <th>lon</th>\n",
       "      <th>mocodes</th>\n",
       "      <th>weapon_used_cd</th>\n",
       "      <th>weapon_desc</th>\n",
       "      <th>cross_street</th>\n",
       "      <th>crm_cd_3</th>\n",
       "    </tr>\n",
       "  </thead>\n",
       "  <tbody>\n",
       "  </tbody>\n",
       "</table>\n",
       "</div>"
      ],
      "text/plain": [
       "Empty DataFrame\n",
       "Columns: [dr_no, date_rptd, date_occ, time_occ, area, area_name, rpt_dist_no, part_1_2, crm_cd, crm_cd_desc, vict_age, vict_sex, vict_descent, premis_cd, premis_desc, status, status_desc, crm_cd_1, crm_cd_2, location, lat, lon, mocodes, weapon_used_cd, weapon_desc, cross_street, crm_cd_3]\n",
       "Index: []"
      ]
     },
<<<<<<< HEAD
     "execution_count": 77,
=======
     "execution_count": 21,
>>>>>>> 1edd5633b473ba3a65ead99f53116cbf14e3347a
     "metadata": {},
     "output_type": "execute_result"
    }
   ],
   "source": [
    "#Inspecting the dataframe visually\n",
    "data_crime_2024.head(0)"
   ]
  },
  {
   "cell_type": "code",
<<<<<<< HEAD
   "execution_count": 78,
=======
   "execution_count": 22,
>>>>>>> 1edd5633b473ba3a65ead99f53116cbf14e3347a
   "metadata": {
    "id": "BTuQw7Rbsio4"
   },
   "outputs": [
    {
     "data": {
      "text/plain": [
       "Index(['Unnamed: 0', 'DR_NO', 'Date Rptd', 'DATE OCC', 'TIME OCC', 'AREA ',\n",
       "       'AREA NAME', 'Rpt Dist No', 'Part 1-2', 'Crm Cd', 'Crm Cd Desc',\n",
       "       'Vict Age', 'Vict Sex', 'Vict Descent', 'Premis Cd', 'Premis Desc',\n",
       "       'Weapon Used Cd', 'Weapon Desc', 'Status', 'Status Desc', 'Crm Cd 1',\n",
       "       'Crm Cd 2', 'Crm Cd 3', 'Crm Cd 4', 'LOCATION'],\n",
       "      dtype='object')"
      ]
     },
<<<<<<< HEAD
     "execution_count": 78,
=======
     "execution_count": 22,
>>>>>>> 1edd5633b473ba3a65ead99f53116cbf14e3347a
     "metadata": {},
     "output_type": "execute_result"
    }
   ],
   "source": [
    "#FILL IN - Inspecting the dataframe programmatically\n",
    "data_crime_2019.columns"
   ]
  },
  {
   "cell_type": "code",
<<<<<<< HEAD
   "execution_count": 79,
=======
   "execution_count": 23,
>>>>>>> 1edd5633b473ba3a65ead99f53116cbf14e3347a
   "metadata": {},
   "outputs": [
    {
     "data": {
      "text/plain": [
       "Index(['dr_no', 'date_rptd', 'date_occ', 'time_occ', 'area', 'area_name',\n",
       "       'rpt_dist_no', 'part_1_2', 'crm_cd', 'crm_cd_desc', 'vict_age',\n",
       "       'vict_sex', 'vict_descent', 'premis_cd', 'premis_desc', 'status',\n",
       "       'status_desc', 'crm_cd_1', 'crm_cd_2', 'location', 'lat', 'lon',\n",
       "       'mocodes', 'weapon_used_cd', 'weapon_desc', 'cross_street', 'crm_cd_3'],\n",
       "      dtype='object')"
      ]
     },
<<<<<<< HEAD
     "execution_count": 79,
=======
     "execution_count": 23,
>>>>>>> 1edd5633b473ba3a65ead99f53116cbf14e3347a
     "metadata": {},
     "output_type": "execute_result"
    }
   ],
   "source": [
    "data_crime_2024.columns"
   ]
  },
  {
   "cell_type": "markdown",
   "metadata": {},
   "source": [
    "### Issue and justification: \n",
    "> #### Inconsistency in Column Naming Convention:\n",
    "The data_crime_2019 dataset employs uppercase letters for column names, while the data_crime_2024 dataset uses lowercase letters. To ensure consistency and facilitate easier indexing, it is necessary to standardize the column names in the data_crime_2019 dataset to lowercase letters and convert them to snake_case format.\n",
    "\n"
   ]
  },
  {
   "cell_type": "markdown",
   "metadata": {
    "id": "4ffMoRGSwzYj"
   },
   "source": [
    "### Tidiness Issue 2: "
   ]
  },
  {
   "cell_type": "code",
<<<<<<< HEAD
   "execution_count": 84,
=======
   "execution_count": 24,
>>>>>>> 1edd5633b473ba3a65ead99f53116cbf14e3347a
   "metadata": {
    "id": "XUpeoqokw5Qt"
   },
   "outputs": [
    {
     "data": {
      "text/plain": [
       "0                                   VIOLATION OF COURT ORDER\n",
       "1          VANDALISM - FELONY ($400 & OVER, ALL CHURCH VA...\n",
       "2                                  OTHER MISCELLANEOUS CRIME\n",
       "3                                   VIOLATION OF COURT ORDER\n",
       "4                                            RAPE, ATTEMPTED\n",
       "                                 ...                        \n",
       "2122464              CHILD ABUSE (PHYSICAL) - SIMPLE ASSAULT\n",
       "2122465                                                ARSON\n",
       "2122466               CRIMINAL THREATS - NO WEAPON DISPLAYED\n",
       "2122467      THEFT FROM MOTOR VEHICLE - PETTY ($950 & UNDER)\n",
       "2122468                                BURGLARY FROM VEHICLE\n",
       "Name: Crm Cd Desc, Length: 2122469, dtype: object"
      ]
     },
<<<<<<< HEAD
     "execution_count": 84,
=======
     "execution_count": 24,
>>>>>>> 1edd5633b473ba3a65ead99f53116cbf14e3347a
     "metadata": {},
     "output_type": "execute_result"
    }
   ],
   "source": [
    "#Inspecting the dataframe visually for data_crime_2019\n",
    "data_crime_2019['Crm Cd Desc']"
   ]
  },
  {
   "cell_type": "code",
<<<<<<< HEAD
   "execution_count": 85,
=======
   "execution_count": 25,
>>>>>>> 1edd5633b473ba3a65ead99f53116cbf14e3347a
   "metadata": {
    "id": "c8JK4DoXxtFA"
   },
   "outputs": [
    {
     "data": {
      "text/plain": [
       "array(['VIOLATION OF COURT ORDER',\n",
       "       'VANDALISM - FELONY ($400 & OVER, ALL CHURCH VANDALISMS)',\n",
       "       'OTHER MISCELLANEOUS CRIME', 'RAPE, ATTEMPTED',\n",
       "       'SHOPLIFTING - PETTY THEFT ($950 & UNDER)',\n",
       "       'BURGLARY FROM VEHICLE',\n",
       "       'ASSAULT WITH DEADLY WEAPON, AGGRAVATED ASSAULT',\n",
       "       'THEFT-GRAND ($950.01 & OVER)EXCPT,GUNS,FOWL,LIVESTK,PROD',\n",
       "       'BATTERY - SIMPLE ASSAULT', 'ROBBERY', 'BOMB SCARE',\n",
       "       'CHILD NEGLECT (SEE 300 W.I.C.)',\n",
       "       'INTIMATE PARTNER - AGGRAVATED ASSAULT',\n",
       "       'INTIMATE PARTNER - SIMPLE ASSAULT',\n",
       "       'THEFT PLAIN - PETTY ($950 & UNDER)',\n",
       "       'CRIMINAL THREATS - NO WEAPON DISPLAYED', 'ATTEMPTED ROBBERY',\n",
       "       'VANDALISM - MISDEAMEANOR ($399 OR UNDER)', 'BURGLARY', 'ARSON',\n",
       "       'RAPE, FORCIBLE', 'BRANDISH WEAPON',\n",
       "       'THROWING OBJECT AT MOVING VEHICLE',\n",
       "       'SHOPLIFTING-GRAND THEFT ($950.01 & OVER)',\n",
       "       'CHILD ABUSE (PHYSICAL) - SIMPLE ASSAULT',\n",
       "       'SHOTS FIRED AT INHABITED DWELLING', 'VEHICLE - STOLEN',\n",
       "       'KIDNAPPING - GRAND ATTEMPT', 'CRIMINAL HOMICIDE',\n",
       "       'THEFT PLAIN - ATTEMPT', 'THEFT, PERSON', 'TRESPASSING',\n",
       "       'KIDNAPPING', 'VEHICLE - ATTEMPT STOLEN',\n",
       "       'BATTERY WITH SEXUAL CONTACT', 'DOCUMENT FORGERY / STOLEN FELONY',\n",
       "       'BATTERY POLICE (SIMPLE)',\n",
       "       'CHILD ABUSE (PHYSICAL) - AGGRAVATED ASSAULT',\n",
       "       'DISTURBING THE PEACE', 'OTHER ASSAULT',\n",
       "       'VIOLATION OF RESTRAINING ORDER', 'LEWD CONDUCT',\n",
       "       'CRM AGNST CHLD (13 OR UNDER) (14-15 & SUSP 10 YRS OLDER)',\n",
       "       'THEFT OF IDENTITY',\n",
       "       'ASSAULT WITH DEADLY WEAPON ON POLICE OFFICER',\n",
       "       'CHILD ANNOYING (17YRS & UNDER)',\n",
       "       'SODOMY/SEXUAL CONTACT B/W PENIS OF ONE PERS TO ANUS OTH',\n",
       "       'ORAL COPULATION', 'CRUELTY TO ANIMALS',\n",
       "       'THEFT FROM MOTOR VEHICLE - PETTY ($950 & UNDER)',\n",
       "       'LETTERS, LEWD  -  TELEPHONE CALLS, LEWD', 'PEEPING TOM',\n",
       "       'INDECENT EXPOSURE', 'BIKE - STOLEN',\n",
       "       'BURGLARY FROM VEHICLE, ATTEMPTED', 'BURGLARY, ATTEMPTED',\n",
       "       'STALKING', 'THREATENING PHONE CALLS/LETTERS',\n",
       "       'SEX,UNLAWFUL(INC MUTUAL CONSENT, PENETRATION W/ FRGN OBJ',\n",
       "       'BUNCO, PETTY THEFT', 'BUNCO, GRAND THEFT',\n",
       "       'VIOLATION OF TEMPORARY RESTRAINING ORDER',\n",
       "       'EMBEZZLEMENT, GRAND THEFT ($950.01 & OVER)',\n",
       "       'SEXUAL PENETRATION W/FOREIGN OBJECT', 'EXTORTION', 'PICKPOCKET',\n",
       "       'EMBEZZLEMENT, PETTY THEFT ($950 & UNDER)', 'PURSE SNATCHING',\n",
       "       'WEAPONS POSSESSION/BOMBING', 'COUNTERFEIT', 'FALSE IMPRISONMENT',\n",
       "       'CREDIT CARDS, FRAUD USE ($950.01 & OVER)',\n",
       "       'DISCHARGE FIREARMS/SHOTS FIRED', 'THEFT FROM PERSON - ATTEMPT',\n",
       "       'UNAUTHORIZED COMPUTER ACCESS', 'PANDERING', 'PIMPING',\n",
       "       'DRUNK ROLL - ATTEMPT', 'SHOPLIFTING - ATTEMPT',\n",
       "       'RESISTING ARREST', 'DISHONEST EMPLOYEE - GRAND THEFT',\n",
       "       'RECKLESS DRIVING', 'PROWLER',\n",
       "       'CREDIT CARDS, FRAUD USE ($950 & UNDER',\n",
       "       'DOCUMENT WORTHLESS ($200.01 & OVER)', 'CHILD STEALING',\n",
       "       'CONTEMPT OF COURT', 'CONSPIRACY',\n",
       "       'THEFT FROM MOTOR VEHICLE - ATTEMPT', 'DRUNK ROLL',\n",
       "       'BATTERY ON A FIREFIGHTER', 'ILLEGAL DUMPING', 'LYNCHING',\n",
       "       'THEFT, COIN MACHINE - PETTY ($950 & UNDER)',\n",
       "       'GRAND THEFT / INSURANCE FRAUD', 'BUNCO, ATTEMPT',\n",
       "       'DISRUPT SCHOOL', 'THEFT, COIN MACHINE - GRAND ($950.01 & OVER)',\n",
       "       'FALSE POLICE REPORT', 'PURSE SNATCHING - ATTEMPT',\n",
       "       'BOAT - STOLEN',\n",
       "       'SHOTS FIRED AT MOVING VEHICLE, TRAIN OR AIRCRAFT',\n",
       "       'DRIVING WITHOUT OWNER CONSENT (DWOC)', 'CONTRIBUTING',\n",
       "       'FAILURE TO YIELD', 'TILL TAP - ATTEMPT', 'DRUGS, TO A MINOR',\n",
       "       'INCITING A RIOT',\n",
       "       'BEASTIALITY, CRIME AGAINST NATURE SEXUAL ASSLT WITH ANIM',\n",
       "       'BRIBERY', 'THEFT FROM MOTOR VEHICLE - GRAND ($950.01 AND OVER)',\n",
       "       'DEFRAUDING INNKEEPER/THEFT OF SERVICES, $950 & UNDER',\n",
       "       'DEFRAUDING INNKEEPER/THEFT OF SERVICES, OVER $950.01',\n",
       "       'LYNCHING - ATTEMPTED',\n",
       "       'SEX OFFENDER REGISTRANT OUT OF COMPLIANCE',\n",
       "       'DISHONEST EMPLOYEE - PETTY THEFT', 'CHILD ABANDONMENT',\n",
       "       'TELEPHONE PROPERTY - DAMAGE', 'TILL TAP - PETTY ($950 & UNDER)',\n",
       "       'DOCUMENT WORTHLESS ($200 & UNDER)', 'BIGAMY',\n",
       "       'TILL TAP - GRAND THEFT ($950.01 & OVER)',\n",
       "       'THEFT, COIN MACHINE - ATTEMPT', 'PETTY THEFT - AUTO REPAIR',\n",
       "       'LEWD/LASCIVIOUS ACTS WITH CHILD', 'PICKPOCKET, ATTEMPT',\n",
       "       'HUMAN TRAFFICKING - COMMERCIAL SEX ACTS',\n",
       "       'MANSLAUGHTER, NEGLIGENT', 'GRAND THEFT / AUTO REPAIR',\n",
       "       'BIKE - ATTEMPTED STOLEN', 'FAILURE TO DISPERSE',\n",
       "       'REPLICA FIREARMS(SALE,DISPLAY,MANUFACTURE OR DISTRIBUTE)',\n",
       "       'HUMAN TRAFFICKING - INVOLUNTARY SERVITUDE', 'CHILD PORNOGRAPHY',\n",
       "       'ABORTION/ILLEGAL', 'INCEST (SEXUAL ACTS BETWEEN BLOOD RELATIVES)',\n",
       "       'DISHONEST EMPLOYEE ATTEMPTED THEFT', 'TRAIN WRECKING',\n",
       "       'BLOCKING DOOR INDUCTION CENTER',\n",
       "       'FIREARMS RESTRAINING ORDER (FIREARMS RO)',\n",
       "       'FIREARMS TEMPORARY RESTRAINING ORDER (TEMP FIREARMS RO)',\n",
       "       'VEHICLE, STOLEN - OTHER (MOTORIZED SCOOTERS, BIKES, ETC)'],\n",
       "      dtype=object)"
      ]
     },
<<<<<<< HEAD
     "execution_count": 85,
=======
     "execution_count": 25,
>>>>>>> 1edd5633b473ba3a65ead99f53116cbf14e3347a
     "metadata": {},
     "output_type": "execute_result"
    }
   ],
   "source": [
    "#Inspecting the dataframe programmatically for data_crime_2019\n",
    "data_crime_2019['Crm Cd Desc'].unique()"
   ]
  },
  {
   "cell_type": "code",
<<<<<<< HEAD
   "execution_count": 86,
=======
   "execution_count": 26,
>>>>>>> 1edd5633b473ba3a65ead99f53116cbf14e3347a
   "metadata": {},
   "outputs": [
    {
     "data": {
      "text/plain": [
       "0                            VEHICLE - STOLEN\n",
       "1                       BURGLARY FROM VEHICLE\n",
       "2                               BIKE - STOLEN\n",
       "3    SHOPLIFTING-GRAND THEFT ($950.01 & OVER)\n",
       "4                           THEFT OF IDENTITY\n",
       "Name: crm_cd_desc, dtype: object"
      ]
     },
<<<<<<< HEAD
     "execution_count": 86,
=======
     "execution_count": 26,
>>>>>>> 1edd5633b473ba3a65ead99f53116cbf14e3347a
     "metadata": {},
     "output_type": "execute_result"
    }
   ],
   "source": [
    "#Inspecting the dataframe visually for data_crime_2024\n",
    "data_crime_2024.crm_cd_desc.head()"
   ]
  },
  {
   "cell_type": "code",
<<<<<<< HEAD
   "execution_count": 87,
=======
   "execution_count": 27,
>>>>>>> 1edd5633b473ba3a65ead99f53116cbf14e3347a
   "metadata": {},
   "outputs": [
    {
     "data": {
      "text/plain": [
       "array(['VEHICLE - STOLEN', 'BURGLARY FROM VEHICLE', 'BIKE - STOLEN',\n",
       "       'SHOPLIFTING-GRAND THEFT ($950.01 & OVER)', 'THEFT OF IDENTITY',\n",
       "       'BATTERY - SIMPLE ASSAULT',\n",
       "       'SODOMY/SEXUAL CONTACT B/W PENIS OF ONE PERS TO ANUS OTH',\n",
       "       'CRM AGNST CHLD (13 OR UNDER) (14-15 & SUSP 10 YRS OLDER)',\n",
       "       'SEX,UNLAWFUL(INC MUTUAL CONSENT, PENETRATION W/ FRGN OBJ',\n",
       "       'ASSAULT WITH DEADLY WEAPON, AGGRAVATED ASSAULT',\n",
       "       'LETTERS, LEWD  -  TELEPHONE CALLS, LEWD',\n",
       "       'THEFT-GRAND ($950.01 & OVER)EXCPT,GUNS,FOWL,LIVESTK,PROD',\n",
       "       'RAPE, FORCIBLE', 'CRIMINAL THREATS - NO WEAPON DISPLAYED',\n",
       "       'EMBEZZLEMENT, GRAND THEFT ($950.01 & OVER)',\n",
       "       'THEFT FROM MOTOR VEHICLE - PETTY ($950 & UNDER)',\n",
       "       'CHILD ANNOYING (17YRS & UNDER)', 'BURGLARY', 'CONTEMPT OF COURT',\n",
       "       'THEFT PLAIN - PETTY ($950 & UNDER)',\n",
       "       'INTIMATE PARTNER - SIMPLE ASSAULT', 'LEWD CONDUCT',\n",
       "       'THEFT PLAIN - ATTEMPT',\n",
       "       'THEFT FROM MOTOR VEHICLE - GRAND ($950.01 AND OVER)',\n",
       "       'OTHER MISCELLANEOUS CRIME', 'ROBBERY', 'BUNCO, GRAND THEFT',\n",
       "       'SEXUAL PENETRATION W/FOREIGN OBJECT',\n",
       "       'BATTERY WITH SEXUAL CONTACT',\n",
       "       'INTIMATE PARTNER - AGGRAVATED ASSAULT', 'ORAL COPULATION',\n",
       "       'UNAUTHORIZED COMPUTER ACCESS', 'VIOLATION OF RESTRAINING ORDER',\n",
       "       'SHOPLIFTING - PETTY THEFT ($950 & UNDER)',\n",
       "       'VANDALISM - FELONY ($400 & OVER, ALL CHURCH VANDALISMS)',\n",
       "       'BRANDISH WEAPON', 'DOCUMENT FORGERY / STOLEN FELONY',\n",
       "       'SEX OFFENDER REGISTRANT OUT OF COMPLIANCE',\n",
       "       'VANDALISM - MISDEAMEANOR ($399 OR UNDER)',\n",
       "       'CHILD ABUSE (PHYSICAL) - SIMPLE ASSAULT',\n",
       "       'CREDIT CARDS, FRAUD USE ($950.01 & OVER)',\n",
       "       'THREATENING PHONE CALLS/LETTERS', 'EXTORTION', 'OTHER ASSAULT',\n",
       "       'PICKPOCKET', 'DISTURBING THE PEACE', 'BUNCO, ATTEMPT',\n",
       "       'HUMAN TRAFFICKING - INVOLUNTARY SERVITUDE', 'PEEPING TOM',\n",
       "       'VIOLATION OF COURT ORDER', 'FALSE POLICE REPORT', 'CONTRIBUTING',\n",
       "       'FALSE IMPRISONMENT',\n",
       "       'CHILD ABUSE (PHYSICAL) - AGGRAVATED ASSAULT', 'ATTEMPTED ROBBERY',\n",
       "       'CREDIT CARDS, FRAUD USE ($950 & UNDER', 'CHILD STEALING'],\n",
       "      dtype=object)"
      ]
     },
<<<<<<< HEAD
     "execution_count": 87,
=======
     "execution_count": 27,
>>>>>>> 1edd5633b473ba3a65ead99f53116cbf14e3347a
     "metadata": {},
     "output_type": "execute_result"
    }
   ],
   "source": [
    "#Inspecting the dataframe programmatically for data_crime_2019\n",
    "data_crime_2024.crm_cd_desc.unique()"
   ]
  },
  {
   "cell_type": "markdown",
   "metadata": {},
   "source": [
    "### Issue and Justification:\n",
    "> #### Multiple Variables Stored in One Column:\n",
    "The 'crm cd desc' column contains multiple variables, including crime descriptions and grand, packed into a single cell. To enhance data clarity and analysis capabilities, it is necessary to separate each crime into its own row and create a separate column for grand.\n",
    "\n"
   ]
  },
  {
   "cell_type": "markdown",
   "metadata": {},
   "source": [
    "### Tidiness Issue 3 : "
   ]
  },
  {
   "cell_type": "code",
<<<<<<< HEAD
   "execution_count": 88,
=======
   "execution_count": 28,
>>>>>>> 1edd5633b473ba3a65ead99f53116cbf14e3347a
   "metadata": {},
   "outputs": [
    {
     "data": {
      "text/html": [
       "<div>\n",
       "<style scoped>\n",
       "    .dataframe tbody tr th:only-of-type {\n",
       "        vertical-align: middle;\n",
       "    }\n",
       "\n",
       "    .dataframe tbody tr th {\n",
       "        vertical-align: top;\n",
       "    }\n",
       "\n",
       "    .dataframe thead th {\n",
       "        text-align: right;\n",
       "    }\n",
       "</style>\n",
       "<table border=\"1\" class=\"dataframe\">\n",
       "  <thead>\n",
       "    <tr style=\"text-align: right;\">\n",
       "      <th></th>\n",
       "      <th>Crm Cd</th>\n",
       "      <th>Crm Cd Desc</th>\n",
       "      <th>Crm Cd 1</th>\n",
       "      <th>Crm Cd 2</th>\n",
       "      <th>Crm Cd 3</th>\n",
       "      <th>Crm Cd 4</th>\n",
       "    </tr>\n",
       "  </thead>\n",
       "  <tbody>\n",
       "    <tr>\n",
       "      <th>0</th>\n",
       "      <td>900</td>\n",
       "      <td>VIOLATION OF COURT ORDER</td>\n",
       "      <td>900.0</td>\n",
       "      <td>NaN</td>\n",
       "      <td>NaN</td>\n",
       "      <td>NaN</td>\n",
       "    </tr>\n",
       "    <tr>\n",
       "      <th>1</th>\n",
       "      <td>740</td>\n",
       "      <td>VANDALISM - FELONY ($400 &amp; OVER, ALL CHURCH VA...</td>\n",
       "      <td>740.0</td>\n",
       "      <td>NaN</td>\n",
       "      <td>NaN</td>\n",
       "      <td>NaN</td>\n",
       "    </tr>\n",
       "    <tr>\n",
       "      <th>2</th>\n",
       "      <td>946</td>\n",
       "      <td>OTHER MISCELLANEOUS CRIME</td>\n",
       "      <td>946.0</td>\n",
       "      <td>NaN</td>\n",
       "      <td>NaN</td>\n",
       "      <td>NaN</td>\n",
       "    </tr>\n",
       "    <tr>\n",
       "      <th>3</th>\n",
       "      <td>900</td>\n",
       "      <td>VIOLATION OF COURT ORDER</td>\n",
       "      <td>900.0</td>\n",
       "      <td>998.0</td>\n",
       "      <td>NaN</td>\n",
       "      <td>NaN</td>\n",
       "    </tr>\n",
       "    <tr>\n",
       "      <th>4</th>\n",
       "      <td>122</td>\n",
       "      <td>RAPE, ATTEMPTED</td>\n",
       "      <td>122.0</td>\n",
       "      <td>NaN</td>\n",
       "      <td>NaN</td>\n",
       "      <td>NaN</td>\n",
       "    </tr>\n",
       "    <tr>\n",
       "      <th>5</th>\n",
       "      <td>442</td>\n",
       "      <td>SHOPLIFTING - PETTY THEFT ($950 &amp; UNDER)</td>\n",
       "      <td>442.0</td>\n",
       "      <td>NaN</td>\n",
       "      <td>NaN</td>\n",
       "      <td>NaN</td>\n",
       "    </tr>\n",
       "    <tr>\n",
       "      <th>6</th>\n",
       "      <td>330</td>\n",
       "      <td>BURGLARY FROM VEHICLE</td>\n",
       "      <td>330.0</td>\n",
       "      <td>NaN</td>\n",
       "      <td>NaN</td>\n",
       "      <td>NaN</td>\n",
       "    </tr>\n",
       "    <tr>\n",
       "      <th>7</th>\n",
       "      <td>230</td>\n",
       "      <td>ASSAULT WITH DEADLY WEAPON, AGGRAVATED ASSAULT</td>\n",
       "      <td>230.0</td>\n",
       "      <td>NaN</td>\n",
       "      <td>NaN</td>\n",
       "      <td>NaN</td>\n",
       "    </tr>\n",
       "    <tr>\n",
       "      <th>8</th>\n",
       "      <td>230</td>\n",
       "      <td>ASSAULT WITH DEADLY WEAPON, AGGRAVATED ASSAULT</td>\n",
       "      <td>230.0</td>\n",
       "      <td>NaN</td>\n",
       "      <td>NaN</td>\n",
       "      <td>NaN</td>\n",
       "    </tr>\n",
       "    <tr>\n",
       "      <th>9</th>\n",
       "      <td>341</td>\n",
       "      <td>THEFT-GRAND ($950.01 &amp; OVER)EXCPT,GUNS,FOWL,LI...</td>\n",
       "      <td>341.0</td>\n",
       "      <td>998.0</td>\n",
       "      <td>NaN</td>\n",
       "      <td>NaN</td>\n",
       "    </tr>\n",
       "    <tr>\n",
       "      <th>10</th>\n",
       "      <td>624</td>\n",
       "      <td>BATTERY - SIMPLE ASSAULT</td>\n",
       "      <td>624.0</td>\n",
       "      <td>NaN</td>\n",
       "      <td>NaN</td>\n",
       "      <td>NaN</td>\n",
       "    </tr>\n",
       "    <tr>\n",
       "      <th>11</th>\n",
       "      <td>210</td>\n",
       "      <td>ROBBERY</td>\n",
       "      <td>210.0</td>\n",
       "      <td>NaN</td>\n",
       "      <td>NaN</td>\n",
       "      <td>NaN</td>\n",
       "    </tr>\n",
       "    <tr>\n",
       "      <th>12</th>\n",
       "      <td>740</td>\n",
       "      <td>VANDALISM - FELONY ($400 &amp; OVER, ALL CHURCH VA...</td>\n",
       "      <td>740.0</td>\n",
       "      <td>NaN</td>\n",
       "      <td>NaN</td>\n",
       "      <td>NaN</td>\n",
       "    </tr>\n",
       "    <tr>\n",
       "      <th>13</th>\n",
       "      <td>755</td>\n",
       "      <td>BOMB SCARE</td>\n",
       "      <td>755.0</td>\n",
       "      <td>NaN</td>\n",
       "      <td>NaN</td>\n",
       "      <td>NaN</td>\n",
       "    </tr>\n",
       "    <tr>\n",
       "      <th>14</th>\n",
       "      <td>210</td>\n",
       "      <td>ROBBERY</td>\n",
       "      <td>210.0</td>\n",
       "      <td>NaN</td>\n",
       "      <td>NaN</td>\n",
       "      <td>NaN</td>\n",
       "    </tr>\n",
       "    <tr>\n",
       "      <th>15</th>\n",
       "      <td>946</td>\n",
       "      <td>OTHER MISCELLANEOUS CRIME</td>\n",
       "      <td>946.0</td>\n",
       "      <td>999.0</td>\n",
       "      <td>NaN</td>\n",
       "      <td>NaN</td>\n",
       "    </tr>\n",
       "    <tr>\n",
       "      <th>16</th>\n",
       "      <td>237</td>\n",
       "      <td>CHILD NEGLECT (SEE 300 W.I.C.)</td>\n",
       "      <td>237.0</td>\n",
       "      <td>NaN</td>\n",
       "      <td>NaN</td>\n",
       "      <td>NaN</td>\n",
       "    </tr>\n",
       "    <tr>\n",
       "      <th>17</th>\n",
       "      <td>210</td>\n",
       "      <td>ROBBERY</td>\n",
       "      <td>210.0</td>\n",
       "      <td>NaN</td>\n",
       "      <td>NaN</td>\n",
       "      <td>NaN</td>\n",
       "    </tr>\n",
       "    <tr>\n",
       "      <th>18</th>\n",
       "      <td>236</td>\n",
       "      <td>INTIMATE PARTNER - AGGRAVATED ASSAULT</td>\n",
       "      <td>236.0</td>\n",
       "      <td>NaN</td>\n",
       "      <td>NaN</td>\n",
       "      <td>NaN</td>\n",
       "    </tr>\n",
       "    <tr>\n",
       "      <th>19</th>\n",
       "      <td>210</td>\n",
       "      <td>ROBBERY</td>\n",
       "      <td>210.0</td>\n",
       "      <td>NaN</td>\n",
       "      <td>NaN</td>\n",
       "      <td>NaN</td>\n",
       "    </tr>\n",
       "  </tbody>\n",
       "</table>\n",
       "</div>"
      ],
      "text/plain": [
       "    Crm Cd                                        Crm Cd Desc  Crm Cd 1  \\\n",
       "0      900                           VIOLATION OF COURT ORDER     900.0   \n",
       "1      740  VANDALISM - FELONY ($400 & OVER, ALL CHURCH VA...     740.0   \n",
       "2      946                          OTHER MISCELLANEOUS CRIME     946.0   \n",
       "3      900                           VIOLATION OF COURT ORDER     900.0   \n",
       "4      122                                    RAPE, ATTEMPTED     122.0   \n",
       "5      442           SHOPLIFTING - PETTY THEFT ($950 & UNDER)     442.0   \n",
       "6      330                              BURGLARY FROM VEHICLE     330.0   \n",
       "7      230     ASSAULT WITH DEADLY WEAPON, AGGRAVATED ASSAULT     230.0   \n",
       "8      230     ASSAULT WITH DEADLY WEAPON, AGGRAVATED ASSAULT     230.0   \n",
       "9      341  THEFT-GRAND ($950.01 & OVER)EXCPT,GUNS,FOWL,LI...     341.0   \n",
       "10     624                           BATTERY - SIMPLE ASSAULT     624.0   \n",
       "11     210                                            ROBBERY     210.0   \n",
       "12     740  VANDALISM - FELONY ($400 & OVER, ALL CHURCH VA...     740.0   \n",
       "13     755                                         BOMB SCARE     755.0   \n",
       "14     210                                            ROBBERY     210.0   \n",
       "15     946                          OTHER MISCELLANEOUS CRIME     946.0   \n",
       "16     237                     CHILD NEGLECT (SEE 300 W.I.C.)     237.0   \n",
       "17     210                                            ROBBERY     210.0   \n",
       "18     236              INTIMATE PARTNER - AGGRAVATED ASSAULT     236.0   \n",
       "19     210                                            ROBBERY     210.0   \n",
       "\n",
       "    Crm Cd 2  Crm Cd 3  Crm Cd 4  \n",
       "0        NaN       NaN       NaN  \n",
       "1        NaN       NaN       NaN  \n",
       "2        NaN       NaN       NaN  \n",
       "3      998.0       NaN       NaN  \n",
       "4        NaN       NaN       NaN  \n",
       "5        NaN       NaN       NaN  \n",
       "6        NaN       NaN       NaN  \n",
       "7        NaN       NaN       NaN  \n",
       "8        NaN       NaN       NaN  \n",
       "9      998.0       NaN       NaN  \n",
       "10       NaN       NaN       NaN  \n",
       "11       NaN       NaN       NaN  \n",
       "12       NaN       NaN       NaN  \n",
       "13       NaN       NaN       NaN  \n",
       "14       NaN       NaN       NaN  \n",
       "15     999.0       NaN       NaN  \n",
       "16       NaN       NaN       NaN  \n",
       "17       NaN       NaN       NaN  \n",
       "18       NaN       NaN       NaN  \n",
       "19       NaN       NaN       NaN  "
      ]
     },
<<<<<<< HEAD
     "execution_count": 88,
=======
     "execution_count": 28,
>>>>>>> 1edd5633b473ba3a65ead99f53116cbf14e3347a
     "metadata": {},
     "output_type": "execute_result"
    }
   ],
   "source": [
    "#Inspecting the dataframe visuallyd\n",
    "data_crime_2019[['Crm Cd','Crm Cd Desc','Crm Cd 1','Crm Cd 2','Crm Cd 3','Crm Cd 4']].head(20)"
   ]
  },
  {
   "cell_type": "code",
<<<<<<< HEAD
   "execution_count": 89,
=======
   "execution_count": 29,
>>>>>>> 1edd5633b473ba3a65ead99f53116cbf14e3347a
   "metadata": {},
   "outputs": [
    {
     "data": {
      "text/plain": [
       "Unnamed: 0              0\n",
       "DR_NO                   0\n",
       "Date Rptd               0\n",
       "DATE OCC                0\n",
       "TIME OCC                0\n",
       "AREA                    0\n",
       "AREA NAME               0\n",
       "Rpt Dist No             0\n",
       "Part 1-2                0\n",
       "Crm Cd                  0\n",
       "Crm Cd Desc             0\n",
       "Vict Age                0\n",
       "Vict Sex           196814\n",
       "Vict Descent       196860\n",
       "Premis Cd              53\n",
       "Premis Desc           187\n",
       "Weapon Used Cd    1408915\n",
       "Weapon Desc       1408916\n",
       "Status                  3\n",
       "Status Desc             0\n",
       "Crm Cd 1               10\n",
       "Crm Cd 2          1981221\n",
       "Crm Cd 3          2118909\n",
       "Crm Cd 4          2122364\n",
       "LOCATION                0\n",
       "dtype: int64"
      ]
     },
<<<<<<< HEAD
     "execution_count": 89,
=======
     "execution_count": 29,
>>>>>>> 1edd5633b473ba3a65ead99f53116cbf14e3347a
     "metadata": {},
     "output_type": "execute_result"
    }
   ],
   "source": [
    "#Inspecting the dataframe programmatically\n",
    "data_crime_2019.isnull().sum()"
   ]
  },
  {
   "cell_type": "markdown",
   "metadata": {},
   "source": [
    "### Issue and Justification:\n",
    "> #### Multiple Types of Observational Units Stored in the Same Table:\n",
    "The presence of columns such as 'Crm Cd' alongside other unrelated columns results in multiple types of observational units within the same table. Due to a high proportion of missing values in these columns, it is recommended to remove them from the dataset."
   ]
  },
  {
   "cell_type": "markdown",
   "metadata": {
    "id": "D6gmLnBttpCh"
   },
   "source": [
    "## 3. Clean data\n",
    "Clean the data to solve the 4 issues corresponding to data quality and tidiness found in the assessing step. **Make sure you include justifications for your cleaning decisions.**\n",
    "\n",
    "After the cleaning for each issue, please use **either** the visually or programatical method to validate the cleaning was succesful.\n",
    "\n",
    "At this stage, you are also expected to remove variables that are unnecessary for your analysis and combine your datasets. Depending on your datasets, you may choose to perform variable combination and elimination before or after the cleaning stage. Your dataset must have **at least** 4 variables after combining the data."
   ]
  },
  {
   "cell_type": "code",
<<<<<<< HEAD
   "execution_count": 92,
=======
   "execution_count": 30,
>>>>>>> 1edd5633b473ba3a65ead99f53116cbf14e3347a
   "metadata": {},
   "outputs": [],
   "source": [
    "# FILL IN - Make copies of the datasets to ensure the raw dataframes \n",
    "# are not impacted\n",
    "data_crime_2019_copy=data_crime_2019.copy()\n",
    "data_crime_2024_copy=data_crime_2024.copy()"
   ]
  },
  {
   "cell_type": "markdown",
<<<<<<< HEAD
   "metadata": {
    "id": "FmFhN52Yyn3l"
   },
   "source": [
    "### **Quality Issue 1: missing values"
   ]
  },
  {
   "cell_type": "code",
   "execution_count": 93,
   "metadata": {
    "id": "9UejDWrNMW4a"
   },
   "outputs": [],
   "source": [
    "#Apply the cleaning strategy\n",
    "#drop columns thats contain 60% or above missing values and Mocodes column bc there is no data source about it \n",
    "data_crime_2019_copy.drop(columns=['Weapon Used Cd','Weapon Desc','Crm Cd 2','Crm Cd 3','Crm Cd 4'],inplace=True)"
   ]
  },
  {
   "cell_type": "code",
   "execution_count": 94,
   "metadata": {},
   "outputs": [],
   "source": [
    "#change the missing values and - to be  X-unknowing \n",
    "data_crime_2019_copy['Vict Sex'] = data_crime_2019_copy['Vict Sex'].replace([np.nan, '-'], 'X')\n",
    "data_crime_2019_copy['Vict Descent'] = data_crime_2019_copy['Vict Descent'].replace([np.nan,'-','unknowing'], 'UN')"
   ]
  },
  {
   "cell_type": "code",
   "execution_count": 95,
   "metadata": {},
   "outputs": [],
   "source": [
    "#replace rows that's contian nan in Status column by CC from Status Desc related to anther rows contain same result\n",
    "data_crime_2019_copy['Status'] = data_crime_2019_copy['Status'].replace(np.nan, 'CC')\n"
   ]
  },
  {
   "cell_type": "code",
   "execution_count": 96,
   "metadata": {},
   "outputs": [],
   "source": [
    "#exlude the result in Premis Desc thats contain missing values \n",
    "data_crime_2019_copy=data_crime_2019_copy[data_crime_2019_copy['Premis Desc'].notnull()]"
   ]
  },
  {
   "cell_type": "code",
   "execution_count": 97,
   "metadata": {},
   "outputs": [],
   "source": [
    "# full fillment all Crm Cd 1 from Crm Cd \n",
    "data_crime_2019_copy['Crm Cd 1'] = data_crime_2019_copy.groupby('Crm Cd')['Crm Cd 1'].ffill()"
   ]
  },
  {
   "cell_type": "code",
   "execution_count": 98,
   "metadata": {
    "id": "oUBee-LPytkv"
   },
   "outputs": [
    {
     "data": {
      "text/plain": [
       "Unnamed: 0      0\n",
       "DR_NO           0\n",
       "Date Rptd       0\n",
       "DATE OCC        0\n",
       "TIME OCC        0\n",
       "AREA            0\n",
       "AREA NAME       0\n",
       "Rpt Dist No     0\n",
       "Part 1-2        0\n",
       "Crm Cd          0\n",
       "Crm Cd Desc     0\n",
       "Vict Age        0\n",
       "Vict Sex        0\n",
       "Vict Descent    0\n",
       "Premis Cd       0\n",
       "Premis Desc     0\n",
       "Status          0\n",
       "Status Desc     0\n",
       "Crm Cd 1        0\n",
       "LOCATION        0\n",
       "dtype: int64"
      ]
     },
     "execution_count": 98,
     "metadata": {},
     "output_type": "execute_result"
    }
   ],
   "source": [
    "#Validate the cleaning was successful\n",
    "data_crime_2019_copy.isna().sum()"
   ]
  },
  {
   "cell_type": "markdown",
   "metadata": {},
   "source": [
    "Justification: \n",
    "#### After dropping certain columns and rows, as well as filling missing values by interpolating from adjacent rows, both datasets no longer contain any missing values."
   ]
  },
  {
   "cell_type": "markdown",
   "metadata": {
    "id": "n_DAUbJrymBL"
   },
   "source": [
    "### Quality Issue 2:  Accuracy  issue"
   ]
  },
  {
   "cell_type": "code",
   "execution_count": 100,
   "metadata": {
    "id": "5Yfb-Yu5MTuE"
   },
   "outputs": [],
   "source": [
    "#Apply the cleaning strategy\n",
    "data_crime_2019_copy=data_crime_2019_copy[data_crime_2019_copy['Vict Age'] >= 1]\n",
    "data_crime_2024_copy=data_crime_2024_copy[data_crime_2024_copy['vict_age'] >= 1]"
   ]
  },
  {
   "cell_type": "code",
   "execution_count": 101,
   "metadata": {
    "id": "ionB2sRaMUmY"
   },
   "outputs": [
    {
     "data": {
      "image/png": "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",
      "text/plain": [
       "<Figure size 640x480 with 1 Axes>"
      ]
     },
     "metadata": {},
     "output_type": "display_data"
    }
   ],
   "source": [
    "#Validate the cleaning was successful\n",
    "#Apply the cleaning strategy\n",
    "data_crime_2019_copy['Vict Age'].plot(kind='box')\n",
    "plt.title('range of ages 2010 - 2019')\n",
    "plt.show()"
   ]
  },
  {
   "cell_type": "code",
   "execution_count": 102,
   "metadata": {},
   "outputs": [
    {
     "data": {
      "text/plain": [
       "Text(0.5, 1.0, 'range of Ages 2020 - 2024')"
      ]
     },
     "execution_count": 102,
     "metadata": {},
     "output_type": "execute_result"
    },
    {
     "data": {
      "image/png": "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",
      "text/plain": [
       "<Figure size 640x480 with 1 Axes>"
      ]
     },
     "metadata": {},
     "output_type": "display_data"
    }
   ],
   "source": [
    "data_crime_2019_copy['Vict Age'].plot(kind='box')\n",
    "plt.title('range of Ages 2020 - 2024')"
   ]
  },
  {
   "cell_type": "markdown",
   "metadata": {},
   "source": [
    "Justification:\n",
    "#### Rows containing age values less than 1 year were dropped from the dataset to ensure data integrity and consistency."
   ]
  },
  {
   "cell_type": "markdown",
   "metadata": {
    "id": "bIUrrfSNyOPR"
   },
   "source": [
    "### **Tidiness Issue 1: columns names**"
   ]
  },
  {
   "cell_type": "code",
   "execution_count": 103,
   "metadata": {
    "id": "fib0zAm333bn"
   },
   "outputs": [],
   "source": [
    "#Apply the cleaning strategy\n",
    "#We will change data_crime_2019 columns name from upper case into lower case by lambda func\n",
    "data_crime_2019_copy.rename(columns=lambda x: x.lower(), inplace=True)\n",
    "data_crime_2019_copy.columns = data_crime_2019_copy.columns.str.replace(' ', '_')"
   ]
  },
  {
   "cell_type": "code",
   "execution_count": 104,
   "metadata": {
    "id": "yhrnUGY_Nk8B"
   },
   "outputs": [
    {
     "data": {
      "text/plain": [
       "Index(['unnamed:_0', 'dr_no', 'date_rptd', 'date_occ', 'time_occ', 'area_',\n",
       "       'area_name', 'rpt_dist_no', 'part_1-2', 'crm_cd', 'crm_cd_desc',\n",
       "       'vict_age', 'vict_sex', 'vict_descent', 'premis_cd', 'premis_desc',\n",
       "       'status', 'status_desc', 'crm_cd_1', 'location'],\n",
       "      dtype='object')"
      ]
     },
     "execution_count": 104,
     "metadata": {},
     "output_type": "execute_result"
    }
   ],
   "source": [
    "#Validate the cleaning was successful\n",
    "data_crime_2019_copy.columns"
   ]
  },
  {
   "cell_type": "code",
   "execution_count": 105,
   "metadata": {},
   "outputs": [
    {
     "data": {
      "text/plain": [
       "Index(['dr_no', 'date_rptd', 'date_occ', 'time_occ', 'area', 'area_name',\n",
       "       'rpt_dist_no', 'part_1_2', 'crm_cd', 'crm_cd_desc', 'vict_age',\n",
       "       'vict_sex', 'vict_descent', 'premis_cd', 'premis_desc', 'status',\n",
       "       'status_desc', 'crm_cd_1', 'crm_cd_2', 'location', 'lat', 'lon',\n",
       "       'mocodes', 'weapon_used_cd', 'weapon_desc', 'cross_street', 'crm_cd_3'],\n",
       "      dtype='object')"
      ]
     },
     "execution_count": 105,
     "metadata": {},
     "output_type": "execute_result"
    }
   ],
   "source": [
    "data_crime_2024_copy.columns"
   ]
  },
  {
   "cell_type": "markdown",
   "metadata": {},
   "source": [
    "Justification:\n",
    "> #### The column names in the data_crime_2019 dataset have been converted from uppercase to lowercase using a lambda function. With this modification completed, the datasets for 2019 and 2024 can now be combined seamlessly."
   ]
  },
  {
   "cell_type": "markdown",
   "metadata": {
    "id": "o51Bt8kwyTzk"
   },
   "source": [
    "### **Tidiness Issue 2: FILL IN**"
   ]
  },
  {
   "cell_type": "code",
   "execution_count": 106,
   "metadata": {},
   "outputs": [],
   "source": [
    "def clean_and_transform(dataframe):\n",
    "    # Perform the split and stack operation on 'crm_cd_desc'\n",
    "    crm_cd_desc_split = dataframe['crm_cd_desc'].str.split(',', expand=True).stack().str.strip().reset_index(level=1, drop=True)\n",
    "    crm_cd_desc_split.name = 'crime'  # Renaming the resulting Series for clarity\n",
    "\n",
    "    # Join the expanded 'crm_cd_desc' with the original DataFrame based on the index,\n",
    "    # which contains 'dr_no' and any other additional columns\n",
    "    dataframe = dataframe.drop(columns=['crm_cd_desc']).join(crm_cd_desc_split).reset_index(drop=True)\n",
    "\n",
    "    # Change the new 'crime' column from being the last one to be the tenth column from the left\n",
    "    columns = list(dataframe.columns)\n",
    "    # First, remove the 'crime' column name\n",
    "    columns.remove('crime')\n",
    "    # Then insert 'crime' at the desired position\n",
    "    columns.insert(9, 'crime')\n",
    "    # Now, reindex the DataFrame with the new columns order\n",
    "    dataframe = dataframe.reindex(columns=columns)\n",
    "    return dataframe\n",
    "\n",
    "# Assuming data_crime_2019_copy and data_crime_2024_copy are your DataFrames\n",
    "data_crime_2019_copy = clean_and_transform(data_crime_2019_copy)\n",
    "data_crime_2024_copy = clean_and_transform(data_crime_2024_copy)\n",
    "\n"
   ]
  },
  {
   "cell_type": "code",
   "execution_count": 107,
   "metadata": {},
   "outputs": [
    {
     "data": {
      "text/html": [
       "<div>\n",
       "<style scoped>\n",
       "    .dataframe tbody tr th:only-of-type {\n",
       "        vertical-align: middle;\n",
       "    }\n",
       "\n",
       "    .dataframe tbody tr th {\n",
       "        vertical-align: top;\n",
       "    }\n",
       "\n",
       "    .dataframe thead th {\n",
       "        text-align: right;\n",
       "    }\n",
       "</style>\n",
       "<table border=\"1\" class=\"dataframe\">\n",
       "  <thead>\n",
       "    <tr style=\"text-align: right;\">\n",
       "      <th></th>\n",
       "      <th>unnamed:_0</th>\n",
       "      <th>dr_no</th>\n",
       "      <th>date_rptd</th>\n",
       "      <th>date_occ</th>\n",
       "      <th>time_occ</th>\n",
       "      <th>area_</th>\n",
       "      <th>area_name</th>\n",
       "      <th>rpt_dist_no</th>\n",
       "      <th>part_1-2</th>\n",
       "      <th>crime</th>\n",
       "      <th>crm_cd</th>\n",
       "      <th>vict_age</th>\n",
       "      <th>vict_sex</th>\n",
       "      <th>vict_descent</th>\n",
       "      <th>premis_cd</th>\n",
       "      <th>premis_desc</th>\n",
       "      <th>status</th>\n",
       "      <th>status_desc</th>\n",
       "      <th>crm_cd_1</th>\n",
       "      <th>location</th>\n",
       "    </tr>\n",
       "  </thead>\n",
       "  <tbody>\n",
       "    <tr>\n",
       "      <th>0</th>\n",
       "      <td>0</td>\n",
       "      <td>1307355</td>\n",
       "      <td>02/20/2010 12:00:00 AM</td>\n",
       "      <td>02/20/2010 12:00:00 AM</td>\n",
       "      <td>1350</td>\n",
       "      <td>13</td>\n",
       "      <td>Newton</td>\n",
       "      <td>1385</td>\n",
       "      <td>2</td>\n",
       "      <td>VIOLATION OF COURT ORDER</td>\n",
       "      <td>900</td>\n",
       "      <td>48</td>\n",
       "      <td>M</td>\n",
       "      <td>H</td>\n",
       "      <td>501.0</td>\n",
       "      <td>SINGLE FAMILY DWELLING</td>\n",
       "      <td>AA</td>\n",
       "      <td>Adult Arrest</td>\n",
       "      <td>900.0</td>\n",
       "      <td>300 E  GAGE                         AV</td>\n",
       "    </tr>\n",
       "    <tr>\n",
       "      <th>1</th>\n",
       "      <td>3</td>\n",
       "      <td>90631215</td>\n",
       "      <td>01/05/2010 12:00:00 AM</td>\n",
       "      <td>01/05/2010 12:00:00 AM</td>\n",
       "      <td>150</td>\n",
       "      <td>6</td>\n",
       "      <td>Hollywood</td>\n",
       "      <td>646</td>\n",
       "      <td>2</td>\n",
       "      <td>VIOLATION OF COURT ORDER</td>\n",
       "      <td>900</td>\n",
       "      <td>47</td>\n",
       "      <td>F</td>\n",
       "      <td>W</td>\n",
       "      <td>101.0</td>\n",
       "      <td>STREET</td>\n",
       "      <td>IC</td>\n",
       "      <td>Invest Cont</td>\n",
       "      <td>900.0</td>\n",
       "      <td>CAHUENGA                     BL</td>\n",
       "    </tr>\n",
       "    <tr>\n",
       "      <th>2</th>\n",
       "      <td>4</td>\n",
       "      <td>100100501</td>\n",
       "      <td>01/03/2010 12:00:00 AM</td>\n",
       "      <td>01/02/2010 12:00:00 AM</td>\n",
       "      <td>2100</td>\n",
       "      <td>1</td>\n",
       "      <td>Central</td>\n",
       "      <td>176</td>\n",
       "      <td>1</td>\n",
       "      <td>RAPE</td>\n",
       "      <td>122</td>\n",
       "      <td>47</td>\n",
       "      <td>F</td>\n",
       "      <td>H</td>\n",
       "      <td>103.0</td>\n",
       "      <td>ALLEY</td>\n",
       "      <td>IC</td>\n",
       "      <td>Invest Cont</td>\n",
       "      <td>122.0</td>\n",
       "      <td>8TH                          ST</td>\n",
       "    </tr>\n",
       "    <tr>\n",
       "      <th>3</th>\n",
       "      <td>4</td>\n",
       "      <td>100100501</td>\n",
       "      <td>01/03/2010 12:00:00 AM</td>\n",
       "      <td>01/02/2010 12:00:00 AM</td>\n",
       "      <td>2100</td>\n",
       "      <td>1</td>\n",
       "      <td>Central</td>\n",
       "      <td>176</td>\n",
       "      <td>1</td>\n",
       "      <td>ATTEMPTED</td>\n",
       "      <td>122</td>\n",
       "      <td>47</td>\n",
       "      <td>F</td>\n",
       "      <td>H</td>\n",
       "      <td>103.0</td>\n",
       "      <td>ALLEY</td>\n",
       "      <td>IC</td>\n",
       "      <td>Invest Cont</td>\n",
       "      <td>122.0</td>\n",
       "      <td>8TH                          ST</td>\n",
       "    </tr>\n",
       "    <tr>\n",
       "      <th>4</th>\n",
       "      <td>5</td>\n",
       "      <td>100100506</td>\n",
       "      <td>01/05/2010 12:00:00 AM</td>\n",
       "      <td>01/04/2010 12:00:00 AM</td>\n",
       "      <td>1650</td>\n",
       "      <td>1</td>\n",
       "      <td>Central</td>\n",
       "      <td>162</td>\n",
       "      <td>1</td>\n",
       "      <td>SHOPLIFTING - PETTY THEFT ($950 &amp; UNDER)</td>\n",
       "      <td>442</td>\n",
       "      <td>23</td>\n",
       "      <td>M</td>\n",
       "      <td>B</td>\n",
       "      <td>404.0</td>\n",
       "      <td>DEPARTMENT STORE</td>\n",
       "      <td>AA</td>\n",
       "      <td>Adult Arrest</td>\n",
       "      <td>442.0</td>\n",
       "      <td>700 W  7TH                          ST</td>\n",
       "    </tr>\n",
       "  </tbody>\n",
       "</table>\n",
       "</div>"
      ],
      "text/plain": [
       "   unnamed:_0      dr_no               date_rptd                date_occ  \\\n",
       "0           0    1307355  02/20/2010 12:00:00 AM  02/20/2010 12:00:00 AM   \n",
       "1           3   90631215  01/05/2010 12:00:00 AM  01/05/2010 12:00:00 AM   \n",
       "2           4  100100501  01/03/2010 12:00:00 AM  01/02/2010 12:00:00 AM   \n",
       "3           4  100100501  01/03/2010 12:00:00 AM  01/02/2010 12:00:00 AM   \n",
       "4           5  100100506  01/05/2010 12:00:00 AM  01/04/2010 12:00:00 AM   \n",
       "\n",
       "   time_occ  area_  area_name  rpt_dist_no  part_1-2  \\\n",
       "0      1350     13     Newton         1385         2   \n",
       "1       150      6  Hollywood          646         2   \n",
       "2      2100      1    Central          176         1   \n",
       "3      2100      1    Central          176         1   \n",
       "4      1650      1    Central          162         1   \n",
       "\n",
       "                                      crime  crm_cd  vict_age vict_sex  \\\n",
       "0                  VIOLATION OF COURT ORDER     900        48        M   \n",
       "1                  VIOLATION OF COURT ORDER     900        47        F   \n",
       "2                                      RAPE     122        47        F   \n",
       "3                                 ATTEMPTED     122        47        F   \n",
       "4  SHOPLIFTING - PETTY THEFT ($950 & UNDER)     442        23        M   \n",
       "\n",
       "  vict_descent  premis_cd             premis_desc status   status_desc  \\\n",
       "0            H      501.0  SINGLE FAMILY DWELLING     AA  Adult Arrest   \n",
       "1            W      101.0                  STREET     IC   Invest Cont   \n",
       "2            H      103.0                   ALLEY     IC   Invest Cont   \n",
       "3            H      103.0                   ALLEY     IC   Invest Cont   \n",
       "4            B      404.0        DEPARTMENT STORE     AA  Adult Arrest   \n",
       "\n",
       "   crm_cd_1                                location  \n",
       "0     900.0  300 E  GAGE                         AV  \n",
       "1     900.0         CAHUENGA                     BL  \n",
       "2     122.0         8TH                          ST  \n",
       "3     122.0         8TH                          ST  \n",
       "4     442.0  700 W  7TH                          ST  "
      ]
     },
     "execution_count": 107,
     "metadata": {},
     "output_type": "execute_result"
    }
   ],
   "source": [
    "data_crime_2019_copy.head()"
   ]
  },
  {
   "cell_type": "code",
   "execution_count": 108,
   "metadata": {},
   "outputs": [
    {
     "data": {
      "text/html": [
       "<div>\n",
       "<style scoped>\n",
       "    .dataframe tbody tr th:only-of-type {\n",
       "        vertical-align: middle;\n",
       "    }\n",
       "\n",
       "    .dataframe tbody tr th {\n",
       "        vertical-align: top;\n",
       "    }\n",
       "\n",
       "    .dataframe thead th {\n",
       "        text-align: right;\n",
       "    }\n",
       "</style>\n",
       "<table border=\"1\" class=\"dataframe\">\n",
       "  <thead>\n",
       "    <tr style=\"text-align: right;\">\n",
       "      <th></th>\n",
       "      <th>dr_no</th>\n",
       "      <th>date_rptd</th>\n",
       "      <th>date_occ</th>\n",
       "      <th>time_occ</th>\n",
       "      <th>area</th>\n",
       "      <th>area_name</th>\n",
       "      <th>rpt_dist_no</th>\n",
       "      <th>part_1_2</th>\n",
       "      <th>crm_cd</th>\n",
       "      <th>crime</th>\n",
       "      <th>vict_age</th>\n",
       "      <th>vict_sex</th>\n",
       "      <th>vict_descent</th>\n",
       "      <th>premis_cd</th>\n",
       "      <th>premis_desc</th>\n",
       "      <th>status</th>\n",
       "      <th>status_desc</th>\n",
       "      <th>crm_cd_1</th>\n",
       "      <th>crm_cd_2</th>\n",
       "      <th>location</th>\n",
       "      <th>lat</th>\n",
       "      <th>lon</th>\n",
       "      <th>mocodes</th>\n",
       "      <th>weapon_used_cd</th>\n",
       "      <th>weapon_desc</th>\n",
       "      <th>cross_street</th>\n",
       "      <th>crm_cd_3</th>\n",
       "    </tr>\n",
       "  </thead>\n",
       "  <tbody>\n",
       "    <tr>\n",
       "      <th>0</th>\n",
       "      <td>200106753</td>\n",
       "      <td>2020-02-09T00:00:00.000</td>\n",
       "      <td>2020-02-08T00:00:00.000</td>\n",
       "      <td>1800</td>\n",
       "      <td>1</td>\n",
       "      <td>Central</td>\n",
       "      <td>182</td>\n",
       "      <td>1</td>\n",
       "      <td>330</td>\n",
       "      <td>BURGLARY FROM VEHICLE</td>\n",
       "      <td>47</td>\n",
       "      <td>M</td>\n",
       "      <td>O</td>\n",
       "      <td>128</td>\n",
       "      <td>BUS STOP/LAYOVER (ALSO QUERY 124)</td>\n",
       "      <td>IC</td>\n",
       "      <td>Invest Cont</td>\n",
       "      <td>330</td>\n",
       "      <td>998.0</td>\n",
       "      <td>1000 S  FLOWER                       ST</td>\n",
       "      <td>34.0444</td>\n",
       "      <td>-118.2628</td>\n",
       "      <td>1822 1402 0344</td>\n",
       "      <td>NaN</td>\n",
       "      <td>NaN</td>\n",
       "      <td>NaN</td>\n",
       "      <td>NaN</td>\n",
       "    </tr>\n",
       "    <tr>\n",
       "      <th>1</th>\n",
       "      <td>200320258</td>\n",
       "      <td>2020-11-11T00:00:00.000</td>\n",
       "      <td>2020-11-04T00:00:00.000</td>\n",
       "      <td>1700</td>\n",
       "      <td>3</td>\n",
       "      <td>Southwest</td>\n",
       "      <td>356</td>\n",
       "      <td>1</td>\n",
       "      <td>480</td>\n",
       "      <td>BIKE - STOLEN</td>\n",
       "      <td>19</td>\n",
       "      <td>X</td>\n",
       "      <td>X</td>\n",
       "      <td>502</td>\n",
       "      <td>MULTI-UNIT DWELLING (APARTMENT, DUPLEX, ETC)</td>\n",
       "      <td>IC</td>\n",
       "      <td>Invest Cont</td>\n",
       "      <td>480</td>\n",
       "      <td>NaN</td>\n",
       "      <td>1400 W  37TH                         ST</td>\n",
       "      <td>34.0210</td>\n",
       "      <td>-118.3002</td>\n",
       "      <td>0344 1251</td>\n",
       "      <td>NaN</td>\n",
       "      <td>NaN</td>\n",
       "      <td>NaN</td>\n",
       "      <td>NaN</td>\n",
       "    </tr>\n",
       "    <tr>\n",
       "      <th>2</th>\n",
       "      <td>200907217</td>\n",
       "      <td>2023-05-10T00:00:00.000</td>\n",
       "      <td>2020-03-10T00:00:00.000</td>\n",
       "      <td>2037</td>\n",
       "      <td>9</td>\n",
       "      <td>Van Nuys</td>\n",
       "      <td>964</td>\n",
       "      <td>1</td>\n",
       "      <td>343</td>\n",
       "      <td>SHOPLIFTING-GRAND THEFT ($950.01 &amp; OVER)</td>\n",
       "      <td>19</td>\n",
       "      <td>M</td>\n",
       "      <td>O</td>\n",
       "      <td>405</td>\n",
       "      <td>CLOTHING STORE</td>\n",
       "      <td>IC</td>\n",
       "      <td>Invest Cont</td>\n",
       "      <td>343</td>\n",
       "      <td>NaN</td>\n",
       "      <td>14000    RIVERSIDE                    DR</td>\n",
       "      <td>34.1576</td>\n",
       "      <td>-118.4387</td>\n",
       "      <td>0325 1501</td>\n",
       "      <td>NaN</td>\n",
       "      <td>NaN</td>\n",
       "      <td>NaN</td>\n",
       "      <td>NaN</td>\n",
       "    </tr>\n",
       "    <tr>\n",
       "      <th>3</th>\n",
       "      <td>220614831</td>\n",
       "      <td>2022-08-18T00:00:00.000</td>\n",
       "      <td>2020-08-17T00:00:00.000</td>\n",
       "      <td>1200</td>\n",
       "      <td>6</td>\n",
       "      <td>Hollywood</td>\n",
       "      <td>666</td>\n",
       "      <td>2</td>\n",
       "      <td>354</td>\n",
       "      <td>THEFT OF IDENTITY</td>\n",
       "      <td>28</td>\n",
       "      <td>M</td>\n",
       "      <td>H</td>\n",
       "      <td>102</td>\n",
       "      <td>SIDEWALK</td>\n",
       "      <td>IC</td>\n",
       "      <td>Invest Cont</td>\n",
       "      <td>354</td>\n",
       "      <td>NaN</td>\n",
       "      <td>1900    TRANSIENT</td>\n",
       "      <td>34.0944</td>\n",
       "      <td>-118.3277</td>\n",
       "      <td>1822 1501 0930 2004</td>\n",
       "      <td>NaN</td>\n",
       "      <td>NaN</td>\n",
       "      <td>NaN</td>\n",
       "      <td>NaN</td>\n",
       "    </tr>\n",
       "    <tr>\n",
       "      <th>4</th>\n",
       "      <td>231808869</td>\n",
       "      <td>2023-04-04T00:00:00.000</td>\n",
       "      <td>2020-12-01T00:00:00.000</td>\n",
       "      <td>2300</td>\n",
       "      <td>18</td>\n",
       "      <td>Southeast</td>\n",
       "      <td>1826</td>\n",
       "      <td>2</td>\n",
       "      <td>354</td>\n",
       "      <td>THEFT OF IDENTITY</td>\n",
       "      <td>41</td>\n",
       "      <td>M</td>\n",
       "      <td>H</td>\n",
       "      <td>501</td>\n",
       "      <td>SINGLE FAMILY DWELLING</td>\n",
       "      <td>IC</td>\n",
       "      <td>Invest Cont</td>\n",
       "      <td>354</td>\n",
       "      <td>NaN</td>\n",
       "      <td>9900    COMPTON                      AV</td>\n",
       "      <td>33.9467</td>\n",
       "      <td>-118.2463</td>\n",
       "      <td>1822 0100 0930 0929</td>\n",
       "      <td>NaN</td>\n",
       "      <td>NaN</td>\n",
       "      <td>NaN</td>\n",
       "      <td>NaN</td>\n",
       "    </tr>\n",
       "  </tbody>\n",
       "</table>\n",
       "</div>"
      ],
      "text/plain": [
       "       dr_no                date_rptd                 date_occ  time_occ  \\\n",
       "0  200106753  2020-02-09T00:00:00.000  2020-02-08T00:00:00.000      1800   \n",
       "1  200320258  2020-11-11T00:00:00.000  2020-11-04T00:00:00.000      1700   \n",
       "2  200907217  2023-05-10T00:00:00.000  2020-03-10T00:00:00.000      2037   \n",
       "3  220614831  2022-08-18T00:00:00.000  2020-08-17T00:00:00.000      1200   \n",
       "4  231808869  2023-04-04T00:00:00.000  2020-12-01T00:00:00.000      2300   \n",
       "\n",
       "   area  area_name  rpt_dist_no  part_1_2  crm_cd  \\\n",
       "0     1    Central          182         1     330   \n",
       "1     3  Southwest          356         1     480   \n",
       "2     9   Van Nuys          964         1     343   \n",
       "3     6  Hollywood          666         2     354   \n",
       "4    18  Southeast         1826         2     354   \n",
       "\n",
       "                                      crime  vict_age vict_sex vict_descent  \\\n",
       "0                     BURGLARY FROM VEHICLE        47        M            O   \n",
       "1                             BIKE - STOLEN        19        X            X   \n",
       "2  SHOPLIFTING-GRAND THEFT ($950.01 & OVER)        19        M            O   \n",
       "3                         THEFT OF IDENTITY        28        M            H   \n",
       "4                         THEFT OF IDENTITY        41        M            H   \n",
       "\n",
       "   premis_cd                                   premis_desc status  \\\n",
       "0        128             BUS STOP/LAYOVER (ALSO QUERY 124)     IC   \n",
       "1        502  MULTI-UNIT DWELLING (APARTMENT, DUPLEX, ETC)     IC   \n",
       "2        405                                CLOTHING STORE     IC   \n",
       "3        102                                      SIDEWALK     IC   \n",
       "4        501                        SINGLE FAMILY DWELLING     IC   \n",
       "\n",
       "   status_desc  crm_cd_1  crm_cd_2                                  location  \\\n",
       "0  Invest Cont       330     998.0   1000 S  FLOWER                       ST   \n",
       "1  Invest Cont       480       NaN   1400 W  37TH                         ST   \n",
       "2  Invest Cont       343       NaN  14000    RIVERSIDE                    DR   \n",
       "3  Invest Cont       354       NaN                         1900    TRANSIENT   \n",
       "4  Invest Cont       354       NaN   9900    COMPTON                      AV   \n",
       "\n",
       "       lat       lon              mocodes  weapon_used_cd weapon_desc  \\\n",
       "0  34.0444 -118.2628       1822 1402 0344             NaN         NaN   \n",
       "1  34.0210 -118.3002            0344 1251             NaN         NaN   \n",
       "2  34.1576 -118.4387            0325 1501             NaN         NaN   \n",
       "3  34.0944 -118.3277  1822 1501 0930 2004             NaN         NaN   \n",
       "4  33.9467 -118.2463  1822 0100 0930 0929             NaN         NaN   \n",
       "\n",
       "  cross_street  crm_cd_3  \n",
       "0          NaN       NaN  \n",
       "1          NaN       NaN  \n",
       "2          NaN       NaN  \n",
       "3          NaN       NaN  \n",
       "4          NaN       NaN  "
      ]
     },
     "execution_count": 108,
     "metadata": {},
     "output_type": "execute_result"
    }
   ],
   "source": [
    "data_crime_2024_copy.head()"
   ]
  },
  {
   "cell_type": "code",
   "execution_count": 109,
   "metadata": {
    "id": "q6I_Sr7lxXi5"
   },
   "outputs": [
    {
     "name": "stdout",
     "output_type": "stream",
     "text": [
      "(2304365, 20)\n",
      "(1122, 27)\n"
     ]
    }
   ],
   "source": [
    "#FILL IN - Validate the cleaning was successful\n",
    "print(data_crime_2019_copy.shape)\n",
    "print(data_crime_2024_copy.shape)"
=======
   "metadata": {
    "id": "FmFhN52Yyn3l"
   },
   "source": [
    "### **Quality Issue 1: missing values"
   ]
  },
  {
   "cell_type": "code",
   "execution_count": 31,
   "metadata": {
    "id": "9UejDWrNMW4a"
   },
   "outputs": [],
   "source": [
    "#Apply the cleaning strategy\n",
    "#drop columns thats contain 60% or above missing values and Mocodes column bc there is no data source about it \n",
    "data_crime_2019_copy.drop(columns=['Weapon Used Cd','Weapon Desc','Crm Cd 2','Crm Cd 3','Crm Cd 4','Cross Street','Mocodes'],inplace=True)"
   ]
  },
  {
   "cell_type": "code",
   "execution_count": 32,
   "metadata": {},
   "outputs": [],
   "source": [
    "#change the missing values and - to be  X-unknowing \n",
    "data_crime_2019_copy['Vict Sex'] = data_crime_2019_copy['Vict Sex'].replace([np.nan, '-'], 'X')\n",
    "data_crime_2019_copy['Vict Descent'] = data_crime_2019_copy['Vict Descent'].replace([np.nan,'-','unknowing'], 'UN')"
   ]
  },
  {
   "cell_type": "code",
   "execution_count": 33,
   "metadata": {},
   "outputs": [],
   "source": [
    "#replace rows that's contian nan in Status column by CC from Status Desc related to anther rows contain same result\n",
    "data_crime_2019_copy['Status'] = data_crime_2019_copy['Status'].replace(np.nan, 'CC')\n"
   ]
  },
  {
   "cell_type": "code",
   "execution_count": 34,
   "metadata": {},
   "outputs": [],
   "source": [
    "#exlude the result in Premis Desc thats contain missing values \n",
    "data_crime_2019_copy=data_crime_2019_copy[data_crime_2019_copy['Premis Desc'].notnull()]"
   ]
  },
  {
   "cell_type": "code",
   "execution_count": 35,
   "metadata": {},
   "outputs": [],
   "source": [
    "# full fillment all Crm Cd 1 from Crm Cd \n",
    "data_crime_2019_copy['Crm Cd 1'] = data_crime_2019_copy.groupby('Crm Cd')['Crm Cd 1'].ffill()"
   ]
  },
  {
   "cell_type": "code",
   "execution_count": 36,
   "metadata": {
    "id": "oUBee-LPytkv"
   },
   "outputs": [
    {
     "data": {
      "text/plain": [
       "DR_NO           0\n",
       "Date Rptd       0\n",
       "DATE OCC        0\n",
       "TIME OCC        0\n",
       "AREA            0\n",
       "AREA NAME       0\n",
       "Rpt Dist No     0\n",
       "Part 1-2        0\n",
       "Crm Cd          0\n",
       "Crm Cd Desc     0\n",
       "Vict Age        0\n",
       "Vict Sex        0\n",
       "Vict Descent    0\n",
       "Premis Cd       0\n",
       "Premis Desc     0\n",
       "Status          0\n",
       "Status Desc     0\n",
       "Crm Cd 1        0\n",
       "LOCATION        0\n",
       "LAT             0\n",
       "LON             0\n",
       "dtype: int64"
      ]
     },
     "execution_count": 36,
     "metadata": {},
     "output_type": "execute_result"
    }
   ],
   "source": [
    "#Validate the cleaning was successful\n",
    "data_crime_2019_copy.isna().sum()"
   ]
  },
  {
   "cell_type": "markdown",
   "metadata": {},
   "source": [
    "Justification: \n",
    "#### we dropped some columns and some rows and I fill some rows by another rows now there is no missing values in both datasets"
   ]
  },
  {
   "cell_type": "markdown",
   "metadata": {
    "id": "n_DAUbJrymBL"
   },
   "source": [
    "### Quality Issue 2:  Accuracy  issue"
   ]
  },
  {
   "cell_type": "code",
   "execution_count": 37,
   "metadata": {
    "id": "5Yfb-Yu5MTuE"
   },
   "outputs": [],
   "source": [
    "#Apply the cleaning strategy\n",
    "data_crime_2019_copy=data_crime_2019_copy[data_crime_2019_copy['Vict Age'] >= 1]\n",
    "data_crime_2024_copy=data_crime_2024_copy[data_crime_2024_copy['vict_age'] >= 1]"
   ]
  },
  {
   "cell_type": "code",
   "execution_count": 38,
   "metadata": {
    "id": "ionB2sRaMUmY"
   },
   "outputs": [
    {
     "data": {
      "image/png": "iVBORw0KGgoAAAANSUhEUgAAAmoAAAHOCAYAAAAotyUaAAAAOXRFWHRTb2Z0d2FyZQBNYXRwbG90bGliIHZlcnNpb24zLjcuMiwgaHR0cHM6Ly9tYXRwbG90bGliLm9yZy8pXeV/AAAACXBIWXMAAA9hAAAPYQGoP6dpAABLGElEQVR4nO3deXiM5/7H8U8kIiWJ1JKQQyypPVpqPVSpatEotVMnHFWKKkpLm2rPcap6qKVpLaULRWhoUUtrqV0Qe0UpGmoLsU4i0cj6+yO/mZPITJbKZJ7yfl2XKzHPPc98J8PkM/dzL04mkyldAAAAMJwiji4AAAAA1hHUAAAADIqgBgAAYFAENQAAAIMiqAEAABgUQQ0AAMCgCGoAAAAGRVADAAAwKIIaAACAQRHUgAfY+fPnNWrUKNWvX18+Pj7y8vKSl5eXQkNDHV0aAECSi6MLAOAY58+fV6tWrXT9+nVHl/JAOXHihDZs2KDw8HAdO3ZMV65ckSSVKVNG9erVU7du3fT888/L2dk5T+c7efKk5s6dq82bN+vSpUtyc3OTv7+/OnfurAEDBsjNzS3H+58+fVoHDx7UgQMHdPDgQR05ckR//PGHJGnmzJnq06dPnp9bamqqQkNDtXTpUv3666+6deuWfHx81Lx5c7388stq0KBBns9VGA4fPqyNGzdqz549+vXXX3X16lW5uLjI29tbDRs2VK9evdSmTZs8n+/AgQP64osvFB4erpiYGHl4eKhmzZrq0aOH+vTpk+NrmpaWppMnT1peh4MHD+qXX35RUlKSJGn16tVq0aJFnmvZsGGDQkNDtX//fl29elUlSpRQlSpV9Pzzz2vAgAHy9PTM87ngWE7s9Qk8mEaMGKGvv/5azs7OGjdunJo3by53d3dJkq+vr7y8vBxb4H1o8ODB+uabb3Jt16hRI82fP19/+9vfcmwXGhqq0aNHKzEx0erxGjVqKCwsTJUrV7Z6fOfOnerQoYPN8+cnqN28eVO9evVSRESE1ePOzs4KDg7W6NGj83Q+e3vuuee0a9euXNu1bdtWc+fOVcmSJXNsN3XqVH3wwQdKS0uzerxJkyYKCwuz+f9q8eLFGjp0qM3z5zWoxcfHa9CgQfrhhx9stqlQoYIWLVqkevXq5Xo+OB49asADauvWrZKkwMBAvf76644t5gFx6dIlSVLJkiX1/PPPq0WLFqpcubKKFSumX375RXPnztXPP/+sffv26YUXXtDWrVtVokQJq+favHmzhg8frtTUVJUuXVqjRo1S48aNlZCQoLCwMC1ZskQnTpxQz549tWnTJksIzyw9/X+f04sUKaIaNWqoePHiOnDgQL6eV1pamv7xj39YQlq7du3Uv39/lS1bVkeOHNHUqVN1/vx5vf/++/L29lZQUFC+zm8P5tfC29tbnTp1UrNmzVSxYkU5OTnp0KFDmj17tqKiorR+/Xr17t1ba9asUZEi1kcLLVy4UO+//74kqWLFiho9erQeffRRXb16VfPmzdO6desUERGhPn36aPXq1VbPk/m1KFq0qGrVqqWUlBQdO3Ysz88pPT1dAwYM0Pr16yVJjz32mIYOHaoaNWooISFBmzZt0meffaYLFy6oR48e2rJlS64fBuB49KgBDyhvb28lJSVp9OjRevfddx1dzgNhyJAhatSokXr37q2HHnoo2/GUlBS99NJLWrVqlSTpnXfe0Ztvvmm1XZMmTRQVFSV3d3dt2bJF1apVy9Lmo48+0gcffCBJevvttzV27Nhs54mKitIPP/yg+vXrq169enJ3d1doaKheffVVSXnvUcvcG9SvXz+FhIRkOX7lyhW1bNlSly5d0sMPP6zDhw/n2kNlbz179lSPHj3UqVMnubhk77NISEhQly5dLOFzzpw56tmzZ7Z2JpNJ9erVk8lkkq+vr7Zu3Spvb+8sbYYPH64FCxZIkmbPnq3evXtnO8+BAwe0b98+NWjQQHXr1pWbm5s+/PBDTZo0SVLeetS+//579evXT5L01FNPKSwsTK6urlnaRERE6Pnnn1dSUpJ69OihuXPn5nhOOB6TCYAHlHnsi7VfUrCP2bNn66WXXrIa0qSM1+Ljjz+2/HJduXKl1XZr165VVFSUpIxL2HeHNEkaPXq0/P39LY+bkpKSrY2/v79ee+01PfHEE1Z73PJqxowZkjJ6Cs3hMDNvb2/961//kpRxidQcWhwpLCxMXbt2tfnvv0SJEpo2bZrl77Zei4ULF8pkMkmS/vWvf2ULaZI0ceJEy5iwTz/91Op5GjRooMGDB6tRo0a5jiu0ZfHixZbvp0yZki2kSRmXYM09msuWLdP58+f/1GOh8BDUUGA+/PBDy6xBSYqLi9OUKVPUsmVLVa5cWV5eXpo1a5alfUJCgpYvX275ReHn56cyZcrI399fzz33nD799FPFx8fn+Jjmx/vwww8lZQwOHjhwoAICAuTt7a0aNWqoX79+OnToUK71p6Sk6LPPPlPr1q1VsWJF+fn5qVWrVpo5c6aSkpJ09uzZPM+K3L59uwYPHqx69eqpfPnyqlChgpo0aaIxY8bo999/z7WWvEhOTtb8+fPVqVMnVatWTWXLltUjjzyijh076quvvlJycnK2+4SGhmZ5jSRp0qRJltu8vLwUGBiYrzrS0tK0bds2jRs3Tm3btlXVqlVVpkwZ+fn56YknntC4cePy/Mvg2LFjeuWVV1S7dm35+PgoICBAgwYN0uHDhyVl9Eh5eXmpbt26OZ4nNjZW06ZNU7t27eTv76+yZcuqWrVq6tatm5YsWaLU1NQc779z504NGjTI8vqVK1dOAQEBatWqld588039+OOPWS5VFaRSpUqpdu3akqQzZ85YbbNmzRrL9//4xz+stilSpIil58ZkMmnnzp0FXGmG06dPWy7Pde7c2Wbgy3xs7dq1dqmloNWpU0elSpWSlPtr4eHhoRdeeMFqG3d3d8uxY8eO6fTp0wVeqyTL+1zVqlUtId2aZ555RlLGpdLVq1fbpRYUHD5Kwy5Onz6tLl265BhKevToofDw8Gy3X79+Xbt27dKuXbv0xRdfaNmyZapevXquj/nll19q7NixWXoOYmJi9P3332vt2rX68ssv1alTJ6v3jYuLU9euXbVv374stx8+fFiHDx/W8uXLNX369Fxr+OOPPzRkyBCrn75PnDihEydOaP78+Zo6deo9jdMxjzG5e/zKtWvXtH37dm3fvl1z587V0qVL5efn96cfJy8mTZpkuTyTWVxcnI4ePaqjR4/qq6++0pw5c/T888/bPE9YWJiGDRuWJWBeuHBBS5cu1YoVK7JdTrNl06ZNevnll3Xz5s0st1+9elU//fSTfvrpJ82fP1+hoaEqU6ZMtvuPGzfO0kOU2YULF3ThwgUdPnxYn3/+uS5fvvynez5yY+7ttDVLcPfu3ZIyesTKly9v8zyZL5Xt3r1brVq1Krgi/1/mAfnNmze32a5YsWJq1KiRtmzZov379ys5OVlFixYt8HoKmvn9xNq4suTkZMt4voYNG6pYsWI2z9OiRQtLT+Lu3btVtWrVAq/1xo0bkmS1Vy+zzMd37dqV4yQGOB5BDXYRFBSkixcv6uWXX9Zzzz2nUqVK6ezZs3r44YctbVJTU1W7dm0999xzlp6L9PR0nT9/XmvWrNGKFSt09uxZ9enTRzt27Mjxl6L5zb9GjRoaMmSI6tSpo5SUFG3cuFGffPKJkpKSLD13pUuXznb/AQMGWEJao0aNNHjwYPn7++vatWtaunSpli5dqlGjRuX4nNPS0tS7d2/LIP3WrVure/fuqlSpktzc3PTzzz9r9uzZOnnypIYPH66yZcuqXbt2+f7ZJiQkqFOnTpZLX88884z69eunChUq6OLFi1qwYIHWr1+vX3/9VR07dtSOHTvk4eEhKWPiQP369SVJzZo1szz3AQMGWM5fvHjxfNWTmpqqcuXKqUOHDmrUqJFlcPzFixe1d+9effnll4qPj9fAgQO1bds21ahRI9s5IiIiNHToUKWmpsrNzU2vvvqqnn76aRUrVkyHDh3S9OnTNXLkSNWsWTPHWrZt26aePXsqJSVFpUqV0sCBA/XYY4/J19dX169f19q1a/X1119bBnavWbMmS1hYv369JaTVrl1b/fv3V40aNeTl5aVbt27p5MmT2r59u2Wwtj1cvXpVJ0+elCSrH1Di4+N18eJFSbL6s8ws8/1PnDhRgFX+T+bz5lZPtWrVtGXLFqWkpCgqKirX19PRfv75Z8XFxUmy/tx+++03S5DLy3M3s9drUaJECcXGxlpqtiU2NtbutaDgENRgF8ePH1dYWJili11StqngM2fOtNo937BhQ3Xu3FlBQUHq0qWLTp06paVLl6pv3742H2/v3r16+umntXjx4iyfaps0aSJ/f38NGTJEcXFxCgsLy/bpce3atdq4caOkjKn4ixcvztKT0aZNG9WtWzfXAfezZ8/W1q1b5ezsrK+//jrbsgePP/64evXqpW7duik8PFxjxoxRmzZt8j1GbPLkyZaQNnToUE2cONFyrF69egoMDNR7772nTz75RL///rv++9//WsYN3X3ZU8pYv8t8qe3PCAoK0tixY7P1jphrGTRokJ555hlFR0dr6tSpVgcvv/HGG0pNTVXRokW1YsUK/f3vf7cca9CggTp16qRnnnlGR44csVnH7du39corryglJUVPPPGElixZYgmoZk8//bTatm2r3r17KyIiQkuWLMny72r58uWSMmbubdiwIdtlvObNm6t///4ymUw59p7ci48//tjyy79z587Zjl+6dMly2TW3GXsPP/ywihcvrtu3b1vCXUGLjo62fJ9bPRUqVLB8f/HiRcMHtSlTpli+t/Za3Mtzt4caNWpo7969OnHihK5du2a1x1hSlisZFy5csEstKDiMUYNd9OrVK0tIsyanMRSS1KpVK7Vv315S7mNa3NzcNHv2bKu/PHv27Kly5cpJktV1k+bNmydJcnV1VUhIiNXLTcOGDdNjjz1m8/GTk5MtPTH9+/e3uTbVQw89pKlTp0qSzp07px07duT4vO6WlJSkr7/+WpJUpUoVjR8/3mq79957z/IJfuHChZYFTO2hUqVKOV7C+tvf/qbXXntNkrRu3bpsY7v279+vyMhISdI///nPLCHNrGzZslkCqTWhoaG6fPmyihYtqrlz52YLaWZt27ZVx44dLffJzLz47GOPPZbj4HovLy85OTnlWM+fsWfPHs2ZM0dSxi/2zD2dZpnHbdpauiMzc5uEhIQCqvLP15P5eG7jTx1t+fLllvFb9evXt3rZ3mjP3fy+k5qaqgkTJlhtc/78eX3xxReWv//xxx+5jtmEYxHUYBfWprHn5tq1a4qKitKxY8csf8yfCH/55Zcc79uyZUub4zKKFCliCVl3j5lLSUmxfLps2bKlJdDdzcnJKcfndODAAcu6TLbGwZnVrFnTMkB57969Oba926FDhywzzHr37m0zILm4uFiWVYiLi9P+/fvz9Tj3Ii4uTr///ruOHz9ueR3Nl1Pj4uJ09uzZLO3Nl4qljIBvS9u2bS0/N2vMYb5x48by9fXNsUbzZd+DBw9mGdOYOdDbGjxuL9HR0erXr59SUlJUpEgRzZ492+rs0MyhOy9jvMwfXuwV1jOf19osw8wyH7e1SK8RHD161PLhonjx4pozZ47VYJ6f1yLzh0h7Pff+/ftbeu7mz5+vgQMHKjIyUklJSTKZTPruu+/Uvn17mUymLK+FPT/I4d5x6RN2ERAQkKd2u3fv1pw5c7Rt27Zsg78zy22bo9zGh5gv9939SfbMmTOWN6mceswkWcZ2WZN5VmlOA+bvZu7Byavjx49bvm/UqFGObRs2bGj5/tixY/nafia/zp49qxkzZujHH3/M9VLK9evXs6yUb35Ozs7OOc7mNB/ftm2b1ePm1yA8PDzPuyokJyfr5s2bKlu2rKSM8LtkyRLduHFDf//739W+fXu1bt1aTZs2tboERkExmUzq1q2bYmJiJEnvv/++zdcrc3izNrP3bnfu3Ml2v4KU+bxJSUk5jiU1T5KQlO+JGNHR0ZYPKXcrXry4zd0X8uvs2bPq0aOHEhISLIHZ1mSm/LwW5tdByv9zzysPDw8tWbJEPXr00KVLl7Rs2TItW7YsW7sePXro3Llz2rNnj4oUKZKnnlk4DkENdpGXX5SZF3PMTW6f+HL7JWSesXV3F3/mN35b4znycvzatWs53teW27dv56t95jCbW70+Pj5W71fQNm7cqH79+uX5udz9WppfAw8Pj1x7ZGw95+Tk5CwDpPMjc91PPvmkpk+frnHjxikhIUErVqzQihUrJGXMlGvTpo369eunJk2a/KnHsiY+Pl7dunWzzOB94403LAvOWpP5kmxeLmea29jrl/Hd9eQUQjLXm991295//30tWbLE6rHmzZsXyJIfly9fVufOnS1jzz7++OMce8jz81rcy3PPj7p162rHjh2aPn26VqxYkWUcXY0aNfTqq6+qb9++lg+enp6edrmMj4JDUINd5Lah9LZt2ywhrXLlynrttdfUtGlTVahQQe7u7pb7f/DBB/roo4/sXq+ke3qzyhwAV65cmev0eLN72U8zt3rttc5XZjdu3NDLL7+s27dvy93dXcOGDdPTTz+tKlWqyNPT0xK8tm3bZvmFZ6uugvr5d+jQQcHBwXm+792XSfv376+OHTvq22+/1ZYtWxQREaGbN2/qypUrWrx4sRYvXqygoCCFhITY3FIor/744w/16tXLcml68ODBGjduXI73KV++vJycnJSenp7roPSbN29agqi9tgrK/PO7ePGi1VnVZpl7W422ddH169fVuXNnyxpnEydOzHECk5T9ueekMJ97mTJl9MEHH+iDDz7Q1atXFRsbq1KlSlmGDsTHx1uGINSqVcuuteDeEdTgEOYB8V5eXvrpp59s9pTYutRRUDIHpatXr+bYNqdes8y/nFxcXO5pFmVOMi9vklu9mS+rZr5fQVq5cqWlJ2vRokU21+nK6XXMvEByUlJSjr1qtl4DNzc3lShRQgkJCTKZTPf88y9durReeeUVvfLKK0pPT9exY8f0ww8/6PPPP9eVK1e0cOFC1alTR4MHD/7Tj5GUlKSgoCDLQrR9+/a1LNycE3d3d/3tb3/ThQsXcl1awbzMh5T78IA/K/N5T5w4oUcffdRm21OnTknK+D+S22Siu82ePVuzZ8/+c0XmwmQyqXPnzpbL8O+8806e1hZ75JFH5OLiopSUlFxfC/Nzl+z3WlhTtmxZy6V9s4iICMvm8Q0aNCi0WvDnMJkADvHrr79KylgEMqdLeHnZUeBeVKlSxXKp5ueff86xbU61ZP7ltGnTpoIpzorMn35zmyCQeWNtewVH8y+2hx9+OMfFVHP62ZmXaEhNTbXM/rQmt+Pm12Dfvn25riOVH05OTqpTp47efPNNbdiwwTIo3NaWQnmRkpKi/v3766effpIkde/eXR9//HGeexXNM2OjoqIsk1isybwbgbXZtAUh83mtLWBtdufOHctahQ0bNjTMYrfx8fHq3r27ZemXkSNHWt1f1ZqiRYtags7+/fuzjMG7W+bXomnTpvdQ8b1bunSp5fuuXbs6sBLkBUENDmGeaZfTuKaff/7Z7rMVXVxcLDMAt23bpsuXL1ttl56errCwMJvnadq0qaVX7euvv7bbmLD69etbeqDCwsKs7t8oZfx8zUtPeHp6ZplYUJDMlxzv3Llj+YR+t9u3b+f4s2vZsqXl+2+++cZmu/Xr11tWXrfmueees9SSeauyglS5cmXLoPXcJrjYkpaWpsGDB1vGVHXo0EGzZ8/O12XUzMu/LFq0yObjmMd0eXl55bhrwL3w9/e3fBBYsWKFzaUnVq5caTmW323K7MV86dkcIAcNGqR///vf+TqH+bW4deuWZTzj3eLj4y3Hateune/exIJ07Ngxffvtt5IyetNymiQFYyCowSHM26fs2bPH6r53165du6fLSvnxz3/+U1LGpagRI0ZYXVNoxowZOfa4FStWTCNGjJCUMW6rb9++OQ5uv3Pnjj7//PN8T9N3dXVVv379JGWsim5tA2wpY2yf+bJXUFCQ3Wb8mV/H27dvW/0llZqaquHDh+fY69O4cWPVqVNHUsaSAubtkTK7du1aruPO+vfvb7nEM2XKFK1atSrH9r/88ot+/PHHLLctX748xw8Pv//+u+Xfa6VKlXI8vzXp6ekaMWKE5RdlmzZt9NVXX+V70ePAwEDLL/uQkJAsl9XMpk2bpt9++01Sxh6p9uzBGjZsmKSMFe+tjbG7cuWKZc0/Ly+ve9o+raAkJSWpb9++lp6uoKCgPE9uyiwoKMjy4ek///mP1SEJ77zzjqWX17zsh73ktK/uuXPn9OKLLyo1NVUuLi6WNR1hbIxRg0P07t1b69atU0JCggIDAzVy5EjLzgV79+7VzJkzFRMTo8aNG+d7rbH86tixo1q3bq3Nmzdr/fr1ateunYYOHaoqVaro+vXrCgsL09KlS9WgQQPL5URrl6iGDRumHTt2aOPGjdqxY4eaNGmi/v37q2nTpnr44Yd1+/ZtRUVFac+ePVq9erVMJpNl0+z8GDNmjNasWaOoqChNnz5dx48fV9++feXr66vo6GgtWLBA69atk5TRA/TWW2/d2w8oB507d9b777+vO3fu6NVXX9XRo0fVqlUreXp66vjx45o7d64OHz6spk2bas+ePTbPM2XKFAUGBio5OVldunSxuoVUTEyM6tatq8jISKs/f3d3d82bN0+dO3dWcnKy+vXrp/bt26tz586qWrWqnJ2ddfXqVR05ckTr1q3Tvn37NGzYMMuiypL0r3/9SyNHjlT79u3VvHlzPfLII3J3d9fNmzd18OBBzZ0717IMw0svvZTvn9e7776rhQsXSsroiQoODraEKVuqVauWLWS5uLjoo48+Uvfu3RUfH6927dpp9OjRaty4sRISEhQWFqbFixdL+t9MP1u+//77LL1gmV+nu18zd3d3q7Mge/XqpdDQUIWHh2v+/PmKiYlR//79VaZMGUVGRmrKlCmW2Yf/+c9/7mkSTUF5+eWXLTuSNG7cWK+88kqW5W+ssTaEwMvLS//5z380fPhwXbx4UU8//bRGjx6tunXr6tq1a5o3b57lA0Hz5s1zXI/x7gWYM1/q37Rpk86dO2f5u4+Pj9q0aZPtHG+88YbOnTunXr16qX79+ipZsqSuX7+urVu3at68ebp165akjB1O7t4tBsbkZDKZ7D81DA+EzMtt5GUSwKuvvprtjcnM2dlZEyZMkMlkyvGc5jf8sWPH6u2337b5WEOGDNGSJUtUsWJFq+OcTCaTunbtmmVcV2aPPvqoPvnkE8s4rK+++kpdunTJ1u7OnTsaM2aMFixYkOusyxIlSui33377U71dtjZlz6xmzZo5bsqe159dbhYtWqThw4fbvPTZpUsX9evXz/ILfvXq1VbXCFu8eLFGjBhhdT0qFxcXTZs2TeHh4QoLC1P16tVtBvjdu3fr5ZdfztM2PW+//bbGjh1r+XvdunVz7JGQMv5tvvfee5Ye1PzIy/nv9vPPP9vsvQsNDdXo0aNt9szWqFFDYWFhOa4xlp+abP3/kTJmmPbq1UsRERFWjxcpUkTvvPOORo8enafHsrc/ExZzel+bMmWKJk6caPP/QZMmTfTNN9/kOLEnPzXZWpKkZ8+eOe5FW7JkSf33v//9Ux8S4Rj0qMFhZs6cqSeffFLz58/X0aNHlZSUJG9vbzVr1kyDBg1SgwYN8jQLriB4eXlp3bp1+uKLLxQWFqbffvtNTk5Oqly5srp06aIhQ4ZkmUHn6elp9TzFihVTSEiIBg4cqAULFig8PFwXLlxQfHy8SpQooQoVKqhu3bpq3bq1nnvuuT99SbJChQratm2bFi1apJUrV+qXX35RbGysPD09VadOHXXq1El9+/YtlAHb//jHP1StWjV98sknioiIUGxsrEqXLq2AgAD16dNHnTt3ztNWWS+++KIlEO/YsUPXr19XmTJl1KRJE7366qtq2LChpafQ1s9fyhjcfuDAAX3zzTf68ccfFRkZaRlPVqpUKVWrVk1NmzZVYGBgtkWOf/zxR23ZskXbtm3T8ePHdeXKFd28eVMPPfSQ/Pz81Lx5c7300kuG2aOyT58+atSokebMmaPNmzfr0qVLcnNz0yOPPKIXXnhBAwYMsNtl77s9/PDD+uGHHxQaGqqwsDD9+uuvio+Pl7e3t5o3b66BAwfe1zMM33jjDT311FP6/PPPFR4eritXrsjd3V01a9ZUz5491adPn1yXLSoIo0aNUrVq1bRr1y5dvHhRN2/elIeHhypXrqz27durb9++eV4+CMZAjxqQR2FhYXrllVckZWw9ZB6fhcJTv359nTlzRj169LC6uTsA3G+YTADk0XfffScpY42tKlWqOLiaB8/Bgwct+2/aaxYrABgNQQ2QdOnSpRxn+y1YsEAbNmyQlDEGhC1XCp612b9mN27c0PDhwyVlzHy1Nj4QAO5HjFEDJG3fvl3BwcHq0qWLnnjiCVWqVElpaWk6c+aMVqxYoTVr1kjK2Jpl1KhRDq72/tStWzeVL19ezz//vAICAuTp6SmTyaS9e/fqiy++sKxxN2rUqFz3OQWA+wVj1ABlHX9mi4+Pj8LCwpjSbifm8Wc56d+/v6ZMmVIog7IBwAgIaoAyLq19//33+umnn3TixAldu3ZN8fHxKlmypKpXr6527drppZdekoeHh6NLvW/t2rVLP/74o8LDwxUTE6Nr167J2dlZ3t7eatq0qfr162e3bZAAwKgIagAAAAbFZAIAAACDIqgBAAAYFEENAHKQmJio06dP29ymCQDsiaAGALlITU11dAkAHlAENQAAAIMiqAEAABhUvoNaWFiYRo4cqVatWsnb21teXl4KDQ3N1i45OVnff/+9hgwZosaNG8vX11cVKlTQ008/rS+++CLHSwnLli1T69at5evrq0qVKql79+46dOhQfksFAAD4S8v3Omp169bV+fPnVbp0aRUvXlznz5/XzJkz1adPnyztTp48qcaNG8vDw0MtWrRQtWrVFBcXp3Xr1unSpUtq166dlixZkm3PxKlTp+r9999XhQoV1KlTJyUkJGj58uVKTEzUd999pxYtWtz7swaAPEpMTNT58+dVsWJFubm5ObocAA+YfAe1rVu3qmrVqvLz89P06dM1fvx4q0EtOjpaP/74o3r37q3ixYtbbk9ISFCHDh106NAhzZ8/Xy+88ILlWFRUlJo0aaLKlStr06ZNKlmypCTp+PHjevrpp+Xj46N9+/bJxYUtSgEUDoIaAEfK96XPVq1ayc/PL9d2vr6+GjBgQJaQJkklSpTQq6++KkkKDw/Pciw0NFQpKSkaPXq0JaRJUq1atdSrVy+dOXNG27dvz2/JAAAAf0kOmUxQtGhRScq2sfLOnTslSa1bt852H/Ntd4c7AACA+5VDriEuWrRIUvZAFhUVJXd3d/n4+GS7j7+/v6VNXrA4JYCCkJSUlOUrANyr/AyjKPSgNn/+fG3cuFFPPvmknn322SzH4uLiVLZsWav38/DwsLTJi+joaBapBFBgYmJiHF0CgPuAs7Ozqlatmuf2hRrU1q9frzfffFMVK1bU3Llz7fpYvr6+dj0/gPtfamqqdu7cqVOnTqlatWp64oknsg3ZAAB7KrSgtmnTJvXt21fe3t5avXq1ypUrl62Np6enzR6zW7duWdrkBbOzANyLVatWady4cTp37pzlNj8/P02YMEEdO3Z0YGUAHiSFMpngp59+Up8+fVS6dGmtXr1alStXttrO399f8fHxVi8xmMemmceqAYC9rFq1Sv369VPt2rW1du1abdu2TWvXrlXt2rXVr18/rVq1ytElAnhA2D2omUOal5eXVq9eneN12ebNm0uSNm/enO2Y+TZzGwCwh9TUVI0bN05t27bV4sWL1aBBAxUvXlwNGjTQ4sWL1bZtW7377ruMgQVQKOwa1O4Oabn1hvXp00cuLi6aOnWqYmNjLbcfP35c33zzjapUqaInn3zSniUDeMDt2rVL586d0+jRo1WkSNa3yCJFimjUqFE6e/asdu3a5aAKATxI8j1GbcGCBdq9e7ck6dixY5KkhQsXWtZACwwMVIcOHXTy5En16dNHd+7c0RNPPKFvv/0227n8/Pyy7GjwyCOP6K233tKECRPUvHlzderUSbdv39Z3332n5ORkhYSEsCsBALsyD72oVauW1ePm25kFCqAw5Dv17N69W0uWLMly2549e7Rnzx5JGeGrQ4cOiomJ0Z07dyRJ3333ndVzNW/ePNvWU2+88Yb8/Pw0e/ZsffXVVypatKgaN26s4OBgPf744/ktFwDyxbyO4/Hjx9WoUaNsx48fP56lHQDYU773+gSA+1lqaqrq16+v2rVra/HixUpKSrLs9enq6qoXX3xRx48f18GDB1mqA4DdOWQLKQAwKmdnZ02YMEHr16/Xiy++qP379yshIUH79+/Xiy++qPXr1+v9998npAEoFPSoAYAV1tZRq1Spkt5//33WUQNQaAhqAGBDamqqtm7dquPHj6tWrVpq1aoVPWkAChVBDQBykJiYaBmjxo4nAAobY9QAwIbU1FSFh4dr/fr1Cg8PZ5FbAIWORckAwAr2+gRgBPSoAcBd2OsTgFEwRg0AMmEdNQBGQo8aAGTCXp8AjISgBgCZsNcnACMhqAFAJpn3+rSGvT4BFCaCGgBk0qxZM/n5+Wnq1KlKS0vLciwtLU3Tpk1TpUqV1KxZMwdVCOBBQlADgEzY6xOAkTDrEwCsYK9PAEZAUAMAG9jrE4CjEdQAIAfs9QnAkRijBgAAYFAENQAAAIMiqAEAABgUQQ0AAMCgCGoAAAAGRVADAAAwKIIaAACAQRHUAAAADIqgBgAAYFAENQAAAIMiqAEAABgUQQ0AAMCgCGoAAAAGRVADAAAwKIIaAACAQRHUAAAADIqgBgAAYFAENQAAAIMiqAEAABgUQQ0AAMCgCGoAAAAGRVADAAAwKIIaAACAQRHUAAAADIqgBgAAYFAENQAAAIMiqAEAABgUQQ0AAMCgCGoAAAAGRVADAAAwqHwHtbCwMI0cOVKtWrWSt7e3vLy8FBoaarN9XFycgoODFRAQIG9vbwUEBCg4OFhxcXE277Ns2TK1bt1avr6+qlSpkrp3765Dhw7lt1QAAIC/tHwHtQkTJmj+/Pk6f/68fHx8cmybkJCgwMBAzZo1S9WqVdPQoUNVs2ZNzZo1S4GBgUpISMh2n6lTp2rgwIG6cuWK+vfvr86dOysiIkJt27bVjh078lsuAADAX1a+g9qnn36qI0eOKCoqSi+99FKObUNCQhQZGakRI0ZoxYoV+ve//61vv/1WY8aMUWRkpEJCQrK0j4qK0ocffqhHHnlE4eHh+uCDD/Txxx9r/fr1cnFx0fDhw5WSkpLfkgEAAP6S8h3UWrVqJT8/v1zbpaena+HChXJ3d9eYMWOyHBs1apS8vLy0aNEipaenW24PDQ1VSkqKRo8erZIlS1pur1Wrlnr16qUzZ85o+/bt+S0ZAADgL8lukwmioqJ06dIlNWnSRCVKlMhyzM3NTc2aNVN0dLROnz5tuX3nzp2SpNatW2c7n/m28PBwe5UMAFl4eXmpXLlyatSokcqVKycvLy9HlwTgAeNirxNHRUVJkqpWrWr1uL+/v6Vd5u/d3d2tjn3L3CYvEhMT810zAJiVK1fO6u1eXl66fPlyIVcD4H7i5uaW57Z2C2rmWZ2ZL2Fm5uHhkaWd+fuyZcvmuX1OoqOjlZqamud6AcCsUaNGOR4vV66c9u3bV0jVALifODs72+zEssZuQc3RfH19HV0CgL8gWz1pd2vUqBE9awDszm5BzdPTU5IUGxtr9fitW7eytDN/b6vHzFr7nOSnWxEA/gzeZwDYm90mE5jHlGWeLJCZeayZuZ35+/j4eMXExOSpPQAAwP3MrkGtfPnyioiIyLawbWJionbt2qXy5ctnuU7bvHlzSdLmzZuznc98m7kNAADA/c5uQc3JyUlBQUGKj4/X5MmTsxybNm2aTCaTgoKC5OTkZLm9T58+cnFx0dSpU7NcMj1+/Li++eYbValSRU8++aS9SgYAADAUJ5PJlJ57s/9ZsGCBdu/eLUk6duyYfv75ZzVt2lRVqlSRJAUGBqpDhw6SMraQateunSIjI/XUU0+pXr16Onr0qDZu3Ki6detq3bp12dZYmzJliiZMmKAKFSqoU6dOun37tr777jv98ccf+u677whqAOwqP2ulmUwmu9UBANKfCGpDhgzRkiVLbB4fO3as3n77bcvfY2NjNWnSJK1atUoxMTHy8fFRx44dNXbsWJtLdyxdulSzZ8/Wr7/+qqJFi6px48YKDg7W448/np9SASDfCGoAjCTfQQ0A7mcENQBGYrcxagAAALg3BDUAAACDIqgBAAAYFEENAADAoAhqAAAABkVQAwAAMCiCGgAAgEER1AAAAAyKoAYAAGBQBDUAAACDIqgBAAAYFEENAADAoAhqAAAABkVQAwAAMCiCGgAAgEER1AAAAAyKoAYAAGBQBDUAAACDIqgBAAAYFEENAADAoAhqAAAABkVQAwAAMCiCGgAAgEER1AAAAAyKoAYAAGBQBDUAAACDIqgBAAAYFEENAADAoAhqAAAABkVQAwAAMCiCGgAAgEER1AAAAAyKoAYAAGBQBDUAAACDIqgBAAAYFEENAADAoAhqAAAABkVQAwAAMCiCGgAAgEER1AAAAAyKoAYAAGBQBDUAAACDcnF0AQBQ0C7fTtXl26l2f5zD15L+9H3LFXdWueLOBVgNgPuRk8lkSnd0EQBQkD48FKdJh2/9+RO8Xif3NtN/+fPnlzS2noferu95T+cAcP8jqAG47xREj1qrR7xtHtv625V7OrdEjxqAvCGoAYANXl5e2W4zmUyFXgeAB1ehTCZIT0/XqlWr1KFDB9WoUUPly5dXw4YNNXLkSP3+++/Z2sfFxSk4OFgBAQHy9vZWQECAgoODFRcXVxjlAoCkjFC24dgFafov2nDsAiENQKErlKA2btw49e3bV7/99psCAwM1aNAgVapUSV9//bVatGihY8eOWdomJCQoMDBQs2bNUrVq1TR06FDVrFlTs2bNUmBgoBISEgqjZAAAAIez+6zPmJgYzZ49W35+ftq5c6c8Pf83eHbWrFkKDg7WzJkzNXPmTElSSEiIIiMjNWLECI0fP97SduLEiZo8ebJCQkIUHBxs77IBAAAczu49aufOnVNaWpqaNm2aJaRJUtu2bSVJ165dk5RxiXThwoVyd3fXmDFjsrQdNWqUvLy8tGjRIqWnM6wOAADc/+we1Pz9/eXq6qo9e/bo1q2s0+U3bNggSWrRooUkKSoqSpcuXVKTJk1UokSJLG3d3NzUrFkzRUdH6/Tp0/YuGwAAwOHsfumzVKlSevfdd/Xuu++qSZMmat++vdzd3XXs2DFt3bpV//znP/XKK69IyghqklS1alWr5/L397e0M39vS2JiYgE+CwAPquTkZMtX3lcAFAQ3N7c8ty2UnQlee+01lStXTq+//rq+/PJLy+1NmjRRjx49VLRoUUmyzOosWbKk1fN4eHhkaZeT6Ohopabaf2VyAPe3G/FOkh7SjRvXdT6JYRcA7o2zs7PNDilrCiWoffTRR5o8ebLeeust9erVS15eXoqMjNQ777yj559/XvPmzVPHjh0L9DF9fX0L9HwAHkxXYv6QdFulSpVWRZ+HHF0OgAeM3YPatm3b9MEHH2jo0KEaPXq05famTZsqLCxM9erVU3BwsDp27GiZbBAbG2v1XOYxbndPSrAmP92KAGBL0aIp//+1KO8rAAqd3ScT3D1hILMyZcqodu3aunDhgq5fv24Zd2ZrsoB5DFtu49MAAADuB3YPaklJSZL+twTH3cy3u7q6yt/fX+XLl1dERES2hW0TExO1a9culS9fPl/XdgEAAP6q7B7UmjZtKiljcdu7L2kuXrxYp0+fVr169eTh4SEnJycFBQUpPj5ekydPztJ22rRpMplMCgoKkpOTk73LBgAAcDi7b8qempqqTp06aefOnSpTpozat28vLy8vHT16VFu2bFGxYsW0cuVK/f3vf5eUsYVUu3btFBkZqaeeekr16tXT0aNHtXHjRtWtW1fr1q3LtsYaANjL3uh4Pbs+VhvallRjX3dHlwPgAWP3oCZJd+7c0Weffably5fr1KlTSkpKkre3t5o3b67XX39dtWvXztI+NjZWkyZN0qpVqxQTEyMfHx917NhRY8eOtbl0BwDYA0ENgCMVSlADgL8qghoAR7L7GDUAAAD8OQQ1AAAAgyKoAQAAGBRBDQAAwKAIagAAAAZFUAMAADAoghoAAIBBEdQAAAAMiqAGAABgUAQ1AAAAgyKoAQAAGBRBDQAAwKAIagAAAAZFUAMAADAoghoAAIBBEdQAAAAMiqAGAABgUAQ1AAAAgyKoAQAAGBRBDQAAwKAIagAAAAZFUAMAADAoghoAAIBBEdQAAAAMiqAGAABgUAQ1AAAAgyKoAQAAGBRBDQAAwKAIagAAAAZFUAMAADAoghoAAIBBEdQAAAAMiqAGAABgUAQ1AAAAgyKoAQAAGBRBDQAAwKAIagAAAAZFUAMAADAoghoAAIBBEdQAAAAMiqAGAABgUAQ1AAAAgyKoAQAAGBRBDQAAwKAIagAAAAZFUAMAADCoQg1qq1ev1gsvvKAqVaqoXLlyevTRRzVgwABduHAhS7u4uDgFBwcrICBA3t7eCggIUHBwsOLi4gqzXAAAAIdyKYwHSU9P1+uvv6758+erSpUq6tq1q9zd3XXp0iWFh4fr/PnzqlChgiQpISFBgYGBioyM1FNPPaVu3brp6NGjmjVrlnbs2KF169apRIkShVE2AACAQxVKUJszZ47mz5+vgQMH6r///a+cnZ2zHE9JSbF8HxISosjISI0YMULjx4+33D5x4kRNnjxZISEhCg4OLoyyAQAAHMrJZDKl2/MB/vjjD9WuXVslS5bU/v375eJiOxump6erdu3aunXrlk6cOJGl5ywxMVE1a9ZU8eLF9csvv8jJycmeZQOAJGlvdLyeXR+rDW1LqrGvu6PLAfCAsfsYtS1btujmzZsKDAxUamqqVq1apenTp+urr77S6dOns7SNiorSpUuX1KRJk2yXN93c3NSsWTNFR0dnux8AAMD9yO6XPg8dOpTxQC4ueuKJJ3Tq1CnLsSJFimjo0KGaMGGCpIygJklVq1a1ei5/f39LO/P3tiQmJt5z7QCQnJxs+cr7CoCC4Obmlue2dg9q165dkyTNmDFDjz32mDZv3qzq1avryJEjGjlypGbMmKEqVapowIABllmdJUuWtHouDw8PScrT7M/o6GilpqYW0LMA8KC6Ee8k6SHduHFd55PsOlIEwAPA2dnZZoeUNXYPamlpaZIkV1dXhYaGqnz58pKkZs2a6euvv1bz5s01Y8YMDRgwoEAf19fXt0DPB+DBdCXmD0m3VapUaVX0ecjR5QB4wNg9qHl6ekqS6tWrZwlpZrVq1VLlypV1+vRpmUwmS9vY2Fir57p161aWc+YkP92KAGBL0aIp//+1KO8rAAqd3ScTVKtWTZLty5nm2xMTEy3jzmxNFjCPYcttfBoAAMD9wO49ai1atJAknTx5Mtux5ORknT59WiVKlFCZMmXk4+Oj8uXLKyIiQgkJCdmW59i1a5fKly+fr2u7AAAAf1V271GrUqWKWrdurdOnT2vBggVZjk2fPl2xsbEKDAyUi4uLnJycFBQUpPj4eE2ePDlL22nTpslkMikoKIg11AAAwAPB7gveStKZM2f07LPP6urVq2rbtq2qVaumI0eOaPv27apYsaJ++ukn+fj4SMrYQqpdu3aWLaTq1auno0ePauPGjapbty5bSAEoVCx4C8CRCiWoSdKFCxc0ceJEbdq0STdu3JCPj4/at2+vMWPGqGzZslnaxsbGatKkSVq1apViYmLk4+Ojjh07auzYsTbHugGAPRDUADhSoQU1APgrIqgBcCS7j1EDAADAn0NQAwAAMCiCGgAAgEER1AAAAAyKoAYAAGBQBDUAAACDIqgBAAAYFEENAADAoAhqAAAABkVQAwAAMCiCGgAAgEER1AAAAAyKoAYAAGBQBDUAAACDIqgBAAAYFEENAADAoAhqAAAABkVQAwAAMCiCGgAAgEER1AAAAAyKoAYAAGBQBDUAAACDIqgBAAAYlIujCwDwYIuKTdGt5DRHl2HTqbhUy1dX1yQHV5Mzj6JF5F+St3XgfuJkMpnSHV0EgAdTVGyKGiyPcXQZ95UDXXwIa8B9hP/NABzG3JM298mHVd2g4SIpKUkxMZfl41NOrq6uji7HppOxKRq0/aaheycB5J8x3xkBPFCql3RRvTLGDEGJiWk6n5CuiqVc5OZmzBoB3L+YTAAAAGBQBDUAAACDIqgBAAAYFEENAADAoAhqAAAABkVQAwAAMCiCGgAAgEER1AAAAAyKoAYAAGBQBDUAAACDIqgBAAAYFEENAADAoAhqAAAABkVQAwAAMCiCGgAAgEER1AAAAAyKoAYAAGBQBDUAAACDIqgBAAAYVKEHtZCQEHl5ecnLy0v79u2z2iYuLk7BwcEKCAiQt7e3AgICFBwcrLi4uEKuFgAAwHEKNaidOHFCEydOVIkSJWy2SUhIUGBgoGbNmqVq1app6NChqlmzpmbNmqXAwEAlJCQUYsUAAACOU2hBLTU1VUOGDFFAQIACAwNttgsJCVFkZKRGjBihFStW6N///re+/fZbjRkzRpGRkQoJCSmskgEAAByq0ILaxx9/rKNHj2rGjBlydna22iY9PV0LFy6Uu7u7xowZk+XYqFGj5OXlpUWLFik9Pb0wSgYAAHCoQglqx44d06RJk/TGG2+oVq1aNttFRUXp0qVLatKkSbbLo25ubmrWrJmio6N1+vRpe5cMAADgcC72foCUlBQNHTpU1atX1+uvv55j26ioKElS1apVrR739/e3tDN/b0tiYuKfqBZAYUpKSvn/r0lKTExzcDXWJSUlZflqVH+FnyWADG5ubnlua/egNnXqVB09elQ//fSTihYtmmNb86zOkiVLWj3u4eGRpV1OoqOjlZqams9qARSmmHgnSQ8pJuayzicYe0hDTEyMo0vI0V/pZwk8yJydnW12SFlj16AWGRmpKVOm6LXXXlO9evXs+VDZ+Pr6FurjAci/mzdSJMXKx6ecKpay++fGPyUpKUkxMTHy8fGRq6uro8ux6a/wswSQf3b93zxkyBBVqVJFb731Vp7ae3p6SpJiY2OtHr9161aWdjnJT7ciAMdwdU36/6+ucnMzbgiSzDUa933lr/SzBJB3dg1qR48elST5+PhYPf7MM89IkhYtWqQOHTpYxp3ZmixgHsOW2/g0AACA+4Fdg1pQUJDV23ft2qWoqCi1b99eZcqUkZ+fn6SMAFa+fHlFREQoISEhy8zPxMRE7dq1S+XLl8/XtV0AAIC/KrsGtU8//dTq7UOGDFFUVJRGjRqlRo0aWW53cnJSUFCQJk+erMmTJ2v8+PGWY9OmTZPJZNKgQYPk5ORkz7IBAAAMwXAjTkeMGKEff/xRISEhOnLkiOrVq6ejR49q48aNqlu3rkaMGOHoEgEAAApFoW/KnpsSJUpozZo1Gjp0qE6dOqUZM2bo+PHjGjp0qNasWZPjPqEAAAD3EyeTycSCOwAc4vC1JLVafVVbny+remWMOVMxMTFR58+fV8WKFQ096/Ov8LMEkH+G61EDAABABoIaAACAQRluMgGAB4u3s0nFbscp9ZYx347S7ySpaFKM0uOTlJps3EuKxW6nyNs5TVJZR5cCoAAZ850RwAPjH+7b5PfbKiU6upAclJWUFiND1+gn6R/uHSVVc3QpAAoQQQ2AQy2Kb6nuDZ9S9YeN+XaUdCfTXp/FjNujdvJmihZtTVNHRxcCoEAZ850RwAPjSqqX7hQvK2cPY4Ygp6KJSr7pKif3inI28KzPO3eSdCX1qqPLAFDAmEwAAABgUAQ1AAAAgyKoAQAAGBRBDQAAwKAIagAAAAZFUAMAADAoghoAAIBBEdQAAAAMiqAGAABgUAQ1AAAAgyKoAQAAGBRBDQAAwKAIagAAAAZFUAMAADAoghoAAIBBEdQAAAAMiqAGAABgUAQ1AAAAgyKoAQAAGBRBDQAAwKAIagAAAAZFUAMAADAoghoAAIBBEdQAAAAMiqAGAABgUAQ1AAAAg3JxdAEAcORGsqNLsCkpKUUx8U66eSNFrq5Jji7HppOxKY4uAYAdENQAOEy54s6SpOHhJscWkquHJMU6uog88SjKhRLgfuJkMpnSHV0EgAfX5dupunw71dFl2PTLtT/06u54zfy7u+qUecjR5eTIo2gR+Zfk8zdwP+F/NACHKlfc2dKzZkRJSRmXO6t5OqteGVcHVwPgQUMfOQAAgEER1AAAAAyKoAYAAGBQBDUAAACDIqgBAAAYFEENAADAoAhqAAAABkVQAwAAMCiCGgAAgEER1AAAAAzK7kEtOjpas2bNUufOnRUQEKCyZcuqevXqCgoK0v79+63eJy4uTsHBwQoICJC3t7cCAgIUHBysuLg4e5cLAABgGHbf63Pu3Ln6+OOPVaVKFbVq1Uply5ZVVFSU1q5dq7Vr1+rLL79U586dLe0TEhIUGBioyMhIPfXUU+rWrZuOHj2qWbNmaceOHVq3bp1KlChh77IBAAAczu5B7fHHH9cPP/ygZs2aZbl9165d6tSpk0aNGqXnnntOxYoVkySFhIQoMjJSI0aM0Pjx4y3tJ06cqMmTJyskJETBwcH2LhsAAMDhnEwmU7qjHrxLly7avHmztmzZovr16ys9PV21a9fWrVu3dOLEiSw9Z4mJiapZs6aKFy+uX375RU5OTo4qG8ADZG90vJ5dH6sNbUuqsa+7o8sB8IBx6GSCokWLSpKcnZ0lSVFRUbp06ZKaNGmS7fKmm5ubmjVrpujoaJ0+fbrQawUAAChsdr/0acv58+e1detW+fj4qE6dOpIygpokVa1a1ep9/P39Le3M39uSmJhYgNUCeFAlJydbvvK+AqAguLm55bmtQ4JacnKyXnnlFd25c0fjx4+39KiZZ3WWLFnS6v08PDyytMtJdHS0UlNTC6hiAA+qG/FOkh7SjRvXdT7JYSNFANwnnJ2dbXZIWVPoQS0tLU2vvvqqdu3apX79+qlXr152eRxfX1+7nBfAg+VKzB+SbqtUqdKq6POQo8sB8IAp1KCWnp6u4cOHa+nSperRo4emT5+e5binp6ckKTY21ur9b926laVdTvLTrQgAthQtmvL/X4vyvgKg0BXaZIK0tDQNGzZMixYtUrdu3TR79mwVKZL14c3jzmxNFjCPYcttfBoAAMD9oFCCWlpaml577TWFhoaqS5cumjNnjmVcWmb+/v4qX768IiIilJCQkOVYYmKidu3apfLly+fr2i4AAMBfld2DmrknLTQ0VC+88ILmzp1rNaRJkpOTk4KCghQfH6/JkydnOTZt2jSZTCYFBQWxhhoAAHgg2H3B2w8//FCTJk2Su7u7Bg8ebDWkBQYG6tFHH5WUsYVUu3btLFtI1atXT0ePHtXGjRtVt25dtpACUKhY8BaAI9l9MsG5c+ckSfHx8ZoyZYrVNn5+fpagVqJECa1Zs0aTJk3SqlWrtHPnTvn4+Gjo0KEaO3YsIQ0AADwwHLqFFAAYHT1qABzJoVtIAQAAwDaCGgAAgEER1AAAAAyKoAYAAGBQBDUAAACDIqgBAAAYFEENAADAoAhqAAAABkVQAwAAMCiCGgAAgEER1AAAAAyKoAYAAGBQBDUAAACDIqgBAAAYFEENAADAoAhqAAAABkVQAwAAMCiCGgAAgEER1AAAAAyKoAYAAGBQBDUAAACDIqgBAAAYFEENAADAoAhqAAAABkVQAwAAMCiCGgAAgEER1AAAAAyKoAYAAGBQBDUAAACDIqgBAAAYFEENAADAoAhqAAAABkVQAwAAMCiCGgAAgEER1AAAAAyKoAYAAGBQBDUAAACDIqgBAAAYFEENAADAoAhqAAAABkVQAwAAMCiCGgAAgEER1AAAAAyKoAYAAGBQLo4uAAAK2uXbqbp8O7VAznUqLtXy1dU1qUDOKUnlijurXHHnAjsfgPuTk8lkSnd0EQBQkD48FKdJh285uowcja3nobfrezq6DAAGZ9igdvDgQX344Yfau3evkpOTVbNmTQ0ZMkTdu3d3dGkADK4ge9SSkpIUE3NZPj7l5OrqWiDnlOhRA5A3hrz0uWPHDnXt2lWurq7q0qWLPD09tXr1ag0cOFDnzp3T6NGjHV0iAAMryBCUmJim8wnpqljKRW5uBRfUACAvDNejlpKSokaNGik6OlobNmzQY489Jkm6deuWnn32WZ06dUoRERHy9/d3cKUAHgSJiYk6f/68KlasKDc3N0eXA+ABY7hZn9u3b9eZM2fUrVs3S0iTJA8PD7355ptKSUlRaGioAysEAAAoHIYLajt37pQktW7dOtsx823h4eGFWhMAAIAjGG6MWlRUlCRZvbTp5eWl0qVLW9rkJDExscBrA/DgSUpKyvIVAO5VfoZRGC6oxcXFSZI8Pa1PW/fw8FB0dHSu54mOjlZqasHM+gKAmJgYR5cA4D7g7OysqlWr5rm94YJaQfH19XV0CQDuAxnLc8TIx8enQJfnAIC8MFxQM/ekmXvW7nbr1i2bvW2ZMTsLQEFydXXlfQVAoTPcZALz2DRr49BMJpOuX7/O0hwAAOCBYLig1rx5c0nS5s2bsx0z32ZuAwAAcD8zXFBr2bKlKleurG+//VZHjhyx3H7r1i199NFHcnFx0YsvvujACgEAAAqH4caoubi46JNPPlHXrl313HPPqWvXrvLw8NDq1at19uxZjRs3To888oijywQAALA7w20hZXbgwAGrm7L36NHD0aUBeICwhRQARzJsUAMAI0hMTFR0dLR8fX0JagAKHUENAADAoAw3mQAAAAAZCGoAAAAGRVADAAAwKIIaAACAQRHUAAAADIqgBgAAYFAENQAAAIMiqAH4y9qxY4e8vLz04YcfOroUALALghoAhxswYIC8vLz03Xff5djuxo0b8vb2VtWqVZWUlHTPj3v27Fl5eXlpyJAh93Se9u3by8vLS61atbrnmgAgM4IaAIcLCgqSJIWGhubYLiwsTElJSerZs6dcXV3VoEED7d27V4MGDSqMMq2KiorS7t275eTkpMOHDysyMtJhtQC4/xDUADhcy5Yt5efnp61bt+rChQs225mDnDnYFS9eXNWrV1fp0qULpU5rFi1aJEkaNmyYJGnhwoUOqwXA/YegBsDhnJyc1KdPH6WlpWnJkiVW2xw+fFhHjx5VgwYNVLt2bUk5j1G7evWqxo0bp4YNG8rHx0eVK1dWmzZt9Omnn0rKCH2PPfaYJGnJkiXy8vKy/NmxY0ee6k5NTdWSJUvk7e2t9957TxUqVNCyZct0584dm/eZN2+emjZtKh8fH9WpU0fvvfeeEhMT5eXlpcDAwGztb926pYkTJ6pp06YqV66c/Pz81LVrV+3evTtPNQL4ayOoATCEPn36qEiRIlq8eLHS09OzHb+7Ny0nUVFRatmypWbMmKGyZctq8ODB6t69u4oVK6apU6dKkurWravBgwdLkgICAjR27FjLHz8/vzzVvGHDBl2+fFndunVT0aJF1bNnT928eVNr1qyx2v6DDz7Q66+/LpPJpH79+qlTp05auXKl/vnPf1ptf/PmTT377LOaPHmyHn74Yb300kvq2LGjDh06pOeff97m4wC4f7g4ugAAkKQKFSroqaee0qZNmxQeHq4nnnjCcuzOnTtatmyZihcvri5duuR6rkGDBik6OlohISHq169flmMXL16UJD366KMqWbKkPvvsM9WtW1dvv/12vms2X+bs2bOnJKl3796aOnWqFi5cqK5du2Zp+9tvv2natGmqUKGCtm/frlKlSkmSgoOD9cwzz1g9/5gxY3T8+HHNmDFD//jHPyy3X7lyRa1bt9bIkSPVpk0bubm55bt2AH8N9KgBMAxzGDGP+zJbs2aNTCaTOnXqJE9PzxzPcfDgQR04cEDNmjXLFtIk6W9/+1uB1HrlyhVt2LBBtWrVslxCfeSRR9SwYUNt27ZN586dy9L+22+/VWpqqoYNG2YJaZLk7u6uN954I9v5r1+/ruXLl6tly5ZZQpokeXt767XXXtO1a9e0devWAnk+AIyJHjUAhhEYGKhSpUpp1apV+uijj+Th4SHpf8Ht7sBizYEDByRJrVu3tl+hyhjXlpKSYulNM+vVq5f279+v0NDQLL10R48elSQ1adIk27kaN26c7baDBw8qNTVVd+7csToG7/Tp05KkU6dOqV27dvf0XAAYF0ENgGG4urqqR48e+uyzz7RixQr17dtXFy5c0LZt2+Tv76/mzZvneo7Y2FhJUvny5e1aa2hoqIoUKaLu3btnub1r164KDg5WaGioxo4dqyJFMi5c3Lp1S5KszlD19vbOdtvNmzclSXv27NGePXts1pGQkPCnnwMA4+PSJwBDuXtNtcWLFystLS1PvWmSVLJkSUnSpUuX7FOgMsLTyZMnlZaWpjp16mSZMVqlShUlJSXpwoULWS5LmnsHr1+/nu18V65cyXabuf2wYcNkMpls/nnrrbfs8yQBGAI9agAMpU6dOnr88ccVERGhkydPavHixXJ2dlbv3r3zdP8GDRpIkjZv3mx17Fdmzs7OkjKW2cgP8ySCZ555RuXKlct2/MaNG1q7dq0WLlxouQQbEBCgNWvWKCIiQvXr18/Sfu/evdnO8fjjj8vJyUn79u3LV20A7i8ENQCGExQUpIMHD2r48OH6/fff1a5dO6uByJrHH39cDRo00K5du/T1119nm1AQHR0tX19fSZKXl5ecnJwUHR2d59ri4+O1cuVKlShRQvPmzZO7u3u2NikpKapVq5bWrl2rGzduqFSpUuratasmT56smTNnqkePHpYJBQkJCZYlQzLz8fFR586dtXz5cn3yySd67bXX5OTklKXN/v37Vbt2bRUvXjzP9QP4ayGoATCcrl276p133rGMzcrL2mmZzZ07Vx06dNCIESP0zTffqHHjxkpMTNSvv/6qI0eO6MyZM5IyZlw+/vjj2rVrl4YOHSp/f38VKVJE3bp1U8WKFa2ee/ny5UpISFCfPn2shjRJcnFxUY8ePTRz5kyFhYVpyJAhqlatml5//XVNnTpVzZo1U6dOneTi4qLVq1erdu3aOnbsmGU8m9nUqVN16tQpvffee5bn4enpqYsXL+rw4cOKiorSiRMnCGrAfYwxagAMx9PTUx07dpSUMdC+bdu2+bq/v7+/tm3bpsGDB+vSpUuaPXu2li5dqoSEhGyXQ+fMmaM2bdpo7dq1mjBhgsaPH6/ff//d5rnNlz1zGzPXp0+fLO0l6d1339XUqVNVsmRJzZs3TytXrlSnTp0sPWrmcWlmDz/8sDZs2KD//Oc/cnV11bJly/T5559r//79qlmzpj777DOHbp8FwP6cTCZT9iXAAQCFZuvWrXrhhRc0YsQIjR8/3tHlADAQetQAoJBcu3Yt28QFk8lkCWfW9voE8GBjjBoAFJKlS5dqxowZatGihcqXL6/Lly9r06ZNunr1ql588UWrC98CeLAR1ACgkDRp0kQ7duzQtm3bdPPmTTk7O6t69ep688039fLLLzu6PAAGxBg1AAAAg2KMGgAAgEER1AAAAAyKoAYAAGBQBDUAAACDIqgBAAAYFEENAADAoAhqAAAABkVQAwAAMKj/A+Cke5vMXePeAAAAAElFTkSuQmCC",
      "text/plain": [
       "<Figure size 640x480 with 1 Axes>"
      ]
     },
     "metadata": {},
     "output_type": "display_data"
    }
   ],
   "source": [
    "#Validate the cleaning was successful\n",
    "#Apply the cleaning strategy\n",
    "data_crime_2019_copy['Vict Age'].plot(kind='box')\n",
    "plt.title('range of ages 2010 - 2019')\n",
    "plt.show()"
   ]
  },
  {
   "cell_type": "code",
   "execution_count": 39,
   "metadata": {},
   "outputs": [
    {
     "data": {
      "text/plain": [
       "Text(0.5, 1.0, 'range of Ages 2020 - 2024')"
      ]
     },
     "execution_count": 39,
     "metadata": {},
     "output_type": "execute_result"
    },
    {
     "data": {
      "image/png": "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",
      "text/plain": [
       "<Figure size 640x480 with 1 Axes>"
      ]
     },
     "metadata": {},
     "output_type": "display_data"
    }
   ],
   "source": [
    "data_crime_2019_copy['Vict Age'].plot(kind='box')\n",
    "plt.title('range of Ages 2020 - 2024')"
>>>>>>> 1edd5633b473ba3a65ead99f53116cbf14e3347a
   ]
  },
  {
   "cell_type": "markdown",
   "metadata": {},
   "source": [
    "Justification:\n",
<<<<<<< HEAD
    ">### We encountered multiple variables stored within one column and resolved it as follows:\n",
    "> #### we had a multipul variable inside one column then we solve it as :\n",
    "> #### We split the 'crm cd desc' column based on the comma delimiter to create a list of crimes.\n",
    "> #### We then exploded this list, creating a new row for each crime while retaining the associated 'dr_no' column.\n",
    "> #### With each crime now on its own row, we reorganized the DataFrame to position the new 'crime' column at the desired tenth position"
=======
    "#### I dropped rows thats contain result for age less than 1 year "
   ]
  },
  {
   "cell_type": "markdown",
   "metadata": {
    "id": "bIUrrfSNyOPR"
   },
   "source": [
    "### **Tidiness Issue 1: columns names**"
   ]
  },
  {
   "cell_type": "code",
   "execution_count": 40,
   "metadata": {
    "id": "fib0zAm333bn"
   },
   "outputs": [],
   "source": [
    "#Apply the cleaning strategy\n",
    "#We will change data_crime_2019 columns name from upper case into lower case by lambda func\n",
    "data_crime_2019_copy.rename(columns=lambda x: x.lower(), inplace=True)\n",
    "data_crime_2019_copy.columns = data_crime_2019_copy.columns.str.replace(' ', '_')"
   ]
  },
  {
   "cell_type": "code",
   "execution_count": 41,
   "metadata": {
    "id": "yhrnUGY_Nk8B"
   },
   "outputs": [
    {
     "data": {
      "text/plain": [
       "Index(['dr_no', 'date_rptd', 'date_occ', 'time_occ', 'area_', 'area_name',\n",
       "       'rpt_dist_no', 'part_1-2', 'crm_cd', 'crm_cd_desc', 'vict_age',\n",
       "       'vict_sex', 'vict_descent', 'premis_cd', 'premis_desc', 'status',\n",
       "       'status_desc', 'crm_cd_1', 'location', 'lat', 'lon'],\n",
       "      dtype='object')"
      ]
     },
     "execution_count": 41,
     "metadata": {},
     "output_type": "execute_result"
    }
   ],
   "source": [
    "#Validate the cleaning was successful\n",
    "data_crime_2019_copy.columns"
   ]
  },
  {
   "cell_type": "code",
   "execution_count": 42,
   "metadata": {},
   "outputs": [
    {
     "data": {
      "text/plain": [
       "Index(['dr_no', 'date_rptd', 'date_occ', 'time_occ', 'area', 'area_name',\n",
       "       'rpt_dist_no', 'part_1_2', 'crm_cd', 'crm_cd_desc', 'vict_age',\n",
       "       'vict_sex', 'vict_descent', 'premis_cd', 'premis_desc', 'status',\n",
       "       'status_desc', 'crm_cd_1', 'crm_cd_2', 'location', 'lat', 'lon',\n",
       "       'mocodes', 'weapon_used_cd', 'weapon_desc', 'cross_street', 'crm_cd_3'],\n",
       "      dtype='object')"
      ]
     },
     "execution_count": 42,
     "metadata": {},
     "output_type": "execute_result"
    }
   ],
   "source": [
    "data_crime_2024_copy.columns"
   ]
  },
  {
   "cell_type": "markdown",
   "metadata": {},
   "source": [
    "Justification:\n",
    "> #### We will change data_crime_2019 columns name from upper case into lower case by lambda func and we did it now we can combine the two datasets 2019 and 2024"
   ]
  },
  {
   "cell_type": "markdown",
   "metadata": {
    "id": "o51Bt8kwyTzk"
   },
   "source": [
    "### **Tidiness Issue 2: FILL IN**"
   ]
  },
  {
   "cell_type": "code",
   "execution_count": 43,
   "metadata": {},
   "outputs": [],
   "source": [
    "def clean_and_transform(dataframe):\n",
    "    # Perform the split and stack operation on 'crm_cd_desc'\n",
    "    crm_cd_desc_split = dataframe['crm_cd_desc'].str.split(',', expand=True).stack().str.strip().reset_index(level=1, drop=True)\n",
    "    crm_cd_desc_split.name = 'crime'  # Renaming the resulting Series for clarity\n",
    "\n",
    "    # Join the expanded 'crm_cd_desc' with the original DataFrame based on the index,\n",
    "    # which contains 'dr_no' and any other additional columns\n",
    "    dataframe = dataframe.drop(columns=['crm_cd_desc']).join(crm_cd_desc_split).reset_index(drop=True)\n",
    "\n",
    "    # Change the new 'crime' column from being the last one to be the tenth column from the left\n",
    "    columns = list(dataframe.columns)\n",
    "    # First, remove the 'crime' column name\n",
    "    columns.remove('crime')\n",
    "    # Then insert 'crime' at the desired position\n",
    "    columns.insert(9, 'crime')\n",
    "    # Now, reindex the DataFrame with the new columns order\n",
    "    dataframe = dataframe.reindex(columns=columns)\n",
    "    return dataframe\n",
    "\n",
    "# Assuming data_crime_2019_copy and data_crime_2024_copy are your DataFrames\n",
    "data_crime_2019_copy = clean_and_transform(data_crime_2019_copy)\n",
    "data_crime_2024_copy = clean_and_transform(data_crime_2024_copy)\n",
    "\n"
   ]
  },
  {
   "cell_type": "code",
   "execution_count": 44,
   "metadata": {},
   "outputs": [
    {
     "data": {
      "text/html": [
       "<div>\n",
       "<style scoped>\n",
       "    .dataframe tbody tr th:only-of-type {\n",
       "        vertical-align: middle;\n",
       "    }\n",
       "\n",
       "    .dataframe tbody tr th {\n",
       "        vertical-align: top;\n",
       "    }\n",
       "\n",
       "    .dataframe thead th {\n",
       "        text-align: right;\n",
       "    }\n",
       "</style>\n",
       "<table border=\"1\" class=\"dataframe\">\n",
       "  <thead>\n",
       "    <tr style=\"text-align: right;\">\n",
       "      <th></th>\n",
       "      <th>dr_no</th>\n",
       "      <th>date_rptd</th>\n",
       "      <th>date_occ</th>\n",
       "      <th>time_occ</th>\n",
       "      <th>area_</th>\n",
       "      <th>area_name</th>\n",
       "      <th>rpt_dist_no</th>\n",
       "      <th>part_1-2</th>\n",
       "      <th>crm_cd</th>\n",
       "      <th>crime</th>\n",
       "      <th>vict_age</th>\n",
       "      <th>vict_sex</th>\n",
       "      <th>vict_descent</th>\n",
       "      <th>premis_cd</th>\n",
       "      <th>premis_desc</th>\n",
       "      <th>status</th>\n",
       "      <th>status_desc</th>\n",
       "      <th>crm_cd_1</th>\n",
       "      <th>location</th>\n",
       "      <th>lat</th>\n",
       "      <th>lon</th>\n",
       "    </tr>\n",
       "  </thead>\n",
       "  <tbody>\n",
       "    <tr>\n",
       "      <th>0</th>\n",
       "      <td>1307355</td>\n",
       "      <td>02/20/2010 12:00:00 AM</td>\n",
       "      <td>02/20/2010 12:00:00 AM</td>\n",
       "      <td>1350</td>\n",
       "      <td>13</td>\n",
       "      <td>Newton</td>\n",
       "      <td>1385</td>\n",
       "      <td>2</td>\n",
       "      <td>900</td>\n",
       "      <td>VIOLATION OF COURT ORDER</td>\n",
       "      <td>48</td>\n",
       "      <td>M</td>\n",
       "      <td>H</td>\n",
       "      <td>501.0</td>\n",
       "      <td>SINGLE FAMILY DWELLING</td>\n",
       "      <td>AA</td>\n",
       "      <td>Adult Arrest</td>\n",
       "      <td>900.0</td>\n",
       "      <td>300 E  GAGE                         AV</td>\n",
       "      <td>33.9825</td>\n",
       "      <td>-118.2695</td>\n",
       "    </tr>\n",
       "    <tr>\n",
       "      <th>1</th>\n",
       "      <td>90631215</td>\n",
       "      <td>01/05/2010 12:00:00 AM</td>\n",
       "      <td>01/05/2010 12:00:00 AM</td>\n",
       "      <td>150</td>\n",
       "      <td>6</td>\n",
       "      <td>Hollywood</td>\n",
       "      <td>646</td>\n",
       "      <td>2</td>\n",
       "      <td>900</td>\n",
       "      <td>VIOLATION OF COURT ORDER</td>\n",
       "      <td>47</td>\n",
       "      <td>F</td>\n",
       "      <td>W</td>\n",
       "      <td>101.0</td>\n",
       "      <td>STREET</td>\n",
       "      <td>IC</td>\n",
       "      <td>Invest Cont</td>\n",
       "      <td>900.0</td>\n",
       "      <td>CAHUENGA                     BL</td>\n",
       "      <td>34.1016</td>\n",
       "      <td>-118.3295</td>\n",
       "    </tr>\n",
       "    <tr>\n",
       "      <th>2</th>\n",
       "      <td>100100501</td>\n",
       "      <td>01/03/2010 12:00:00 AM</td>\n",
       "      <td>01/02/2010 12:00:00 AM</td>\n",
       "      <td>2100</td>\n",
       "      <td>1</td>\n",
       "      <td>Central</td>\n",
       "      <td>176</td>\n",
       "      <td>1</td>\n",
       "      <td>122</td>\n",
       "      <td>RAPE</td>\n",
       "      <td>47</td>\n",
       "      <td>F</td>\n",
       "      <td>H</td>\n",
       "      <td>103.0</td>\n",
       "      <td>ALLEY</td>\n",
       "      <td>IC</td>\n",
       "      <td>Invest Cont</td>\n",
       "      <td>122.0</td>\n",
       "      <td>8TH                          ST</td>\n",
       "      <td>34.0387</td>\n",
       "      <td>-118.2488</td>\n",
       "    </tr>\n",
       "    <tr>\n",
       "      <th>3</th>\n",
       "      <td>100100501</td>\n",
       "      <td>01/03/2010 12:00:00 AM</td>\n",
       "      <td>01/02/2010 12:00:00 AM</td>\n",
       "      <td>2100</td>\n",
       "      <td>1</td>\n",
       "      <td>Central</td>\n",
       "      <td>176</td>\n",
       "      <td>1</td>\n",
       "      <td>122</td>\n",
       "      <td>ATTEMPTED</td>\n",
       "      <td>47</td>\n",
       "      <td>F</td>\n",
       "      <td>H</td>\n",
       "      <td>103.0</td>\n",
       "      <td>ALLEY</td>\n",
       "      <td>IC</td>\n",
       "      <td>Invest Cont</td>\n",
       "      <td>122.0</td>\n",
       "      <td>8TH                          ST</td>\n",
       "      <td>34.0387</td>\n",
       "      <td>-118.2488</td>\n",
       "    </tr>\n",
       "    <tr>\n",
       "      <th>4</th>\n",
       "      <td>100100506</td>\n",
       "      <td>01/05/2010 12:00:00 AM</td>\n",
       "      <td>01/04/2010 12:00:00 AM</td>\n",
       "      <td>1650</td>\n",
       "      <td>1</td>\n",
       "      <td>Central</td>\n",
       "      <td>162</td>\n",
       "      <td>1</td>\n",
       "      <td>442</td>\n",
       "      <td>SHOPLIFTING - PETTY THEFT ($950 &amp; UNDER)</td>\n",
       "      <td>23</td>\n",
       "      <td>M</td>\n",
       "      <td>B</td>\n",
       "      <td>404.0</td>\n",
       "      <td>DEPARTMENT STORE</td>\n",
       "      <td>AA</td>\n",
       "      <td>Adult Arrest</td>\n",
       "      <td>442.0</td>\n",
       "      <td>700 W  7TH                          ST</td>\n",
       "      <td>34.0480</td>\n",
       "      <td>-118.2577</td>\n",
       "    </tr>\n",
       "  </tbody>\n",
       "</table>\n",
       "</div>"
      ],
      "text/plain": [
       "       dr_no               date_rptd                date_occ  time_occ  area_  \\\n",
       "0    1307355  02/20/2010 12:00:00 AM  02/20/2010 12:00:00 AM      1350     13   \n",
       "1   90631215  01/05/2010 12:00:00 AM  01/05/2010 12:00:00 AM       150      6   \n",
       "2  100100501  01/03/2010 12:00:00 AM  01/02/2010 12:00:00 AM      2100      1   \n",
       "3  100100501  01/03/2010 12:00:00 AM  01/02/2010 12:00:00 AM      2100      1   \n",
       "4  100100506  01/05/2010 12:00:00 AM  01/04/2010 12:00:00 AM      1650      1   \n",
       "\n",
       "   area_name  rpt_dist_no  part_1-2  crm_cd  \\\n",
       "0     Newton         1385         2     900   \n",
       "1  Hollywood          646         2     900   \n",
       "2    Central          176         1     122   \n",
       "3    Central          176         1     122   \n",
       "4    Central          162         1     442   \n",
       "\n",
       "                                      crime  vict_age vict_sex vict_descent  \\\n",
       "0                  VIOLATION OF COURT ORDER        48        M            H   \n",
       "1                  VIOLATION OF COURT ORDER        47        F            W   \n",
       "2                                      RAPE        47        F            H   \n",
       "3                                 ATTEMPTED        47        F            H   \n",
       "4  SHOPLIFTING - PETTY THEFT ($950 & UNDER)        23        M            B   \n",
       "\n",
       "   premis_cd             premis_desc status   status_desc  crm_cd_1  \\\n",
       "0      501.0  SINGLE FAMILY DWELLING     AA  Adult Arrest     900.0   \n",
       "1      101.0                  STREET     IC   Invest Cont     900.0   \n",
       "2      103.0                   ALLEY     IC   Invest Cont     122.0   \n",
       "3      103.0                   ALLEY     IC   Invest Cont     122.0   \n",
       "4      404.0        DEPARTMENT STORE     AA  Adult Arrest     442.0   \n",
       "\n",
       "                                 location      lat       lon  \n",
       "0  300 E  GAGE                         AV  33.9825 -118.2695  \n",
       "1         CAHUENGA                     BL  34.1016 -118.3295  \n",
       "2         8TH                          ST  34.0387 -118.2488  \n",
       "3         8TH                          ST  34.0387 -118.2488  \n",
       "4  700 W  7TH                          ST  34.0480 -118.2577  "
      ]
     },
     "execution_count": 44,
     "metadata": {},
     "output_type": "execute_result"
    }
   ],
   "source": [
    "data_crime_2019_copy.head()"
   ]
  },
  {
   "cell_type": "code",
   "execution_count": 45,
   "metadata": {},
   "outputs": [
    {
     "data": {
      "text/html": [
       "<div>\n",
       "<style scoped>\n",
       "    .dataframe tbody tr th:only-of-type {\n",
       "        vertical-align: middle;\n",
       "    }\n",
       "\n",
       "    .dataframe tbody tr th {\n",
       "        vertical-align: top;\n",
       "    }\n",
       "\n",
       "    .dataframe thead th {\n",
       "        text-align: right;\n",
       "    }\n",
       "</style>\n",
       "<table border=\"1\" class=\"dataframe\">\n",
       "  <thead>\n",
       "    <tr style=\"text-align: right;\">\n",
       "      <th></th>\n",
       "      <th>dr_no</th>\n",
       "      <th>date_rptd</th>\n",
       "      <th>date_occ</th>\n",
       "      <th>time_occ</th>\n",
       "      <th>area</th>\n",
       "      <th>area_name</th>\n",
       "      <th>rpt_dist_no</th>\n",
       "      <th>part_1_2</th>\n",
       "      <th>crm_cd</th>\n",
       "      <th>crime</th>\n",
       "      <th>vict_age</th>\n",
       "      <th>vict_sex</th>\n",
       "      <th>vict_descent</th>\n",
       "      <th>premis_cd</th>\n",
       "      <th>premis_desc</th>\n",
       "      <th>status</th>\n",
       "      <th>status_desc</th>\n",
       "      <th>crm_cd_1</th>\n",
       "      <th>crm_cd_2</th>\n",
       "      <th>location</th>\n",
       "      <th>lat</th>\n",
       "      <th>lon</th>\n",
       "      <th>mocodes</th>\n",
       "      <th>weapon_used_cd</th>\n",
       "      <th>weapon_desc</th>\n",
       "      <th>cross_street</th>\n",
       "      <th>crm_cd_3</th>\n",
       "    </tr>\n",
       "  </thead>\n",
       "  <tbody>\n",
       "    <tr>\n",
       "      <th>0</th>\n",
       "      <td>200106753</td>\n",
       "      <td>2020-02-09T00:00:00.000</td>\n",
       "      <td>2020-02-08T00:00:00.000</td>\n",
       "      <td>1800</td>\n",
       "      <td>1</td>\n",
       "      <td>Central</td>\n",
       "      <td>182</td>\n",
       "      <td>1</td>\n",
       "      <td>330</td>\n",
       "      <td>BURGLARY FROM VEHICLE</td>\n",
       "      <td>47</td>\n",
       "      <td>M</td>\n",
       "      <td>O</td>\n",
       "      <td>128</td>\n",
       "      <td>BUS STOP/LAYOVER (ALSO QUERY 124)</td>\n",
       "      <td>IC</td>\n",
       "      <td>Invest Cont</td>\n",
       "      <td>330</td>\n",
       "      <td>998.0</td>\n",
       "      <td>1000 S  FLOWER                       ST</td>\n",
       "      <td>34.0444</td>\n",
       "      <td>-118.2628</td>\n",
       "      <td>1822 1402 0344</td>\n",
       "      <td>NaN</td>\n",
       "      <td>NaN</td>\n",
       "      <td>NaN</td>\n",
       "      <td>NaN</td>\n",
       "    </tr>\n",
       "    <tr>\n",
       "      <th>1</th>\n",
       "      <td>200320258</td>\n",
       "      <td>2020-11-11T00:00:00.000</td>\n",
       "      <td>2020-11-04T00:00:00.000</td>\n",
       "      <td>1700</td>\n",
       "      <td>3</td>\n",
       "      <td>Southwest</td>\n",
       "      <td>356</td>\n",
       "      <td>1</td>\n",
       "      <td>480</td>\n",
       "      <td>BIKE - STOLEN</td>\n",
       "      <td>19</td>\n",
       "      <td>X</td>\n",
       "      <td>X</td>\n",
       "      <td>502</td>\n",
       "      <td>MULTI-UNIT DWELLING (APARTMENT, DUPLEX, ETC)</td>\n",
       "      <td>IC</td>\n",
       "      <td>Invest Cont</td>\n",
       "      <td>480</td>\n",
       "      <td>NaN</td>\n",
       "      <td>1400 W  37TH                         ST</td>\n",
       "      <td>34.0210</td>\n",
       "      <td>-118.3002</td>\n",
       "      <td>0344 1251</td>\n",
       "      <td>NaN</td>\n",
       "      <td>NaN</td>\n",
       "      <td>NaN</td>\n",
       "      <td>NaN</td>\n",
       "    </tr>\n",
       "    <tr>\n",
       "      <th>2</th>\n",
       "      <td>200907217</td>\n",
       "      <td>2023-05-10T00:00:00.000</td>\n",
       "      <td>2020-03-10T00:00:00.000</td>\n",
       "      <td>2037</td>\n",
       "      <td>9</td>\n",
       "      <td>Van Nuys</td>\n",
       "      <td>964</td>\n",
       "      <td>1</td>\n",
       "      <td>343</td>\n",
       "      <td>SHOPLIFTING-GRAND THEFT ($950.01 &amp; OVER)</td>\n",
       "      <td>19</td>\n",
       "      <td>M</td>\n",
       "      <td>O</td>\n",
       "      <td>405</td>\n",
       "      <td>CLOTHING STORE</td>\n",
       "      <td>IC</td>\n",
       "      <td>Invest Cont</td>\n",
       "      <td>343</td>\n",
       "      <td>NaN</td>\n",
       "      <td>14000    RIVERSIDE                    DR</td>\n",
       "      <td>34.1576</td>\n",
       "      <td>-118.4387</td>\n",
       "      <td>0325 1501</td>\n",
       "      <td>NaN</td>\n",
       "      <td>NaN</td>\n",
       "      <td>NaN</td>\n",
       "      <td>NaN</td>\n",
       "    </tr>\n",
       "    <tr>\n",
       "      <th>3</th>\n",
       "      <td>220614831</td>\n",
       "      <td>2022-08-18T00:00:00.000</td>\n",
       "      <td>2020-08-17T00:00:00.000</td>\n",
       "      <td>1200</td>\n",
       "      <td>6</td>\n",
       "      <td>Hollywood</td>\n",
       "      <td>666</td>\n",
       "      <td>2</td>\n",
       "      <td>354</td>\n",
       "      <td>THEFT OF IDENTITY</td>\n",
       "      <td>28</td>\n",
       "      <td>M</td>\n",
       "      <td>H</td>\n",
       "      <td>102</td>\n",
       "      <td>SIDEWALK</td>\n",
       "      <td>IC</td>\n",
       "      <td>Invest Cont</td>\n",
       "      <td>354</td>\n",
       "      <td>NaN</td>\n",
       "      <td>1900    TRANSIENT</td>\n",
       "      <td>34.0944</td>\n",
       "      <td>-118.3277</td>\n",
       "      <td>1822 1501 0930 2004</td>\n",
       "      <td>NaN</td>\n",
       "      <td>NaN</td>\n",
       "      <td>NaN</td>\n",
       "      <td>NaN</td>\n",
       "    </tr>\n",
       "    <tr>\n",
       "      <th>4</th>\n",
       "      <td>231808869</td>\n",
       "      <td>2023-04-04T00:00:00.000</td>\n",
       "      <td>2020-12-01T00:00:00.000</td>\n",
       "      <td>2300</td>\n",
       "      <td>18</td>\n",
       "      <td>Southeast</td>\n",
       "      <td>1826</td>\n",
       "      <td>2</td>\n",
       "      <td>354</td>\n",
       "      <td>THEFT OF IDENTITY</td>\n",
       "      <td>41</td>\n",
       "      <td>M</td>\n",
       "      <td>H</td>\n",
       "      <td>501</td>\n",
       "      <td>SINGLE FAMILY DWELLING</td>\n",
       "      <td>IC</td>\n",
       "      <td>Invest Cont</td>\n",
       "      <td>354</td>\n",
       "      <td>NaN</td>\n",
       "      <td>9900    COMPTON                      AV</td>\n",
       "      <td>33.9467</td>\n",
       "      <td>-118.2463</td>\n",
       "      <td>1822 0100 0930 0929</td>\n",
       "      <td>NaN</td>\n",
       "      <td>NaN</td>\n",
       "      <td>NaN</td>\n",
       "      <td>NaN</td>\n",
       "    </tr>\n",
       "  </tbody>\n",
       "</table>\n",
       "</div>"
      ],
      "text/plain": [
       "       dr_no                date_rptd                 date_occ  time_occ  \\\n",
       "0  200106753  2020-02-09T00:00:00.000  2020-02-08T00:00:00.000      1800   \n",
       "1  200320258  2020-11-11T00:00:00.000  2020-11-04T00:00:00.000      1700   \n",
       "2  200907217  2023-05-10T00:00:00.000  2020-03-10T00:00:00.000      2037   \n",
       "3  220614831  2022-08-18T00:00:00.000  2020-08-17T00:00:00.000      1200   \n",
       "4  231808869  2023-04-04T00:00:00.000  2020-12-01T00:00:00.000      2300   \n",
       "\n",
       "   area  area_name  rpt_dist_no  part_1_2  crm_cd  \\\n",
       "0     1    Central          182         1     330   \n",
       "1     3  Southwest          356         1     480   \n",
       "2     9   Van Nuys          964         1     343   \n",
       "3     6  Hollywood          666         2     354   \n",
       "4    18  Southeast         1826         2     354   \n",
       "\n",
       "                                      crime  vict_age vict_sex vict_descent  \\\n",
       "0                     BURGLARY FROM VEHICLE        47        M            O   \n",
       "1                             BIKE - STOLEN        19        X            X   \n",
       "2  SHOPLIFTING-GRAND THEFT ($950.01 & OVER)        19        M            O   \n",
       "3                         THEFT OF IDENTITY        28        M            H   \n",
       "4                         THEFT OF IDENTITY        41        M            H   \n",
       "\n",
       "   premis_cd                                   premis_desc status  \\\n",
       "0        128             BUS STOP/LAYOVER (ALSO QUERY 124)     IC   \n",
       "1        502  MULTI-UNIT DWELLING (APARTMENT, DUPLEX, ETC)     IC   \n",
       "2        405                                CLOTHING STORE     IC   \n",
       "3        102                                      SIDEWALK     IC   \n",
       "4        501                        SINGLE FAMILY DWELLING     IC   \n",
       "\n",
       "   status_desc  crm_cd_1  crm_cd_2                                  location  \\\n",
       "0  Invest Cont       330     998.0   1000 S  FLOWER                       ST   \n",
       "1  Invest Cont       480       NaN   1400 W  37TH                         ST   \n",
       "2  Invest Cont       343       NaN  14000    RIVERSIDE                    DR   \n",
       "3  Invest Cont       354       NaN                         1900    TRANSIENT   \n",
       "4  Invest Cont       354       NaN   9900    COMPTON                      AV   \n",
       "\n",
       "       lat       lon              mocodes  weapon_used_cd weapon_desc  \\\n",
       "0  34.0444 -118.2628       1822 1402 0344             NaN         NaN   \n",
       "1  34.0210 -118.3002            0344 1251             NaN         NaN   \n",
       "2  34.1576 -118.4387            0325 1501             NaN         NaN   \n",
       "3  34.0944 -118.3277  1822 1501 0930 2004             NaN         NaN   \n",
       "4  33.9467 -118.2463  1822 0100 0930 0929             NaN         NaN   \n",
       "\n",
       "  cross_street  crm_cd_3  \n",
       "0          NaN       NaN  \n",
       "1          NaN       NaN  \n",
       "2          NaN       NaN  \n",
       "3          NaN       NaN  \n",
       "4          NaN       NaN  "
      ]
     },
     "execution_count": 45,
     "metadata": {},
     "output_type": "execute_result"
    }
   ],
   "source": [
    "data_crime_2024_copy.head()"
   ]
  },
  {
   "cell_type": "code",
   "execution_count": 46,
   "metadata": {
    "id": "q6I_Sr7lxXi5"
   },
   "outputs": [
    {
     "name": "stdout",
     "output_type": "stream",
     "text": [
      "(2304365, 21)\n",
      "(1122, 27)\n"
     ]
    }
   ],
   "source": [
    "#FILL IN - Validate the cleaning was successful\n",
    "print(data_crime_2019_copy.shape)\n",
    "print(data_crime_2024_copy.shape)"
   ]
  },
  {
   "cell_type": "markdown",
   "metadata": {},
   "source": [
    "Justification: \n",
    "> ### we had a multipul variable inside one column then we solve it as :\n",
    ">> #### Split the crm cd desc column based on the comma delimiter into a list of crimes.\n",
    ">> #### Exploded this list to create a new row for each crime while keeping the associated with (dr_no) column.\n",
    ">> #### Once we had a row for each crime, we reorganized the DataFrame to place the new 'crime' column at the desired tenth position"
>>>>>>> 1edd5633b473ba3a65ead99f53116cbf14e3347a
   ]
  },
  {
   "cell_type": "markdown",
   "metadata": {},
   "source": [
    "### **Remove unnecessary variables and combine datasets**\n",
    "\n",
    "Depending on the datasets, you can also peform the combination before the cleaning steps."
   ]
  },
  {
   "cell_type": "code",
<<<<<<< HEAD
   "execution_count": 110,
=======
   "execution_count": 47,
>>>>>>> 1edd5633b473ba3a65ead99f53116cbf14e3347a
   "metadata": {},
   "outputs": [],
   "source": [
    "#Remove unnecessary variables and combine datasets\n",
<<<<<<< HEAD
    "data_crime_2019_copy.drop(columns=[ 'date_rptd', 'date_occ', 'time_occ', 'area_', 'area_name',\n",
    "       'rpt_dist_no', 'part_1-2', 'premis_cd', 'premis_desc', 'status', 'crm_cd_1'],inplace=True)\n",
    "data_crime_2024_copy.drop(columns=['date_rptd', 'date_occ', 'time_occ', 'area', 'area_name',\n",
    "       'rpt_dist_no', 'part_1_2', 'premis_cd', 'premis_desc', 'status','crm_cd_1','crm_cd_2','lat','lon','mocodes','weapon_used_cd','weapon_desc','cross_street','crm_cd_3'],inplace=True)\n",
    "\n"
=======
    "data_crime_2019_copy.drop(columns=['crm_cd_1','lat','lon'],inplace=True)\n",
    "data_crime_2024_copy.drop(columns=['crm_cd_1','crm_cd_2','lat','lon','mocodes','weapon_used_cd','weapon_desc','cross_street','crm_cd_3'],inplace=True)\n",
    "data_crime_2019_copy.rename(columns={'area_': 'area'}, inplace=True)\n",
    "data_crime_2019_copy.rename(columns={'part_1-2': 'part_1_2'}, inplace=True)"
>>>>>>> 1edd5633b473ba3a65ead99f53116cbf14e3347a
   ]
  },
  {
   "cell_type": "markdown",
   "metadata": {
    "id": "F42urHuzttjF"
   },
   "source": [
    "## 4. Update your data store\n",
    "Update your local database/data store with the cleaned data, following best practices for storing your cleaned data:\n",
    "\n",
    "- Must maintain different instances / versions of data (raw and cleaned data)\n",
    "- Must name the dataset files informatively\n",
    "- Ensure both the raw and cleaned data is saved to your database/data store"
   ]
  },
  {
   "cell_type": "code",
<<<<<<< HEAD
   "execution_count": 112,
=======
   "execution_count": 77,
>>>>>>> 1edd5633b473ba3a65ead99f53116cbf14e3347a
   "metadata": {},
   "outputs": [],
   "source": [
    "from sqlalchemy import create_engine"
   ]
  },
  {
   "cell_type": "code",
<<<<<<< HEAD
   "execution_count": 113,
=======
   "execution_count": 78,
>>>>>>> 1edd5633b473ba3a65ead99f53116cbf14e3347a
   "metadata": {
    "id": "V3uay7EJUV_L"
   },
   "outputs": [
    {
     "data": {
      "text/html": [
       "<div>\n",
       "<style scoped>\n",
       "    .dataframe tbody tr th:only-of-type {\n",
       "        vertical-align: middle;\n",
       "    }\n",
       "\n",
       "    .dataframe tbody tr th {\n",
       "        vertical-align: top;\n",
       "    }\n",
       "\n",
       "    .dataframe thead th {\n",
       "        text-align: right;\n",
       "    }\n",
       "</style>\n",
       "<table border=\"1\" class=\"dataframe\">\n",
       "  <thead>\n",
       "    <tr style=\"text-align: right;\">\n",
       "      <th></th>\n",
<<<<<<< HEAD
       "      <th>unnamed:_0</th>\n",
       "      <th>dr_no</th>\n",
       "      <th>crime</th>\n",
       "      <th>crm_cd</th>\n",
       "      <th>vict_age</th>\n",
       "      <th>vict_sex</th>\n",
       "      <th>vict_descent</th>\n",
=======
       "      <th>dr_no</th>\n",
       "      <th>date_rptd</th>\n",
       "      <th>date_occ</th>\n",
       "      <th>time_occ</th>\n",
       "      <th>area</th>\n",
       "      <th>area_name</th>\n",
       "      <th>rpt_dist_no</th>\n",
       "      <th>part_1_2</th>\n",
       "      <th>crm_cd</th>\n",
       "      <th>crime</th>\n",
       "      <th>vict_age</th>\n",
       "      <th>vict_sex</th>\n",
       "      <th>vict_descent</th>\n",
       "      <th>premis_cd</th>\n",
       "      <th>premis_desc</th>\n",
       "      <th>status</th>\n",
>>>>>>> 1edd5633b473ba3a65ead99f53116cbf14e3347a
       "      <th>status_desc</th>\n",
       "      <th>location</th>\n",
       "    </tr>\n",
       "  </thead>\n",
       "  <tbody>\n",
       "    <tr>\n",
       "      <th>0</th>\n",
<<<<<<< HEAD
       "      <td>0.0</td>\n",
       "      <td>1307355</td>\n",
       "      <td>VIOLATION OF COURT ORDER</td>\n",
       "      <td>900</td>\n",
       "      <td>48</td>\n",
       "      <td>M</td>\n",
       "      <td>H</td>\n",
=======
       "      <td>1307355</td>\n",
       "      <td>02/20/2010 12:00:00 AM</td>\n",
       "      <td>02/20/2010 12:00:00 AM</td>\n",
       "      <td>1350</td>\n",
       "      <td>13</td>\n",
       "      <td>Newton</td>\n",
       "      <td>1385</td>\n",
       "      <td>2</td>\n",
       "      <td>900</td>\n",
       "      <td>VIOLATION OF COURT ORDER</td>\n",
       "      <td>48</td>\n",
       "      <td>M</td>\n",
       "      <td>H</td>\n",
       "      <td>501.0</td>\n",
       "      <td>SINGLE FAMILY DWELLING</td>\n",
       "      <td>AA</td>\n",
>>>>>>> 1edd5633b473ba3a65ead99f53116cbf14e3347a
       "      <td>Adult Arrest</td>\n",
       "      <td>300 E  GAGE                         AV</td>\n",
       "    </tr>\n",
       "    <tr>\n",
       "      <th>1</th>\n",
<<<<<<< HEAD
       "      <td>3.0</td>\n",
       "      <td>90631215</td>\n",
       "      <td>VIOLATION OF COURT ORDER</td>\n",
       "      <td>900</td>\n",
       "      <td>47</td>\n",
       "      <td>F</td>\n",
       "      <td>W</td>\n",
=======
       "      <td>90631215</td>\n",
       "      <td>01/05/2010 12:00:00 AM</td>\n",
       "      <td>01/05/2010 12:00:00 AM</td>\n",
       "      <td>150</td>\n",
       "      <td>6</td>\n",
       "      <td>Hollywood</td>\n",
       "      <td>646</td>\n",
       "      <td>2</td>\n",
       "      <td>900</td>\n",
       "      <td>VIOLATION OF COURT ORDER</td>\n",
       "      <td>47</td>\n",
       "      <td>F</td>\n",
       "      <td>W</td>\n",
       "      <td>101.0</td>\n",
       "      <td>STREET</td>\n",
       "      <td>IC</td>\n",
>>>>>>> 1edd5633b473ba3a65ead99f53116cbf14e3347a
       "      <td>Invest Cont</td>\n",
       "      <td>CAHUENGA                     BL</td>\n",
       "    </tr>\n",
       "    <tr>\n",
       "      <th>2</th>\n",
<<<<<<< HEAD
       "      <td>4.0</td>\n",
       "      <td>100100501</td>\n",
       "      <td>RAPE</td>\n",
       "      <td>122</td>\n",
       "      <td>47</td>\n",
       "      <td>F</td>\n",
       "      <td>H</td>\n",
=======
       "      <td>100100501</td>\n",
       "      <td>01/03/2010 12:00:00 AM</td>\n",
       "      <td>01/02/2010 12:00:00 AM</td>\n",
       "      <td>2100</td>\n",
       "      <td>1</td>\n",
       "      <td>Central</td>\n",
       "      <td>176</td>\n",
       "      <td>1</td>\n",
       "      <td>122</td>\n",
       "      <td>RAPE</td>\n",
       "      <td>47</td>\n",
       "      <td>F</td>\n",
       "      <td>H</td>\n",
       "      <td>103.0</td>\n",
       "      <td>ALLEY</td>\n",
       "      <td>IC</td>\n",
>>>>>>> 1edd5633b473ba3a65ead99f53116cbf14e3347a
       "      <td>Invest Cont</td>\n",
       "      <td>8TH                          ST</td>\n",
       "    </tr>\n",
       "    <tr>\n",
       "      <th>3</th>\n",
<<<<<<< HEAD
       "      <td>4.0</td>\n",
       "      <td>100100501</td>\n",
       "      <td>ATTEMPTED</td>\n",
       "      <td>122</td>\n",
       "      <td>47</td>\n",
       "      <td>F</td>\n",
       "      <td>H</td>\n",
=======
       "      <td>100100501</td>\n",
       "      <td>01/03/2010 12:00:00 AM</td>\n",
       "      <td>01/02/2010 12:00:00 AM</td>\n",
       "      <td>2100</td>\n",
       "      <td>1</td>\n",
       "      <td>Central</td>\n",
       "      <td>176</td>\n",
       "      <td>1</td>\n",
       "      <td>122</td>\n",
       "      <td>ATTEMPTED</td>\n",
       "      <td>47</td>\n",
       "      <td>F</td>\n",
       "      <td>H</td>\n",
       "      <td>103.0</td>\n",
       "      <td>ALLEY</td>\n",
       "      <td>IC</td>\n",
>>>>>>> 1edd5633b473ba3a65ead99f53116cbf14e3347a
       "      <td>Invest Cont</td>\n",
       "      <td>8TH                          ST</td>\n",
       "    </tr>\n",
       "    <tr>\n",
       "      <th>4</th>\n",
<<<<<<< HEAD
       "      <td>5.0</td>\n",
       "      <td>100100506</td>\n",
       "      <td>SHOPLIFTING - PETTY THEFT ($950 &amp; UNDER)</td>\n",
       "      <td>442</td>\n",
       "      <td>23</td>\n",
       "      <td>M</td>\n",
       "      <td>B</td>\n",
=======
       "      <td>100100506</td>\n",
       "      <td>01/05/2010 12:00:00 AM</td>\n",
       "      <td>01/04/2010 12:00:00 AM</td>\n",
       "      <td>1650</td>\n",
       "      <td>1</td>\n",
       "      <td>Central</td>\n",
       "      <td>162</td>\n",
       "      <td>1</td>\n",
       "      <td>442</td>\n",
       "      <td>SHOPLIFTING - PETTY THEFT ($950 &amp; UNDER)</td>\n",
       "      <td>23</td>\n",
       "      <td>M</td>\n",
       "      <td>B</td>\n",
       "      <td>404.0</td>\n",
       "      <td>DEPARTMENT STORE</td>\n",
       "      <td>AA</td>\n",
>>>>>>> 1edd5633b473ba3a65ead99f53116cbf14e3347a
       "      <td>Adult Arrest</td>\n",
       "      <td>700 W  7TH                          ST</td>\n",
       "    </tr>\n",
       "  </tbody>\n",
       "</table>\n",
       "</div>"
      ],
      "text/plain": [
<<<<<<< HEAD
       "   unnamed:_0      dr_no                                     crime  crm_cd  \\\n",
       "0         0.0    1307355                  VIOLATION OF COURT ORDER     900   \n",
       "1         3.0   90631215                  VIOLATION OF COURT ORDER     900   \n",
       "2         4.0  100100501                                      RAPE     122   \n",
       "3         4.0  100100501                                 ATTEMPTED     122   \n",
       "4         5.0  100100506  SHOPLIFTING - PETTY THEFT ($950 & UNDER)     442   \n",
       "\n",
       "   vict_age vict_sex vict_descent   status_desc  \\\n",
       "0        48        M            H  Adult Arrest   \n",
       "1        47        F            W   Invest Cont   \n",
       "2        47        F            H   Invest Cont   \n",
       "3        47        F            H   Invest Cont   \n",
       "4        23        M            B  Adult Arrest   \n",
=======
       "       dr_no               date_rptd                date_occ  time_occ  area  \\\n",
       "0    1307355  02/20/2010 12:00:00 AM  02/20/2010 12:00:00 AM      1350    13   \n",
       "1   90631215  01/05/2010 12:00:00 AM  01/05/2010 12:00:00 AM       150     6   \n",
       "2  100100501  01/03/2010 12:00:00 AM  01/02/2010 12:00:00 AM      2100     1   \n",
       "3  100100501  01/03/2010 12:00:00 AM  01/02/2010 12:00:00 AM      2100     1   \n",
       "4  100100506  01/05/2010 12:00:00 AM  01/04/2010 12:00:00 AM      1650     1   \n",
       "\n",
       "   area_name  rpt_dist_no  part_1_2  crm_cd  \\\n",
       "0     Newton         1385         2     900   \n",
       "1  Hollywood          646         2     900   \n",
       "2    Central          176         1     122   \n",
       "3    Central          176         1     122   \n",
       "4    Central          162         1     442   \n",
       "\n",
       "                                      crime  vict_age vict_sex vict_descent  \\\n",
       "0                  VIOLATION OF COURT ORDER        48        M            H   \n",
       "1                  VIOLATION OF COURT ORDER        47        F            W   \n",
       "2                                      RAPE        47        F            H   \n",
       "3                                 ATTEMPTED        47        F            H   \n",
       "4  SHOPLIFTING - PETTY THEFT ($950 & UNDER)        23        M            B   \n",
       "\n",
       "   premis_cd             premis_desc status   status_desc  \\\n",
       "0      501.0  SINGLE FAMILY DWELLING     AA  Adult Arrest   \n",
       "1      101.0                  STREET     IC   Invest Cont   \n",
       "2      103.0                   ALLEY     IC   Invest Cont   \n",
       "3      103.0                   ALLEY     IC   Invest Cont   \n",
       "4      404.0        DEPARTMENT STORE     AA  Adult Arrest   \n",
>>>>>>> 1edd5633b473ba3a65ead99f53116cbf14e3347a
       "\n",
       "                                 location  \n",
       "0  300 E  GAGE                         AV  \n",
       "1         CAHUENGA                     BL  \n",
       "2         8TH                          ST  \n",
       "3         8TH                          ST  \n",
       "4  700 W  7TH                          ST  "
      ]
     },
<<<<<<< HEAD
     "execution_count": 113,
=======
     "execution_count": 78,
>>>>>>> 1edd5633b473ba3a65ead99f53116cbf14e3347a
     "metadata": {},
     "output_type": "execute_result"
    }
   ],
   "source": [
    "\n",
    "cleaned_data_crime=pd.concat([data_crime_2019_copy,data_crime_2024_copy])\n",
    "cleaned_data_crime.head()"
   ]
  },
  {
   "cell_type": "code",
<<<<<<< HEAD
   "execution_count": 114,
=======
   "execution_count": 79,
>>>>>>> 1edd5633b473ba3a65ead99f53116cbf14e3347a
   "metadata": {},
   "outputs": [
    {
     "name": "stdout",
     "output_type": "stream",
     "text": [
      "<class 'pandas.core.frame.DataFrame'>\n",
      "Index: 2305487 entries, 0 to 1121\n",
<<<<<<< HEAD
      "Data columns (total 9 columns):\n",
      " #   Column        Dtype  \n",
      "---  ------        -----  \n",
      " 0   unnamed:_0    float64\n",
      " 1   dr_no         int64  \n",
      " 2   crime         object \n",
      " 3   crm_cd        int8   \n",
      " 4   vict_age      int8   \n",
      " 5   vict_sex      object \n",
      " 6   vict_descent  object \n",
      " 7   status_desc   object \n",
      " 8   location      object \n",
      "dtypes: float64(1), int64(1), int8(2), object(5)\n",
      "memory usage: 145.1+ MB\n"
=======
      "Data columns (total 18 columns):\n",
      " #   Column        Dtype \n",
      "---  ------        ----- \n",
      " 0   dr_no         int64 \n",
      " 1   date_rptd     object\n",
      " 2   date_occ      object\n",
      " 3   time_occ      int8  \n",
      " 4   area          int8  \n",
      " 5   area_name     object\n",
      " 6   rpt_dist_no   int8  \n",
      " 7   part_1_2      int8  \n",
      " 8   crm_cd        int8  \n",
      " 9   crime         object\n",
      " 10  vict_age      int8  \n",
      " 11  vict_sex      object\n",
      " 12  vict_descent  object\n",
      " 13  premis_cd     int8  \n",
      " 14  premis_desc   object\n",
      " 15  status        object\n",
      " 16  status_desc   object\n",
      " 17  location      object\n",
      "dtypes: int64(1), int8(7), object(10)\n",
      "memory usage: 226.5+ MB\n"
>>>>>>> 1edd5633b473ba3a65ead99f53116cbf14e3347a
     ]
    }
   ],
   "source": [
    "#optimize cleaned data\n",
    "\n",
<<<<<<< HEAD
    "cleaned_data_crime=cleaned_data_crime.astype({'crm_cd':'int8','vict_age':'int8'})\n",
=======
    "cleaned_data_crime=cleaned_data_crime.astype({'time_occ':'int8','area':'int8','rpt_dist_no':'int8','part_1_2':'int8','crm_cd':'int8','vict_age':'int8','premis_cd':'int8'})\n",
>>>>>>> 1edd5633b473ba3a65ead99f53116cbf14e3347a
    "cleaned_data_crime.info()"
   ]
  },
  {
   "cell_type": "code",
<<<<<<< HEAD
   "execution_count": 115,
=======
   "execution_count": 80,
>>>>>>> 1edd5633b473ba3a65ead99f53116cbf14e3347a
   "metadata": {},
   "outputs": [],
   "source": [
    "#row data \n",
    "second_copy_2019=data_crime_2019.copy()\n",
    "second_copy_2024=data_crime_2020_2024.copy()"
   ]
  },
  {
   "cell_type": "markdown",
   "metadata": {},
   "source": [
    "### Saving Row data"
   ]
  },
  {
   "cell_type": "code",
<<<<<<< HEAD
   "execution_count": null,
   "metadata": {},
   "outputs": [],
=======
   "execution_count": 81,
   "metadata": {},
   "outputs": [
    {
     "data": {
      "text/plain": [
       "2123469"
      ]
     },
     "execution_count": 81,
     "metadata": {},
     "output_type": "execute_result"
    }
   ],
>>>>>>> 1edd5633b473ba3a65ead99f53116cbf14e3347a
   "source": [
    "second_copy_2019.rename(columns=lambda x: x.lower(), inplace=True)\n",
    "second_copy_2019.columns = second_copy_2019.columns.str.replace(' ', '_')\n",
    "#row data \n",
    "row_data=pd.concat([second_copy_2019,second_copy_2024])\n",
    "#saving_raw_data\n",
    "row_data.to_csv('row_data.csv',index=False)\n",
    "# Save DataFrame to SQLite database\n",
    "engine = create_engine('sqlite:///datacrime.db')  # Replace 'database.db' with your desired SQLite database file name\n",
    "row_data.to_sql('row_data_2019_2024', engine, index=False, if_exists='replace') "
   ]
  },
  {
   "cell_type": "markdown",
   "metadata": {},
   "source": [
    "### saving Clean Data crime"
   ]
  },
  {
   "cell_type": "code",
<<<<<<< HEAD
   "execution_count": null,
   "metadata": {},
   "outputs": [],
=======
   "execution_count": 82,
   "metadata": {},
   "outputs": [
    {
     "data": {
      "text/plain": [
       "2305487"
      ]
     },
     "execution_count": 82,
     "metadata": {},
     "output_type": "execute_result"
    }
   ],
>>>>>>> 1edd5633b473ba3a65ead99f53116cbf14e3347a
   "source": [
    "#saving cleaned_data_crime to csv file\n",
    "cleaned_data_crime.to_csv('clean_data_crime.csv',index=False)\n",
    "#saving cleaned_data_crime to sqlite table\n",
    "cleaned_data_crime.to_sql('cleaned_data_crime_2019_2024',engine,index=False,if_exists='replace')"
   ]
  },
  {
   "cell_type": "markdown",
   "metadata": {
    "id": "cGy_yddGtzhM"
   },
   "source": [
    "## 5. Answer the research question\n",
    "\n",
    "### **5.1:** Define and answer the research question \n",
    "Going back to the problem statement in step 1, use the cleaned data to answer the question you raised. Produce **at least** two visualizations using the cleaned data and explain how they help you answer the question."
   ]
  },
  {
   "cell_type": "code",
   "execution_count": null,
   "metadata": {},
   "outputs": [],
   "source": [
    "#we will use copy of cleaned data\n",
    "df=cleaned_data_crime.copy()"
   ]
  },
  {
   "cell_type": "code",
   "execution_count": null,
   "metadata": {},
   "outputs": [],
   "source": [
    "df.head(5)"
   ]
  },
  {
   "cell_type": "markdown",
   "metadata": {},
   "source": [
    "### What are the top Ten most common types of crimes reported in Los Angeles?"
   ]
  },
  {
   "cell_type": "code",
   "execution_count": null,
   "metadata": {},
   "outputs": [],
   "source": [
    "import seaborn as sns\n",
    "Top_crimes=df.crime.value_counts(sort=True).head(10).index\n",
    "df_top_ten=df[df['crime'].isin(Top_crimes)]"
   ]
  },
  {
   "cell_type": "code",
   "execution_count": null,
   "metadata": {},
   "outputs": [],
   "source": [
    "df_top_ten.crime.value_counts()"
   ]
  },
  {
   "cell_type": "code",
   "execution_count": null,
   "metadata": {},
   "outputs": [],
   "source": [
    "#Visual 1 - FILL IN\n",
    "plt.figure(figsize=(15, 10))\n",
    "base_color = sns.color_palette()[0]\n",
    "sns.countplot(data=df_top_ten, y='crime',color=base_color)\n",
    "plt.title('Count of Top Crimes happened in Los Angeles')\n",
    "plt.xlabel('Crime Type')\n",
    "plt.ylabel('Count of Victims')\n",
    "# plt.xticks(rotation=90)  # Rotate x-axis labels for better readability\n",
    "plt.tight_layout()\n",
    "plt.show();"
   ]
  },
  {
   "cell_type": "markdown",
   "metadata": {
    "id": "gjedE4s4ZkEd"
   },
   "source": [
    "*Research question:* \n",
    "> the top ten crimes in Los Angeles are:\n",
    "\n",
    "> 1-BATTERY - SIMPLE ASSAULT\\\n",
    "> 2-BURGLARY FROM VEHICLE\\\n",
    "> 3-BURGLARY \\\n",
    "> 4-THEFT PLAIN - PETTY\\\n",
    "> 5-THEFT OF IDENTITY\\\n",
    "> 6-INTIMATE PARTNER - SIMPLE ASSAULT\\\n",
    "> 7-VANDALISM - FELONY\\\n",
    "> 8-ALL CHURCH VANDALISMS\\\n",
    "> 9-ASSAULT WITH DEADLY WEAPON\\\n",
    "> 10-AGGRAVATED ASSAULT"
   ]
  },
  {
   "cell_type": "markdown",
   "metadata": {
    "id": "Lkw3rW9kZmOm"
   },
   "source": [
    "### How does the representation of victims for each gender compare to other reported victims in Los Angeles?"
   ]
  },
  {
   "cell_type": "markdown",
   "metadata": {},
   "source": [
    "*Answer to research question:* FILL IN"
   ]
  },
  {
   "cell_type": "code",
   "execution_count": null,
   "metadata": {
    "id": "6fdK_8ZGZm9R"
   },
   "outputs": [],
   "source": [
    "\n",
    "# Count the number of victims for each gender\n",
    "df_gender=df.vict_sex.value_counts()\n",
    "df_gender"
   ]
  },
  {
   "cell_type": "code",
   "execution_count": null,
   "metadata": {},
   "outputs": [],
   "source": [
    "#Visual 2 - \n",
    "# Visualize the comparison using a bar chart\n",
    "plt.figure(figsize=(8, 6))\n",
    "df_gender.plot(kind='bar', color=['blue', 'pink'])\n",
    "plt.title('Comparison of Victims by Gender')\n",
    "plt.xlabel('Gender')\n",
    "plt.ylabel('Number of Victims')\n",
    "plt.xticks(rotation=0)\n",
    "plt.show()"
   ]
  },
  {
   "cell_type": "markdown",
   "metadata": {
    "id": "K5RgvMGUZoHn"
   },
   "source": [
    "*Answer to research question:\n",
    "> Based on the provided result:\n",
    "\n",
    "> Male victims: 1,156,145\\\n",
    "Female victims: 1,141,112\\\n",
    "Gender X victims: 8,123\\\n",
    "Gender H victims: 90\\\n",
    "Gender N victims: 17\\\n",
    "This indicates that there were more male victims than female victims reported in Los Angeles. However, it's worth noting that there are also victims categorized under other genders (X, H, N)"
   ]
  },
  {
   "cell_type": "markdown",
   "metadata": {
    "id": "0ezWXXZVj-TP"
   },
   "source": [
    "### **5.2:** Reflection\n",
    "In 2-4 sentences, if you had more time to complete the project, what actions would you take? For example, which data quality and structural issues would you look into further, and what research questions would you further explore?"
   ]
  },
  {
   "cell_type": "markdown",
   "metadata": {
    "id": "XB3RBDG5kFe1"
   },
   "source": [
    "*Answer:* \n",
    "> ##### If I had more time to complete the project, I would prioritize several actions. Firstly, I would focus on improving data quality by converting object data types to datetime where appropriate and filling in missing values instead of dropping columns. Additionally, I would seek out more comprehensive data from 2020 to 2024 to ensure a more robust analysis. In terms of research questions, I would explore the temporal trends of various crime types over the specified timeframe, analyze the effectiveness of crime prevention measures implemented during this period, and investigate the impact of external factors such as socio-economic changes or public policies on crime rates."
   ]
  },
  {
   "cell_type": "code",
   "execution_count": null,
   "metadata": {},
   "outputs": [],
   "source": []
  }
 ],
 "metadata": {
  "colab": {
   "provenance": []
  },
  "kernelspec": {
   "display_name": "Python 3 (ipykernel)",
   "language": "python",
   "name": "python3"
  },
  "language_info": {
   "codemirror_mode": {
    "name": "ipython",
    "version": 3
   },
   "file_extension": ".py",
   "mimetype": "text/x-python",
   "name": "python",
   "nbconvert_exporter": "python",
   "pygments_lexer": "ipython3",
   "version": "3.11.5"
  }
 },
 "nbformat": 4,
 "nbformat_minor": 1
}
